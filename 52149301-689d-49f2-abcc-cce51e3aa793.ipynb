{
 "cells": [
  {
   "cell_type": "markdown",
   "id": "a5ff7a0e",
   "metadata": {},
   "source": [
    "# Проект: Статистический анализ данных"
   ]
  },
  {
   "cell_type": "markdown",
   "id": "b89c29fd",
   "metadata": {},
   "source": [
    "***О проекте:***"
   ]
  },
  {
   "cell_type": "markdown",
   "id": "fe7806e2",
   "metadata": {},
   "source": [
    "Переданы данные сервиса аренды самокатов о некоторых пользователях из нескольких городов, а также об их поездках.Чтобы совершать поездки по городу, пользователи пользуются мобильным приложением. Сервисом можно пользоваться с подпиской и без подписки. Необходимо проанализировать данные и проверить ряд гипотез, которые могут помочь бизнесу вырасти."
   ]
  },
  {
   "cell_type": "markdown",
   "id": "92559d90",
   "metadata": {},
   "source": [
    "### Открываем файлы с данными и изучим общую информацию"
   ]
  },
  {
   "cell_type": "markdown",
   "id": "84a07f7a",
   "metadata": {},
   "source": [
    "#### Шаг 1. Загрузка данных"
   ]
  },
  {
   "cell_type": "code",
   "execution_count": 1,
   "id": "72576667",
   "metadata": {},
   "outputs": [],
   "source": [
    "# импортируем необходимые библиотеки:\n",
    "\n",
    "import pandas as pd\n",
    "import matplotlib.pyplot as plt\n",
    "import seaborn as sns\n",
    "import numpy as np\n",
    "from scipy import stats as st"
   ]
  },
  {
   "cell_type": "code",
   "execution_count": 2,
   "id": "c2885d47",
   "metadata": {},
   "outputs": [],
   "source": [
    "# считаем CSV-файлы с данными с помощью библиотеки pandas и сохраним их в датафреймы\n",
    "\n",
    "# users - информация о рользователях\n",
    "users = pd.read_csv('users_go.csv')\n",
    "\n",
    "# rides - информация о поездках\n",
    "rides = pd.read_csv('rides_go.csv', parse_dates=['date'])\n",
    "\n",
    "# subscriptions - информация о подписках\n",
    "subscriptions = pd.read_csv('subscriptions_go.csv')"
   ]
  },
  {
   "cell_type": "code",
   "execution_count": 3,
   "id": "7b8e58bf",
   "metadata": {},
   "outputs": [],
   "source": [
    "# определим функцию для оптимизации кода вывода первичной информации о датафрейме\n",
    "\n",
    "def basic_info(dataset):\n",
    "    # вывод первых пяти строк DataFrame\n",
    "    print()\n",
    "    print('первые 5 строк')\n",
    "    display(dataset.head())\n",
    "    print()\n",
    "    \n",
    "    # вывод информации о DataFrame\n",
    "    dataset.info()\n",
    "    print()"
   ]
  },
  {
   "cell_type": "code",
   "execution_count": 4,
   "id": "b1b44ce1",
   "metadata": {},
   "outputs": [
    {
     "name": "stdout",
     "output_type": "stream",
     "text": [
      "\n",
      "первые 5 строк\n"
     ]
    },
    {
     "data": {
      "text/html": [
       "<div>\n",
       "<style scoped>\n",
       "    .dataframe tbody tr th:only-of-type {\n",
       "        vertical-align: middle;\n",
       "    }\n",
       "\n",
       "    .dataframe tbody tr th {\n",
       "        vertical-align: top;\n",
       "    }\n",
       "\n",
       "    .dataframe thead th {\n",
       "        text-align: right;\n",
       "    }\n",
       "</style>\n",
       "<table border=\"1\" class=\"dataframe\">\n",
       "  <thead>\n",
       "    <tr style=\"text-align: right;\">\n",
       "      <th></th>\n",
       "      <th>user_id</th>\n",
       "      <th>name</th>\n",
       "      <th>age</th>\n",
       "      <th>city</th>\n",
       "      <th>subscription_type</th>\n",
       "    </tr>\n",
       "  </thead>\n",
       "  <tbody>\n",
       "    <tr>\n",
       "      <th>0</th>\n",
       "      <td>1</td>\n",
       "      <td>Кира</td>\n",
       "      <td>22</td>\n",
       "      <td>Тюмень</td>\n",
       "      <td>ultra</td>\n",
       "    </tr>\n",
       "    <tr>\n",
       "      <th>1</th>\n",
       "      <td>2</td>\n",
       "      <td>Станислав</td>\n",
       "      <td>31</td>\n",
       "      <td>Омск</td>\n",
       "      <td>ultra</td>\n",
       "    </tr>\n",
       "    <tr>\n",
       "      <th>2</th>\n",
       "      <td>3</td>\n",
       "      <td>Алексей</td>\n",
       "      <td>20</td>\n",
       "      <td>Москва</td>\n",
       "      <td>ultra</td>\n",
       "    </tr>\n",
       "    <tr>\n",
       "      <th>3</th>\n",
       "      <td>4</td>\n",
       "      <td>Константин</td>\n",
       "      <td>26</td>\n",
       "      <td>Ростов-на-Дону</td>\n",
       "      <td>ultra</td>\n",
       "    </tr>\n",
       "    <tr>\n",
       "      <th>4</th>\n",
       "      <td>5</td>\n",
       "      <td>Адель</td>\n",
       "      <td>28</td>\n",
       "      <td>Омск</td>\n",
       "      <td>ultra</td>\n",
       "    </tr>\n",
       "  </tbody>\n",
       "</table>\n",
       "</div>"
      ],
      "text/plain": [
       "   user_id        name  age            city subscription_type\n",
       "0        1        Кира   22          Тюмень             ultra\n",
       "1        2   Станислав   31            Омск             ultra\n",
       "2        3     Алексей   20          Москва             ultra\n",
       "3        4  Константин   26  Ростов-на-Дону             ultra\n",
       "4        5       Адель   28            Омск             ultra"
      ]
     },
     "metadata": {},
     "output_type": "display_data"
    },
    {
     "name": "stdout",
     "output_type": "stream",
     "text": [
      "\n",
      "<class 'pandas.core.frame.DataFrame'>\n",
      "RangeIndex: 1565 entries, 0 to 1564\n",
      "Data columns (total 5 columns):\n",
      " #   Column             Non-Null Count  Dtype \n",
      "---  ------             --------------  ----- \n",
      " 0   user_id            1565 non-null   int64 \n",
      " 1   name               1565 non-null   object\n",
      " 2   age                1565 non-null   int64 \n",
      " 3   city               1565 non-null   object\n",
      " 4   subscription_type  1565 non-null   object\n",
      "dtypes: int64(2), object(3)\n",
      "memory usage: 61.3+ KB\n",
      "\n"
     ]
    }
   ],
   "source": [
    "# применим функцию к датафрейму users для ознакомления с основными параметрами\n",
    "basic_info(users)"
   ]
  },
  {
   "cell_type": "code",
   "execution_count": 5,
   "id": "f351b476",
   "metadata": {},
   "outputs": [
    {
     "name": "stdout",
     "output_type": "stream",
     "text": [
      "\n",
      "первые 5 строк\n"
     ]
    },
    {
     "data": {
      "text/html": [
       "<div>\n",
       "<style scoped>\n",
       "    .dataframe tbody tr th:only-of-type {\n",
       "        vertical-align: middle;\n",
       "    }\n",
       "\n",
       "    .dataframe tbody tr th {\n",
       "        vertical-align: top;\n",
       "    }\n",
       "\n",
       "    .dataframe thead th {\n",
       "        text-align: right;\n",
       "    }\n",
       "</style>\n",
       "<table border=\"1\" class=\"dataframe\">\n",
       "  <thead>\n",
       "    <tr style=\"text-align: right;\">\n",
       "      <th></th>\n",
       "      <th>user_id</th>\n",
       "      <th>distance</th>\n",
       "      <th>duration</th>\n",
       "      <th>date</th>\n",
       "    </tr>\n",
       "  </thead>\n",
       "  <tbody>\n",
       "    <tr>\n",
       "      <th>0</th>\n",
       "      <td>1</td>\n",
       "      <td>4409.919140</td>\n",
       "      <td>25.599769</td>\n",
       "      <td>2021-01-01</td>\n",
       "    </tr>\n",
       "    <tr>\n",
       "      <th>1</th>\n",
       "      <td>1</td>\n",
       "      <td>2617.592153</td>\n",
       "      <td>15.816871</td>\n",
       "      <td>2021-01-18</td>\n",
       "    </tr>\n",
       "    <tr>\n",
       "      <th>2</th>\n",
       "      <td>1</td>\n",
       "      <td>754.159807</td>\n",
       "      <td>6.232113</td>\n",
       "      <td>2021-04-20</td>\n",
       "    </tr>\n",
       "    <tr>\n",
       "      <th>3</th>\n",
       "      <td>1</td>\n",
       "      <td>2694.783254</td>\n",
       "      <td>18.511000</td>\n",
       "      <td>2021-08-11</td>\n",
       "    </tr>\n",
       "    <tr>\n",
       "      <th>4</th>\n",
       "      <td>1</td>\n",
       "      <td>4028.687306</td>\n",
       "      <td>26.265803</td>\n",
       "      <td>2021-08-28</td>\n",
       "    </tr>\n",
       "  </tbody>\n",
       "</table>\n",
       "</div>"
      ],
      "text/plain": [
       "   user_id     distance   duration       date\n",
       "0        1  4409.919140  25.599769 2021-01-01\n",
       "1        1  2617.592153  15.816871 2021-01-18\n",
       "2        1   754.159807   6.232113 2021-04-20\n",
       "3        1  2694.783254  18.511000 2021-08-11\n",
       "4        1  4028.687306  26.265803 2021-08-28"
      ]
     },
     "metadata": {},
     "output_type": "display_data"
    },
    {
     "name": "stdout",
     "output_type": "stream",
     "text": [
      "\n",
      "<class 'pandas.core.frame.DataFrame'>\n",
      "RangeIndex: 18068 entries, 0 to 18067\n",
      "Data columns (total 4 columns):\n",
      " #   Column    Non-Null Count  Dtype         \n",
      "---  ------    --------------  -----         \n",
      " 0   user_id   18068 non-null  int64         \n",
      " 1   distance  18068 non-null  float64       \n",
      " 2   duration  18068 non-null  float64       \n",
      " 3   date      18068 non-null  datetime64[ns]\n",
      "dtypes: datetime64[ns](1), float64(2), int64(1)\n",
      "memory usage: 564.8 KB\n",
      "\n"
     ]
    }
   ],
   "source": [
    "# применим функцию к датафрейму rides для ознакомления с основными параметрами\n",
    "basic_info(rides)"
   ]
  },
  {
   "cell_type": "code",
   "execution_count": 6,
   "id": "92c055e7",
   "metadata": {},
   "outputs": [
    {
     "data": {
      "text/html": [
       "<div>\n",
       "<style scoped>\n",
       "    .dataframe tbody tr th:only-of-type {\n",
       "        vertical-align: middle;\n",
       "    }\n",
       "\n",
       "    .dataframe tbody tr th {\n",
       "        vertical-align: top;\n",
       "    }\n",
       "\n",
       "    .dataframe thead th {\n",
       "        text-align: right;\n",
       "    }\n",
       "</style>\n",
       "<table border=\"1\" class=\"dataframe\">\n",
       "  <thead>\n",
       "    <tr style=\"text-align: right;\">\n",
       "      <th></th>\n",
       "      <th>user_id</th>\n",
       "      <th>distance</th>\n",
       "      <th>duration</th>\n",
       "      <th>date</th>\n",
       "    </tr>\n",
       "  </thead>\n",
       "  <tbody>\n",
       "    <tr>\n",
       "      <th>count</th>\n",
       "      <td>18068.000000</td>\n",
       "      <td>18068.000000</td>\n",
       "      <td>18068.000000</td>\n",
       "      <td>18068</td>\n",
       "    </tr>\n",
       "    <tr>\n",
       "      <th>mean</th>\n",
       "      <td>842.869936</td>\n",
       "      <td>3070.659976</td>\n",
       "      <td>17.805011</td>\n",
       "      <td>2021-06-30 19:47:21.266327296</td>\n",
       "    </tr>\n",
       "    <tr>\n",
       "      <th>min</th>\n",
       "      <td>1.000000</td>\n",
       "      <td>0.855683</td>\n",
       "      <td>0.500000</td>\n",
       "      <td>2021-01-01 00:00:00</td>\n",
       "    </tr>\n",
       "    <tr>\n",
       "      <th>25%</th>\n",
       "      <td>487.000000</td>\n",
       "      <td>2543.226360</td>\n",
       "      <td>13.597563</td>\n",
       "      <td>2021-04-02 00:00:00</td>\n",
       "    </tr>\n",
       "    <tr>\n",
       "      <th>50%</th>\n",
       "      <td>889.000000</td>\n",
       "      <td>3133.609994</td>\n",
       "      <td>17.678395</td>\n",
       "      <td>2021-06-30 00:00:00</td>\n",
       "    </tr>\n",
       "    <tr>\n",
       "      <th>75%</th>\n",
       "      <td>1213.250000</td>\n",
       "      <td>3776.222735</td>\n",
       "      <td>21.724800</td>\n",
       "      <td>2021-09-28 00:00:00</td>\n",
       "    </tr>\n",
       "    <tr>\n",
       "      <th>max</th>\n",
       "      <td>1534.000000</td>\n",
       "      <td>7211.007745</td>\n",
       "      <td>40.823963</td>\n",
       "      <td>2021-12-30 00:00:00</td>\n",
       "    </tr>\n",
       "    <tr>\n",
       "      <th>std</th>\n",
       "      <td>434.734317</td>\n",
       "      <td>1116.831209</td>\n",
       "      <td>6.091051</td>\n",
       "      <td>NaN</td>\n",
       "    </tr>\n",
       "  </tbody>\n",
       "</table>\n",
       "</div>"
      ],
      "text/plain": [
       "            user_id      distance      duration                           date\n",
       "count  18068.000000  18068.000000  18068.000000                          18068\n",
       "mean     842.869936   3070.659976     17.805011  2021-06-30 19:47:21.266327296\n",
       "min        1.000000      0.855683      0.500000            2021-01-01 00:00:00\n",
       "25%      487.000000   2543.226360     13.597563            2021-04-02 00:00:00\n",
       "50%      889.000000   3133.609994     17.678395            2021-06-30 00:00:00\n",
       "75%     1213.250000   3776.222735     21.724800            2021-09-28 00:00:00\n",
       "max     1534.000000   7211.007745     40.823963            2021-12-30 00:00:00\n",
       "std      434.734317   1116.831209      6.091051                            NaN"
      ]
     },
     "execution_count": 6,
     "metadata": {},
     "output_type": "execute_result"
    }
   ],
   "source": [
    "# ознакомимся с основными статистиками фрейма rides\n",
    "rides.describe()"
   ]
  },
  {
   "cell_type": "code",
   "execution_count": 7,
   "id": "5e85c03e",
   "metadata": {},
   "outputs": [
    {
     "name": "stdout",
     "output_type": "stream",
     "text": [
      "\n",
      "первые 5 строк\n"
     ]
    },
    {
     "data": {
      "text/html": [
       "<div>\n",
       "<style scoped>\n",
       "    .dataframe tbody tr th:only-of-type {\n",
       "        vertical-align: middle;\n",
       "    }\n",
       "\n",
       "    .dataframe tbody tr th {\n",
       "        vertical-align: top;\n",
       "    }\n",
       "\n",
       "    .dataframe thead th {\n",
       "        text-align: right;\n",
       "    }\n",
       "</style>\n",
       "<table border=\"1\" class=\"dataframe\">\n",
       "  <thead>\n",
       "    <tr style=\"text-align: right;\">\n",
       "      <th></th>\n",
       "      <th>subscription_type</th>\n",
       "      <th>minute_price</th>\n",
       "      <th>start_ride_price</th>\n",
       "      <th>subscription_fee</th>\n",
       "    </tr>\n",
       "  </thead>\n",
       "  <tbody>\n",
       "    <tr>\n",
       "      <th>0</th>\n",
       "      <td>free</td>\n",
       "      <td>8</td>\n",
       "      <td>50</td>\n",
       "      <td>0</td>\n",
       "    </tr>\n",
       "    <tr>\n",
       "      <th>1</th>\n",
       "      <td>ultra</td>\n",
       "      <td>6</td>\n",
       "      <td>0</td>\n",
       "      <td>199</td>\n",
       "    </tr>\n",
       "  </tbody>\n",
       "</table>\n",
       "</div>"
      ],
      "text/plain": [
       "  subscription_type  minute_price  start_ride_price  subscription_fee\n",
       "0              free             8                50                 0\n",
       "1             ultra             6                 0               199"
      ]
     },
     "metadata": {},
     "output_type": "display_data"
    },
    {
     "name": "stdout",
     "output_type": "stream",
     "text": [
      "\n",
      "<class 'pandas.core.frame.DataFrame'>\n",
      "RangeIndex: 2 entries, 0 to 1\n",
      "Data columns (total 4 columns):\n",
      " #   Column             Non-Null Count  Dtype \n",
      "---  ------             --------------  ----- \n",
      " 0   subscription_type  2 non-null      object\n",
      " 1   minute_price       2 non-null      int64 \n",
      " 2   start_ride_price   2 non-null      int64 \n",
      " 3   subscription_fee   2 non-null      int64 \n",
      "dtypes: int64(3), object(1)\n",
      "memory usage: 196.0+ bytes\n",
      "\n"
     ]
    }
   ],
   "source": [
    "# применим функцию к датафрейму subscriptions для ознакомления с основными параметрами\n",
    "basic_info(subscriptions)"
   ]
  },
  {
   "cell_type": "markdown",
   "id": "d6111ad8",
   "metadata": {},
   "source": [
    "#### Шаг 2. Предобработка данных"
   ]
  },
  {
   "cell_type": "markdown",
   "id": "85b8650b",
   "metadata": {},
   "source": [
    "**Датафрейм users**"
   ]
  },
  {
   "cell_type": "code",
   "execution_count": 8,
   "id": "7f27cd6b",
   "metadata": {},
   "outputs": [
    {
     "data": {
      "text/plain": [
       "31"
      ]
     },
     "execution_count": 8,
     "metadata": {},
     "output_type": "execute_result"
    }
   ],
   "source": [
    "# изучим датафрейм на наличие полных дубликатов\n",
    "users.duplicated().sum()"
   ]
  },
  {
   "cell_type": "code",
   "execution_count": 9,
   "id": "937365e5",
   "metadata": {},
   "outputs": [],
   "source": [
    "# удалим из датафрейма явные дубликаты\n",
    "users.drop_duplicates(inplace=True)"
   ]
  },
  {
   "cell_type": "code",
   "execution_count": 10,
   "id": "d0885e98",
   "metadata": {
    "scrolled": true
   },
   "outputs": [
    {
     "data": {
      "text/plain": [
       "0"
      ]
     },
     "execution_count": 10,
     "metadata": {},
     "output_type": "execute_result"
    }
   ],
   "source": [
    "# проверим наличие дубликатов\n",
    "users.duplicated().sum()"
   ]
  },
  {
   "cell_type": "code",
   "execution_count": 11,
   "id": "4ebe1a6a",
   "metadata": {},
   "outputs": [
    {
     "data": {
      "text/plain": [
       "1534"
      ]
     },
     "execution_count": 11,
     "metadata": {},
     "output_type": "execute_result"
    }
   ],
   "source": [
    "# проверим количество строк в таблице\n",
    "users.shape[0]"
   ]
  },
  {
   "cell_type": "code",
   "execution_count": 12,
   "id": "759ea396",
   "metadata": {},
   "outputs": [
    {
     "data": {
      "text/plain": [
       "subscription_type\n",
       "free     835\n",
       "ultra    699\n",
       "Name: count, dtype: int64"
      ]
     },
     "execution_count": 12,
     "metadata": {},
     "output_type": "execute_result"
    }
   ],
   "source": [
    "# изучим уникальные значения столбца subscription_type\n",
    "users['subscription_type'].value_counts()"
   ]
  },
  {
   "cell_type": "code",
   "execution_count": 13,
   "id": "960a41d9",
   "metadata": {},
   "outputs": [
    {
     "data": {
      "text/plain": [
       "array(['Тюмень', 'Омск', 'Москва', 'Ростов-на-Дону', 'Краснодар',\n",
       "       'Пятигорск', 'Екатеринбург', 'Сочи'], dtype=object)"
      ]
     },
     "execution_count": 13,
     "metadata": {},
     "output_type": "execute_result"
    }
   ],
   "source": [
    "# изучим уникальные значения столбца city для выявления неявных дубликатов\n",
    "users['city'].unique()"
   ]
  },
  {
   "cell_type": "code",
   "execution_count": 14,
   "id": "d9858503",
   "metadata": {},
   "outputs": [
    {
     "data": {
      "text/plain": [
       "1534"
      ]
     },
     "execution_count": 14,
     "metadata": {},
     "output_type": "execute_result"
    }
   ],
   "source": [
    "# проверим уникальность значений в столбце user_id\n",
    "len(users['user_id'].unique())"
   ]
  },
  {
   "cell_type": "code",
   "execution_count": 15,
   "id": "c730f251",
   "metadata": {},
   "outputs": [
    {
     "data": {
      "text/plain": [
       "array(['Агата', 'Аделина', 'Адель', 'Айдар', 'Александр', 'Александра',\n",
       "       'Алексей', 'Алина', 'Алиса', 'Алия', 'Алла', 'Альберт', 'Альбина',\n",
       "       'Алёна', 'Амалия', 'Амина', 'Амир', 'Анастасия', 'Анатолий',\n",
       "       'Ангелина', 'Андрей', 'Анжелика', 'Анна', 'Антон', 'Антонина',\n",
       "       'Ариана', 'Арина', 'Арсен', 'Арсений', 'Артемий', 'Артур', 'Артём',\n",
       "       'Богдан', 'Борис', 'Вадим', 'Валентина', 'Валерий', 'Валерия',\n",
       "       'Варвара', 'Василий', 'Василина', 'Василиса', 'Вера', 'Вероника',\n",
       "       'Виктор', 'Виктория', 'Виолетта', 'Виталий', 'Виталина', 'Влад',\n",
       "       'Влада', 'Владимир', 'Владислав', 'Владислава', 'Всеволод',\n",
       "       'Вячеслав', 'Галина', 'Георгий', 'Герман', 'Глеб', 'Гордей',\n",
       "       'Григорий', 'Давид', 'Дамир', 'Даниил', 'Данил', 'Данила',\n",
       "       'Даниэль', 'Дарина', 'Дарья', 'Демид', 'Денис', 'Диана', 'Дмитрий',\n",
       "       'Ева', 'Евгений', 'Евгения', 'Егор', 'Екатерина', 'Елена',\n",
       "       'Елизавета', 'Елисей', 'Есения', 'Жанна', 'Зарина', 'Захар',\n",
       "       'Злата', 'Иван', 'Игнат', 'Игорь', 'Ильдар', 'Илья', 'Инна',\n",
       "       'Ирина', 'Камилла', 'Карина', 'Каролина', 'Кира', 'Кирилл',\n",
       "       'Константин', 'Кристина', 'Ксения', 'Лариса', 'Лев', 'Леонид',\n",
       "       'Лиана', 'Лидия', 'Лилия', 'Любовь', 'Людмила', 'Мадина', 'Майя',\n",
       "       'Макар', 'Максим', 'Марат', 'Маргарита', 'Марина', 'Мария', 'Марк',\n",
       "       'Марсель', 'Матвей', 'Мелания', 'Милана', 'Милена', 'Мирон',\n",
       "       'Мирослав', 'Мирослава', 'Михаил', 'Назар', 'Наталия', 'Наталья',\n",
       "       'Наташа', 'Нелли', 'Ника', 'Никита', 'Николай', 'Нина', 'Одиссей',\n",
       "       'Оксана', 'Олег', 'Олеся', 'Ольга', 'Павел', 'Петр', 'Платон',\n",
       "       'Полина', 'Радмир', 'Рамиль', 'Регина', 'Роберт', 'Родион',\n",
       "       'Роман', 'Ростислав', 'Руслан', 'Рустам', 'Савелий', 'Самир',\n",
       "       'Самира', 'Светлана', 'Святогор', 'Святослав', 'Семен', 'Сергей',\n",
       "       'Снежана', 'София', 'Софья', 'Станислав', 'Степан', 'Стефания',\n",
       "       'Таисия', 'Тамара', 'Тамерлан', 'Татьяна', 'Тимофей', 'Тимур',\n",
       "       'Тихон', 'Ульяна', 'Федор', 'Эвелина', 'Эдуард', 'Элина',\n",
       "       'Эльвира', 'Эльмира', 'Эмилия', 'Эмиль', 'Юлиана', 'Юлия', 'Юрий',\n",
       "       'Ян', 'Яна', 'Яромир', 'Ярослав', 'Ярослава', 'Ясмина'],\n",
       "      dtype=object)"
      ]
     },
     "execution_count": 15,
     "metadata": {},
     "output_type": "execute_result"
    }
   ],
   "source": [
    "# изучим уникальные значения столбца name для выявления неявных дубликатов\n",
    "users['name'].sort_values().unique()"
   ]
  },
  {
   "cell_type": "code",
   "execution_count": 16,
   "id": "31307d0b",
   "metadata": {},
   "outputs": [],
   "source": [
    "# заменим имена для удобства\n",
    "# создадим словарь для замены имен\n",
    "name_list_change = {\n",
    "    'Алёна' : 'Алена'\n",
    "    ,'Артём' : 'Артем'\n",
    "    ,'Влад' : 'Владислав'\n",
    "    ,'Влада' : 'Владислава'\n",
    "    ,'Наталия' : 'Наталья'\n",
    "    ,'Наташа' : 'Наталья'\n",
    "}\n",
    "\n",
    "# заменим значения \n",
    "users['name'] = users['name'].replace(name_list_change, regex=False)"
   ]
  },
  {
   "cell_type": "code",
   "execution_count": 17,
   "id": "db95644a",
   "metadata": {
    "scrolled": true
   },
   "outputs": [
    {
     "data": {
      "text/plain": [
       "array(['Агата', 'Аделина', 'Адель', 'Айдар', 'Александр', 'Александра',\n",
       "       'Алексей', 'Алена', 'Алина', 'Алиса', 'Алия', 'Алла', 'Альберт',\n",
       "       'Альбина', 'Амалия', 'Амина', 'Амир', 'Анастасия', 'Анатолий',\n",
       "       'Ангелина', 'Андрей', 'Анжелика', 'Анна', 'Антон', 'Антонина',\n",
       "       'Ариана', 'Арина', 'Арсен', 'Арсений', 'Артем', 'Артемий', 'Артур',\n",
       "       'Богдан', 'Борис', 'Вадим', 'Валентина', 'Валерий', 'Валерия',\n",
       "       'Варвара', 'Василий', 'Василина', 'Василиса', 'Вера', 'Вероника',\n",
       "       'Виктор', 'Виктория', 'Виолетта', 'Виталий', 'Виталина',\n",
       "       'Владимир', 'Владислав', 'Владислава', 'Всеволод', 'Вячеслав',\n",
       "       'Галина', 'Георгий', 'Герман', 'Глеб', 'Гордей', 'Григорий',\n",
       "       'Давид', 'Дамир', 'Даниил', 'Данил', 'Данила', 'Даниэль', 'Дарина',\n",
       "       'Дарья', 'Демид', 'Денис', 'Диана', 'Дмитрий', 'Ева', 'Евгений',\n",
       "       'Евгения', 'Егор', 'Екатерина', 'Елена', 'Елизавета', 'Елисей',\n",
       "       'Есения', 'Жанна', 'Зарина', 'Захар', 'Злата', 'Иван', 'Игнат',\n",
       "       'Игорь', 'Ильдар', 'Илья', 'Инна', 'Ирина', 'Камилла', 'Карина',\n",
       "       'Каролина', 'Кира', 'Кирилл', 'Константин', 'Кристина', 'Ксения',\n",
       "       'Лариса', 'Лев', 'Леонид', 'Лиана', 'Лидия', 'Лилия', 'Любовь',\n",
       "       'Людмила', 'Мадина', 'Майя', 'Макар', 'Максим', 'Марат',\n",
       "       'Маргарита', 'Марина', 'Мария', 'Марк', 'Марсель', 'Матвей',\n",
       "       'Мелания', 'Милана', 'Милена', 'Мирон', 'Мирослав', 'Мирослава',\n",
       "       'Михаил', 'Назар', 'Наталья', 'Нелли', 'Ника', 'Никита', 'Николай',\n",
       "       'Нина', 'Одиссей', 'Оксана', 'Олег', 'Олеся', 'Ольга', 'Павел',\n",
       "       'Петр', 'Платон', 'Полина', 'Радмир', 'Рамиль', 'Регина', 'Роберт',\n",
       "       'Родион', 'Роман', 'Ростислав', 'Руслан', 'Рустам', 'Савелий',\n",
       "       'Самир', 'Самира', 'Светлана', 'Святогор', 'Святослав', 'Семен',\n",
       "       'Сергей', 'Снежана', 'София', 'Софья', 'Станислав', 'Степан',\n",
       "       'Стефания', 'Таисия', 'Тамара', 'Тамерлан', 'Татьяна', 'Тимофей',\n",
       "       'Тимур', 'Тихон', 'Ульяна', 'Федор', 'Эвелина', 'Эдуард', 'Элина',\n",
       "       'Эльвира', 'Эльмира', 'Эмилия', 'Эмиль', 'Юлиана', 'Юлия', 'Юрий',\n",
       "       'Ян', 'Яна', 'Яромир', 'Ярослав', 'Ярослава', 'Ясмина'],\n",
       "      dtype=object)"
      ]
     },
     "execution_count": 17,
     "metadata": {},
     "output_type": "execute_result"
    }
   ],
   "source": [
    "# проверим уникальные значения столбца name\n",
    "users['name'].sort_values().unique()"
   ]
  },
  {
   "cell_type": "markdown",
   "id": "8d8021c7",
   "metadata": {},
   "source": [
    " **Предварительный вывод по изучению таблицы users**"
   ]
  },
  {
   "cell_type": "markdown",
   "id": "3fb30865",
   "metadata": {},
   "source": [
    "- данные считались корректно\n",
    "- нет пропущенных значений\n",
    "- выявлены явные дубликаты (31 строка) - удалены\n",
    "- типы данных для столбцов выбраны корректно\n",
    "- неявные дубликаты в столбце name (Наталия, Наталья,Наташа и София, Софья и Влад, Владислав и Влада, Владислава) но тк user_id в таблице уникальны можно утверждать что это разные пользователи. Для удобства привели к единому. Также имя Алена и Артем написано через ё - исправлено"
   ]
  },
  {
   "cell_type": "markdown",
   "id": "5d5257bb",
   "metadata": {},
   "source": [
    "**Датафрейм rides**"
   ]
  },
  {
   "cell_type": "code",
   "execution_count": 18,
   "id": "9d0dbe16",
   "metadata": {},
   "outputs": [
    {
     "data": {
      "text/plain": [
       "0"
      ]
     },
     "execution_count": 18,
     "metadata": {},
     "output_type": "execute_result"
    }
   ],
   "source": [
    "# изучим датафрейм на наличие полных дубликатов\n",
    "rides.duplicated().sum()"
   ]
  },
  {
   "cell_type": "code",
   "execution_count": 19,
   "id": "67ebd0b6",
   "metadata": {},
   "outputs": [],
   "source": [
    "# округлим для удобства значения в столбце distance до двух знаков после запятой\n",
    "rides['distance'] = rides['distance'].round(2)"
   ]
  },
  {
   "cell_type": "code",
   "execution_count": 20,
   "id": "f5279518",
   "metadata": {},
   "outputs": [],
   "source": [
    "# согласно заданию округлим значения в столбце duration до следующего целого\n",
    "rides['duration'] = np.ceil(rides['duration'])\n",
    "\n",
    "# изменим тип данных столбца duration на целочисленный\n",
    "rides['duration'] = rides['duration'].astype(int)"
   ]
  },
  {
   "cell_type": "code",
   "execution_count": 21,
   "id": "d3ac8c5a",
   "metadata": {},
   "outputs": [
    {
     "data": {
      "text/html": [
       "<div>\n",
       "<style scoped>\n",
       "    .dataframe tbody tr th:only-of-type {\n",
       "        vertical-align: middle;\n",
       "    }\n",
       "\n",
       "    .dataframe tbody tr th {\n",
       "        vertical-align: top;\n",
       "    }\n",
       "\n",
       "    .dataframe thead th {\n",
       "        text-align: right;\n",
       "    }\n",
       "</style>\n",
       "<table border=\"1\" class=\"dataframe\">\n",
       "  <thead>\n",
       "    <tr style=\"text-align: right;\">\n",
       "      <th></th>\n",
       "      <th>user_id</th>\n",
       "      <th>distance</th>\n",
       "      <th>duration</th>\n",
       "      <th>date</th>\n",
       "      <th>month_nomber</th>\n",
       "    </tr>\n",
       "  </thead>\n",
       "  <tbody>\n",
       "    <tr>\n",
       "      <th>0</th>\n",
       "      <td>1</td>\n",
       "      <td>4409.92</td>\n",
       "      <td>26</td>\n",
       "      <td>2021-01-01</td>\n",
       "      <td>1</td>\n",
       "    </tr>\n",
       "    <tr>\n",
       "      <th>1</th>\n",
       "      <td>1</td>\n",
       "      <td>2617.59</td>\n",
       "      <td>16</td>\n",
       "      <td>2021-01-18</td>\n",
       "      <td>1</td>\n",
       "    </tr>\n",
       "    <tr>\n",
       "      <th>2</th>\n",
       "      <td>1</td>\n",
       "      <td>754.16</td>\n",
       "      <td>7</td>\n",
       "      <td>2021-04-20</td>\n",
       "      <td>4</td>\n",
       "    </tr>\n",
       "    <tr>\n",
       "      <th>3</th>\n",
       "      <td>1</td>\n",
       "      <td>2694.78</td>\n",
       "      <td>19</td>\n",
       "      <td>2021-08-11</td>\n",
       "      <td>8</td>\n",
       "    </tr>\n",
       "    <tr>\n",
       "      <th>4</th>\n",
       "      <td>1</td>\n",
       "      <td>4028.69</td>\n",
       "      <td>27</td>\n",
       "      <td>2021-08-28</td>\n",
       "      <td>8</td>\n",
       "    </tr>\n",
       "  </tbody>\n",
       "</table>\n",
       "</div>"
      ],
      "text/plain": [
       "   user_id  distance  duration       date  month_nomber\n",
       "0        1   4409.92        26 2021-01-01             1\n",
       "1        1   2617.59        16 2021-01-18             1\n",
       "2        1    754.16         7 2021-04-20             4\n",
       "3        1   2694.78        19 2021-08-11             8\n",
       "4        1   4028.69        27 2021-08-28             8"
      ]
     },
     "execution_count": 21,
     "metadata": {},
     "output_type": "execute_result"
    }
   ],
   "source": [
    "# создадим новый столбец month_nomber в датафрейме rides с номером месяца на основе столбца date\n",
    "rides['month_nomber'] = pd.DatetimeIndex(rides['date']).month\n",
    "\n",
    "# проверим внесенные изменения\n",
    "rides.head()"
   ]
  },
  {
   "cell_type": "code",
   "execution_count": 22,
   "id": "18e18865",
   "metadata": {},
   "outputs": [
    {
     "data": {
      "text/plain": [
       "'Поездки совершались в период с 2021-01-01 00:00:00 по 2021-12-30 00:00:00'"
      ]
     },
     "execution_count": 22,
     "metadata": {},
     "output_type": "execute_result"
    }
   ],
   "source": [
    "# найдем минимальную и максимальную даты поездок для определения периода представленных данных\n",
    "\n",
    "min_date = rides['date'].min()\n",
    "max_date = rides['date'].max()\n",
    "\n",
    "f'Поездки совершались в период с {min_date} по {max_date}'"
   ]
  },
  {
   "cell_type": "markdown",
   "id": "4c8431e5",
   "metadata": {},
   "source": [
    " **Предварительный вывод по изучению таблицы users**"
   ]
  },
  {
   "cell_type": "markdown",
   "id": "19cd0c2b",
   "metadata": {},
   "source": [
    "- данные считались корректно\n",
    "- нет пропущенных значений\n",
    "- нет явных дубликатов\n",
    "- необходимо привести столбец date к типу данных дата - приведено\n",
    "- необходимо округлить столбец duration до следующего целого и изменить тип данных - приведено"
   ]
  },
  {
   "cell_type": "markdown",
   "id": "dbbc1a17",
   "metadata": {},
   "source": [
    "**Датафрейм subscriptions**"
   ]
  },
  {
   "cell_type": "markdown",
   "id": "36c3a355",
   "metadata": {},
   "source": [
    "**Предварительный вывод по изучению таблицы subscriptions**"
   ]
  },
  {
   "cell_type": "markdown",
   "id": "9cca55a0",
   "metadata": {},
   "source": [
    "- данные считались корректно\n",
    "- нет пропущенных значений\n",
    "- типы данных для столбцов выбраны корректно"
   ]
  },
  {
   "cell_type": "markdown",
   "id": "212593c7",
   "metadata": {},
   "source": [
    "#### Шаг 3. Исследовательский анализ данных"
   ]
  },
  {
   "cell_type": "markdown",
   "id": "db493f45",
   "metadata": {},
   "source": [
    "**Частота встречаемости городов**"
   ]
  },
  {
   "cell_type": "code",
   "execution_count": 23,
   "id": "e3a4274c",
   "metadata": {},
   "outputs": [
    {
     "data": {
      "text/plain": [
       "city\n",
       "Пятигорск         219\n",
       "Екатеринбург      204\n",
       "Ростов-на-Дону    198\n",
       "Краснодар         193\n",
       "Сочи              189\n",
       "Омск              183\n",
       "Тюмень            180\n",
       "Москва            168\n",
       "Name: count, dtype: int64"
      ]
     },
     "execution_count": 23,
     "metadata": {},
     "output_type": "execute_result"
    }
   ],
   "source": [
    "# частота встречаемости городов - количество\n",
    "city_number = users['city'].value_counts()\n",
    "city_number"
   ]
  },
  {
   "cell_type": "code",
   "execution_count": 24,
   "id": "44b2744f",
   "metadata": {},
   "outputs": [
    {
     "data": {
      "image/png": "[encoded data removed]",
      "text/plain": [
       "<Figure size 1500x700 with 1 Axes>"
      ]
     },
     "metadata": {},
     "output_type": "display_data"
    }
   ],
   "source": [
    "# построим столбчатую диаграмму\n",
    "plt.figure(figsize=(15, 7))\n",
    "city_number.plot(kind='bar', edgecolor='black')\n",
    "\n",
    "plt.title('Распределение поездок по городам', fontsize=15)\n",
    "plt.xlabel('Город')\n",
    "plt.ylabel('Количество поездок')\n",
    "\n",
    "plt.grid(axis='y')\n",
    "plt.xticks(rotation=0)\n",
    "\n",
    "# добавим количество городов для каждого столбца\n",
    "for i, count in enumerate(city_number):\n",
    "    plt.text(i, count+3, f'{count}', color='black', ha='center')\n",
    "\n",
    "\n",
    "plt.show()"
   ]
  },
  {
   "cell_type": "code",
   "execution_count": 25,
   "id": "d09cb6ab",
   "metadata": {},
   "outputs": [
    {
     "data": {
      "text/plain": [
       "city\n",
       "Екатеринбург      13.30\n",
       "Краснодар         12.58\n",
       "Москва            10.95\n",
       "Омск              11.93\n",
       "Пятигорск         14.28\n",
       "Ростов-на-Дону    12.91\n",
       "Сочи              12.32\n",
       "Тюмень            11.73\n",
       "dtype: float64"
      ]
     },
     "execution_count": 25,
     "metadata": {},
     "output_type": "execute_result"
    }
   ],
   "source": [
    "# частота встречаемости городов в процентах\n",
    "t = users.groupby('city').size() / len(users) * 100\n",
    "t.round(2)"
   ]
  },
  {
   "cell_type": "markdown",
   "id": "8aefe2fe",
   "metadata": {},
   "source": [
    "Больше всего поездок совершено в Пятигорске, меньше всего - в Москве. Сильных перекосов данных в пользу какого либо одного города не наблюдается. Также можно сделать предположение что больше поездок совершается в городах, расположенных южнее, тк там благоприятнее погодные условия и сезон продолжительнее."
   ]
  },
  {
   "cell_type": "markdown",
   "id": "8eba49a7",
   "metadata": {},
   "source": [
    "Можно предположить что помимо разницы в климате (Пятигорск южный город и сезон проката там должен быть больше) разница обусловлена тем, что Пятигорск меньше Москвы и преодолевать необходимые расстояния проще, тк требуемые локации находятся ближе. Также это может зависить от развитости трансортной инфраструктуры. В Москве общественный транспорт развит хорошо, удобнее и быстрее добраться до места не используя самокат. В Пятигорске же удобнее вместо ожидания общественного транспорта (которое очевидно дольше чем в Москве) воспользоваться арендой самоката для экономии времени."
   ]
  },
  {
   "cell_type": "markdown",
   "id": "92d14ef0",
   "metadata": {},
   "source": [
    "**Соотношение пользователей с подпиской и без подписки**"
   ]
  },
  {
   "cell_type": "code",
   "execution_count": 26,
   "id": "d24f1a10",
   "metadata": {},
   "outputs": [
    {
     "data": {
      "text/plain": [
       "subscription_type\n",
       "free     835\n",
       "ultra    699\n",
       "Name: count, dtype: int64"
      ]
     },
     "execution_count": 26,
     "metadata": {},
     "output_type": "execute_result"
    }
   ],
   "source": [
    "# количество пользователей с подпиской и без\n",
    "users_subscription = users['subscription_type'].value_counts()\n",
    "users_subscription"
   ]
  },
  {
   "cell_type": "code",
   "execution_count": 27,
   "id": "830181b3",
   "metadata": {},
   "outputs": [
    {
     "data": {
      "text/plain": [
       "subscription_type\n",
       "free     54.43\n",
       "ultra    45.57\n",
       "Name: count, dtype: float64"
      ]
     },
     "execution_count": 27,
     "metadata": {},
     "output_type": "execute_result"
    }
   ],
   "source": [
    "# процент пользователей с подпиской и без\n",
    "(users['subscription_type'].value_counts() / len(users) * 100).round(2)"
   ]
  },
  {
   "cell_type": "code",
   "execution_count": 28,
   "id": "96b55a5c",
   "metadata": {},
   "outputs": [
    {
     "data": {
      "image/png": "[encoded data removed]",
      "text/plain": [
       "<Figure size 600x600 with 1 Axes>"
      ]
     },
     "metadata": {},
     "output_type": "display_data"
    }
   ],
   "source": [
    "# определим количество пользователей с подпиской и без\n",
    "subscription_counts = users['subscription_type'].value_counts()\n",
    "\n",
    "# построим круговую диаграмму для отображения разности в доле клиентов\n",
    "plt.figure(figsize=(6, 6))\n",
    "\n",
    "plt.pie(subscription_counts, labels=subscription_counts.index, autopct='%1.1f%%'\n",
    "        , startangle=90, colors=['#66b3ff','#99ff99'], textprops={'fontsize': 14})\n",
    "\n",
    "plt.title('Распределение пользователей по подписке', fontsize=15)\n",
    "plt.axis('equal')  # Для того чтобы круговая диаграмма была круглой\n",
    "\n",
    "plt.show()"
   ]
  },
  {
   "cell_type": "code",
   "execution_count": 29,
   "id": "b043c974",
   "metadata": {},
   "outputs": [
    {
     "data": {
      "text/plain": [
       "subscription_type\n",
       "free     835\n",
       "ultra    699\n",
       "Name: count, dtype: int64"
      ]
     },
     "execution_count": 29,
     "metadata": {},
     "output_type": "execute_result"
    }
   ],
   "source": [
    "subscription_counts"
   ]
  },
  {
   "cell_type": "code",
   "execution_count": 30,
   "id": "c6dd8f21",
   "metadata": {},
   "outputs": [
    {
     "data": {
      "text/plain": [
       "19.46"
      ]
     },
     "execution_count": 30,
     "metadata": {},
     "output_type": "execute_result"
    }
   ],
   "source": [
    "# рассчитаем на сколько процентов пользователей без подписки больше чем пользователей с подпиской\n",
    "subscription_difference = ((users_subscription['free'] - users_subscription['ultra']) / users_subscription['ultra']) * 100\n",
    "subscription_difference.round(2)"
   ]
  },
  {
   "cell_type": "markdown",
   "id": "0950090c",
   "metadata": {},
   "source": [
    "пользователей без подписки почти на 20% больше чем пользователей с подпиской"
   ]
  },
  {
   "cell_type": "markdown",
   "id": "521bc208",
   "metadata": {},
   "source": [
    "**Возраст пользователей**"
   ]
  },
  {
   "cell_type": "code",
   "execution_count": 31,
   "id": "27561632",
   "metadata": {},
   "outputs": [
    {
     "data": {
      "text/plain": [
       "count    1534.000000\n",
       "mean       24.903520\n",
       "std         4.572367\n",
       "min        12.000000\n",
       "25%        22.000000\n",
       "50%        25.000000\n",
       "75%        28.000000\n",
       "max        43.000000\n",
       "Name: age, dtype: float64"
      ]
     },
     "execution_count": 31,
     "metadata": {},
     "output_type": "execute_result"
    }
   ],
   "source": [
    "# рассмотрим распределение данных в столбце age\n",
    "users['age'].describe()"
   ]
  },
  {
   "cell_type": "code",
   "execution_count": 32,
   "id": "b6bfae69",
   "metadata": {},
   "outputs": [
    {
     "data": {
      "text/plain": [
       "array([12, 13, 14, 15, 16, 17, 18, 19, 20, 21, 22, 23, 24, 25, 26, 27, 28,\n",
       "       29, 30, 31, 32, 33, 34, 35, 36, 37, 38, 39, 43], dtype=int64)"
      ]
     },
     "execution_count": 32,
     "metadata": {},
     "output_type": "execute_result"
    }
   ],
   "source": [
    "# посмотрим на уникальные возраста пользователей\n",
    "users['age'].sort_values().unique()"
   ]
  },
  {
   "cell_type": "code",
   "execution_count": 33,
   "id": "1e75d424",
   "metadata": {
    "scrolled": true
   },
   "outputs": [
    {
     "data": {
      "text/plain": [
       "age\n",
       "25    145\n",
       "24    132\n",
       "26    131\n",
       "23    129\n",
       "22    119\n",
       "27    119\n",
       "28    112\n",
       "21     93\n",
       "20     71\n",
       "30     68\n",
       "29     68\n",
       "31     48\n",
       "19     47\n",
       "18     46\n",
       "32     41\n",
       "33     39\n",
       "17     26\n",
       "16     19\n",
       "34     19\n",
       "35     15\n",
       "15     13\n",
       "14      9\n",
       "13      8\n",
       "36      6\n",
       "12      4\n",
       "38      3\n",
       "37      2\n",
       "39      1\n",
       "43      1\n",
       "Name: count, dtype: int64"
      ]
     },
     "execution_count": 33,
     "metadata": {},
     "output_type": "execute_result"
    }
   ],
   "source": [
    "# посмотрим на количество поездок для каждого возраста\n",
    "users['age'].value_counts()"
   ]
  },
  {
   "cell_type": "code",
   "execution_count": 34,
   "id": "c44ff69e",
   "metadata": {},
   "outputs": [
    {
     "data": {
      "image/png": "[encoded data removed]",
      "text/plain": [
       "<Figure size 1500x600 with 1 Axes>"
      ]
     },
     "metadata": {},
     "output_type": "display_data"
    }
   ],
   "source": [
    "# построим гистограмму для возрастов пользователей\n",
    "plt.figure(figsize=(15, 6))\n",
    "plt.hist(users['age'], bins=15, edgecolor='black')\n",
    "\n",
    "plt.title('Распределение возраста пользователей', fontsize=15)\n",
    "plt.xlabel('Возраст')\n",
    "plt.ylabel('Частота')\n",
    "\n",
    "plt.grid(True)\n",
    "plt.show()"
   ]
  },
  {
   "cell_type": "markdown",
   "id": "40b51774",
   "metadata": {},
   "source": [
    "большинство поездок совершается пользователями в возрасте от 22 до 28 лет. Максимальное количество поездок сделано пользователями в возрасте 25, 24 и 26 лет."
   ]
  },
  {
   "cell_type": "markdown",
   "id": "f56ef9ad",
   "metadata": {},
   "source": [
    "**Расстояние, которое пользователь преодолел за одну поездку**"
   ]
  },
  {
   "cell_type": "code",
   "execution_count": 35,
   "id": "a373f1b5",
   "metadata": {},
   "outputs": [
    {
     "data": {
      "text/html": [
       "<div>\n",
       "<style scoped>\n",
       "    .dataframe tbody tr th:only-of-type {\n",
       "        vertical-align: middle;\n",
       "    }\n",
       "\n",
       "    .dataframe tbody tr th {\n",
       "        vertical-align: top;\n",
       "    }\n",
       "\n",
       "    .dataframe thead th {\n",
       "        text-align: right;\n",
       "    }\n",
       "</style>\n",
       "<table border=\"1\" class=\"dataframe\">\n",
       "  <thead>\n",
       "    <tr style=\"text-align: right;\">\n",
       "      <th></th>\n",
       "      <th>user_id</th>\n",
       "      <th>distance</th>\n",
       "      <th>duration</th>\n",
       "      <th>date</th>\n",
       "      <th>month_nomber</th>\n",
       "    </tr>\n",
       "  </thead>\n",
       "  <tbody>\n",
       "    <tr>\n",
       "      <th>0</th>\n",
       "      <td>1</td>\n",
       "      <td>4409.92</td>\n",
       "      <td>26</td>\n",
       "      <td>2021-01-01</td>\n",
       "      <td>1</td>\n",
       "    </tr>\n",
       "    <tr>\n",
       "      <th>1</th>\n",
       "      <td>1</td>\n",
       "      <td>2617.59</td>\n",
       "      <td>16</td>\n",
       "      <td>2021-01-18</td>\n",
       "      <td>1</td>\n",
       "    </tr>\n",
       "    <tr>\n",
       "      <th>2</th>\n",
       "      <td>1</td>\n",
       "      <td>754.16</td>\n",
       "      <td>7</td>\n",
       "      <td>2021-04-20</td>\n",
       "      <td>4</td>\n",
       "    </tr>\n",
       "    <tr>\n",
       "      <th>3</th>\n",
       "      <td>1</td>\n",
       "      <td>2694.78</td>\n",
       "      <td>19</td>\n",
       "      <td>2021-08-11</td>\n",
       "      <td>8</td>\n",
       "    </tr>\n",
       "    <tr>\n",
       "      <th>4</th>\n",
       "      <td>1</td>\n",
       "      <td>4028.69</td>\n",
       "      <td>27</td>\n",
       "      <td>2021-08-28</td>\n",
       "      <td>8</td>\n",
       "    </tr>\n",
       "  </tbody>\n",
       "</table>\n",
       "</div>"
      ],
      "text/plain": [
       "   user_id  distance  duration       date  month_nomber\n",
       "0        1   4409.92        26 2021-01-01             1\n",
       "1        1   2617.59        16 2021-01-18             1\n",
       "2        1    754.16         7 2021-04-20             4\n",
       "3        1   2694.78        19 2021-08-11             8\n",
       "4        1   4028.69        27 2021-08-28             8"
      ]
     },
     "execution_count": 35,
     "metadata": {},
     "output_type": "execute_result"
    }
   ],
   "source": [
    "# ознакомимся с первыми строками датасета rides\n",
    "rides.head()"
   ]
  },
  {
   "cell_type": "code",
   "execution_count": 36,
   "id": "41223089",
   "metadata": {},
   "outputs": [
    {
     "data": {
      "text/plain": [
       "count    18068.000000\n",
       "mean      3070.659992\n",
       "std       1116.831222\n",
       "min          0.860000\n",
       "25%       2543.227500\n",
       "50%       3133.610000\n",
       "75%       3776.220000\n",
       "max       7211.010000\n",
       "Name: distance, dtype: float64"
      ]
     },
     "execution_count": 36,
     "metadata": {},
     "output_type": "execute_result"
    }
   ],
   "source": [
    "# ознакомимся с распределением данных в столбце distance\n",
    "rides['distance'].describe()"
   ]
  },
  {
   "cell_type": "code",
   "execution_count": 37,
   "id": "e352b28d",
   "metadata": {},
   "outputs": [
    {
     "data": {
      "image/png": "[encoded data removed]",
      "text/plain": [
       "<Figure size 1000x600 with 1 Axes>"
      ]
     },
     "metadata": {},
     "output_type": "display_data"
    }
   ],
   "source": [
    "# построение диаграммы размаха\n",
    "plt.figure(figsize=(10, 6))\n",
    "sns.boxplot(x=rides['distance'])\n",
    "\n",
    "plt.title('Диаграмма размаха для расстояний поездок', fontsize=15)\n",
    "plt.xlabel('Расстояние (м)')\n",
    "plt.grid(True)\n",
    "\n",
    "plt.show()"
   ]
  },
  {
   "cell_type": "code",
   "execution_count": 38,
   "id": "96794ff3",
   "metadata": {},
   "outputs": [
    {
     "data": {
      "image/png": "[encoded data removed]",
      "text/plain": [
       "<Figure size 1000x600 with 1 Axes>"
      ]
     },
     "metadata": {},
     "output_type": "display_data"
    }
   ],
   "source": [
    "# построим гистограмму\n",
    "plt.figure(figsize=(10, 6))\n",
    "plt.hist(rides['distance'], bins=100, edgecolor='black')  \n",
    "\n",
    "plt.title('Гистограмма расстояний поездок', fontsize=15)\n",
    "plt.xlabel('Расстояние (м)')\n",
    "plt.ylabel('Частота')\n",
    "plt.grid(True)\n",
    "\n",
    "plt.show()"
   ]
  },
  {
   "cell_type": "code",
   "execution_count": 39,
   "id": "cd87624a",
   "metadata": {},
   "outputs": [
    {
     "data": {
      "text/plain": [
       "78"
      ]
     },
     "execution_count": 39,
     "metadata": {},
     "output_type": "execute_result"
    }
   ],
   "source": [
    "# количество поездок менее 100 м\n",
    "len(rides[rides['distance'] < 100])"
   ]
  },
  {
   "cell_type": "code",
   "execution_count": 40,
   "id": "00b3236c",
   "metadata": {},
   "outputs": [
    {
     "data": {
      "text/plain": [
       "100"
      ]
     },
     "execution_count": 40,
     "metadata": {},
     "output_type": "execute_result"
    }
   ],
   "source": [
    "# количество поездок более 5700 м \n",
    "len(rides[rides['distance'] > 5700])"
   ]
  },
  {
   "cell_type": "markdown",
   "id": "d6c9aaa5",
   "metadata": {},
   "source": [
    "Основное количество поездок осуществляется на расстояние от 2.5 до 3.8 км. Есть выбросы -  определенное количество сверхдальних поездок а также сверхкоротких, менее 100 м, последнее может быть связано что пользователя по тем или иным причинам не устроил арендованный самокат"
   ]
  },
  {
   "cell_type": "markdown",
   "id": "debb5bf3",
   "metadata": {},
   "source": [
    "больше совершает короткие поездки группа без подписки (1250 против 468), длинные данные разделились примерно поровну 4475 и 4906 соответственно."
   ]
  },
  {
   "cell_type": "markdown",
   "id": "1080ce02",
   "metadata": {},
   "source": [
    "Можно предположить что короткие поездки используются для необходимости оперативно добраться до определенной локации (близко находящаяся работа, остановка общественного транспорта и тд), в то время как длинные используются в основном для развлечения, прогулок и тд. (я еще проверил топ 5 возрастов для коротких и длинных - они примерно одинаковые)"
   ]
  },
  {
   "cell_type": "markdown",
   "id": "eb9c57a1",
   "metadata": {},
   "source": [
    "**Продолжительность поездок**"
   ]
  },
  {
   "cell_type": "code",
   "execution_count": 41,
   "id": "5fb04a47",
   "metadata": {},
   "outputs": [
    {
     "data": {
      "text/plain": [
       "count    18068.000000\n",
       "mean        18.303520\n",
       "std          6.094928\n",
       "min          1.000000\n",
       "25%         14.000000\n",
       "50%         18.000000\n",
       "75%         22.000000\n",
       "max         41.000000\n",
       "Name: duration, dtype: float64"
      ]
     },
     "execution_count": 41,
     "metadata": {},
     "output_type": "execute_result"
    }
   ],
   "source": [
    "# ознакомимся с распределением данных в столбце duration\n",
    "rides['duration'].describe()"
   ]
  },
  {
   "cell_type": "code",
   "execution_count": 42,
   "id": "e75e58ef",
   "metadata": {},
   "outputs": [
    {
     "data": {
      "image/png": "[encoded data removed]",
      "text/plain": [
       "<Figure size 1000x600 with 1 Axes>"
      ]
     },
     "metadata": {},
     "output_type": "display_data"
    }
   ],
   "source": [
    "# построим ящичную диаграмму\n",
    "plt.figure(figsize=(10, 6))\n",
    "sns.boxplot(x=rides['duration'])\n",
    "\n",
    "plt.title('Диаграмма размаха для продолжительности поездок', fontsize = 15)\n",
    "plt.xlabel('Длительность (мин)')\n",
    "plt.grid(True)\n",
    "\n",
    "plt.show()"
   ]
  },
  {
   "cell_type": "code",
   "execution_count": 43,
   "id": "1e75ca07",
   "metadata": {
    "scrolled": true
   },
   "outputs": [
    {
     "data": {
      "image/png": "[encoded data removed]",
      "text/plain": [
       "<Figure size 1000x400 with 1 Axes>"
      ]
     },
     "metadata": {},
     "output_type": "display_data"
    }
   ],
   "source": [
    "# построим гистограмму\n",
    "plt.figure(figsize=(10, 4))\n",
    "plt.hist(rides['duration'], bins=41, edgecolor='black')  \n",
    "\n",
    "plt.title('Гистограмма длительности поездок', fontsize=15)\n",
    "plt.xlabel('Длительность (мин)', fontsize=13)\n",
    "plt.ylabel('Частота', fontsize=13)\n",
    "plt.grid(True)\n",
    "\n",
    "plt.show()"
   ]
  },
  {
   "cell_type": "code",
   "execution_count": 44,
   "id": "57a2ab71",
   "metadata": {},
   "outputs": [
    {
     "data": {
      "text/plain": [
       "75"
      ]
     },
     "execution_count": 44,
     "metadata": {},
     "output_type": "execute_result"
    }
   ],
   "source": [
    "# количество поездок более 34 минут\n",
    "len(rides[rides['duration'] > 34])"
   ]
  },
  {
   "cell_type": "code",
   "execution_count": 45,
   "id": "c6af3e1d",
   "metadata": {},
   "outputs": [
    {
     "data": {
      "text/plain": [
       "95"
      ]
     },
     "execution_count": 45,
     "metadata": {},
     "output_type": "execute_result"
    }
   ],
   "source": [
    "# количество поездок менее 2 минут\n",
    "len(rides[rides['duration'] < 2])"
   ]
  },
  {
   "cell_type": "markdown",
   "id": "d59bbf3a",
   "metadata": {},
   "source": [
    "Из гистограммы длительности поездок выдна явная аномалия в районе 2 минут. Рассмотрим подробнее"
   ]
  },
  {
   "cell_type": "code",
   "execution_count": 46,
   "id": "d2fca6de",
   "metadata": {
    "scrolled": true
   },
   "outputs": [
    {
     "data": {
      "text/html": [
       "<div>\n",
       "<style scoped>\n",
       "    .dataframe tbody tr th:only-of-type {\n",
       "        vertical-align: middle;\n",
       "    }\n",
       "\n",
       "    .dataframe tbody tr th {\n",
       "        vertical-align: top;\n",
       "    }\n",
       "\n",
       "    .dataframe thead th {\n",
       "        text-align: right;\n",
       "    }\n",
       "</style>\n",
       "<table border=\"1\" class=\"dataframe\">\n",
       "  <thead>\n",
       "    <tr style=\"text-align: right;\">\n",
       "      <th></th>\n",
       "      <th>user_id</th>\n",
       "      <th>distance</th>\n",
       "      <th>duration</th>\n",
       "      <th>date</th>\n",
       "      <th>month_nomber</th>\n",
       "    </tr>\n",
       "  </thead>\n",
       "  <tbody>\n",
       "    <tr>\n",
       "      <th>6531</th>\n",
       "      <td>701</td>\n",
       "      <td>4196.45</td>\n",
       "      <td>1</td>\n",
       "      <td>2021-08-31</td>\n",
       "      <td>8</td>\n",
       "    </tr>\n",
       "    <tr>\n",
       "      <th>6570</th>\n",
       "      <td>704</td>\n",
       "      <td>4830.82</td>\n",
       "      <td>1</td>\n",
       "      <td>2021-10-14</td>\n",
       "      <td>10</td>\n",
       "    </tr>\n",
       "    <tr>\n",
       "      <th>6680</th>\n",
       "      <td>712</td>\n",
       "      <td>4684.00</td>\n",
       "      <td>1</td>\n",
       "      <td>2021-03-04</td>\n",
       "      <td>3</td>\n",
       "    </tr>\n",
       "    <tr>\n",
       "      <th>6695</th>\n",
       "      <td>713</td>\n",
       "      <td>5215.64</td>\n",
       "      <td>1</td>\n",
       "      <td>2021-02-25</td>\n",
       "      <td>2</td>\n",
       "    </tr>\n",
       "    <tr>\n",
       "      <th>6768</th>\n",
       "      <td>718</td>\n",
       "      <td>5197.44</td>\n",
       "      <td>1</td>\n",
       "      <td>2021-02-11</td>\n",
       "      <td>2</td>\n",
       "    </tr>\n",
       "    <tr>\n",
       "      <th>...</th>\n",
       "      <td>...</td>\n",
       "      <td>...</td>\n",
       "      <td>...</td>\n",
       "      <td>...</td>\n",
       "      <td>...</td>\n",
       "    </tr>\n",
       "    <tr>\n",
       "      <th>17004</th>\n",
       "      <td>1460</td>\n",
       "      <td>5531.34</td>\n",
       "      <td>1</td>\n",
       "      <td>2021-01-19</td>\n",
       "      <td>1</td>\n",
       "    </tr>\n",
       "    <tr>\n",
       "      <th>17242</th>\n",
       "      <td>1477</td>\n",
       "      <td>6724.93</td>\n",
       "      <td>1</td>\n",
       "      <td>2021-01-12</td>\n",
       "      <td>1</td>\n",
       "    </tr>\n",
       "    <tr>\n",
       "      <th>17314</th>\n",
       "      <td>1483</td>\n",
       "      <td>4445.48</td>\n",
       "      <td>1</td>\n",
       "      <td>2021-03-06</td>\n",
       "      <td>3</td>\n",
       "    </tr>\n",
       "    <tr>\n",
       "      <th>17505</th>\n",
       "      <td>1496</td>\n",
       "      <td>5722.55</td>\n",
       "      <td>1</td>\n",
       "      <td>2021-02-14</td>\n",
       "      <td>2</td>\n",
       "    </tr>\n",
       "    <tr>\n",
       "      <th>17909</th>\n",
       "      <td>1524</td>\n",
       "      <td>4104.00</td>\n",
       "      <td>1</td>\n",
       "      <td>2021-06-18</td>\n",
       "      <td>6</td>\n",
       "    </tr>\n",
       "  </tbody>\n",
       "</table>\n",
       "<p>95 rows × 5 columns</p>\n",
       "</div>"
      ],
      "text/plain": [
       "       user_id  distance  duration       date  month_nomber\n",
       "6531       701   4196.45         1 2021-08-31             8\n",
       "6570       704   4830.82         1 2021-10-14            10\n",
       "6680       712   4684.00         1 2021-03-04             3\n",
       "6695       713   5215.64         1 2021-02-25             2\n",
       "6768       718   5197.44         1 2021-02-11             2\n",
       "...        ...       ...       ...        ...           ...\n",
       "17004     1460   5531.34         1 2021-01-19             1\n",
       "17242     1477   6724.93         1 2021-01-12             1\n",
       "17314     1483   4445.48         1 2021-03-06             3\n",
       "17505     1496   5722.55         1 2021-02-14             2\n",
       "17909     1524   4104.00         1 2021-06-18             6\n",
       "\n",
       "[95 rows x 5 columns]"
      ]
     },
     "execution_count": 46,
     "metadata": {},
     "output_type": "execute_result"
    }
   ],
   "source": [
    "rides[rides['duration'] < 2]"
   ]
  },
  {
   "cell_type": "code",
   "execution_count": 47,
   "id": "5214e04c",
   "metadata": {
    "scrolled": true
   },
   "outputs": [
    {
     "data": {
      "text/plain": [
       "duration\n",
       "1    95\n",
       "Name: count, dtype: int64"
      ]
     },
     "execution_count": 47,
     "metadata": {},
     "output_type": "execute_result"
    }
   ],
   "source": [
    "rides[rides['duration'] < 2]['duration'].value_counts()"
   ]
  },
  {
   "cell_type": "markdown",
   "id": "e6d8d213",
   "metadata": {},
   "source": [
    "Теперь видно что имеем 95 строк с поездкамипо одной минуте с пройдеными расстояниями более нескольких километров, что нереально. Скорее всего это какая то техническая ошибка при внесении в таблицу, но этих данных немного по сравнению с остальной информацией, дальнейшие рассчеты не исказит, поэтому оставим как есть."
   ]
  },
  {
   "cell_type": "markdown",
   "id": "3d344ddd",
   "metadata": {},
   "source": [
    " **Вывод:** Основная масса поездок длится от 14 до 22 минут. Всплеск на гистограмме длительности в районе одной двух минтут -  аномальные поездки длительностью 1 минута с большим километражом. В целом данные распределены равномерно относительно центра, на что указывает примерное равенство среднего и медианы."
   ]
  },
  {
   "cell_type": "code",
   "execution_count": 48,
   "id": "de979233",
   "metadata": {
    "scrolled": true
   },
   "outputs": [
    {
     "data": {
      "text/plain": [
       "month_nomber\n",
       "1     1585\n",
       "5     1560\n",
       "6     1553\n",
       "3     1544\n",
       "7     1529\n",
       "12    1527\n",
       "8     1518\n",
       "9     1517\n",
       "4     1506\n",
       "10    1475\n",
       "11    1418\n",
       "2     1336\n",
       "Name: count, dtype: int64"
      ]
     },
     "execution_count": 48,
     "metadata": {},
     "output_type": "execute_result"
    }
   ],
   "source": [
    "# количество поездок по месяцам\n",
    "rides['month_nomber'].value_counts()"
   ]
  },
  {
   "cell_type": "markdown",
   "id": "4ef51331",
   "metadata": {},
   "source": [
    "#### Шаг 4. Объединение данных"
   ]
  },
  {
   "cell_type": "code",
   "execution_count": 49,
   "id": "6bf288b5",
   "metadata": {},
   "outputs": [
    {
     "data": {
      "text/html": [
       "<div>\n",
       "<style scoped>\n",
       "    .dataframe tbody tr th:only-of-type {\n",
       "        vertical-align: middle;\n",
       "    }\n",
       "\n",
       "    .dataframe tbody tr th {\n",
       "        vertical-align: top;\n",
       "    }\n",
       "\n",
       "    .dataframe thead th {\n",
       "        text-align: right;\n",
       "    }\n",
       "</style>\n",
       "<table border=\"1\" class=\"dataframe\">\n",
       "  <thead>\n",
       "    <tr style=\"text-align: right;\">\n",
       "      <th></th>\n",
       "      <th>user_id</th>\n",
       "      <th>name</th>\n",
       "      <th>age</th>\n",
       "      <th>city</th>\n",
       "      <th>subscription_type</th>\n",
       "      <th>distance</th>\n",
       "      <th>duration</th>\n",
       "      <th>date</th>\n",
       "      <th>month_nomber</th>\n",
       "    </tr>\n",
       "  </thead>\n",
       "  <tbody>\n",
       "    <tr>\n",
       "      <th>0</th>\n",
       "      <td>1</td>\n",
       "      <td>Кира</td>\n",
       "      <td>22</td>\n",
       "      <td>Тюмень</td>\n",
       "      <td>ultra</td>\n",
       "      <td>4409.92</td>\n",
       "      <td>26</td>\n",
       "      <td>2021-01-01</td>\n",
       "      <td>1</td>\n",
       "    </tr>\n",
       "    <tr>\n",
       "      <th>1</th>\n",
       "      <td>1</td>\n",
       "      <td>Кира</td>\n",
       "      <td>22</td>\n",
       "      <td>Тюмень</td>\n",
       "      <td>ultra</td>\n",
       "      <td>2617.59</td>\n",
       "      <td>16</td>\n",
       "      <td>2021-01-18</td>\n",
       "      <td>1</td>\n",
       "    </tr>\n",
       "    <tr>\n",
       "      <th>2</th>\n",
       "      <td>1</td>\n",
       "      <td>Кира</td>\n",
       "      <td>22</td>\n",
       "      <td>Тюмень</td>\n",
       "      <td>ultra</td>\n",
       "      <td>754.16</td>\n",
       "      <td>7</td>\n",
       "      <td>2021-04-20</td>\n",
       "      <td>4</td>\n",
       "    </tr>\n",
       "    <tr>\n",
       "      <th>3</th>\n",
       "      <td>1</td>\n",
       "      <td>Кира</td>\n",
       "      <td>22</td>\n",
       "      <td>Тюмень</td>\n",
       "      <td>ultra</td>\n",
       "      <td>2694.78</td>\n",
       "      <td>19</td>\n",
       "      <td>2021-08-11</td>\n",
       "      <td>8</td>\n",
       "    </tr>\n",
       "    <tr>\n",
       "      <th>4</th>\n",
       "      <td>1</td>\n",
       "      <td>Кира</td>\n",
       "      <td>22</td>\n",
       "      <td>Тюмень</td>\n",
       "      <td>ultra</td>\n",
       "      <td>4028.69</td>\n",
       "      <td>27</td>\n",
       "      <td>2021-08-28</td>\n",
       "      <td>8</td>\n",
       "    </tr>\n",
       "  </tbody>\n",
       "</table>\n",
       "</div>"
      ],
      "text/plain": [
       "   user_id  name  age    city subscription_type  distance  duration  \\\n",
       "0        1  Кира   22  Тюмень             ultra   4409.92        26   \n",
       "1        1  Кира   22  Тюмень             ultra   2617.59        16   \n",
       "2        1  Кира   22  Тюмень             ultra    754.16         7   \n",
       "3        1  Кира   22  Тюмень             ultra   2694.78        19   \n",
       "4        1  Кира   22  Тюмень             ultra   4028.69        27   \n",
       "\n",
       "        date  month_nomber  \n",
       "0 2021-01-01             1  \n",
       "1 2021-01-18             1  \n",
       "2 2021-04-20             4  \n",
       "3 2021-08-11             8  \n",
       "4 2021-08-28             8  "
      ]
     },
     "execution_count": 49,
     "metadata": {},
     "output_type": "execute_result"
    }
   ],
   "source": [
    "# обьеденим датафреймы users, rides, subscriptions в один датафрейм.\n",
    "# обьединение произведем поэтапно, сначала обьединим users и rides по столбцу user_id, затем результат обьединим с \n",
    "# subscriptions  по столбцу subscription_type\n",
    "\n",
    "# обьединим датафреймы users и rides с помощью функции merge() по столбцу user_id\n",
    "intermediate_value = users.merge(rides, on='user_id')\n",
    "intermediate_value.head()"
   ]
  },
  {
   "cell_type": "code",
   "execution_count": 50,
   "id": "60805d03",
   "metadata": {},
   "outputs": [],
   "source": [
    "# обьединим промежуточный результат intermediate_value с датафреймом subscriptions по столбцу subscription_type\n",
    "users_all = intermediate_value.merge(subscriptions, on='subscription_type') "
   ]
  },
  {
   "cell_type": "code",
   "execution_count": 51,
   "id": "3a956303",
   "metadata": {},
   "outputs": [
    {
     "name": "stdout",
     "output_type": "stream",
     "text": [
      "\n",
      "первые 5 строк\n"
     ]
    },
    {
     "data": {
      "text/html": [
       "<div>\n",
       "<style scoped>\n",
       "    .dataframe tbody tr th:only-of-type {\n",
       "        vertical-align: middle;\n",
       "    }\n",
       "\n",
       "    .dataframe tbody tr th {\n",
       "        vertical-align: top;\n",
       "    }\n",
       "\n",
       "    .dataframe thead th {\n",
       "        text-align: right;\n",
       "    }\n",
       "</style>\n",
       "<table border=\"1\" class=\"dataframe\">\n",
       "  <thead>\n",
       "    <tr style=\"text-align: right;\">\n",
       "      <th></th>\n",
       "      <th>user_id</th>\n",
       "      <th>name</th>\n",
       "      <th>age</th>\n",
       "      <th>city</th>\n",
       "      <th>subscription_type</th>\n",
       "      <th>distance</th>\n",
       "      <th>duration</th>\n",
       "      <th>date</th>\n",
       "      <th>month_nomber</th>\n",
       "      <th>minute_price</th>\n",
       "      <th>start_ride_price</th>\n",
       "      <th>subscription_fee</th>\n",
       "    </tr>\n",
       "  </thead>\n",
       "  <tbody>\n",
       "    <tr>\n",
       "      <th>0</th>\n",
       "      <td>1</td>\n",
       "      <td>Кира</td>\n",
       "      <td>22</td>\n",
       "      <td>Тюмень</td>\n",
       "      <td>ultra</td>\n",
       "      <td>4409.92</td>\n",
       "      <td>26</td>\n",
       "      <td>2021-01-01</td>\n",
       "      <td>1</td>\n",
       "      <td>6</td>\n",
       "      <td>0</td>\n",
       "      <td>199</td>\n",
       "    </tr>\n",
       "    <tr>\n",
       "      <th>1</th>\n",
       "      <td>1</td>\n",
       "      <td>Кира</td>\n",
       "      <td>22</td>\n",
       "      <td>Тюмень</td>\n",
       "      <td>ultra</td>\n",
       "      <td>2617.59</td>\n",
       "      <td>16</td>\n",
       "      <td>2021-01-18</td>\n",
       "      <td>1</td>\n",
       "      <td>6</td>\n",
       "      <td>0</td>\n",
       "      <td>199</td>\n",
       "    </tr>\n",
       "    <tr>\n",
       "      <th>2</th>\n",
       "      <td>1</td>\n",
       "      <td>Кира</td>\n",
       "      <td>22</td>\n",
       "      <td>Тюмень</td>\n",
       "      <td>ultra</td>\n",
       "      <td>754.16</td>\n",
       "      <td>7</td>\n",
       "      <td>2021-04-20</td>\n",
       "      <td>4</td>\n",
       "      <td>6</td>\n",
       "      <td>0</td>\n",
       "      <td>199</td>\n",
       "    </tr>\n",
       "    <tr>\n",
       "      <th>3</th>\n",
       "      <td>1</td>\n",
       "      <td>Кира</td>\n",
       "      <td>22</td>\n",
       "      <td>Тюмень</td>\n",
       "      <td>ultra</td>\n",
       "      <td>2694.78</td>\n",
       "      <td>19</td>\n",
       "      <td>2021-08-11</td>\n",
       "      <td>8</td>\n",
       "      <td>6</td>\n",
       "      <td>0</td>\n",
       "      <td>199</td>\n",
       "    </tr>\n",
       "    <tr>\n",
       "      <th>4</th>\n",
       "      <td>1</td>\n",
       "      <td>Кира</td>\n",
       "      <td>22</td>\n",
       "      <td>Тюмень</td>\n",
       "      <td>ultra</td>\n",
       "      <td>4028.69</td>\n",
       "      <td>27</td>\n",
       "      <td>2021-08-28</td>\n",
       "      <td>8</td>\n",
       "      <td>6</td>\n",
       "      <td>0</td>\n",
       "      <td>199</td>\n",
       "    </tr>\n",
       "  </tbody>\n",
       "</table>\n",
       "</div>"
      ],
      "text/plain": [
       "   user_id  name  age    city subscription_type  distance  duration  \\\n",
       "0        1  Кира   22  Тюмень             ultra   4409.92        26   \n",
       "1        1  Кира   22  Тюмень             ultra   2617.59        16   \n",
       "2        1  Кира   22  Тюмень             ultra    754.16         7   \n",
       "3        1  Кира   22  Тюмень             ultra   2694.78        19   \n",
       "4        1  Кира   22  Тюмень             ultra   4028.69        27   \n",
       "\n",
       "        date  month_nomber  minute_price  start_ride_price  subscription_fee  \n",
       "0 2021-01-01             1             6                 0               199  \n",
       "1 2021-01-18             1             6                 0               199  \n",
       "2 2021-04-20             4             6                 0               199  \n",
       "3 2021-08-11             8             6                 0               199  \n",
       "4 2021-08-28             8             6                 0               199  "
      ]
     },
     "metadata": {},
     "output_type": "display_data"
    },
    {
     "name": "stdout",
     "output_type": "stream",
     "text": [
      "\n",
      "<class 'pandas.core.frame.DataFrame'>\n",
      "RangeIndex: 18068 entries, 0 to 18067\n",
      "Data columns (total 12 columns):\n",
      " #   Column             Non-Null Count  Dtype         \n",
      "---  ------             --------------  -----         \n",
      " 0   user_id            18068 non-null  int64         \n",
      " 1   name               18068 non-null  object        \n",
      " 2   age                18068 non-null  int64         \n",
      " 3   city               18068 non-null  object        \n",
      " 4   subscription_type  18068 non-null  object        \n",
      " 5   distance           18068 non-null  float64       \n",
      " 6   duration           18068 non-null  int32         \n",
      " 7   date               18068 non-null  datetime64[ns]\n",
      " 8   month_nomber       18068 non-null  int32         \n",
      " 9   minute_price       18068 non-null  int64         \n",
      " 10  start_ride_price   18068 non-null  int64         \n",
      " 11  subscription_fee   18068 non-null  int64         \n",
      "dtypes: datetime64[ns](1), float64(1), int32(2), int64(5), object(3)\n",
      "memory usage: 1.5+ MB\n",
      "\n"
     ]
    }
   ],
   "source": [
    "# ознакомимся с информацией о датафрейме\n",
    "basic_info(users_all)"
   ]
  },
  {
   "cell_type": "code",
   "execution_count": 52,
   "id": "abe10883",
   "metadata": {
    "scrolled": true
   },
   "outputs": [
    {
     "data": {
      "text/plain": [
       "0"
      ]
     },
     "execution_count": 52,
     "metadata": {},
     "output_type": "execute_result"
    }
   ],
   "source": [
    "# проверим на явные дубликаты\n",
    "users_all.duplicated().sum()"
   ]
  },
  {
   "cell_type": "markdown",
   "id": "d5ae6007",
   "metadata": {},
   "source": [
    "После обьединения таблиц в финальной таблице получилось 18068 строк, пропущенных значений нет, явных дубликатов нет"
   ]
  },
  {
   "cell_type": "code",
   "execution_count": 53,
   "id": "61a1f383",
   "metadata": {},
   "outputs": [
    {
     "data": {
      "text/html": [
       "<div>\n",
       "<style scoped>\n",
       "    .dataframe tbody tr th:only-of-type {\n",
       "        vertical-align: middle;\n",
       "    }\n",
       "\n",
       "    .dataframe tbody tr th {\n",
       "        vertical-align: top;\n",
       "    }\n",
       "\n",
       "    .dataframe thead th {\n",
       "        text-align: right;\n",
       "    }\n",
       "</style>\n",
       "<table border=\"1\" class=\"dataframe\">\n",
       "  <thead>\n",
       "    <tr style=\"text-align: right;\">\n",
       "      <th></th>\n",
       "      <th>user_id</th>\n",
       "      <th>name</th>\n",
       "      <th>age</th>\n",
       "      <th>city</th>\n",
       "      <th>subscription_type</th>\n",
       "      <th>distance</th>\n",
       "      <th>duration</th>\n",
       "      <th>date</th>\n",
       "      <th>month_nomber</th>\n",
       "      <th>minute_price</th>\n",
       "      <th>start_ride_price</th>\n",
       "      <th>subscription_fee</th>\n",
       "    </tr>\n",
       "  </thead>\n",
       "  <tbody>\n",
       "    <tr>\n",
       "      <th>6500</th>\n",
       "      <td>700</td>\n",
       "      <td>Айдар</td>\n",
       "      <td>22</td>\n",
       "      <td>Омск</td>\n",
       "      <td>free</td>\n",
       "      <td>2515.69</td>\n",
       "      <td>15</td>\n",
       "      <td>2021-01-02</td>\n",
       "      <td>1</td>\n",
       "      <td>8</td>\n",
       "      <td>50</td>\n",
       "      <td>0</td>\n",
       "    </tr>\n",
       "    <tr>\n",
       "      <th>6501</th>\n",
       "      <td>700</td>\n",
       "      <td>Айдар</td>\n",
       "      <td>22</td>\n",
       "      <td>Омск</td>\n",
       "      <td>free</td>\n",
       "      <td>846.93</td>\n",
       "      <td>17</td>\n",
       "      <td>2021-02-01</td>\n",
       "      <td>2</td>\n",
       "      <td>8</td>\n",
       "      <td>50</td>\n",
       "      <td>0</td>\n",
       "    </tr>\n",
       "    <tr>\n",
       "      <th>6502</th>\n",
       "      <td>700</td>\n",
       "      <td>Айдар</td>\n",
       "      <td>22</td>\n",
       "      <td>Омск</td>\n",
       "      <td>free</td>\n",
       "      <td>4004.43</td>\n",
       "      <td>21</td>\n",
       "      <td>2021-02-04</td>\n",
       "      <td>2</td>\n",
       "      <td>8</td>\n",
       "      <td>50</td>\n",
       "      <td>0</td>\n",
       "    </tr>\n",
       "    <tr>\n",
       "      <th>6503</th>\n",
       "      <td>700</td>\n",
       "      <td>Айдар</td>\n",
       "      <td>22</td>\n",
       "      <td>Омск</td>\n",
       "      <td>free</td>\n",
       "      <td>1205.91</td>\n",
       "      <td>10</td>\n",
       "      <td>2021-02-10</td>\n",
       "      <td>2</td>\n",
       "      <td>8</td>\n",
       "      <td>50</td>\n",
       "      <td>0</td>\n",
       "    </tr>\n",
       "    <tr>\n",
       "      <th>6504</th>\n",
       "      <td>700</td>\n",
       "      <td>Айдар</td>\n",
       "      <td>22</td>\n",
       "      <td>Омск</td>\n",
       "      <td>free</td>\n",
       "      <td>3047.38</td>\n",
       "      <td>18</td>\n",
       "      <td>2021-02-14</td>\n",
       "      <td>2</td>\n",
       "      <td>8</td>\n",
       "      <td>50</td>\n",
       "      <td>0</td>\n",
       "    </tr>\n",
       "  </tbody>\n",
       "</table>\n",
       "</div>"
      ],
      "text/plain": [
       "      user_id   name  age  city subscription_type  distance  duration  \\\n",
       "6500      700  Айдар   22  Омск              free   2515.69        15   \n",
       "6501      700  Айдар   22  Омск              free    846.93        17   \n",
       "6502      700  Айдар   22  Омск              free   4004.43        21   \n",
       "6503      700  Айдар   22  Омск              free   1205.91        10   \n",
       "6504      700  Айдар   22  Омск              free   3047.38        18   \n",
       "\n",
       "           date  month_nomber  minute_price  start_ride_price  \\\n",
       "6500 2021-01-02             1             8                50   \n",
       "6501 2021-02-01             2             8                50   \n",
       "6502 2021-02-04             2             8                50   \n",
       "6503 2021-02-10             2             8                50   \n",
       "6504 2021-02-14             2             8                50   \n",
       "\n",
       "      subscription_fee  \n",
       "6500                 0  \n",
       "6501                 0  \n",
       "6502                 0  \n",
       "6503                 0  \n",
       "6504                 0  "
      ]
     },
     "execution_count": 53,
     "metadata": {},
     "output_type": "execute_result"
    }
   ],
   "source": [
    "# из датафрейма users_all создадим новый датафрейм c данными о пользователях без подписки\n",
    "users_without_subscriptions = users_all[users_all['subscription_type'] == 'free']\n",
    "users_without_subscriptions.head()"
   ]
  },
  {
   "cell_type": "code",
   "execution_count": 54,
   "id": "0052421a",
   "metadata": {},
   "outputs": [
    {
     "data": {
      "text/plain": [
       "11568"
      ]
     },
     "execution_count": 54,
     "metadata": {},
     "output_type": "execute_result"
    }
   ],
   "source": [
    "# количество строк в датафрейме users_without_subscriptions\n",
    "users_without_subscriptions.shape[0]"
   ]
  },
  {
   "cell_type": "code",
   "execution_count": 55,
   "id": "7af090e7",
   "metadata": {},
   "outputs": [
    {
     "data": {
      "text/html": [
       "<div>\n",
       "<style scoped>\n",
       "    .dataframe tbody tr th:only-of-type {\n",
       "        vertical-align: middle;\n",
       "    }\n",
       "\n",
       "    .dataframe tbody tr th {\n",
       "        vertical-align: top;\n",
       "    }\n",
       "\n",
       "    .dataframe thead th {\n",
       "        text-align: right;\n",
       "    }\n",
       "</style>\n",
       "<table border=\"1\" class=\"dataframe\">\n",
       "  <thead>\n",
       "    <tr style=\"text-align: right;\">\n",
       "      <th></th>\n",
       "      <th>user_id</th>\n",
       "      <th>name</th>\n",
       "      <th>age</th>\n",
       "      <th>city</th>\n",
       "      <th>subscription_type</th>\n",
       "      <th>distance</th>\n",
       "      <th>duration</th>\n",
       "      <th>date</th>\n",
       "      <th>month_nomber</th>\n",
       "      <th>minute_price</th>\n",
       "      <th>start_ride_price</th>\n",
       "      <th>subscription_fee</th>\n",
       "    </tr>\n",
       "  </thead>\n",
       "  <tbody>\n",
       "    <tr>\n",
       "      <th>0</th>\n",
       "      <td>1</td>\n",
       "      <td>Кира</td>\n",
       "      <td>22</td>\n",
       "      <td>Тюмень</td>\n",
       "      <td>ultra</td>\n",
       "      <td>4409.92</td>\n",
       "      <td>26</td>\n",
       "      <td>2021-01-01</td>\n",
       "      <td>1</td>\n",
       "      <td>6</td>\n",
       "      <td>0</td>\n",
       "      <td>199</td>\n",
       "    </tr>\n",
       "    <tr>\n",
       "      <th>1</th>\n",
       "      <td>1</td>\n",
       "      <td>Кира</td>\n",
       "      <td>22</td>\n",
       "      <td>Тюмень</td>\n",
       "      <td>ultra</td>\n",
       "      <td>2617.59</td>\n",
       "      <td>16</td>\n",
       "      <td>2021-01-18</td>\n",
       "      <td>1</td>\n",
       "      <td>6</td>\n",
       "      <td>0</td>\n",
       "      <td>199</td>\n",
       "    </tr>\n",
       "    <tr>\n",
       "      <th>2</th>\n",
       "      <td>1</td>\n",
       "      <td>Кира</td>\n",
       "      <td>22</td>\n",
       "      <td>Тюмень</td>\n",
       "      <td>ultra</td>\n",
       "      <td>754.16</td>\n",
       "      <td>7</td>\n",
       "      <td>2021-04-20</td>\n",
       "      <td>4</td>\n",
       "      <td>6</td>\n",
       "      <td>0</td>\n",
       "      <td>199</td>\n",
       "    </tr>\n",
       "    <tr>\n",
       "      <th>3</th>\n",
       "      <td>1</td>\n",
       "      <td>Кира</td>\n",
       "      <td>22</td>\n",
       "      <td>Тюмень</td>\n",
       "      <td>ultra</td>\n",
       "      <td>2694.78</td>\n",
       "      <td>19</td>\n",
       "      <td>2021-08-11</td>\n",
       "      <td>8</td>\n",
       "      <td>6</td>\n",
       "      <td>0</td>\n",
       "      <td>199</td>\n",
       "    </tr>\n",
       "    <tr>\n",
       "      <th>4</th>\n",
       "      <td>1</td>\n",
       "      <td>Кира</td>\n",
       "      <td>22</td>\n",
       "      <td>Тюмень</td>\n",
       "      <td>ultra</td>\n",
       "      <td>4028.69</td>\n",
       "      <td>27</td>\n",
       "      <td>2021-08-28</td>\n",
       "      <td>8</td>\n",
       "      <td>6</td>\n",
       "      <td>0</td>\n",
       "      <td>199</td>\n",
       "    </tr>\n",
       "  </tbody>\n",
       "</table>\n",
       "</div>"
      ],
      "text/plain": [
       "   user_id  name  age    city subscription_type  distance  duration  \\\n",
       "0        1  Кира   22  Тюмень             ultra   4409.92        26   \n",
       "1        1  Кира   22  Тюмень             ultra   2617.59        16   \n",
       "2        1  Кира   22  Тюмень             ultra    754.16         7   \n",
       "3        1  Кира   22  Тюмень             ultra   2694.78        19   \n",
       "4        1  Кира   22  Тюмень             ultra   4028.69        27   \n",
       "\n",
       "        date  month_nomber  minute_price  start_ride_price  subscription_fee  \n",
       "0 2021-01-01             1             6                 0               199  \n",
       "1 2021-01-18             1             6                 0               199  \n",
       "2 2021-04-20             4             6                 0               199  \n",
       "3 2021-08-11             8             6                 0               199  \n",
       "4 2021-08-28             8             6                 0               199  "
      ]
     },
     "execution_count": 55,
     "metadata": {},
     "output_type": "execute_result"
    }
   ],
   "source": [
    "# из датафрейма users_all создадим новый датафрейм c данными о пользователях с подпиской\n",
    "users_with_subscriptions = users_all[users_all['subscription_type'] == 'ultra']\n",
    "users_with_subscriptions.head()"
   ]
  },
  {
   "cell_type": "code",
   "execution_count": 56,
   "id": "624f9922",
   "metadata": {},
   "outputs": [
    {
     "data": {
      "text/plain": [
       "6500"
      ]
     },
     "execution_count": 56,
     "metadata": {},
     "output_type": "execute_result"
    }
   ],
   "source": [
    "users_with_subscriptions.shape[0]"
   ]
  },
  {
   "cell_type": "markdown",
   "id": "83b2ac35",
   "metadata": {},
   "source": [
    "**Сравнение продолжительности поездок пользователей с подпиской и без**"
   ]
  },
  {
   "cell_type": "code",
   "execution_count": 57,
   "id": "cf8ab6de",
   "metadata": {},
   "outputs": [
    {
     "name": "stderr",
     "output_type": "stream",
     "text": [
      "C:\\Users\\no_go\\anaconda3\\Lib\\site-packages\\seaborn\\_oldcore.py:1119: FutureWarning: use_inf_as_na option is deprecated and will be removed in a future version. Convert inf values to NaN before operating instead.\n",
      "  with pd.option_context('mode.use_inf_as_na', True):\n",
      "C:\\Users\\no_go\\anaconda3\\Lib\\site-packages\\seaborn\\_oldcore.py:1119: FutureWarning: use_inf_as_na option is deprecated and will be removed in a future version. Convert inf values to NaN before operating instead.\n",
      "  with pd.option_context('mode.use_inf_as_na', True):\n"
     ]
    },
    {
     "data": {
      "image/png": "[encoded data removed]",
      "text/plain": [
       "<Figure size 1800x600 with 1 Axes>"
      ]
     },
     "metadata": {},
     "output_type": "display_data"
    }
   ],
   "source": [
    "# объявляем график\n",
    "plt.figure(figsize=(18, 6))\n",
    "\n",
    "# добавляем гистограммы\n",
    "sns.histplot(data=users_with_subscriptions, x='duration', bins=33, color='blue', label='Подписка', kde=True, alpha=0.5)\n",
    "sns.histplot(data=users_without_subscriptions, x='duration', bins=33, color='green', label='Без подписки', kde=True, alpha=0.5)\n",
    "\n",
    "# подписи и легенда\n",
    "plt.title('Сравнение продолжительности поездок пользователей с подпиской и без', fontsize=15)\n",
    "plt.xlabel('Продолжительность поездок (минуты)')\n",
    "plt.ylabel('Количество поездок')\n",
    "plt.legend(title='Тип подписки')\n",
    "\n",
    "# отображение графика\n",
    "plt.show()"
   ]
  },
  {
   "cell_type": "code",
   "execution_count": 58,
   "id": "461ad5ce",
   "metadata": {},
   "outputs": [
    {
     "data": {
      "text/plain": [
       "count    6500.000000\n",
       "mean       19.037692\n",
       "std         5.577439\n",
       "min         4.000000\n",
       "25%        15.000000\n",
       "50%        19.000000\n",
       "75%        22.000000\n",
       "max        41.000000\n",
       "Name: duration, dtype: float64"
      ]
     },
     "execution_count": 58,
     "metadata": {},
     "output_type": "execute_result"
    }
   ],
   "source": [
    "users_with_subscriptions['duration'].describe()"
   ]
  },
  {
   "cell_type": "code",
   "execution_count": 59,
   "id": "e0cc4771",
   "metadata": {},
   "outputs": [
    {
     "data": {
      "text/plain": [
       "count    11568.000000\n",
       "mean        17.890992\n",
       "std          6.330250\n",
       "min          1.000000\n",
       "25%         13.000000\n",
       "50%         18.000000\n",
       "75%         22.000000\n",
       "max         35.000000\n",
       "Name: duration, dtype: float64"
      ]
     },
     "execution_count": 59,
     "metadata": {},
     "output_type": "execute_result"
    }
   ],
   "source": [
    "users_without_subscriptions['duration'].describe()"
   ]
  },
  {
   "cell_type": "markdown",
   "id": "179d8a11",
   "metadata": {},
   "source": [
    "**Вывод:**\n",
    "- распределение продолжительности поездок у пользователей с подпиской и без очень похожи\n",
    "- средняя продолжительность поездки с подпиской 19 минут, без - 18 минут\n",
    "- основное количество поездок приходится на время от 13 до 22 минут"
   ]
  },
  {
   "cell_type": "markdown",
   "id": "85064957",
   "metadata": {},
   "source": [
    "**Сравнение расстояния поездок пользователей с подпиской и без**"
   ]
  },
  {
   "cell_type": "code",
   "execution_count": 60,
   "id": "be8ce427",
   "metadata": {},
   "outputs": [
    {
     "name": "stderr",
     "output_type": "stream",
     "text": [
      "C:\\Users\\no_go\\anaconda3\\Lib\\site-packages\\seaborn\\_oldcore.py:1119: FutureWarning: use_inf_as_na option is deprecated and will be removed in a future version. Convert inf values to NaN before operating instead.\n",
      "  with pd.option_context('mode.use_inf_as_na', True):\n",
      "C:\\Users\\no_go\\anaconda3\\Lib\\site-packages\\seaborn\\_oldcore.py:1119: FutureWarning: use_inf_as_na option is deprecated and will be removed in a future version. Convert inf values to NaN before operating instead.\n",
      "  with pd.option_context('mode.use_inf_as_na', True):\n"
     ]
    },
    {
     "data": {
      "image/png": "[encoded data removed]",
      "text/plain": [
       "<Figure size 1800x600 with 1 Axes>"
      ]
     },
     "metadata": {},
     "output_type": "display_data"
    }
   ],
   "source": [
    "# объявляем график\n",
    "plt.figure(figsize=(18, 6))\n",
    "\n",
    "# добавляем гистограммы\n",
    "sns.histplot(data=users_with_subscriptions, x='distance', bins=100, color='blue', label='Подписка', kde=True)\n",
    "sns.histplot(data=users_without_subscriptions, x='distance', bins=100, color='green', label='Без подписки', kde=True)\n",
    "\n",
    "# подписи и легенда\n",
    "plt.title('Сравнение расстояния поездок пользователей с подпиской и без', fontsize=15)\n",
    "plt.xlabel('Расстояние (метры)')\n",
    "plt.ylabel('Количество поездок')\n",
    "plt.legend(title='Тип подписки')\n",
    "\n",
    "# отображение графика\n",
    "plt.show()"
   ]
  },
  {
   "cell_type": "code",
   "execution_count": 61,
   "id": "0a7c800c",
   "metadata": {},
   "outputs": [
    {
     "data": {
      "text/plain": [
       "count    6500.000000\n",
       "mean     3115.445431\n",
       "std       836.895369\n",
       "min       244.210000\n",
       "25%      2785.447500\n",
       "50%      3148.640000\n",
       "75%      3560.577500\n",
       "max      5699.770000\n",
       "Name: distance, dtype: float64"
      ]
     },
     "execution_count": 61,
     "metadata": {},
     "output_type": "execute_result"
    }
   ],
   "source": [
    "users_with_subscriptions['distance'].describe()"
   ]
  },
  {
   "cell_type": "code",
   "execution_count": 62,
   "id": "9ade383e",
   "metadata": {},
   "outputs": [
    {
     "data": {
      "text/plain": [
       "count    11568.000000\n",
       "mean      3045.495284\n",
       "std       1246.173810\n",
       "min          0.860000\n",
       "25%       2366.560000\n",
       "50%       3114.650000\n",
       "75%       3905.695000\n",
       "max       7211.010000\n",
       "Name: distance, dtype: float64"
      ]
     },
     "execution_count": 62,
     "metadata": {},
     "output_type": "execute_result"
    }
   ],
   "source": [
    "users_without_subscriptions['distance'].describe()"
   ]
  },
  {
   "cell_type": "markdown",
   "id": "037fc46d",
   "metadata": {},
   "source": [
    "**Вывод:**\n",
    "- распределение расстояния поездок у пользователей с подпиской и без также очень похожи\n",
    "- средняя расстояние поездки с подпиской 3115 метров, без подписки - 3045 метров\n",
    "- среднее и медианное расстояние у пользователей с подпиской незначительно выше чем у пользователей без подписки"
   ]
  },
  {
   "cell_type": "markdown",
   "id": "402d620f",
   "metadata": {},
   "source": [
    "#### Шаг 5. Подсчёт выручки"
   ]
  },
  {
   "cell_type": "code",
   "execution_count": 63,
   "id": "234cbd42",
   "metadata": {},
   "outputs": [
    {
     "data": {
      "text/html": [
       "<div>\n",
       "<style scoped>\n",
       "    .dataframe tbody tr th:only-of-type {\n",
       "        vertical-align: middle;\n",
       "    }\n",
       "\n",
       "    .dataframe tbody tr th {\n",
       "        vertical-align: top;\n",
       "    }\n",
       "\n",
       "    .dataframe thead th {\n",
       "        text-align: right;\n",
       "    }\n",
       "</style>\n",
       "<table border=\"1\" class=\"dataframe\">\n",
       "  <thead>\n",
       "    <tr style=\"text-align: right;\">\n",
       "      <th></th>\n",
       "      <th>user_id</th>\n",
       "      <th>name</th>\n",
       "      <th>age</th>\n",
       "      <th>city</th>\n",
       "      <th>subscription_type</th>\n",
       "      <th>distance</th>\n",
       "      <th>duration</th>\n",
       "      <th>date</th>\n",
       "      <th>month_nomber</th>\n",
       "      <th>minute_price</th>\n",
       "      <th>start_ride_price</th>\n",
       "      <th>subscription_fee</th>\n",
       "    </tr>\n",
       "  </thead>\n",
       "  <tbody>\n",
       "    <tr>\n",
       "      <th>0</th>\n",
       "      <td>1</td>\n",
       "      <td>Кира</td>\n",
       "      <td>22</td>\n",
       "      <td>Тюмень</td>\n",
       "      <td>ultra</td>\n",
       "      <td>4409.92</td>\n",
       "      <td>26</td>\n",
       "      <td>2021-01-01</td>\n",
       "      <td>1</td>\n",
       "      <td>6</td>\n",
       "      <td>0</td>\n",
       "      <td>199</td>\n",
       "    </tr>\n",
       "    <tr>\n",
       "      <th>1</th>\n",
       "      <td>1</td>\n",
       "      <td>Кира</td>\n",
       "      <td>22</td>\n",
       "      <td>Тюмень</td>\n",
       "      <td>ultra</td>\n",
       "      <td>2617.59</td>\n",
       "      <td>16</td>\n",
       "      <td>2021-01-18</td>\n",
       "      <td>1</td>\n",
       "      <td>6</td>\n",
       "      <td>0</td>\n",
       "      <td>199</td>\n",
       "    </tr>\n",
       "    <tr>\n",
       "      <th>2</th>\n",
       "      <td>1</td>\n",
       "      <td>Кира</td>\n",
       "      <td>22</td>\n",
       "      <td>Тюмень</td>\n",
       "      <td>ultra</td>\n",
       "      <td>754.16</td>\n",
       "      <td>7</td>\n",
       "      <td>2021-04-20</td>\n",
       "      <td>4</td>\n",
       "      <td>6</td>\n",
       "      <td>0</td>\n",
       "      <td>199</td>\n",
       "    </tr>\n",
       "    <tr>\n",
       "      <th>3</th>\n",
       "      <td>1</td>\n",
       "      <td>Кира</td>\n",
       "      <td>22</td>\n",
       "      <td>Тюмень</td>\n",
       "      <td>ultra</td>\n",
       "      <td>2694.78</td>\n",
       "      <td>19</td>\n",
       "      <td>2021-08-11</td>\n",
       "      <td>8</td>\n",
       "      <td>6</td>\n",
       "      <td>0</td>\n",
       "      <td>199</td>\n",
       "    </tr>\n",
       "    <tr>\n",
       "      <th>4</th>\n",
       "      <td>1</td>\n",
       "      <td>Кира</td>\n",
       "      <td>22</td>\n",
       "      <td>Тюмень</td>\n",
       "      <td>ultra</td>\n",
       "      <td>4028.69</td>\n",
       "      <td>27</td>\n",
       "      <td>2021-08-28</td>\n",
       "      <td>8</td>\n",
       "      <td>6</td>\n",
       "      <td>0</td>\n",
       "      <td>199</td>\n",
       "    </tr>\n",
       "  </tbody>\n",
       "</table>\n",
       "</div>"
      ],
      "text/plain": [
       "   user_id  name  age    city subscription_type  distance  duration  \\\n",
       "0        1  Кира   22  Тюмень             ultra   4409.92        26   \n",
       "1        1  Кира   22  Тюмень             ultra   2617.59        16   \n",
       "2        1  Кира   22  Тюмень             ultra    754.16         7   \n",
       "3        1  Кира   22  Тюмень             ultra   2694.78        19   \n",
       "4        1  Кира   22  Тюмень             ultra   4028.69        27   \n",
       "\n",
       "        date  month_nomber  minute_price  start_ride_price  subscription_fee  \n",
       "0 2021-01-01             1             6                 0               199  \n",
       "1 2021-01-18             1             6                 0               199  \n",
       "2 2021-04-20             4             6                 0               199  \n",
       "3 2021-08-11             8             6                 0               199  \n",
       "4 2021-08-28             8             6                 0               199  "
      ]
     },
     "execution_count": 63,
     "metadata": {},
     "output_type": "execute_result"
    }
   ],
   "source": [
    "users_all.head()"
   ]
  },
  {
   "cell_type": "code",
   "execution_count": 64,
   "id": "ea97e0d1",
   "metadata": {},
   "outputs": [
    {
     "data": {
      "text/html": [
       "<div>\n",
       "<style scoped>\n",
       "    .dataframe tbody tr th:only-of-type {\n",
       "        vertical-align: middle;\n",
       "    }\n",
       "\n",
       "    .dataframe tbody tr th {\n",
       "        vertical-align: top;\n",
       "    }\n",
       "\n",
       "    .dataframe thead tr th {\n",
       "        text-align: left;\n",
       "    }\n",
       "</style>\n",
       "<table border=\"1\" class=\"dataframe\">\n",
       "  <thead>\n",
       "    <tr>\n",
       "      <th></th>\n",
       "      <th>user_id</th>\n",
       "      <th>month_nomber</th>\n",
       "      <th>distance</th>\n",
       "      <th colspan=\"2\" halign=\"left\">duration</th>\n",
       "      <th>minute_price</th>\n",
       "      <th>start_ride_price</th>\n",
       "      <th>subscription_fee</th>\n",
       "      <th>subscription_type</th>\n",
       "    </tr>\n",
       "    <tr>\n",
       "      <th></th>\n",
       "      <th></th>\n",
       "      <th></th>\n",
       "      <th>sum</th>\n",
       "      <th>count</th>\n",
       "      <th>sum</th>\n",
       "      <th>first</th>\n",
       "      <th>first</th>\n",
       "      <th>first</th>\n",
       "      <th>first</th>\n",
       "    </tr>\n",
       "  </thead>\n",
       "  <tbody>\n",
       "    <tr>\n",
       "      <th>0</th>\n",
       "      <td>1</td>\n",
       "      <td>1</td>\n",
       "      <td>7027.51</td>\n",
       "      <td>2</td>\n",
       "      <td>42</td>\n",
       "      <td>6</td>\n",
       "      <td>0</td>\n",
       "      <td>199</td>\n",
       "      <td>ultra</td>\n",
       "    </tr>\n",
       "    <tr>\n",
       "      <th>1</th>\n",
       "      <td>1</td>\n",
       "      <td>4</td>\n",
       "      <td>754.16</td>\n",
       "      <td>1</td>\n",
       "      <td>7</td>\n",
       "      <td>6</td>\n",
       "      <td>0</td>\n",
       "      <td>199</td>\n",
       "      <td>ultra</td>\n",
       "    </tr>\n",
       "    <tr>\n",
       "      <th>2</th>\n",
       "      <td>1</td>\n",
       "      <td>8</td>\n",
       "      <td>6723.47</td>\n",
       "      <td>2</td>\n",
       "      <td>46</td>\n",
       "      <td>6</td>\n",
       "      <td>0</td>\n",
       "      <td>199</td>\n",
       "      <td>ultra</td>\n",
       "    </tr>\n",
       "    <tr>\n",
       "      <th>3</th>\n",
       "      <td>1</td>\n",
       "      <td>10</td>\n",
       "      <td>5809.91</td>\n",
       "      <td>2</td>\n",
       "      <td>32</td>\n",
       "      <td>6</td>\n",
       "      <td>0</td>\n",
       "      <td>199</td>\n",
       "      <td>ultra</td>\n",
       "    </tr>\n",
       "    <tr>\n",
       "      <th>4</th>\n",
       "      <td>1</td>\n",
       "      <td>11</td>\n",
       "      <td>7003.50</td>\n",
       "      <td>3</td>\n",
       "      <td>56</td>\n",
       "      <td>6</td>\n",
       "      <td>0</td>\n",
       "      <td>199</td>\n",
       "      <td>ultra</td>\n",
       "    </tr>\n",
       "  </tbody>\n",
       "</table>\n",
       "</div>"
      ],
      "text/plain": [
       "  user_id month_nomber distance duration     minute_price start_ride_price  \\\n",
       "                            sum    count sum        first            first   \n",
       "0       1            1  7027.51        2  42            6                0   \n",
       "1       1            4   754.16        1   7            6                0   \n",
       "2       1            8  6723.47        2  46            6                0   \n",
       "3       1           10  5809.91        2  32            6                0   \n",
       "4       1           11  7003.50        3  56            6                0   \n",
       "\n",
       "  subscription_fee subscription_type  \n",
       "             first             first  \n",
       "0              199             ultra  \n",
       "1              199             ultra  \n",
       "2              199             ultra  \n",
       "3              199             ultra  \n",
       "4              199             ultra  "
      ]
     },
     "execution_count": 64,
     "metadata": {},
     "output_type": "execute_result"
    }
   ],
   "source": [
    "# определим сводную таблицу для нахождения суммарного расстояния, количества поездок  \n",
    "# и суммарнго времени для каждого пользователя за каждый месяц\n",
    "pivot_multi = pd.pivot_table(users_all\n",
    "                             , index=['user_id', 'month_nomber']\n",
    "                             , values=['distance'\n",
    "                                       , 'duration'\n",
    "                                       , 'subscription_type'\n",
    "                                       , 'minute_price'\n",
    "                                       ,'start_ride_price'\n",
    "                                       , 'subscription_fee']\n",
    "                             , aggfunc={'distance' : 'sum'\n",
    "                                       , 'duration' : ['sum', 'count']\n",
    "                                       , 'subscription_type' : 'first'\n",
    "                                       , 'minute_price' : 'first'\n",
    "                                       , 'start_ride_price' : 'first'\n",
    "                                       , 'subscription_fee' : 'first'}).reset_index()\n",
    "\n",
    "\n",
    "# ознакомимся с результатом\n",
    "pivot_multi.head()"
   ]
  },
  {
   "cell_type": "code",
   "execution_count": 65,
   "id": "3ef1e513",
   "metadata": {},
   "outputs": [
    {
     "data": {
      "text/plain": [
       "user_id                     0\n",
       "month_nomber                0\n",
       "distance           sum      0\n",
       "duration           count    0\n",
       "                   sum      0\n",
       "minute_price       first    0\n",
       "start_ride_price   first    0\n",
       "subscription_fee   first    0\n",
       "subscription_type  first    0\n",
       "dtype: int64"
      ]
     },
     "execution_count": 65,
     "metadata": {},
     "output_type": "execute_result"
    }
   ],
   "source": [
    "# проверим данные на пропуски\n",
    "pivot_multi.isna().sum()"
   ]
  },
  {
   "cell_type": "code",
   "execution_count": 66,
   "id": "3ee7beab",
   "metadata": {},
   "outputs": [
    {
     "data": {
      "text/html": [
       "<div>\n",
       "<style scoped>\n",
       "    .dataframe tbody tr th:only-of-type {\n",
       "        vertical-align: middle;\n",
       "    }\n",
       "\n",
       "    .dataframe tbody tr th {\n",
       "        vertical-align: top;\n",
       "    }\n",
       "\n",
       "    .dataframe thead th {\n",
       "        text-align: right;\n",
       "    }\n",
       "</style>\n",
       "<table border=\"1\" class=\"dataframe\">\n",
       "  <thead>\n",
       "    <tr style=\"text-align: right;\">\n",
       "      <th></th>\n",
       "      <th>user_id</th>\n",
       "      <th>month_nomber</th>\n",
       "      <th>sum_distance</th>\n",
       "      <th>count</th>\n",
       "      <th>sum_duration</th>\n",
       "      <th>minute_price</th>\n",
       "      <th>start_ride_price</th>\n",
       "      <th>subscription_fee</th>\n",
       "      <th>subscription_type</th>\n",
       "    </tr>\n",
       "  </thead>\n",
       "  <tbody>\n",
       "    <tr>\n",
       "      <th>0</th>\n",
       "      <td>1</td>\n",
       "      <td>1</td>\n",
       "      <td>7027.51</td>\n",
       "      <td>2</td>\n",
       "      <td>42</td>\n",
       "      <td>6</td>\n",
       "      <td>0</td>\n",
       "      <td>199</td>\n",
       "      <td>ultra</td>\n",
       "    </tr>\n",
       "    <tr>\n",
       "      <th>1</th>\n",
       "      <td>1</td>\n",
       "      <td>4</td>\n",
       "      <td>754.16</td>\n",
       "      <td>1</td>\n",
       "      <td>7</td>\n",
       "      <td>6</td>\n",
       "      <td>0</td>\n",
       "      <td>199</td>\n",
       "      <td>ultra</td>\n",
       "    </tr>\n",
       "    <tr>\n",
       "      <th>2</th>\n",
       "      <td>1</td>\n",
       "      <td>8</td>\n",
       "      <td>6723.47</td>\n",
       "      <td>2</td>\n",
       "      <td>46</td>\n",
       "      <td>6</td>\n",
       "      <td>0</td>\n",
       "      <td>199</td>\n",
       "      <td>ultra</td>\n",
       "    </tr>\n",
       "    <tr>\n",
       "      <th>3</th>\n",
       "      <td>1</td>\n",
       "      <td>10</td>\n",
       "      <td>5809.91</td>\n",
       "      <td>2</td>\n",
       "      <td>32</td>\n",
       "      <td>6</td>\n",
       "      <td>0</td>\n",
       "      <td>199</td>\n",
       "      <td>ultra</td>\n",
       "    </tr>\n",
       "    <tr>\n",
       "      <th>4</th>\n",
       "      <td>1</td>\n",
       "      <td>11</td>\n",
       "      <td>7003.50</td>\n",
       "      <td>3</td>\n",
       "      <td>56</td>\n",
       "      <td>6</td>\n",
       "      <td>0</td>\n",
       "      <td>199</td>\n",
       "      <td>ultra</td>\n",
       "    </tr>\n",
       "  </tbody>\n",
       "</table>\n",
       "</div>"
      ],
      "text/plain": [
       "   user_id  month_nomber  sum_distance  count  sum_duration  minute_price  \\\n",
       "0        1             1       7027.51      2            42             6   \n",
       "1        1             4        754.16      1             7             6   \n",
       "2        1             8       6723.47      2            46             6   \n",
       "3        1            10       5809.91      2            32             6   \n",
       "4        1            11       7003.50      3            56             6   \n",
       "\n",
       "   start_ride_price  subscription_fee subscription_type  \n",
       "0                 0               199             ultra  \n",
       "1                 0               199             ultra  \n",
       "2                 0               199             ultra  \n",
       "3                 0               199             ultra  \n",
       "4                 0               199             ultra  "
      ]
     },
     "execution_count": 66,
     "metadata": {},
     "output_type": "execute_result"
    }
   ],
   "source": [
    "# переименуем столбцы\n",
    "pivot_multi.columns=['user_id'\n",
    "                     , 'month_nomber'\n",
    "                     , 'sum_distance'\n",
    "                     , 'count'\n",
    "                     , 'sum_duration'\n",
    "                     , 'minute_price'\n",
    "                     , 'start_ride_price'\n",
    "                     , 'subscription_fee'\n",
    "                     , 'subscription_type']\n",
    "\n",
    "\n",
    "# ознакомимся с результатом\n",
    "pivot_multi.head()"
   ]
  },
  {
   "cell_type": "code",
   "execution_count": 67,
   "id": "908672ba",
   "metadata": {},
   "outputs": [
    {
     "data": {
      "text/html": [
       "<div>\n",
       "<style scoped>\n",
       "    .dataframe tbody tr th:only-of-type {\n",
       "        vertical-align: middle;\n",
       "    }\n",
       "\n",
       "    .dataframe tbody tr th {\n",
       "        vertical-align: top;\n",
       "    }\n",
       "\n",
       "    .dataframe thead th {\n",
       "        text-align: right;\n",
       "    }\n",
       "</style>\n",
       "<table border=\"1\" class=\"dataframe\">\n",
       "  <thead>\n",
       "    <tr style=\"text-align: right;\">\n",
       "      <th></th>\n",
       "      <th>user_id</th>\n",
       "      <th>month_nomber</th>\n",
       "      <th>sum_distance</th>\n",
       "      <th>sum_duration</th>\n",
       "      <th>count</th>\n",
       "      <th>subscription_type</th>\n",
       "      <th>minute_price</th>\n",
       "      <th>start_ride_price</th>\n",
       "      <th>subscription_fee</th>\n",
       "    </tr>\n",
       "  </thead>\n",
       "  <tbody>\n",
       "    <tr>\n",
       "      <th>0</th>\n",
       "      <td>1</td>\n",
       "      <td>1</td>\n",
       "      <td>7027.51</td>\n",
       "      <td>42</td>\n",
       "      <td>2</td>\n",
       "      <td>ultra</td>\n",
       "      <td>6</td>\n",
       "      <td>0</td>\n",
       "      <td>199</td>\n",
       "    </tr>\n",
       "    <tr>\n",
       "      <th>1</th>\n",
       "      <td>1</td>\n",
       "      <td>4</td>\n",
       "      <td>754.16</td>\n",
       "      <td>7</td>\n",
       "      <td>1</td>\n",
       "      <td>ultra</td>\n",
       "      <td>6</td>\n",
       "      <td>0</td>\n",
       "      <td>199</td>\n",
       "    </tr>\n",
       "    <tr>\n",
       "      <th>2</th>\n",
       "      <td>1</td>\n",
       "      <td>8</td>\n",
       "      <td>6723.47</td>\n",
       "      <td>46</td>\n",
       "      <td>2</td>\n",
       "      <td>ultra</td>\n",
       "      <td>6</td>\n",
       "      <td>0</td>\n",
       "      <td>199</td>\n",
       "    </tr>\n",
       "    <tr>\n",
       "      <th>3</th>\n",
       "      <td>1</td>\n",
       "      <td>10</td>\n",
       "      <td>5809.91</td>\n",
       "      <td>32</td>\n",
       "      <td>2</td>\n",
       "      <td>ultra</td>\n",
       "      <td>6</td>\n",
       "      <td>0</td>\n",
       "      <td>199</td>\n",
       "    </tr>\n",
       "    <tr>\n",
       "      <th>4</th>\n",
       "      <td>1</td>\n",
       "      <td>11</td>\n",
       "      <td>7003.50</td>\n",
       "      <td>56</td>\n",
       "      <td>3</td>\n",
       "      <td>ultra</td>\n",
       "      <td>6</td>\n",
       "      <td>0</td>\n",
       "      <td>199</td>\n",
       "    </tr>\n",
       "  </tbody>\n",
       "</table>\n",
       "</div>"
      ],
      "text/plain": [
       "   user_id  month_nomber  sum_distance  sum_duration  count subscription_type  \\\n",
       "0        1             1       7027.51            42      2             ultra   \n",
       "1        1             4        754.16             7      1             ultra   \n",
       "2        1             8       6723.47            46      2             ultra   \n",
       "3        1            10       5809.91            32      2             ultra   \n",
       "4        1            11       7003.50            56      3             ultra   \n",
       "\n",
       "   minute_price  start_ride_price  subscription_fee  \n",
       "0             6                 0               199  \n",
       "1             6                 0               199  \n",
       "2             6                 0               199  \n",
       "3             6                 0               199  \n",
       "4             6                 0               199  "
      ]
     },
     "execution_count": 67,
     "metadata": {},
     "output_type": "execute_result"
    }
   ],
   "source": [
    "# переставим столбцы в датафрейме согласно исходному\n",
    "new_order = ['user_id'\n",
    "             , 'month_nomber'\n",
    "             , 'sum_distance'\n",
    "             , 'sum_duration'\n",
    "             , 'count'\n",
    "             , 'subscription_type'\n",
    "             , 'minute_price'\n",
    "             , 'start_ride_price'\n",
    "             , 'subscription_fee']\n",
    "\n",
    "\n",
    "pivot_multi =pivot_multi[new_order] \n",
    "\n",
    "pivot_multi.head()"
   ]
  },
  {
   "cell_type": "code",
   "execution_count": 68,
   "id": "6d19fca3",
   "metadata": {},
   "outputs": [
    {
     "data": {
      "text/html": [
       "<div>\n",
       "<style scoped>\n",
       "    .dataframe tbody tr th:only-of-type {\n",
       "        vertical-align: middle;\n",
       "    }\n",
       "\n",
       "    .dataframe tbody tr th {\n",
       "        vertical-align: top;\n",
       "    }\n",
       "\n",
       "    .dataframe thead th {\n",
       "        text-align: right;\n",
       "    }\n",
       "</style>\n",
       "<table border=\"1\" class=\"dataframe\">\n",
       "  <thead>\n",
       "    <tr style=\"text-align: right;\">\n",
       "      <th></th>\n",
       "      <th>user_id</th>\n",
       "      <th>month_nomber</th>\n",
       "      <th>sum_distance</th>\n",
       "      <th>sum_duration</th>\n",
       "      <th>count</th>\n",
       "      <th>subscription_type</th>\n",
       "      <th>minute_price</th>\n",
       "      <th>start_ride_price</th>\n",
       "      <th>subscription_fee</th>\n",
       "      <th>monthly_revenue</th>\n",
       "    </tr>\n",
       "  </thead>\n",
       "  <tbody>\n",
       "    <tr>\n",
       "      <th>0</th>\n",
       "      <td>1</td>\n",
       "      <td>1</td>\n",
       "      <td>7027.51</td>\n",
       "      <td>42</td>\n",
       "      <td>2</td>\n",
       "      <td>ultra</td>\n",
       "      <td>6</td>\n",
       "      <td>0</td>\n",
       "      <td>199</td>\n",
       "      <td>451</td>\n",
       "    </tr>\n",
       "    <tr>\n",
       "      <th>1</th>\n",
       "      <td>1</td>\n",
       "      <td>4</td>\n",
       "      <td>754.16</td>\n",
       "      <td>7</td>\n",
       "      <td>1</td>\n",
       "      <td>ultra</td>\n",
       "      <td>6</td>\n",
       "      <td>0</td>\n",
       "      <td>199</td>\n",
       "      <td>241</td>\n",
       "    </tr>\n",
       "    <tr>\n",
       "      <th>2</th>\n",
       "      <td>1</td>\n",
       "      <td>8</td>\n",
       "      <td>6723.47</td>\n",
       "      <td>46</td>\n",
       "      <td>2</td>\n",
       "      <td>ultra</td>\n",
       "      <td>6</td>\n",
       "      <td>0</td>\n",
       "      <td>199</td>\n",
       "      <td>475</td>\n",
       "    </tr>\n",
       "    <tr>\n",
       "      <th>3</th>\n",
       "      <td>1</td>\n",
       "      <td>10</td>\n",
       "      <td>5809.91</td>\n",
       "      <td>32</td>\n",
       "      <td>2</td>\n",
       "      <td>ultra</td>\n",
       "      <td>6</td>\n",
       "      <td>0</td>\n",
       "      <td>199</td>\n",
       "      <td>391</td>\n",
       "    </tr>\n",
       "    <tr>\n",
       "      <th>4</th>\n",
       "      <td>1</td>\n",
       "      <td>11</td>\n",
       "      <td>7003.50</td>\n",
       "      <td>56</td>\n",
       "      <td>3</td>\n",
       "      <td>ultra</td>\n",
       "      <td>6</td>\n",
       "      <td>0</td>\n",
       "      <td>199</td>\n",
       "      <td>535</td>\n",
       "    </tr>\n",
       "  </tbody>\n",
       "</table>\n",
       "</div>"
      ],
      "text/plain": [
       "   user_id  month_nomber  sum_distance  sum_duration  count subscription_type  \\\n",
       "0        1             1       7027.51            42      2             ultra   \n",
       "1        1             4        754.16             7      1             ultra   \n",
       "2        1             8       6723.47            46      2             ultra   \n",
       "3        1            10       5809.91            32      2             ultra   \n",
       "4        1            11       7003.50            56      3             ultra   \n",
       "\n",
       "   minute_price  start_ride_price  subscription_fee  monthly_revenue  \n",
       "0             6                 0               199              451  \n",
       "1             6                 0               199              241  \n",
       "2             6                 0               199              475  \n",
       "3             6                 0               199              391  \n",
       "4             6                 0               199              535  "
      ]
     },
     "execution_count": 68,
     "metadata": {},
     "output_type": "execute_result"
    }
   ],
   "source": [
    "# создадим новый столбец monthly_revenue с общей выручкой по пользователю за каждый месяц \n",
    "pivot_multi['monthly_revenue'] = ((pivot_multi['sum_duration'] * pivot_multi['minute_price']) +  \n",
    "                                 (pivot_multi['start_ride_price'] * pivot_multi['count']) +  \n",
    "                                  pivot_multi['subscription_fee'])      \n",
    "\n",
    "# выведем первые 5 строк обновленного датафрейма для проверки\n",
    "pivot_multi.head()"
   ]
  },
  {
   "cell_type": "code",
   "execution_count": 69,
   "id": "bff9c6ab",
   "metadata": {},
   "outputs": [
    {
     "data": {
      "text/plain": [
       "subscription_type\n",
       "free     328.516618\n",
       "ultra    363.068525\n",
       "Name: monthly_revenue, dtype: float64"
      ]
     },
     "execution_count": 69,
     "metadata": {},
     "output_type": "execute_result"
    }
   ],
   "source": [
    "# средняя сумма которую приносит пользователь с подпиской в месяц\n",
    "# вычисление средней выручки каждого пользователя\n",
    "user_avg_revenue = pivot_multi.groupby(['user_id', 'subscription_type'])['monthly_revenue'].mean().reset_index()\n",
    "\n",
    "# вычисление средней месячной выручки для пользователей с подпиской и без подписки\n",
    "separate_avg_revenue = user_avg_revenue.groupby('subscription_type')['monthly_revenue'].mean()\n",
    "\n",
    "separate_avg_revenue"
   ]
  },
  {
   "cell_type": "code",
   "execution_count": 70,
   "id": "8bd3fb75",
   "metadata": {
    "scrolled": true
   },
   "outputs": [
    {
     "data": {
      "text/plain": [
       "1644537"
      ]
     },
     "execution_count": 70,
     "metadata": {},
     "output_type": "execute_result"
    }
   ],
   "source": [
    "# сумма выручки пользователей с подпиской\n",
    "pivot_multi[pivot_multi['subscription_type'] == 'ultra']['monthly_revenue'].sum()"
   ]
  },
  {
   "cell_type": "code",
   "execution_count": 71,
   "id": "3e93e0fa",
   "metadata": {},
   "outputs": [
    {
     "data": {
      "text/plain": [
       "2234104"
      ]
     },
     "execution_count": 71,
     "metadata": {},
     "output_type": "execute_result"
    }
   ],
   "source": [
    "# сумма выручки пользователей без подписки\n",
    "pivot_multi[pivot_multi['subscription_type'] == 'free']['monthly_revenue'].sum()"
   ]
  },
  {
   "cell_type": "code",
   "execution_count": 72,
   "id": "f50cdadf",
   "metadata": {},
   "outputs": [
    {
     "data": {
      "text/plain": [
       "3878641"
      ]
     },
     "execution_count": 72,
     "metadata": {},
     "output_type": "execute_result"
    }
   ],
   "source": [
    "# check\n",
    "pivot_multi['monthly_revenue'].sum()"
   ]
  },
  {
   "cell_type": "markdown",
   "id": "41545ac0",
   "metadata": {},
   "source": [
    "#### Шаг 6. Проверка гипотез"
   ]
  },
  {
   "cell_type": "markdown",
   "id": "f094f2e6",
   "metadata": {},
   "source": [
    "**Шаг 6.1**"
   ]
  },
  {
   "cell_type": "markdown",
   "id": "eb22e41d",
   "metadata": {},
   "source": [
    "Проверим гипотезу о том, что пользователи с подпиской тратят  больше времени на поездки чем пользователи без подписки"
   ]
  },
  {
   "cell_type": "markdown",
   "id": "fec578fa",
   "metadata": {},
   "source": [
    "Для проверки можно использовать статистический тест, такой как t-тест для двух независимых выборок. Этот тест поможет определить, есть ли статистически значимые различия в среднем времени поездок между двумя группами пользователей (с подпиской и без)"
   ]
  },
  {
   "cell_type": "markdown",
   "id": "d72df06f",
   "metadata": {},
   "source": [
    "**Сформулируем гипотезы:**\n",
    "\n",
    "***Нулевая гипотеза (H0):*** Среднее время поездок пользователей с подпиской не отличается от среднего времени поездок пользователей без подписки.\n",
    "\n",
    "***Альтернативная гипотеза (H1):*** Среднее время поездок пользователей с подпиской больше, чем среднее время поездок пользователей без подписки.\n",
    "    "
   ]
  },
  {
   "cell_type": "code",
   "execution_count": 73,
   "id": "2d38dd09",
   "metadata": {
    "scrolled": true
   },
   "outputs": [
    {
     "data": {
      "text/html": [
       "<div>\n",
       "<style scoped>\n",
       "    .dataframe tbody tr th:only-of-type {\n",
       "        vertical-align: middle;\n",
       "    }\n",
       "\n",
       "    .dataframe tbody tr th {\n",
       "        vertical-align: top;\n",
       "    }\n",
       "\n",
       "    .dataframe thead th {\n",
       "        text-align: right;\n",
       "    }\n",
       "</style>\n",
       "<table border=\"1\" class=\"dataframe\">\n",
       "  <thead>\n",
       "    <tr style=\"text-align: right;\">\n",
       "      <th></th>\n",
       "      <th>user_id</th>\n",
       "      <th>name</th>\n",
       "      <th>age</th>\n",
       "      <th>city</th>\n",
       "      <th>subscription_type</th>\n",
       "      <th>distance</th>\n",
       "      <th>duration</th>\n",
       "      <th>date</th>\n",
       "      <th>month_nomber</th>\n",
       "      <th>minute_price</th>\n",
       "      <th>start_ride_price</th>\n",
       "      <th>subscription_fee</th>\n",
       "    </tr>\n",
       "  </thead>\n",
       "  <tbody>\n",
       "    <tr>\n",
       "      <th>0</th>\n",
       "      <td>1</td>\n",
       "      <td>Кира</td>\n",
       "      <td>22</td>\n",
       "      <td>Тюмень</td>\n",
       "      <td>ultra</td>\n",
       "      <td>4409.92</td>\n",
       "      <td>26</td>\n",
       "      <td>2021-01-01</td>\n",
       "      <td>1</td>\n",
       "      <td>6</td>\n",
       "      <td>0</td>\n",
       "      <td>199</td>\n",
       "    </tr>\n",
       "    <tr>\n",
       "      <th>1</th>\n",
       "      <td>1</td>\n",
       "      <td>Кира</td>\n",
       "      <td>22</td>\n",
       "      <td>Тюмень</td>\n",
       "      <td>ultra</td>\n",
       "      <td>2617.59</td>\n",
       "      <td>16</td>\n",
       "      <td>2021-01-18</td>\n",
       "      <td>1</td>\n",
       "      <td>6</td>\n",
       "      <td>0</td>\n",
       "      <td>199</td>\n",
       "    </tr>\n",
       "    <tr>\n",
       "      <th>2</th>\n",
       "      <td>1</td>\n",
       "      <td>Кира</td>\n",
       "      <td>22</td>\n",
       "      <td>Тюмень</td>\n",
       "      <td>ultra</td>\n",
       "      <td>754.16</td>\n",
       "      <td>7</td>\n",
       "      <td>2021-04-20</td>\n",
       "      <td>4</td>\n",
       "      <td>6</td>\n",
       "      <td>0</td>\n",
       "      <td>199</td>\n",
       "    </tr>\n",
       "    <tr>\n",
       "      <th>3</th>\n",
       "      <td>1</td>\n",
       "      <td>Кира</td>\n",
       "      <td>22</td>\n",
       "      <td>Тюмень</td>\n",
       "      <td>ultra</td>\n",
       "      <td>2694.78</td>\n",
       "      <td>19</td>\n",
       "      <td>2021-08-11</td>\n",
       "      <td>8</td>\n",
       "      <td>6</td>\n",
       "      <td>0</td>\n",
       "      <td>199</td>\n",
       "    </tr>\n",
       "    <tr>\n",
       "      <th>4</th>\n",
       "      <td>1</td>\n",
       "      <td>Кира</td>\n",
       "      <td>22</td>\n",
       "      <td>Тюмень</td>\n",
       "      <td>ultra</td>\n",
       "      <td>4028.69</td>\n",
       "      <td>27</td>\n",
       "      <td>2021-08-28</td>\n",
       "      <td>8</td>\n",
       "      <td>6</td>\n",
       "      <td>0</td>\n",
       "      <td>199</td>\n",
       "    </tr>\n",
       "  </tbody>\n",
       "</table>\n",
       "</div>"
      ],
      "text/plain": [
       "   user_id  name  age    city subscription_type  distance  duration  \\\n",
       "0        1  Кира   22  Тюмень             ultra   4409.92        26   \n",
       "1        1  Кира   22  Тюмень             ultra   2617.59        16   \n",
       "2        1  Кира   22  Тюмень             ultra    754.16         7   \n",
       "3        1  Кира   22  Тюмень             ultra   2694.78        19   \n",
       "4        1  Кира   22  Тюмень             ultra   4028.69        27   \n",
       "\n",
       "        date  month_nomber  minute_price  start_ride_price  subscription_fee  \n",
       "0 2021-01-01             1             6                 0               199  \n",
       "1 2021-01-18             1             6                 0               199  \n",
       "2 2021-04-20             4             6                 0               199  \n",
       "3 2021-08-11             8             6                 0               199  \n",
       "4 2021-08-28             8             6                 0               199  "
      ]
     },
     "execution_count": 73,
     "metadata": {},
     "output_type": "execute_result"
    }
   ],
   "source": [
    "users_all.head()"
   ]
  },
  {
   "cell_type": "code",
   "execution_count": 74,
   "id": "99815d1d",
   "metadata": {},
   "outputs": [
    {
     "name": "stdout",
     "output_type": "stream",
     "text": [
      "p-значение: 2.4959453720736625e-34\n",
      "Отвергаем нулевую гипотезу\n"
     ]
    }
   ],
   "source": [
    "# подготовим данные для теста для чего разделим время поездок на две группы: пользователи с подпиской и пользователи \n",
    "# без подписки.\n",
    "\n",
    "# продолжительность поездок пользователей с подпиской\n",
    "with_subscription = users_all[users_all['subscription_type'] == 'ultra']['duration']\n",
    "\n",
    "# продолжительность поездок пользователей без подписки\n",
    "without_subscription = users_all[users_all['subscription_type'] == 'free']['duration']\n",
    "\n",
    "alpha = 0.05 # уровень статистической значимости\n",
    "# если p-value окажется меньше него, отвергнем гипотезу\n",
    "\n",
    "results = st.ttest_ind(with_subscription, without_subscription, alternative='greater')\n",
    "\n",
    "print('p-значение:', results.pvalue)\n",
    "\n",
    "if results.pvalue < alpha:\n",
    "    print('Отвергаем нулевую гипотезу')\n",
    "else:\n",
    "    print('Не получилось отвергнуть нулевую гипотезу') "
   ]
  },
  {
   "cell_type": "markdown",
   "id": "5c811225",
   "metadata": {},
   "source": [
    "**Результат проверки гипотезы:** отвергаем нулевую гипотезу, среднее время поездки у пользователей с подпиской больше чем у пользователей без подписки. "
   ]
  },
  {
   "cell_type": "code",
   "execution_count": 75,
   "id": "fde1c760",
   "metadata": {},
   "outputs": [
    {
     "name": "stdout",
     "output_type": "stream",
     "text": [
      "p-значение: 0.1912450522572209\n",
      "Не получилось отвергнуть нулевую гипотезу\n"
     ]
    }
   ],
   "source": [
    "# Приведены два датасета: сумма покупок, совершённых за месяц посетителями ...\n",
    "\n",
    "sample_1 = [3071, 3636, 3454, 3151, 2185, 3259, 1727, 2263, 2015,\n",
    "2582, 4815, 633, 3186, 887, 2028, 3589, 2564, 1422, 1785,\n",
    "3180, 1770, 2716, 2546, 1848, 4644, 3134, 475, 2686,\n",
    "1838, 3352]\n",
    "sample_2 = [1211, 1228, 2157, 3699, 600, 1898, 1688, 1420, 5048, 3007,\n",
    "509, 3777, 5583, 3949, 121, 1674, 4300, 1338, 3066,\n",
    "3562, 1010, 2311, 462, 863, 2021, 528, 1849, 255,\n",
    "1740, 2596]\n",
    "alpha = .05 # критический уровень статистической значимости\n",
    "# если p-value окажется меньше него - отвергнем гипотезу\n",
    "results = st.ttest_ind(\n",
    "sample_1,\n",
    "sample_2)\n",
    "print('p-значение:', results.pvalue)\n",
    "if (results.pvalue < alpha):\n",
    "    print(\"Отвергаем нулевую гипотезу\")\n",
    "else:\n",
    "    print(\"Не получилось отвергнуть нулевую гипотезу\")"
   ]
  },
  {
   "cell_type": "markdown",
   "id": "f3b68f14",
   "metadata": {},
   "source": [
    "**Шаг 6.2**"
   ]
  },
  {
   "cell_type": "markdown",
   "id": "e3226593",
   "metadata": {},
   "source": [
    "Расстояние одной поездки в 3130 метров — оптимальное с точки зрения износа самоката. Проверим гипотезу, что среднее расстояние, которое проезжают пользователи с подпиской за одну поездку, не превышает 3130 метров."
   ]
  },
  {
   "cell_type": "markdown",
   "id": "4b82f853",
   "metadata": {},
   "source": [
    "**Сформулируем гипотезы:**\n",
    "\n",
    "***Нулевая гипотеза (H0):*** Среднее расстояние, которое проезжают пользователи с подпиской равно 3130 метров\n",
    "\n",
    "***Альтернативная гипотеза (H1):*** Среднее расстояние, которое проезжают пользователи с подпиской меньше 3130 метров"
   ]
  },
  {
   "cell_type": "code",
   "execution_count": 76,
   "id": "ed2dc6e6",
   "metadata": {},
   "outputs": [
    {
     "data": {
      "text/html": [
       "<div>\n",
       "<style scoped>\n",
       "    .dataframe tbody tr th:only-of-type {\n",
       "        vertical-align: middle;\n",
       "    }\n",
       "\n",
       "    .dataframe tbody tr th {\n",
       "        vertical-align: top;\n",
       "    }\n",
       "\n",
       "    .dataframe thead th {\n",
       "        text-align: right;\n",
       "    }\n",
       "</style>\n",
       "<table border=\"1\" class=\"dataframe\">\n",
       "  <thead>\n",
       "    <tr style=\"text-align: right;\">\n",
       "      <th></th>\n",
       "      <th>user_id</th>\n",
       "      <th>name</th>\n",
       "      <th>age</th>\n",
       "      <th>city</th>\n",
       "      <th>subscription_type</th>\n",
       "      <th>distance</th>\n",
       "      <th>duration</th>\n",
       "      <th>date</th>\n",
       "      <th>month_nomber</th>\n",
       "      <th>minute_price</th>\n",
       "      <th>start_ride_price</th>\n",
       "      <th>subscription_fee</th>\n",
       "    </tr>\n",
       "  </thead>\n",
       "  <tbody>\n",
       "    <tr>\n",
       "      <th>0</th>\n",
       "      <td>1</td>\n",
       "      <td>Кира</td>\n",
       "      <td>22</td>\n",
       "      <td>Тюмень</td>\n",
       "      <td>ultra</td>\n",
       "      <td>4409.92</td>\n",
       "      <td>26</td>\n",
       "      <td>2021-01-01</td>\n",
       "      <td>1</td>\n",
       "      <td>6</td>\n",
       "      <td>0</td>\n",
       "      <td>199</td>\n",
       "    </tr>\n",
       "    <tr>\n",
       "      <th>1</th>\n",
       "      <td>1</td>\n",
       "      <td>Кира</td>\n",
       "      <td>22</td>\n",
       "      <td>Тюмень</td>\n",
       "      <td>ultra</td>\n",
       "      <td>2617.59</td>\n",
       "      <td>16</td>\n",
       "      <td>2021-01-18</td>\n",
       "      <td>1</td>\n",
       "      <td>6</td>\n",
       "      <td>0</td>\n",
       "      <td>199</td>\n",
       "    </tr>\n",
       "    <tr>\n",
       "      <th>2</th>\n",
       "      <td>1</td>\n",
       "      <td>Кира</td>\n",
       "      <td>22</td>\n",
       "      <td>Тюмень</td>\n",
       "      <td>ultra</td>\n",
       "      <td>754.16</td>\n",
       "      <td>7</td>\n",
       "      <td>2021-04-20</td>\n",
       "      <td>4</td>\n",
       "      <td>6</td>\n",
       "      <td>0</td>\n",
       "      <td>199</td>\n",
       "    </tr>\n",
       "    <tr>\n",
       "      <th>3</th>\n",
       "      <td>1</td>\n",
       "      <td>Кира</td>\n",
       "      <td>22</td>\n",
       "      <td>Тюмень</td>\n",
       "      <td>ultra</td>\n",
       "      <td>2694.78</td>\n",
       "      <td>19</td>\n",
       "      <td>2021-08-11</td>\n",
       "      <td>8</td>\n",
       "      <td>6</td>\n",
       "      <td>0</td>\n",
       "      <td>199</td>\n",
       "    </tr>\n",
       "    <tr>\n",
       "      <th>4</th>\n",
       "      <td>1</td>\n",
       "      <td>Кира</td>\n",
       "      <td>22</td>\n",
       "      <td>Тюмень</td>\n",
       "      <td>ultra</td>\n",
       "      <td>4028.69</td>\n",
       "      <td>27</td>\n",
       "      <td>2021-08-28</td>\n",
       "      <td>8</td>\n",
       "      <td>6</td>\n",
       "      <td>0</td>\n",
       "      <td>199</td>\n",
       "    </tr>\n",
       "  </tbody>\n",
       "</table>\n",
       "</div>"
      ],
      "text/plain": [
       "   user_id  name  age    city subscription_type  distance  duration  \\\n",
       "0        1  Кира   22  Тюмень             ultra   4409.92        26   \n",
       "1        1  Кира   22  Тюмень             ultra   2617.59        16   \n",
       "2        1  Кира   22  Тюмень             ultra    754.16         7   \n",
       "3        1  Кира   22  Тюмень             ultra   2694.78        19   \n",
       "4        1  Кира   22  Тюмень             ultra   4028.69        27   \n",
       "\n",
       "        date  month_nomber  minute_price  start_ride_price  subscription_fee  \n",
       "0 2021-01-01             1             6                 0               199  \n",
       "1 2021-01-18             1             6                 0               199  \n",
       "2 2021-04-20             4             6                 0               199  \n",
       "3 2021-08-11             8             6                 0               199  \n",
       "4 2021-08-28             8             6                 0               199  "
      ]
     },
     "execution_count": 76,
     "metadata": {},
     "output_type": "execute_result"
    }
   ],
   "source": [
    "# первые 5 строк датафрейма с пользователями с подпиской\n",
    "users_with_subscriptions.head()"
   ]
  },
  {
   "cell_type": "code",
   "execution_count": 77,
   "id": "32266005",
   "metadata": {},
   "outputs": [
    {
     "name": "stdout",
     "output_type": "stream",
     "text": [
      "p-значение: 0.9195362605842414\n",
      "Не отвергаем нулевую гипотезу\n"
     ]
    }
   ],
   "source": [
    "# проведем односторонний тест\n",
    "\n",
    "# информация о расстояниях для пользователей с подпиской\n",
    "distance = users_with_subscriptions['distance']\n",
    "\n",
    "# оптимальная дистанция\n",
    "optimal_distance = 3130\n",
    "\n",
    "alpha = 0.05 # уровень статистической значимости\n",
    "\n",
    "results = st.ttest_1samp(distance, optimal_distance, alternative='greater')\n",
    "\n",
    "print('p-значение:', results.pvalue)\n",
    "\n",
    "if (results.pvalue < alpha):\n",
    "    print('Отвергаем нулевую гипотезу')\n",
    "else:\n",
    "    print('Не отвергаем нулевую гипотезу') \n"
   ]
  },
  {
   "cell_type": "markdown",
   "id": "c7a47bd3",
   "metadata": {},
   "source": [
    "**Результат проверки гипотезы:** не получилось отвергнуть нулевую гипотезу, среднее расстояние у пользователей с подпиской - 3130 метров"
   ]
  },
  {
   "cell_type": "code",
   "execution_count": 78,
   "id": "4ab5032f",
   "metadata": {},
   "outputs": [
    {
     "data": {
      "text/plain": [
       "count    6500.000000\n",
       "mean     3115.445431\n",
       "std       836.895369\n",
       "min       244.210000\n",
       "25%      2785.447500\n",
       "50%      3148.640000\n",
       "75%      3560.577500\n",
       "max      5699.770000\n",
       "Name: distance, dtype: float64"
      ]
     },
     "execution_count": 78,
     "metadata": {},
     "output_type": "execute_result"
    }
   ],
   "source": [
    "# статистическая сводка по столбцу distance для пользователей с подпиской для самопроверки\n",
    "users_with_subscriptions['distance'].describe()"
   ]
  },
  {
   "cell_type": "markdown",
   "id": "5d73440e",
   "metadata": {},
   "source": [
    "**Шаг 6.3**"
   ]
  },
  {
   "cell_type": "markdown",
   "id": "dbf41de7",
   "metadata": {},
   "source": [
    "Проверим гипотезу о том, будет ли помесячная выручка от пользователей с подпиской по месяцам выше, чем выручка от пользователей без подписки. В данном примере воспользуемся проверкой гипотезы для средних двух генеральных совокупностей "
   ]
  },
  {
   "cell_type": "markdown",
   "id": "b51b4934",
   "metadata": {},
   "source": [
    "**Сформулируем гипотезы:**\n",
    "\n",
    "***Нулевая гипотеза (H0):*** Средняя помесячная выручка пользователей с подпиской не отличается от средней помесячной выручки пользователей без подписки\n",
    "\n",
    "***Альтернативная гипотеза (H1):*** Средняя помесячная выручка от пользователей с подпиской по месяцам выше, чем средняя помесячная выручка от пользователей без подписки"
   ]
  },
  {
   "cell_type": "code",
   "execution_count": 79,
   "id": "bfd75529",
   "metadata": {},
   "outputs": [
    {
     "data": {
      "text/html": [
       "<div>\n",
       "<style scoped>\n",
       "    .dataframe tbody tr th:only-of-type {\n",
       "        vertical-align: middle;\n",
       "    }\n",
       "\n",
       "    .dataframe tbody tr th {\n",
       "        vertical-align: top;\n",
       "    }\n",
       "\n",
       "    .dataframe thead th {\n",
       "        text-align: right;\n",
       "    }\n",
       "</style>\n",
       "<table border=\"1\" class=\"dataframe\">\n",
       "  <thead>\n",
       "    <tr style=\"text-align: right;\">\n",
       "      <th></th>\n",
       "      <th>user_id</th>\n",
       "      <th>month_nomber</th>\n",
       "      <th>sum_distance</th>\n",
       "      <th>sum_duration</th>\n",
       "      <th>count</th>\n",
       "      <th>subscription_type</th>\n",
       "      <th>minute_price</th>\n",
       "      <th>start_ride_price</th>\n",
       "      <th>subscription_fee</th>\n",
       "      <th>monthly_revenue</th>\n",
       "    </tr>\n",
       "  </thead>\n",
       "  <tbody>\n",
       "    <tr>\n",
       "      <th>0</th>\n",
       "      <td>1</td>\n",
       "      <td>1</td>\n",
       "      <td>7027.51</td>\n",
       "      <td>42</td>\n",
       "      <td>2</td>\n",
       "      <td>ultra</td>\n",
       "      <td>6</td>\n",
       "      <td>0</td>\n",
       "      <td>199</td>\n",
       "      <td>451</td>\n",
       "    </tr>\n",
       "    <tr>\n",
       "      <th>1</th>\n",
       "      <td>1</td>\n",
       "      <td>4</td>\n",
       "      <td>754.16</td>\n",
       "      <td>7</td>\n",
       "      <td>1</td>\n",
       "      <td>ultra</td>\n",
       "      <td>6</td>\n",
       "      <td>0</td>\n",
       "      <td>199</td>\n",
       "      <td>241</td>\n",
       "    </tr>\n",
       "    <tr>\n",
       "      <th>2</th>\n",
       "      <td>1</td>\n",
       "      <td>8</td>\n",
       "      <td>6723.47</td>\n",
       "      <td>46</td>\n",
       "      <td>2</td>\n",
       "      <td>ultra</td>\n",
       "      <td>6</td>\n",
       "      <td>0</td>\n",
       "      <td>199</td>\n",
       "      <td>475</td>\n",
       "    </tr>\n",
       "    <tr>\n",
       "      <th>3</th>\n",
       "      <td>1</td>\n",
       "      <td>10</td>\n",
       "      <td>5809.91</td>\n",
       "      <td>32</td>\n",
       "      <td>2</td>\n",
       "      <td>ultra</td>\n",
       "      <td>6</td>\n",
       "      <td>0</td>\n",
       "      <td>199</td>\n",
       "      <td>391</td>\n",
       "    </tr>\n",
       "    <tr>\n",
       "      <th>4</th>\n",
       "      <td>1</td>\n",
       "      <td>11</td>\n",
       "      <td>7003.50</td>\n",
       "      <td>56</td>\n",
       "      <td>3</td>\n",
       "      <td>ultra</td>\n",
       "      <td>6</td>\n",
       "      <td>0</td>\n",
       "      <td>199</td>\n",
       "      <td>535</td>\n",
       "    </tr>\n",
       "  </tbody>\n",
       "</table>\n",
       "</div>"
      ],
      "text/plain": [
       "   user_id  month_nomber  sum_distance  sum_duration  count subscription_type  \\\n",
       "0        1             1       7027.51            42      2             ultra   \n",
       "1        1             4        754.16             7      1             ultra   \n",
       "2        1             8       6723.47            46      2             ultra   \n",
       "3        1            10       5809.91            32      2             ultra   \n",
       "4        1            11       7003.50            56      3             ultra   \n",
       "\n",
       "   minute_price  start_ride_price  subscription_fee  monthly_revenue  \n",
       "0             6                 0               199              451  \n",
       "1             6                 0               199              241  \n",
       "2             6                 0               199              475  \n",
       "3             6                 0               199              391  \n",
       "4             6                 0               199              535  "
      ]
     },
     "execution_count": 79,
     "metadata": {},
     "output_type": "execute_result"
    }
   ],
   "source": [
    "# выведем первые 5 строк датафрейма с выручкой\n",
    "pivot_multi.head()"
   ]
  },
  {
   "cell_type": "code",
   "execution_count": 80,
   "id": "0ad4d4e6",
   "metadata": {},
   "outputs": [],
   "source": [
    "# выручка по месяцам пользователей с подпиской\n",
    "revenue_with_subscription = pivot_multi[pivot_multi['subscription_type'] == 'ultra']['monthly_revenue']\n",
    "\n",
    "# выручка по месяцам пользователей без подписки\n",
    "revenue_without_subscription = pivot_multi[pivot_multi['subscription_type'] == 'free']['monthly_revenue']"
   ]
  },
  {
   "cell_type": "code",
   "execution_count": 81,
   "id": "3ec65f9b",
   "metadata": {},
   "outputs": [
    {
     "name": "stdout",
     "output_type": "stream",
     "text": [
      "p-value: 1.8850394384715216e-31\n",
      "Отвергаем нулевую гипотезу\n"
     ]
    }
   ],
   "source": [
    "# задаём уровень значимости\n",
    "alpha = 0.05\n",
    "\n",
    "# проводим ttest для двух выборок, в качестве альтернативной используем одностороннюю гипотезу «больше»\n",
    "results = st.ttest_ind(revenue_with_subscription, revenue_without_subscription, alternative='greater')\n",
    "\n",
    "print(f'p-value: {results.pvalue}')\n",
    "\n",
    "# проверяем p-value\n",
    "if results.pvalue < alpha:\n",
    "    print('Отвергаем нулевую гипотезу')\n",
    "else:\n",
    "    print('Нет оснований отвергнуть нулевую гипотезу')"
   ]
  },
  {
   "cell_type": "markdown",
   "id": "28b5a4bf",
   "metadata": {},
   "source": [
    "**Результат проверки гипотезы:** отвергаем нулевую гипотезу, средняя помесячная выручка пользователей с подпиской выше, чем средеяя помесячная выручка пользователей без подписки."
   ]
  },
  {
   "cell_type": "markdown",
   "id": "13736cc0",
   "metadata": {},
   "source": [
    "**Шаг 6.4**"
   ]
  },
  {
   "cell_type": "markdown",
   "id": "119a34f2",
   "metadata": {},
   "source": [
    "Для проверки гипотезы об обращениях в поддержку пользователей до и после обновления сервера, с которыми взаимодействует мобильное приложение (задание 6.4) нужно проверить гипотезу о равенстве средних для зависимых (парных) выборок, воспользовавшись методом scipy.stats.ttest_rel()"
   ]
  },
  {
   "cell_type": "markdown",
   "id": "d1cd62b5",
   "metadata": {},
   "source": [
    "Итак для проверки гипотезы имеем данные данные о количестве обращений для каждого пользователя до обновления сервера и данные о количестве обращений для каждого пользователя после обновления сервера. Так как это зависимые выборки (данные брались дважды до внесения изменений и после) то нам нужно проверить гипотезу о равенстве средних для зависимых (парных) выборок, воспользовавшись методом scipy.stats.ttest_rel(). Этому методу необходимо передать два параметра: набор данных до обновления сервера и после. Оба набора должны быть одинаковы по размеру. Используем параметр alternative='greater', поскольку мы ожидаем, что количество обращений в техподдержку после обновления серверов снизилось. Сформулируем гипотезы: \n",
    "- ***Нулевая гипотеза (H0):*** Среднее количество обращений в поддержку до обновления сервера равно среднему количеству обращений после обновления сервера\n",
    "\n",
    "- ***Альтернативная гипотеза (H1):*** Среднее количество обращений в поддержку до обновления сервера больше среднего количества обращений после обновления сервера"
   ]
  },
  {
   "cell_type": "markdown",
   "id": "06c66b85",
   "metadata": {},
   "source": [
    "from scipy import stats as st\n",
    "\n",
    " данные об обращениях в поддержку до обновления сервера\n",
    "data_before = data['count_before']\n",
    "\n",
    " данные об обращениях в поддержку после обновления сервера\n",
    "data_after = data['count_after']\n",
    "\n",
    " задаем уровень статистической значимости\n",
    "alpha = 0.05 \n",
    "\n",
    " проведем парный t-тест с альтернативной гипотезой 'greater'\n",
    "results = st.ttest_rel(data_before, data_after, alternative='greater')\n",
    "\n",
    "выведем на экран полученное p-значение\n",
    "print('p-значение:', results.pvalue)\n",
    "\n",
    " сравним p-значение с заданным уровнем статистической значимости alpha\n",
    "if results.pvalue < alpha: \n",
    "    print('Отвергаем нулевую гипотезу о равенстве среднего количества обращений до и после обновления сервера')\n",
    "else:\n",
    "    print('Не удалось отвергнуть нулевую гипотезу ')\n"
   ]
  },
  {
   "cell_type": "markdown",
   "id": "124c73a4",
   "metadata": {},
   "source": [
    "При p-значениее меньше заданного уровня статистической значимости позволяет нам отвергнуть нулевую гипотезу. Это означает, что количество обращений в техподдержку действительно снизилось после обновления серверов. Чем меньше будет p-значение тем сильнее докозательство против нулевой гипотезы и тем болше уверенность что наблюдаемое изменение обращений не будет являтся случайным."
   ]
  },
  {
   "cell_type": "markdown",
   "id": "ad533e76",
   "metadata": {},
   "source": [
    "***ОБЩИЙ ВЫВОД:***"
   ]
  },
  {
   "cell_type": "markdown",
   "id": "69f450a8",
   "metadata": {},
   "source": [
    "В рамках данного проекта были выполнены следующие шаги:\n",
    "\n",
    "- Был проведен анализ предоставленных наборов данных, ознакомление с их структурой, переменными и особенностями.\n",
    "\n",
    "- Проведена предварительная обработка данных, включающая в себя поиск пропущенных значений, явных неявных дубликатов,поиск выбросов и аномалий, приведение типов данных к нужному формату, создание новых датафреймов и столбцов, необходимых для последующей работы.\n",
    "\n",
    "- В ходе исследовательского анализа была описана и визуализирована общая информация о пользователях и поездках, такая как частота встречаемости городов, соотношение пользователей с подпиской и без подписки, возраст пользователей, расстояние, которое пользователь преодолел за одну поездку, продолжительность поездок.\n",
    "\n",
    "- Пользователей без подписки на 20 процентов больше чем пользователей с подпиской, самое большое количество поездок совершено в городе Пятигорск, за ним следуют другие города юга России с аналогичными благоприятными климатическими условиями. Меньше всего поездок совершено в Москве. Ездовое поведение пользователей с подпиской и без примерно одинаковое. У них очень похожи распределения средней продожительности поездок и среднего расстояния.\n",
    "\n",
    "- Также в ходе работы был проверен ряд гипотез на основании чего можно сделать следующие выводы: среднее время, проведенное в пути выше у пользователей с подпиской, помесячная выручка у пользователей с подпиской выше, чем у пользователей без подписки. Соответственно пользователи с подпиской выгоднее для компании чем пользователи без подписки. Также установлено что среднее преодолеваемое расстояние у пользователей с подпиской равно 3130 метров, что равно  оптимальному расстоянию с точки зрения износа самоката, а следовательно благоприятно для сохранения парка самокатов в работоспособном состоянии.   "
   ]
  },
  {
   "cell_type": "markdown",
   "id": "a5b4f38d",
   "metadata": {},
   "source": [
    "***Дополнение:***\n",
    "- анализ был произведен на основании данных за 2021 год.\n",
    "- в целом со всех пользователей была получена выручка в размере 3878641 рублей, из которых пользовател с подпиской принесли 1644537 рублей а пользователи без подписки 2234104 рубля.\n",
    "- в среднем пользователь с подпиской приносит примерно 363 рубля в месяц, пользователь без подписки 328 рублей в месяц.\n",
    " "
   ]
  },
  {
   "cell_type": "markdown",
   "id": "194047fa",
   "metadata": {},
   "source": [
    "***Рекомендации:***\n",
    "- увеличивать количество подписчиков (реклама сервиса по различным каналам с разьяснением приемуществ таких как меньшая стоимость минуты, отсутствие платы за старт и тд).\n",
    "- стимулировать переход пользователей без подписки на подписку (например с предложением пробных периодов или скидок на первый месяц использования)\n",
    "- стимулировать пользователей не преодолевать расстояние выше 3130 метров (например путем введения пакетных предложений с пакетами минут или километров)"
   ]
  }
 ],
 "metadata": {
  "ExecuteTimeLog": [
   {
    "duration": 5,
    "start_time": "2024-05-24T07:32:21.820Z"
   },
   {
    "duration": 2,
    "start_time": "2024-05-24T07:32:23.401Z"
   },
   {
    "duration": 1373,
    "start_time": "2024-05-24T07:33:41.847Z"
   },
   {
    "duration": 3,
    "start_time": "2024-05-24T07:33:45.210Z"
   },
   {
    "duration": 238,
    "start_time": "2024-05-24T07:37:41.195Z"
   },
   {
    "duration": 109,
    "start_time": "2024-05-24T07:37:57.973Z"
   },
   {
    "duration": 13,
    "start_time": "2024-05-24T07:39:52.735Z"
   },
   {
    "duration": 11,
    "start_time": "2024-05-24T07:40:41.874Z"
   },
   {
    "duration": 5,
    "start_time": "2024-05-24T07:42:31.593Z"
   },
   {
    "duration": 3,
    "start_time": "2024-05-24T07:44:05.111Z"
   },
   {
    "duration": 4,
    "start_time": "2024-05-24T07:44:30.335Z"
   },
   {
    "duration": 6,
    "start_time": "2024-05-24T07:45:09.394Z"
   },
   {
    "duration": 6,
    "start_time": "2024-05-24T07:45:35.032Z"
   },
   {
    "duration": 13,
    "start_time": "2024-05-24T07:45:49.670Z"
   },
   {
    "duration": 54,
    "start_time": "2024-05-24T07:51:47.188Z"
   },
   {
    "duration": 9,
    "start_time": "2024-05-24T07:51:55.446Z"
   },
   {
    "duration": 1236,
    "start_time": "2024-05-24T07:53:59.229Z"
   },
   {
    "duration": 11,
    "start_time": "2024-05-24T07:54:00.467Z"
   },
   {
    "duration": 77,
    "start_time": "2024-05-24T07:54:00.480Z"
   },
   {
    "duration": 48,
    "start_time": "2024-05-24T07:54:00.559Z"
   },
   {
    "duration": 45,
    "start_time": "2024-05-24T07:54:00.609Z"
   },
   {
    "duration": 33,
    "start_time": "2024-05-24T07:54:00.656Z"
   },
   {
    "duration": 40,
    "start_time": "2024-05-24T07:54:00.691Z"
   },
   {
    "duration": 15,
    "start_time": "2024-05-24T07:56:38.276Z"
   },
   {
    "duration": 12,
    "start_time": "2024-05-24T07:57:25.784Z"
   },
   {
    "duration": 1338,
    "start_time": "2024-05-24T07:57:37.987Z"
   },
   {
    "duration": 12,
    "start_time": "2024-05-24T07:57:39.327Z"
   },
   {
    "duration": 12,
    "start_time": "2024-05-24T07:57:39.341Z"
   },
   {
    "duration": 7,
    "start_time": "2024-05-24T07:57:39.356Z"
   },
   {
    "duration": 14,
    "start_time": "2024-05-24T07:57:39.365Z"
   },
   {
    "duration": 11,
    "start_time": "2024-05-24T07:57:39.381Z"
   },
   {
    "duration": 5,
    "start_time": "2024-05-24T07:57:39.393Z"
   },
   {
    "duration": 7,
    "start_time": "2024-05-24T07:57:39.399Z"
   },
   {
    "duration": 6,
    "start_time": "2024-05-24T07:57:39.407Z"
   },
   {
    "duration": 5,
    "start_time": "2024-05-24T07:58:26.560Z"
   },
   {
    "duration": 11,
    "start_time": "2024-05-24T07:58:30.277Z"
   },
   {
    "duration": 6,
    "start_time": "2024-05-24T07:59:08.512Z"
   },
   {
    "duration": 6,
    "start_time": "2024-05-24T08:02:57.145Z"
   },
   {
    "duration": 7,
    "start_time": "2024-05-24T08:03:36.831Z"
   },
   {
    "duration": 10,
    "start_time": "2024-05-24T08:11:34.720Z"
   },
   {
    "duration": 11,
    "start_time": "2024-05-24T08:11:56.279Z"
   },
   {
    "duration": 6,
    "start_time": "2024-05-24T08:12:47.197Z"
   },
   {
    "duration": 8,
    "start_time": "2024-05-24T08:12:59.802Z"
   },
   {
    "duration": 1180,
    "start_time": "2024-05-24T08:13:15.244Z"
   },
   {
    "duration": 8,
    "start_time": "2024-05-24T08:13:28.935Z"
   },
   {
    "duration": 4,
    "start_time": "2024-05-24T08:18:57.552Z"
   },
   {
    "duration": 6,
    "start_time": "2024-05-24T08:19:22.654Z"
   },
   {
    "duration": 3,
    "start_time": "2024-05-24T08:19:31.178Z"
   },
   {
    "duration": 12,
    "start_time": "2024-05-24T08:19:45.093Z"
   },
   {
    "duration": 5,
    "start_time": "2024-05-24T08:21:10.772Z"
   },
   {
    "duration": 4,
    "start_time": "2024-05-24T08:21:30.005Z"
   },
   {
    "duration": 8,
    "start_time": "2024-05-24T08:22:07.234Z"
   },
   {
    "duration": 4,
    "start_time": "2024-05-24T08:22:12.924Z"
   },
   {
    "duration": 3,
    "start_time": "2024-05-24T08:22:24.136Z"
   },
   {
    "duration": 6,
    "start_time": "2024-05-24T08:23:20.526Z"
   },
   {
    "duration": 77,
    "start_time": "2024-05-24T08:30:49.374Z"
   },
   {
    "duration": 10,
    "start_time": "2024-05-24T08:31:26.080Z"
   },
   {
    "duration": 8,
    "start_time": "2024-05-24T08:31:42.181Z"
   },
   {
    "duration": 7,
    "start_time": "2024-05-24T08:32:22.503Z"
   },
   {
    "duration": 12,
    "start_time": "2024-05-24T08:37:31.525Z"
   },
   {
    "duration": 6,
    "start_time": "2024-05-24T08:37:36.515Z"
   },
   {
    "duration": 13,
    "start_time": "2024-05-24T08:39:01.509Z"
   },
   {
    "duration": 6,
    "start_time": "2024-05-24T08:39:04.101Z"
   },
   {
    "duration": 1185,
    "start_time": "2024-05-24T08:40:21.272Z"
   },
   {
    "duration": 11,
    "start_time": "2024-05-24T08:40:22.459Z"
   },
   {
    "duration": 32,
    "start_time": "2024-05-24T08:40:22.472Z"
   },
   {
    "duration": 20,
    "start_time": "2024-05-24T08:40:22.506Z"
   },
   {
    "duration": 9,
    "start_time": "2024-05-24T08:40:22.528Z"
   },
   {
    "duration": 11,
    "start_time": "2024-05-24T08:40:22.539Z"
   },
   {
    "duration": 5,
    "start_time": "2024-05-24T08:40:22.551Z"
   },
   {
    "duration": 11,
    "start_time": "2024-05-24T08:40:22.557Z"
   },
   {
    "duration": 6,
    "start_time": "2024-05-24T08:40:22.569Z"
   },
   {
    "duration": 4,
    "start_time": "2024-05-24T08:40:22.577Z"
   },
   {
    "duration": 9,
    "start_time": "2024-05-24T08:40:22.583Z"
   },
   {
    "duration": 14,
    "start_time": "2024-05-24T08:40:22.593Z"
   },
   {
    "duration": 7,
    "start_time": "2024-05-24T08:40:22.608Z"
   },
   {
    "duration": 6,
    "start_time": "2024-05-24T08:41:02.510Z"
   },
   {
    "duration": 6,
    "start_time": "2024-05-24T08:41:08.813Z"
   },
   {
    "duration": 5,
    "start_time": "2024-05-24T08:41:47.363Z"
   },
   {
    "duration": 6,
    "start_time": "2024-05-24T08:41:49.599Z"
   },
   {
    "duration": 5,
    "start_time": "2024-05-24T08:42:21.342Z"
   },
   {
    "duration": 6,
    "start_time": "2024-05-24T08:42:25.110Z"
   },
   {
    "duration": 61,
    "start_time": "2024-05-24T08:43:01.412Z"
   },
   {
    "duration": 6,
    "start_time": "2024-05-24T08:43:03.530Z"
   },
   {
    "duration": 1186,
    "start_time": "2024-05-24T08:43:13.279Z"
   },
   {
    "duration": 11,
    "start_time": "2024-05-24T08:43:14.467Z"
   },
   {
    "duration": 12,
    "start_time": "2024-05-24T08:43:14.481Z"
   },
   {
    "duration": 12,
    "start_time": "2024-05-24T08:43:14.495Z"
   },
   {
    "duration": 6,
    "start_time": "2024-05-24T08:43:14.508Z"
   },
   {
    "duration": 12,
    "start_time": "2024-05-24T08:43:14.515Z"
   },
   {
    "duration": 4,
    "start_time": "2024-05-24T08:43:14.529Z"
   },
   {
    "duration": 6,
    "start_time": "2024-05-24T08:43:14.564Z"
   },
   {
    "duration": 5,
    "start_time": "2024-05-24T08:43:14.573Z"
   },
   {
    "duration": 5,
    "start_time": "2024-05-24T08:43:14.579Z"
   },
   {
    "duration": 7,
    "start_time": "2024-05-24T08:43:14.585Z"
   },
   {
    "duration": 66,
    "start_time": "2024-05-24T08:43:14.593Z"
   },
   {
    "duration": 0,
    "start_time": "2024-05-24T08:43:14.661Z"
   },
   {
    "duration": 1173,
    "start_time": "2024-05-24T08:43:35.857Z"
   },
   {
    "duration": 11,
    "start_time": "2024-05-24T08:43:37.032Z"
   },
   {
    "duration": 17,
    "start_time": "2024-05-24T08:43:37.044Z"
   },
   {
    "duration": 23,
    "start_time": "2024-05-24T08:43:37.063Z"
   },
   {
    "duration": 10,
    "start_time": "2024-05-24T08:43:37.088Z"
   },
   {
    "duration": 12,
    "start_time": "2024-05-24T08:43:37.099Z"
   },
   {
    "duration": 7,
    "start_time": "2024-05-24T08:43:37.112Z"
   },
   {
    "duration": 7,
    "start_time": "2024-05-24T08:43:37.120Z"
   },
   {
    "duration": 12,
    "start_time": "2024-05-24T08:43:37.128Z"
   },
   {
    "duration": 5,
    "start_time": "2024-05-24T08:43:37.142Z"
   },
   {
    "duration": 14,
    "start_time": "2024-05-24T08:43:37.148Z"
   },
   {
    "duration": 7,
    "start_time": "2024-05-24T08:43:37.163Z"
   },
   {
    "duration": 5,
    "start_time": "2024-05-24T08:45:21.213Z"
   },
   {
    "duration": 6,
    "start_time": "2024-05-24T08:45:23.662Z"
   },
   {
    "duration": 8,
    "start_time": "2024-05-24T08:50:02.764Z"
   },
   {
    "duration": 11,
    "start_time": "2024-05-24T08:51:01.310Z"
   },
   {
    "duration": 12,
    "start_time": "2024-05-24T08:52:11.756Z"
   },
   {
    "duration": 10,
    "start_time": "2024-05-24T08:55:59.818Z"
   },
   {
    "duration": 9,
    "start_time": "2024-05-24T11:15:53.185Z"
   },
   {
    "duration": 19,
    "start_time": "2024-05-24T11:16:05.595Z"
   },
   {
    "duration": 19,
    "start_time": "2024-05-24T11:16:12.637Z"
   },
   {
    "duration": 16,
    "start_time": "2024-05-24T11:17:22.265Z"
   },
   {
    "duration": 19,
    "start_time": "2024-05-24T11:17:30.146Z"
   },
   {
    "duration": 7,
    "start_time": "2024-05-24T11:19:53.052Z"
   },
   {
    "duration": 10,
    "start_time": "2024-05-24T11:20:57.602Z"
   },
   {
    "duration": 99,
    "start_time": "2024-05-24T11:30:05.441Z"
   },
   {
    "duration": 9,
    "start_time": "2024-05-24T11:30:24.547Z"
   },
   {
    "duration": 5,
    "start_time": "2024-05-24T11:30:52.785Z"
   },
   {
    "duration": 10,
    "start_time": "2024-05-24T11:31:14.943Z"
   },
   {
    "duration": 1229,
    "start_time": "2024-05-24T11:33:13.500Z"
   },
   {
    "duration": 10,
    "start_time": "2024-05-24T11:33:14.731Z"
   },
   {
    "duration": 26,
    "start_time": "2024-05-24T11:33:14.742Z"
   },
   {
    "duration": 12,
    "start_time": "2024-05-24T11:33:14.770Z"
   },
   {
    "duration": 4,
    "start_time": "2024-05-24T11:33:14.783Z"
   },
   {
    "duration": 6,
    "start_time": "2024-05-24T11:33:14.788Z"
   },
   {
    "duration": 16,
    "start_time": "2024-05-24T11:33:14.796Z"
   },
   {
    "duration": 10,
    "start_time": "2024-05-24T11:33:14.814Z"
   },
   {
    "duration": 10,
    "start_time": "2024-05-24T11:33:14.825Z"
   },
   {
    "duration": 23,
    "start_time": "2024-05-24T11:33:14.837Z"
   },
   {
    "duration": 36,
    "start_time": "2024-05-24T11:33:14.861Z"
   },
   {
    "duration": 31,
    "start_time": "2024-05-24T11:33:14.898Z"
   },
   {
    "duration": 27,
    "start_time": "2024-05-24T11:33:14.931Z"
   },
   {
    "duration": 10,
    "start_time": "2024-05-24T11:33:14.959Z"
   },
   {
    "duration": 12,
    "start_time": "2024-05-24T11:33:14.970Z"
   },
   {
    "duration": 7,
    "start_time": "2024-05-24T11:33:14.984Z"
   },
   {
    "duration": 13,
    "start_time": "2024-05-24T11:33:14.993Z"
   },
   {
    "duration": 43,
    "start_time": "2024-05-24T11:33:15.008Z"
   },
   {
    "duration": 33,
    "start_time": "2024-05-24T11:33:15.053Z"
   },
   {
    "duration": 34,
    "start_time": "2024-05-24T11:33:15.088Z"
   },
   {
    "duration": 152,
    "start_time": "2024-05-24T11:40:17.574Z"
   },
   {
    "duration": 157,
    "start_time": "2024-05-24T11:41:56.874Z"
   },
   {
    "duration": 176,
    "start_time": "2024-05-24T11:42:10.745Z"
   },
   {
    "duration": 150,
    "start_time": "2024-05-24T11:42:25.447Z"
   },
   {
    "duration": 6,
    "start_time": "2024-05-24T11:42:54.274Z"
   },
   {
    "duration": 5,
    "start_time": "2024-05-24T11:43:37.637Z"
   },
   {
    "duration": 5,
    "start_time": "2024-05-24T11:43:43.894Z"
   },
   {
    "duration": 6,
    "start_time": "2024-05-24T11:46:24.720Z"
   },
   {
    "duration": 5,
    "start_time": "2024-05-24T11:47:54.245Z"
   },
   {
    "duration": 5,
    "start_time": "2024-05-24T11:50:27.172Z"
   },
   {
    "duration": 10,
    "start_time": "2024-05-24T11:50:31.191Z"
   },
   {
    "duration": 102,
    "start_time": "2024-05-24T11:51:26.326Z"
   },
   {
    "duration": 10,
    "start_time": "2024-05-24T11:51:34.101Z"
   },
   {
    "duration": 10,
    "start_time": "2024-05-24T11:51:43.849Z"
   },
   {
    "duration": 16,
    "start_time": "2024-05-24T11:55:41.216Z"
   },
   {
    "duration": 6,
    "start_time": "2024-05-24T11:59:44.725Z"
   },
   {
    "duration": 7,
    "start_time": "2024-05-24T12:00:15.983Z"
   },
   {
    "duration": 12,
    "start_time": "2024-05-24T12:00:35.992Z"
   },
   {
    "duration": 157,
    "start_time": "2024-05-24T12:00:53.584Z"
   },
   {
    "duration": 7,
    "start_time": "2024-05-24T12:01:37.553Z"
   },
   {
    "duration": 9,
    "start_time": "2024-05-24T12:01:50.428Z"
   },
   {
    "duration": 158,
    "start_time": "2024-05-24T12:01:56.941Z"
   },
   {
    "duration": 177,
    "start_time": "2024-05-24T12:02:23.938Z"
   },
   {
    "duration": 165,
    "start_time": "2024-05-24T12:02:47.862Z"
   },
   {
    "duration": 7,
    "start_time": "2024-05-24T12:03:58.542Z"
   },
   {
    "duration": 6,
    "start_time": "2024-05-24T12:04:19.511Z"
   },
   {
    "duration": 5,
    "start_time": "2024-05-24T12:04:30.643Z"
   },
   {
    "duration": 245,
    "start_time": "2024-05-24T12:08:19.940Z"
   },
   {
    "duration": 208,
    "start_time": "2024-05-24T12:08:46.675Z"
   },
   {
    "duration": 9,
    "start_time": "2024-05-24T12:13:29.610Z"
   },
   {
    "duration": 11,
    "start_time": "2024-05-24T12:13:36.331Z"
   },
   {
    "duration": 8,
    "start_time": "2024-05-24T12:14:02.740Z"
   },
   {
    "duration": 5,
    "start_time": "2024-05-24T12:14:54.026Z"
   },
   {
    "duration": 6,
    "start_time": "2024-05-24T12:16:06.940Z"
   },
   {
    "duration": 7,
    "start_time": "2024-05-24T12:16:30.293Z"
   },
   {
    "duration": 7,
    "start_time": "2024-05-24T12:17:48.714Z"
   },
   {
    "duration": 104,
    "start_time": "2024-05-24T12:20:08.028Z"
   },
   {
    "duration": 120,
    "start_time": "2024-05-24T12:20:28.150Z"
   },
   {
    "duration": 101,
    "start_time": "2024-05-24T12:20:34.326Z"
   },
   {
    "duration": 142,
    "start_time": "2024-05-24T12:20:42.985Z"
   },
   {
    "duration": 120,
    "start_time": "2024-05-24T12:20:48.435Z"
   },
   {
    "duration": 96,
    "start_time": "2024-05-24T12:20:59.504Z"
   },
   {
    "duration": 6,
    "start_time": "2024-05-24T12:21:32.736Z"
   },
   {
    "duration": 13,
    "start_time": "2024-05-24T12:23:59.239Z"
   },
   {
    "duration": 5,
    "start_time": "2024-05-24T12:24:09.934Z"
   },
   {
    "duration": 8,
    "start_time": "2024-05-24T12:24:13.492Z"
   },
   {
    "duration": 6,
    "start_time": "2024-05-24T12:24:49.985Z"
   },
   {
    "duration": 6,
    "start_time": "2024-05-24T12:24:56.570Z"
   },
   {
    "duration": 13,
    "start_time": "2024-05-24T12:26:20.080Z"
   },
   {
    "duration": 10,
    "start_time": "2024-05-24T12:26:41.924Z"
   },
   {
    "duration": 15,
    "start_time": "2024-05-24T12:27:19.626Z"
   },
   {
    "duration": 6,
    "start_time": "2024-05-24T12:27:30.214Z"
   },
   {
    "duration": 5,
    "start_time": "2024-05-24T12:29:39.190Z"
   },
   {
    "duration": 61,
    "start_time": "2024-05-24T12:34:30.628Z"
   },
   {
    "duration": 1720,
    "start_time": "2024-05-25T07:15:53.197Z"
   },
   {
    "duration": 13,
    "start_time": "2024-05-25T07:15:54.919Z"
   },
   {
    "duration": 33,
    "start_time": "2024-05-25T07:15:54.933Z"
   },
   {
    "duration": 9,
    "start_time": "2024-05-25T07:15:54.968Z"
   },
   {
    "duration": 6,
    "start_time": "2024-05-25T07:15:54.979Z"
   },
   {
    "duration": 7,
    "start_time": "2024-05-25T07:15:54.986Z"
   },
   {
    "duration": 13,
    "start_time": "2024-05-25T07:15:54.995Z"
   },
   {
    "duration": 8,
    "start_time": "2024-05-25T07:15:55.010Z"
   },
   {
    "duration": 20,
    "start_time": "2024-05-25T07:15:55.019Z"
   },
   {
    "duration": 25,
    "start_time": "2024-05-25T07:15:55.041Z"
   },
   {
    "duration": 26,
    "start_time": "2024-05-25T07:15:55.068Z"
   },
   {
    "duration": 6,
    "start_time": "2024-05-25T07:15:55.096Z"
   },
   {
    "duration": 14,
    "start_time": "2024-05-25T07:15:55.103Z"
   },
   {
    "duration": 9,
    "start_time": "2024-05-25T07:15:55.120Z"
   },
   {
    "duration": 14,
    "start_time": "2024-05-25T07:15:55.130Z"
   },
   {
    "duration": 28,
    "start_time": "2024-05-25T07:15:55.146Z"
   },
   {
    "duration": 15,
    "start_time": "2024-05-25T07:15:55.176Z"
   },
   {
    "duration": 17,
    "start_time": "2024-05-25T07:15:55.193Z"
   },
   {
    "duration": 11,
    "start_time": "2024-05-25T07:15:55.212Z"
   },
   {
    "duration": 48,
    "start_time": "2024-05-25T07:15:55.225Z"
   },
   {
    "duration": 222,
    "start_time": "2024-05-25T07:15:55.275Z"
   },
   {
    "duration": 6,
    "start_time": "2024-05-25T07:15:55.499Z"
   },
   {
    "duration": 193,
    "start_time": "2024-05-25T07:15:55.506Z"
   },
   {
    "duration": 121,
    "start_time": "2024-05-25T07:15:55.701Z"
   },
   {
    "duration": 0,
    "start_time": "2024-05-25T07:15:55.825Z"
   },
   {
    "duration": 1,
    "start_time": "2024-05-25T07:15:55.826Z"
   },
   {
    "duration": 0,
    "start_time": "2024-05-25T07:15:55.828Z"
   },
   {
    "duration": 0,
    "start_time": "2024-05-25T07:15:55.830Z"
   },
   {
    "duration": 5,
    "start_time": "2024-05-25T07:16:17.918Z"
   },
   {
    "duration": 12,
    "start_time": "2024-05-25T07:16:44.169Z"
   },
   {
    "duration": 213,
    "start_time": "2024-05-25T07:17:29.498Z"
   },
   {
    "duration": 219,
    "start_time": "2024-05-25T07:18:10.724Z"
   },
   {
    "duration": 204,
    "start_time": "2024-05-25T07:19:40.300Z"
   },
   {
    "duration": 229,
    "start_time": "2024-05-25T07:25:45.546Z"
   },
   {
    "duration": 190,
    "start_time": "2024-05-25T07:27:29.097Z"
   },
   {
    "duration": 7,
    "start_time": "2024-05-25T07:28:51.824Z"
   },
   {
    "duration": 7,
    "start_time": "2024-05-25T07:28:54.289Z"
   },
   {
    "duration": 126,
    "start_time": "2024-05-25T07:28:54.721Z"
   },
   {
    "duration": 10,
    "start_time": "2024-05-25T07:30:15.600Z"
   },
   {
    "duration": 13,
    "start_time": "2024-05-25T07:34:28.254Z"
   },
   {
    "duration": 13,
    "start_time": "2024-05-25T07:34:41.480Z"
   },
   {
    "duration": 250,
    "start_time": "2024-05-25T07:35:02.093Z"
   },
   {
    "duration": 202,
    "start_time": "2024-05-25T07:36:17.012Z"
   },
   {
    "duration": 191,
    "start_time": "2024-05-25T07:36:30.596Z"
   },
   {
    "duration": 211,
    "start_time": "2024-05-25T07:38:12.043Z"
   },
   {
    "duration": 190,
    "start_time": "2024-05-25T07:38:51.144Z"
   },
   {
    "duration": 198,
    "start_time": "2024-05-25T07:39:28.681Z"
   },
   {
    "duration": 14,
    "start_time": "2024-05-25T07:42:30.227Z"
   },
   {
    "duration": 186,
    "start_time": "2024-05-25T07:42:43.994Z"
   },
   {
    "duration": 152,
    "start_time": "2024-05-25T07:43:11.497Z"
   },
   {
    "duration": 158,
    "start_time": "2024-05-25T07:43:20.920Z"
   },
   {
    "duration": 163,
    "start_time": "2024-05-25T07:44:04.820Z"
   },
   {
    "duration": 158,
    "start_time": "2024-05-25T07:44:17.729Z"
   },
   {
    "duration": 10,
    "start_time": "2024-05-25T07:46:47.525Z"
   },
   {
    "duration": 5,
    "start_time": "2024-05-25T07:47:00.945Z"
   },
   {
    "duration": 227,
    "start_time": "2024-05-25T07:47:32.824Z"
   },
   {
    "duration": 5,
    "start_time": "2024-05-25T07:51:48.397Z"
   },
   {
    "duration": 6,
    "start_time": "2024-05-25T07:51:58.648Z"
   },
   {
    "duration": 7,
    "start_time": "2024-05-25T07:52:06.273Z"
   },
   {
    "duration": 238,
    "start_time": "2024-05-25T07:54:49.330Z"
   },
   {
    "duration": 651,
    "start_time": "2024-05-25T07:57:30.512Z"
   },
   {
    "duration": 668,
    "start_time": "2024-05-25T07:58:24.091Z"
   },
   {
    "duration": 155,
    "start_time": "2024-05-25T07:58:41.548Z"
   },
   {
    "duration": 177,
    "start_time": "2024-05-25T08:02:20.625Z"
   },
   {
    "duration": 176,
    "start_time": "2024-05-25T08:02:45.727Z"
   },
   {
    "duration": 230,
    "start_time": "2024-05-25T08:03:25.829Z"
   },
   {
    "duration": 246,
    "start_time": "2024-05-25T08:03:43.914Z"
   },
   {
    "duration": 5,
    "start_time": "2024-05-25T08:04:31.746Z"
   },
   {
    "duration": 5,
    "start_time": "2024-05-25T08:04:43.358Z"
   },
   {
    "duration": 3,
    "start_time": "2024-05-25T08:04:49.560Z"
   },
   {
    "duration": 5,
    "start_time": "2024-05-25T08:04:53.391Z"
   },
   {
    "duration": 208,
    "start_time": "2024-05-25T08:04:59.344Z"
   },
   {
    "duration": 7,
    "start_time": "2024-05-25T08:05:13.822Z"
   },
   {
    "duration": 238,
    "start_time": "2024-05-25T08:05:19.346Z"
   },
   {
    "duration": 328,
    "start_time": "2024-05-25T08:06:04.038Z"
   },
   {
    "duration": 210,
    "start_time": "2024-05-25T08:06:24.125Z"
   },
   {
    "duration": 7,
    "start_time": "2024-05-25T08:08:21.752Z"
   },
   {
    "duration": 207,
    "start_time": "2024-05-25T08:08:45.236Z"
   },
   {
    "duration": 6,
    "start_time": "2024-05-25T08:11:37.461Z"
   },
   {
    "duration": 237,
    "start_time": "2024-05-25T08:11:46.189Z"
   },
   {
    "duration": 208,
    "start_time": "2024-05-25T08:13:13.340Z"
   },
   {
    "duration": 1266,
    "start_time": "2024-05-25T08:13:23.305Z"
   },
   {
    "duration": 12,
    "start_time": "2024-05-25T08:13:24.574Z"
   },
   {
    "duration": 33,
    "start_time": "2024-05-25T08:13:24.587Z"
   },
   {
    "duration": 19,
    "start_time": "2024-05-25T08:13:24.622Z"
   },
   {
    "duration": 76,
    "start_time": "2024-05-25T08:13:24.644Z"
   },
   {
    "duration": 15,
    "start_time": "2024-05-25T08:13:24.722Z"
   },
   {
    "duration": 4,
    "start_time": "2024-05-25T08:13:24.739Z"
   },
   {
    "duration": 11,
    "start_time": "2024-05-25T08:13:24.745Z"
   },
   {
    "duration": 8,
    "start_time": "2024-05-25T08:13:24.758Z"
   },
   {
    "duration": 7,
    "start_time": "2024-05-25T08:13:24.768Z"
   },
   {
    "duration": 9,
    "start_time": "2024-05-25T08:13:24.777Z"
   },
   {
    "duration": 7,
    "start_time": "2024-05-25T08:13:24.789Z"
   },
   {
    "duration": 26,
    "start_time": "2024-05-25T08:13:24.798Z"
   },
   {
    "duration": 16,
    "start_time": "2024-05-25T08:13:24.827Z"
   },
   {
    "duration": 14,
    "start_time": "2024-05-25T08:13:24.845Z"
   },
   {
    "duration": 11,
    "start_time": "2024-05-25T08:13:24.873Z"
   },
   {
    "duration": 19,
    "start_time": "2024-05-25T08:13:24.886Z"
   },
   {
    "duration": 21,
    "start_time": "2024-05-25T08:13:24.907Z"
   },
   {
    "duration": 21,
    "start_time": "2024-05-25T08:13:24.929Z"
   },
   {
    "duration": 27,
    "start_time": "2024-05-25T08:13:24.952Z"
   },
   {
    "duration": 198,
    "start_time": "2024-05-25T08:13:24.981Z"
   },
   {
    "duration": 195,
    "start_time": "2024-05-25T08:13:25.181Z"
   },
   {
    "duration": 7,
    "start_time": "2024-05-25T08:13:25.378Z"
   },
   {
    "duration": 204,
    "start_time": "2024-05-25T08:13:25.387Z"
   },
   {
    "duration": 6,
    "start_time": "2024-05-25T08:13:25.593Z"
   },
   {
    "duration": 12,
    "start_time": "2024-05-25T08:13:25.601Z"
   },
   {
    "duration": 150,
    "start_time": "2024-05-25T08:13:25.614Z"
   },
   {
    "duration": 158,
    "start_time": "2024-05-25T08:13:25.772Z"
   },
   {
    "duration": 10,
    "start_time": "2024-05-25T08:13:25.931Z"
   },
   {
    "duration": 225,
    "start_time": "2024-05-25T08:13:25.942Z"
   },
   {
    "duration": 56,
    "start_time": "2024-05-25T11:43:41.466Z"
   },
   {
    "duration": 1782,
    "start_time": "2024-05-25T11:43:49.833Z"
   },
   {
    "duration": 13,
    "start_time": "2024-05-25T11:43:51.617Z"
   },
   {
    "duration": 46,
    "start_time": "2024-05-25T11:43:51.631Z"
   },
   {
    "duration": 14,
    "start_time": "2024-05-25T11:43:51.679Z"
   },
   {
    "duration": 6,
    "start_time": "2024-05-25T11:43:51.695Z"
   },
   {
    "duration": 8,
    "start_time": "2024-05-25T11:43:51.703Z"
   },
   {
    "duration": 4,
    "start_time": "2024-05-25T11:43:51.713Z"
   },
   {
    "duration": 8,
    "start_time": "2024-05-25T11:43:51.719Z"
   },
   {
    "duration": 17,
    "start_time": "2024-05-25T11:43:51.729Z"
   },
   {
    "duration": 34,
    "start_time": "2024-05-25T11:43:51.750Z"
   },
   {
    "duration": 8,
    "start_time": "2024-05-25T11:43:51.786Z"
   },
   {
    "duration": 6,
    "start_time": "2024-05-25T11:43:51.796Z"
   },
   {
    "duration": 9,
    "start_time": "2024-05-25T11:43:51.804Z"
   },
   {
    "duration": 12,
    "start_time": "2024-05-25T11:43:51.815Z"
   },
   {
    "duration": 58,
    "start_time": "2024-05-25T11:43:51.828Z"
   },
   {
    "duration": 13,
    "start_time": "2024-05-25T11:43:51.889Z"
   },
   {
    "duration": 15,
    "start_time": "2024-05-25T11:43:51.903Z"
   },
   {
    "duration": 12,
    "start_time": "2024-05-25T11:43:51.920Z"
   },
   {
    "duration": 7,
    "start_time": "2024-05-25T11:43:51.934Z"
   },
   {
    "duration": 48,
    "start_time": "2024-05-25T11:43:51.942Z"
   },
   {
    "duration": 18,
    "start_time": "2024-05-25T11:43:51.992Z"
   },
   {
    "duration": 247,
    "start_time": "2024-05-25T11:43:52.012Z"
   },
   {
    "duration": 199,
    "start_time": "2024-05-25T11:43:52.261Z"
   },
   {
    "duration": 6,
    "start_time": "2024-05-25T11:43:52.462Z"
   },
   {
    "duration": 234,
    "start_time": "2024-05-25T11:43:52.483Z"
   },
   {
    "duration": 7,
    "start_time": "2024-05-25T11:43:52.720Z"
   },
   {
    "duration": 17,
    "start_time": "2024-05-25T11:43:52.728Z"
   },
   {
    "duration": 180,
    "start_time": "2024-05-25T11:43:52.748Z"
   },
   {
    "duration": 189,
    "start_time": "2024-05-25T11:43:52.930Z"
   },
   {
    "duration": 9,
    "start_time": "2024-05-25T11:43:53.121Z"
   },
   {
    "duration": 287,
    "start_time": "2024-05-25T11:43:53.131Z"
   },
   {
    "duration": 1302,
    "start_time": "2024-05-25T11:45:45.120Z"
   },
   {
    "duration": 11,
    "start_time": "2024-05-25T11:45:46.424Z"
   },
   {
    "duration": 91,
    "start_time": "2024-05-25T11:45:46.437Z"
   },
   {
    "duration": 36,
    "start_time": "2024-05-25T11:45:46.530Z"
   },
   {
    "duration": 59,
    "start_time": "2024-05-25T11:45:46.568Z"
   },
   {
    "duration": 34,
    "start_time": "2024-05-25T11:45:46.629Z"
   },
   {
    "duration": 4,
    "start_time": "2024-05-25T11:45:46.664Z"
   },
   {
    "duration": 7,
    "start_time": "2024-05-25T11:45:46.670Z"
   },
   {
    "duration": 25,
    "start_time": "2024-05-25T11:45:46.678Z"
   },
   {
    "duration": 8,
    "start_time": "2024-05-25T11:45:46.706Z"
   },
   {
    "duration": 22,
    "start_time": "2024-05-25T11:45:46.716Z"
   },
   {
    "duration": 21,
    "start_time": "2024-05-25T11:45:46.740Z"
   },
   {
    "duration": 34,
    "start_time": "2024-05-25T11:45:46.763Z"
   },
   {
    "duration": 8,
    "start_time": "2024-05-25T11:45:46.799Z"
   },
   {
    "duration": 19,
    "start_time": "2024-05-25T11:45:46.809Z"
   },
   {
    "duration": 11,
    "start_time": "2024-05-25T11:45:46.830Z"
   },
   {
    "duration": 20,
    "start_time": "2024-05-25T11:45:46.843Z"
   },
   {
    "duration": 29,
    "start_time": "2024-05-25T11:45:46.865Z"
   },
   {
    "duration": 7,
    "start_time": "2024-05-25T11:45:46.896Z"
   },
   {
    "duration": 16,
    "start_time": "2024-05-25T11:45:46.904Z"
   },
   {
    "duration": 38,
    "start_time": "2024-05-25T11:45:46.921Z"
   },
   {
    "duration": 305,
    "start_time": "2024-05-25T11:45:46.960Z"
   },
   {
    "duration": 0,
    "start_time": "2024-05-25T11:45:47.267Z"
   },
   {
    "duration": 0,
    "start_time": "2024-05-25T11:45:47.268Z"
   },
   {
    "duration": 0,
    "start_time": "2024-05-25T11:45:47.269Z"
   },
   {
    "duration": 0,
    "start_time": "2024-05-25T11:45:47.271Z"
   },
   {
    "duration": 0,
    "start_time": "2024-05-25T11:45:47.281Z"
   },
   {
    "duration": 0,
    "start_time": "2024-05-25T11:45:47.282Z"
   },
   {
    "duration": 0,
    "start_time": "2024-05-25T11:45:47.283Z"
   },
   {
    "duration": 0,
    "start_time": "2024-05-25T11:45:47.284Z"
   },
   {
    "duration": 0,
    "start_time": "2024-05-25T11:45:47.284Z"
   },
   {
    "duration": 207,
    "start_time": "2024-05-25T11:46:10.890Z"
   },
   {
    "duration": 197,
    "start_time": "2024-05-25T11:46:36.257Z"
   },
   {
    "duration": 238,
    "start_time": "2024-05-25T11:47:30.361Z"
   },
   {
    "duration": 17,
    "start_time": "2024-05-25T11:50:44.768Z"
   },
   {
    "duration": 11,
    "start_time": "2024-05-25T11:50:49.026Z"
   },
   {
    "duration": 11,
    "start_time": "2024-05-25T11:51:01.699Z"
   },
   {
    "duration": 6,
    "start_time": "2024-05-25T11:54:36.411Z"
   },
   {
    "duration": 210,
    "start_time": "2024-05-25T11:55:20.116Z"
   },
   {
    "duration": 216,
    "start_time": "2024-05-25T11:55:48.762Z"
   },
   {
    "duration": 215,
    "start_time": "2024-05-25T11:56:03.418Z"
   },
   {
    "duration": 7,
    "start_time": "2024-05-25T11:57:07.764Z"
   },
   {
    "duration": 8,
    "start_time": "2024-05-25T11:57:19.846Z"
   },
   {
    "duration": 1392,
    "start_time": "2024-05-25T12:01:27.448Z"
   },
   {
    "duration": 13,
    "start_time": "2024-05-25T12:01:28.842Z"
   },
   {
    "duration": 23,
    "start_time": "2024-05-25T12:01:28.856Z"
   },
   {
    "duration": 27,
    "start_time": "2024-05-25T12:01:28.881Z"
   },
   {
    "duration": 7,
    "start_time": "2024-05-25T12:01:28.910Z"
   },
   {
    "duration": 12,
    "start_time": "2024-05-25T12:01:28.919Z"
   },
   {
    "duration": 4,
    "start_time": "2024-05-25T12:01:28.933Z"
   },
   {
    "duration": 10,
    "start_time": "2024-05-25T12:01:28.939Z"
   },
   {
    "duration": 9,
    "start_time": "2024-05-25T12:01:28.951Z"
   },
   {
    "duration": 8,
    "start_time": "2024-05-25T12:01:28.963Z"
   },
   {
    "duration": 30,
    "start_time": "2024-05-25T12:01:28.973Z"
   },
   {
    "duration": 7,
    "start_time": "2024-05-25T12:01:29.005Z"
   },
   {
    "duration": 18,
    "start_time": "2024-05-25T12:01:29.014Z"
   },
   {
    "duration": 10,
    "start_time": "2024-05-25T12:01:29.034Z"
   },
   {
    "duration": 12,
    "start_time": "2024-05-25T12:01:29.046Z"
   },
   {
    "duration": 41,
    "start_time": "2024-05-25T12:01:29.060Z"
   },
   {
    "duration": 14,
    "start_time": "2024-05-25T12:01:29.109Z"
   },
   {
    "duration": 35,
    "start_time": "2024-05-25T12:01:29.125Z"
   },
   {
    "duration": 8,
    "start_time": "2024-05-25T12:01:29.162Z"
   },
   {
    "duration": 22,
    "start_time": "2024-05-25T12:01:29.172Z"
   },
   {
    "duration": 80,
    "start_time": "2024-05-25T12:01:29.196Z"
   },
   {
    "duration": 269,
    "start_time": "2024-05-25T12:01:29.278Z"
   },
   {
    "duration": 8,
    "start_time": "2024-05-25T12:01:29.549Z"
   },
   {
    "duration": 5,
    "start_time": "2024-05-25T12:01:29.559Z"
   },
   {
    "duration": 11,
    "start_time": "2024-05-25T12:01:29.580Z"
   },
   {
    "duration": 176,
    "start_time": "2024-05-25T12:01:29.593Z"
   },
   {
    "duration": 209,
    "start_time": "2024-05-25T12:01:29.771Z"
   },
   {
    "duration": 16,
    "start_time": "2024-05-25T12:01:29.983Z"
   },
   {
    "duration": 256,
    "start_time": "2024-05-25T12:01:30.001Z"
   },
   {
    "duration": 7,
    "start_time": "2024-05-25T12:02:19.013Z"
   },
   {
    "duration": 6,
    "start_time": "2024-05-25T12:02:31.459Z"
   },
   {
    "duration": 5,
    "start_time": "2024-05-25T12:03:59.656Z"
   },
   {
    "duration": 4,
    "start_time": "2024-05-25T12:05:05.002Z"
   },
   {
    "duration": 9,
    "start_time": "2024-05-25T12:05:52.792Z"
   },
   {
    "duration": 151,
    "start_time": "2024-05-25T12:06:53.079Z"
   },
   {
    "duration": 205,
    "start_time": "2024-05-25T12:07:55.218Z"
   },
   {
    "duration": 192,
    "start_time": "2024-05-25T12:08:04.526Z"
   },
   {
    "duration": 199,
    "start_time": "2024-05-25T12:08:10.494Z"
   },
   {
    "duration": 4,
    "start_time": "2024-05-25T12:10:07.115Z"
   },
   {
    "duration": 338,
    "start_time": "2024-05-25T12:10:25.891Z"
   },
   {
    "duration": 234,
    "start_time": "2024-05-25T12:10:44.276Z"
   },
   {
    "duration": 5,
    "start_time": "2024-05-25T12:11:14.453Z"
   },
   {
    "duration": 112,
    "start_time": "2024-05-25T12:12:01.865Z"
   },
   {
    "duration": 10,
    "start_time": "2024-05-25T12:13:41.293Z"
   },
   {
    "duration": 4,
    "start_time": "2024-05-25T12:14:36.912Z"
   },
   {
    "duration": 5,
    "start_time": "2024-05-25T12:14:56.621Z"
   },
   {
    "duration": 179,
    "start_time": "2024-05-25T12:15:27.690Z"
   },
   {
    "duration": 6,
    "start_time": "2024-05-25T12:20:44.678Z"
   },
   {
    "duration": 174,
    "start_time": "2024-05-25T12:21:32.751Z"
   },
   {
    "duration": 188,
    "start_time": "2024-05-25T12:25:16.505Z"
   },
   {
    "duration": 194,
    "start_time": "2024-05-25T12:26:12.318Z"
   },
   {
    "duration": 204,
    "start_time": "2024-05-25T12:26:36.867Z"
   },
   {
    "duration": 10,
    "start_time": "2024-05-25T12:31:44.627Z"
   },
   {
    "duration": 124,
    "start_time": "2024-05-25T12:36:50.356Z"
   },
   {
    "duration": 127,
    "start_time": "2024-05-25T12:38:22.159Z"
   },
   {
    "duration": 133,
    "start_time": "2024-05-25T12:38:46.115Z"
   },
   {
    "duration": 9,
    "start_time": "2024-05-25T12:39:08.876Z"
   },
   {
    "duration": 15,
    "start_time": "2024-05-25T12:44:36.585Z"
   },
   {
    "duration": 10,
    "start_time": "2024-05-25T12:44:56.473Z"
   },
   {
    "duration": 13,
    "start_time": "2024-05-25T12:45:03.164Z"
   },
   {
    "duration": 14,
    "start_time": "2024-05-25T12:45:55.579Z"
   },
   {
    "duration": 14,
    "start_time": "2024-05-25T12:46:22.171Z"
   },
   {
    "duration": 17,
    "start_time": "2024-05-25T12:46:35.106Z"
   },
   {
    "duration": 173,
    "start_time": "2024-05-25T12:49:05.442Z"
   },
   {
    "duration": 312,
    "start_time": "2024-05-25T12:49:14.313Z"
   },
   {
    "duration": 294,
    "start_time": "2024-05-25T12:49:40.593Z"
   },
   {
    "duration": 204,
    "start_time": "2024-05-25T12:50:16.314Z"
   },
   {
    "duration": 14,
    "start_time": "2024-05-25T12:56:59.027Z"
   },
   {
    "duration": 14,
    "start_time": "2024-05-25T12:57:06.942Z"
   },
   {
    "duration": 112,
    "start_time": "2024-05-25T12:57:49.894Z"
   },
   {
    "duration": 15,
    "start_time": "2024-05-25T12:58:01.037Z"
   },
   {
    "duration": 15,
    "start_time": "2024-05-25T12:58:22.510Z"
   },
   {
    "duration": 6,
    "start_time": "2024-05-25T12:58:41.845Z"
   },
   {
    "duration": 6,
    "start_time": "2024-05-25T12:58:53.187Z"
   },
   {
    "duration": 5,
    "start_time": "2024-05-25T13:01:19.245Z"
   },
   {
    "duration": 5,
    "start_time": "2024-05-25T13:01:29.106Z"
   },
   {
    "duration": 5,
    "start_time": "2024-05-25T13:01:56.746Z"
   },
   {
    "duration": 5,
    "start_time": "2024-05-25T13:02:15.783Z"
   },
   {
    "duration": 10,
    "start_time": "2024-05-25T13:04:42.729Z"
   },
   {
    "duration": 140,
    "start_time": "2024-05-25T13:06:00.378Z"
   },
   {
    "duration": 131,
    "start_time": "2024-05-25T13:06:41.697Z"
   },
   {
    "duration": 290,
    "start_time": "2024-05-25T13:08:55.290Z"
   },
   {
    "duration": 270,
    "start_time": "2024-05-25T13:09:24.751Z"
   },
   {
    "duration": 14,
    "start_time": "2024-05-25T13:10:29.789Z"
   },
   {
    "duration": 6,
    "start_time": "2024-05-25T13:10:42.409Z"
   },
   {
    "duration": 6,
    "start_time": "2024-05-25T13:11:42.062Z"
   },
   {
    "duration": 5,
    "start_time": "2024-05-25T13:11:47.096Z"
   },
   {
    "duration": 29,
    "start_time": "2024-05-25T13:55:09.220Z"
   },
   {
    "duration": 10,
    "start_time": "2024-05-25T13:56:25.581Z"
   },
   {
    "duration": 24,
    "start_time": "2024-05-25T13:56:32.838Z"
   },
   {
    "duration": 9,
    "start_time": "2024-05-25T13:56:39.696Z"
   },
   {
    "duration": 21,
    "start_time": "2024-05-25T13:58:05.059Z"
   },
   {
    "duration": 24,
    "start_time": "2024-05-25T13:58:35.233Z"
   },
   {
    "duration": 14,
    "start_time": "2024-05-25T14:01:57.749Z"
   },
   {
    "duration": 17,
    "start_time": "2024-05-25T14:02:10.157Z"
   },
   {
    "duration": 19,
    "start_time": "2024-05-25T14:02:19.091Z"
   },
   {
    "duration": 16,
    "start_time": "2024-05-25T14:04:10.681Z"
   },
   {
    "duration": 18,
    "start_time": "2024-05-25T14:05:08.218Z"
   },
   {
    "duration": 57,
    "start_time": "2024-05-25T14:10:55.922Z"
   },
   {
    "duration": 11,
    "start_time": "2024-05-25T14:11:08.252Z"
   },
   {
    "duration": 15,
    "start_time": "2024-05-25T14:11:38.454Z"
   },
   {
    "duration": 19,
    "start_time": "2024-05-25T14:11:53.139Z"
   },
   {
    "duration": 4,
    "start_time": "2024-05-25T14:12:39.523Z"
   },
   {
    "duration": 1657,
    "start_time": "2024-05-25T19:31:12.015Z"
   },
   {
    "duration": 12,
    "start_time": "2024-05-25T19:31:13.675Z"
   },
   {
    "duration": 20,
    "start_time": "2024-05-25T19:31:13.689Z"
   },
   {
    "duration": 7,
    "start_time": "2024-05-25T19:31:13.711Z"
   },
   {
    "duration": 5,
    "start_time": "2024-05-25T19:31:13.719Z"
   },
   {
    "duration": 6,
    "start_time": "2024-05-25T19:31:13.726Z"
   },
   {
    "duration": 27,
    "start_time": "2024-05-25T19:31:13.733Z"
   },
   {
    "duration": 9,
    "start_time": "2024-05-25T19:31:13.762Z"
   },
   {
    "duration": 8,
    "start_time": "2024-05-25T19:31:13.772Z"
   },
   {
    "duration": 4,
    "start_time": "2024-05-25T19:31:13.783Z"
   },
   {
    "duration": 6,
    "start_time": "2024-05-25T19:31:13.789Z"
   },
   {
    "duration": 5,
    "start_time": "2024-05-25T19:31:13.796Z"
   },
   {
    "duration": 9,
    "start_time": "2024-05-25T19:31:13.802Z"
   },
   {
    "duration": 12,
    "start_time": "2024-05-25T19:31:13.812Z"
   },
   {
    "duration": 24,
    "start_time": "2024-05-25T19:31:13.826Z"
   },
   {
    "duration": 35,
    "start_time": "2024-05-25T19:31:13.852Z"
   },
   {
    "duration": 15,
    "start_time": "2024-05-25T19:31:13.888Z"
   },
   {
    "duration": 11,
    "start_time": "2024-05-25T19:31:13.905Z"
   },
   {
    "duration": 7,
    "start_time": "2024-05-25T19:31:13.917Z"
   },
   {
    "duration": 11,
    "start_time": "2024-05-25T19:31:13.926Z"
   },
   {
    "duration": 9,
    "start_time": "2024-05-25T19:31:13.939Z"
   },
   {
    "duration": 236,
    "start_time": "2024-05-25T19:31:13.982Z"
   },
   {
    "duration": 9,
    "start_time": "2024-05-25T19:31:14.220Z"
   },
   {
    "duration": 7,
    "start_time": "2024-05-25T19:31:14.230Z"
   },
   {
    "duration": 8,
    "start_time": "2024-05-25T19:31:14.239Z"
   },
   {
    "duration": 205,
    "start_time": "2024-05-25T19:31:14.249Z"
   },
   {
    "duration": 171,
    "start_time": "2024-05-25T19:31:14.456Z"
   },
   {
    "duration": 5,
    "start_time": "2024-05-25T19:31:14.630Z"
   },
   {
    "duration": 11,
    "start_time": "2024-05-25T19:31:14.636Z"
   },
   {
    "duration": 5,
    "start_time": "2024-05-25T19:31:14.649Z"
   },
   {
    "duration": 28,
    "start_time": "2024-05-25T19:31:14.655Z"
   },
   {
    "duration": 173,
    "start_time": "2024-05-25T19:31:14.685Z"
   },
   {
    "duration": 9,
    "start_time": "2024-05-25T19:31:14.859Z"
   },
   {
    "duration": 17,
    "start_time": "2024-05-25T19:31:14.870Z"
   },
   {
    "duration": 132,
    "start_time": "2024-05-25T19:31:14.889Z"
   },
   {
    "duration": 289,
    "start_time": "2024-05-25T19:31:15.022Z"
   },
   {
    "duration": 5,
    "start_time": "2024-05-25T19:31:15.313Z"
   },
   {
    "duration": 10,
    "start_time": "2024-05-25T19:31:15.319Z"
   },
   {
    "duration": 8,
    "start_time": "2024-05-25T19:31:15.331Z"
   },
   {
    "duration": 143,
    "start_time": "2024-05-25T19:31:15.341Z"
   },
   {
    "duration": 355,
    "start_time": "2024-05-25T19:31:15.486Z"
   },
   {
    "duration": 5,
    "start_time": "2024-05-25T19:31:15.843Z"
   },
   {
    "duration": 5,
    "start_time": "2024-05-25T19:31:15.850Z"
   },
   {
    "duration": 41,
    "start_time": "2024-05-25T19:31:15.857Z"
   },
   {
    "duration": 22,
    "start_time": "2024-05-25T19:31:15.901Z"
   },
   {
    "duration": 15,
    "start_time": "2024-05-25T19:31:15.925Z"
   },
   {
    "duration": 42,
    "start_time": "2024-05-25T19:31:15.941Z"
   },
   {
    "duration": 4,
    "start_time": "2024-05-25T19:31:15.985Z"
   },
   {
    "duration": 15,
    "start_time": "2024-05-25T19:32:22.984Z"
   },
   {
    "duration": 17,
    "start_time": "2024-05-25T19:32:47.245Z"
   },
   {
    "duration": 4,
    "start_time": "2024-05-25T19:33:08.877Z"
   },
   {
    "duration": 288,
    "start_time": "2024-05-25T19:38:27.979Z"
   },
   {
    "duration": 281,
    "start_time": "2024-05-25T19:39:23.401Z"
   },
   {
    "duration": 299,
    "start_time": "2024-05-25T19:41:13.888Z"
   },
   {
    "duration": 313,
    "start_time": "2024-05-25T19:41:29.929Z"
   },
   {
    "duration": 137,
    "start_time": "2024-05-25T19:44:59.094Z"
   },
   {
    "duration": 323,
    "start_time": "2024-05-25T19:47:02.953Z"
   },
   {
    "duration": 218,
    "start_time": "2024-05-25T19:47:14.755Z"
   },
   {
    "duration": 227,
    "start_time": "2024-05-25T19:47:25.014Z"
   },
   {
    "duration": 192,
    "start_time": "2024-05-25T19:47:32.039Z"
   },
   {
    "duration": 148,
    "start_time": "2024-05-25T19:54:32.262Z"
   },
   {
    "duration": 152,
    "start_time": "2024-05-25T19:54:50.382Z"
   },
   {
    "duration": 12,
    "start_time": "2024-05-25T20:03:05.432Z"
   },
   {
    "duration": 11,
    "start_time": "2024-05-25T20:05:26.460Z"
   },
   {
    "duration": 13,
    "start_time": "2024-05-25T20:05:33.761Z"
   },
   {
    "duration": 12,
    "start_time": "2024-05-25T20:07:02.011Z"
   },
   {
    "duration": 13,
    "start_time": "2024-05-25T20:07:05.330Z"
   },
   {
    "duration": 12,
    "start_time": "2024-05-25T20:08:22.779Z"
   },
   {
    "duration": 12,
    "start_time": "2024-05-25T20:08:24.326Z"
   },
   {
    "duration": 12,
    "start_time": "2024-05-25T20:08:27.611Z"
   },
   {
    "duration": 23,
    "start_time": "2024-05-25T20:08:51.860Z"
   },
   {
    "duration": 20,
    "start_time": "2024-05-25T20:08:54.806Z"
   },
   {
    "duration": 18,
    "start_time": "2024-05-25T20:09:09.319Z"
   },
   {
    "duration": 15,
    "start_time": "2024-05-25T20:09:12.280Z"
   },
   {
    "duration": 4,
    "start_time": "2024-05-25T20:11:40.466Z"
   },
   {
    "duration": 9,
    "start_time": "2024-05-25T20:11:55.256Z"
   },
   {
    "duration": 102,
    "start_time": "2024-05-25T20:13:43.008Z"
   },
   {
    "duration": 4,
    "start_time": "2024-05-25T20:13:56.001Z"
   },
   {
    "duration": 13,
    "start_time": "2024-05-25T20:14:18.873Z"
   },
   {
    "duration": 7,
    "start_time": "2024-05-25T20:16:20.768Z"
   },
   {
    "duration": 5,
    "start_time": "2024-05-25T20:16:33.534Z"
   },
   {
    "duration": 12,
    "start_time": "2024-05-25T20:16:37.941Z"
   },
   {
    "duration": 1229,
    "start_time": "2024-05-25T20:18:01.437Z"
   },
   {
    "duration": 12,
    "start_time": "2024-05-25T20:18:02.668Z"
   },
   {
    "duration": 16,
    "start_time": "2024-05-25T20:18:02.681Z"
   },
   {
    "duration": 5,
    "start_time": "2024-05-25T20:18:02.699Z"
   },
   {
    "duration": 6,
    "start_time": "2024-05-25T20:18:02.706Z"
   },
   {
    "duration": 6,
    "start_time": "2024-05-25T20:18:02.713Z"
   },
   {
    "duration": 3,
    "start_time": "2024-05-25T20:18:02.720Z"
   },
   {
    "duration": 6,
    "start_time": "2024-05-25T20:18:02.725Z"
   },
   {
    "duration": 4,
    "start_time": "2024-05-25T20:18:02.733Z"
   },
   {
    "duration": 4,
    "start_time": "2024-05-25T20:18:02.739Z"
   },
   {
    "duration": 39,
    "start_time": "2024-05-25T20:18:02.744Z"
   },
   {
    "duration": 4,
    "start_time": "2024-05-25T20:18:02.785Z"
   },
   {
    "duration": 25,
    "start_time": "2024-05-25T20:18:02.791Z"
   },
   {
    "duration": 13,
    "start_time": "2024-05-25T20:18:02.817Z"
   },
   {
    "duration": 16,
    "start_time": "2024-05-25T20:18:02.832Z"
   },
   {
    "duration": 16,
    "start_time": "2024-05-25T20:18:02.850Z"
   },
   {
    "duration": 17,
    "start_time": "2024-05-25T20:18:02.867Z"
   },
   {
    "duration": 8,
    "start_time": "2024-05-25T20:18:02.886Z"
   },
   {
    "duration": 17,
    "start_time": "2024-05-25T20:18:02.896Z"
   },
   {
    "duration": 12,
    "start_time": "2024-05-25T20:18:02.915Z"
   },
   {
    "duration": 7,
    "start_time": "2024-05-25T20:18:02.929Z"
   },
   {
    "duration": 13,
    "start_time": "2024-05-25T20:18:02.938Z"
   },
   {
    "duration": 33,
    "start_time": "2024-05-25T20:18:02.953Z"
   },
   {
    "duration": 211,
    "start_time": "2024-05-25T20:18:02.988Z"
   },
   {
    "duration": 8,
    "start_time": "2024-05-25T20:18:03.201Z"
   },
   {
    "duration": 5,
    "start_time": "2024-05-25T20:18:03.210Z"
   },
   {
    "duration": 8,
    "start_time": "2024-05-25T20:18:03.217Z"
   },
   {
    "duration": 161,
    "start_time": "2024-05-25T20:18:03.229Z"
   },
   {
    "duration": 162,
    "start_time": "2024-05-25T20:18:03.392Z"
   },
   {
    "duration": 5,
    "start_time": "2024-05-25T20:18:03.556Z"
   },
   {
    "duration": 20,
    "start_time": "2024-05-25T20:18:03.563Z"
   },
   {
    "duration": 5,
    "start_time": "2024-05-25T20:18:03.585Z"
   },
   {
    "duration": 5,
    "start_time": "2024-05-25T20:18:03.591Z"
   },
   {
    "duration": 199,
    "start_time": "2024-05-25T20:18:03.598Z"
   },
   {
    "duration": 11,
    "start_time": "2024-05-25T20:18:03.798Z"
   },
   {
    "duration": 8,
    "start_time": "2024-05-25T20:18:03.810Z"
   },
   {
    "duration": 143,
    "start_time": "2024-05-25T20:18:03.819Z"
   },
   {
    "duration": 289,
    "start_time": "2024-05-25T20:18:03.963Z"
   },
   {
    "duration": 5,
    "start_time": "2024-05-25T20:18:04.254Z"
   },
   {
    "duration": 6,
    "start_time": "2024-05-25T20:18:04.260Z"
   },
   {
    "duration": 21,
    "start_time": "2024-05-25T20:18:04.267Z"
   },
   {
    "duration": 140,
    "start_time": "2024-05-25T20:18:04.290Z"
   },
   {
    "duration": 366,
    "start_time": "2024-05-25T20:18:04.431Z"
   },
   {
    "duration": 6,
    "start_time": "2024-05-25T20:18:04.799Z"
   },
   {
    "duration": 6,
    "start_time": "2024-05-25T20:18:04.806Z"
   },
   {
    "duration": 19,
    "start_time": "2024-05-25T20:18:04.813Z"
   },
   {
    "duration": 50,
    "start_time": "2024-05-25T20:18:04.833Z"
   },
   {
    "duration": 15,
    "start_time": "2024-05-25T20:18:04.884Z"
   },
   {
    "duration": 17,
    "start_time": "2024-05-25T20:18:04.901Z"
   },
   {
    "duration": 4,
    "start_time": "2024-05-25T20:18:04.920Z"
   },
   {
    "duration": 22,
    "start_time": "2024-05-25T20:18:04.925Z"
   },
   {
    "duration": 4,
    "start_time": "2024-05-25T20:18:04.949Z"
   },
   {
    "duration": 262,
    "start_time": "2024-05-25T20:18:04.954Z"
   },
   {
    "duration": 247,
    "start_time": "2024-05-25T20:18:05.217Z"
   },
   {
    "duration": 199,
    "start_time": "2024-05-25T20:18:05.466Z"
   },
   {
    "duration": 230,
    "start_time": "2024-05-25T20:18:05.666Z"
   },
   {
    "duration": 13,
    "start_time": "2024-05-25T20:18:05.897Z"
   },
   {
    "duration": 30,
    "start_time": "2024-05-25T20:18:05.912Z"
   },
   {
    "duration": 14,
    "start_time": "2024-05-25T20:18:05.944Z"
   },
   {
    "duration": 243,
    "start_time": "2024-05-25T20:19:18.381Z"
   },
   {
    "duration": 184,
    "start_time": "2024-05-25T20:19:25.667Z"
   },
   {
    "duration": 162,
    "start_time": "2024-05-25T20:19:37.002Z"
   },
   {
    "duration": 272,
    "start_time": "2024-05-25T20:20:25.390Z"
   },
   {
    "duration": 221,
    "start_time": "2024-05-25T20:20:59.312Z"
   },
   {
    "duration": 215,
    "start_time": "2024-05-25T20:21:45.409Z"
   },
   {
    "duration": 230,
    "start_time": "2024-05-25T20:21:55.819Z"
   },
   {
    "duration": 188,
    "start_time": "2024-05-25T20:22:01.008Z"
   },
   {
    "duration": 197,
    "start_time": "2024-05-25T20:22:46.842Z"
   },
   {
    "duration": 177,
    "start_time": "2024-05-25T20:22:56.654Z"
   },
   {
    "duration": 211,
    "start_time": "2024-05-25T20:23:02.975Z"
   },
   {
    "duration": 201,
    "start_time": "2024-05-25T20:23:09.502Z"
   },
   {
    "duration": 160,
    "start_time": "2024-05-25T20:23:23.198Z"
   },
   {
    "duration": 23,
    "start_time": "2024-05-25T20:26:08.190Z"
   },
   {
    "duration": 40,
    "start_time": "2024-05-25T20:26:10.964Z"
   },
   {
    "duration": 17,
    "start_time": "2024-05-25T20:26:57.198Z"
   },
   {
    "duration": 15,
    "start_time": "2024-05-25T20:26:59.504Z"
   },
   {
    "duration": 24,
    "start_time": "2024-05-25T20:31:02.596Z"
   },
   {
    "duration": 16,
    "start_time": "2024-05-25T20:31:05.509Z"
   },
   {
    "duration": 1538,
    "start_time": "2024-05-27T06:39:16.234Z"
   },
   {
    "duration": 12,
    "start_time": "2024-05-27T06:39:17.774Z"
   },
   {
    "duration": 24,
    "start_time": "2024-05-27T06:39:17.788Z"
   },
   {
    "duration": 7,
    "start_time": "2024-05-27T06:39:17.814Z"
   },
   {
    "duration": 5,
    "start_time": "2024-05-27T06:39:17.822Z"
   },
   {
    "duration": 9,
    "start_time": "2024-05-27T06:39:17.828Z"
   },
   {
    "duration": 4,
    "start_time": "2024-05-27T06:39:17.839Z"
   },
   {
    "duration": 10,
    "start_time": "2024-05-27T06:39:17.845Z"
   },
   {
    "duration": 6,
    "start_time": "2024-05-27T06:39:17.857Z"
   },
   {
    "duration": 4,
    "start_time": "2024-05-27T06:39:17.866Z"
   },
   {
    "duration": 5,
    "start_time": "2024-05-27T06:39:17.871Z"
   },
   {
    "duration": 12,
    "start_time": "2024-05-27T06:39:17.878Z"
   },
   {
    "duration": 9,
    "start_time": "2024-05-27T06:39:17.891Z"
   },
   {
    "duration": 19,
    "start_time": "2024-05-27T06:39:17.902Z"
   },
   {
    "duration": 23,
    "start_time": "2024-05-27T06:39:17.922Z"
   },
   {
    "duration": 10,
    "start_time": "2024-05-27T06:39:17.946Z"
   },
   {
    "duration": 13,
    "start_time": "2024-05-27T06:39:17.957Z"
   },
   {
    "duration": 12,
    "start_time": "2024-05-27T06:39:17.971Z"
   },
   {
    "duration": 23,
    "start_time": "2024-05-27T06:39:17.985Z"
   },
   {
    "duration": 20,
    "start_time": "2024-05-27T06:39:18.010Z"
   },
   {
    "duration": 22,
    "start_time": "2024-05-27T06:39:18.032Z"
   },
   {
    "duration": 24,
    "start_time": "2024-05-27T06:39:18.056Z"
   },
   {
    "duration": 20,
    "start_time": "2024-05-27T06:39:18.081Z"
   },
   {
    "duration": 210,
    "start_time": "2024-05-27T06:39:18.103Z"
   },
   {
    "duration": 8,
    "start_time": "2024-05-27T06:39:18.314Z"
   },
   {
    "duration": 6,
    "start_time": "2024-05-27T06:39:18.323Z"
   },
   {
    "duration": 9,
    "start_time": "2024-05-27T06:39:18.346Z"
   },
   {
    "duration": 141,
    "start_time": "2024-05-27T06:39:18.360Z"
   },
   {
    "duration": 143,
    "start_time": "2024-05-27T06:39:18.503Z"
   },
   {
    "duration": 4,
    "start_time": "2024-05-27T06:39:18.648Z"
   },
   {
    "duration": 9,
    "start_time": "2024-05-27T06:39:18.653Z"
   },
   {
    "duration": 8,
    "start_time": "2024-05-27T06:39:18.663Z"
   },
   {
    "duration": 8,
    "start_time": "2024-05-27T06:39:18.672Z"
   },
   {
    "duration": 166,
    "start_time": "2024-05-27T06:39:18.681Z"
   },
   {
    "duration": 8,
    "start_time": "2024-05-27T06:39:18.849Z"
   },
   {
    "duration": 10,
    "start_time": "2024-05-27T06:39:18.858Z"
   },
   {
    "duration": 124,
    "start_time": "2024-05-27T06:39:18.869Z"
   },
   {
    "duration": 262,
    "start_time": "2024-05-27T06:39:18.994Z"
   },
   {
    "duration": 5,
    "start_time": "2024-05-27T06:39:19.257Z"
   },
   {
    "duration": 13,
    "start_time": "2024-05-27T06:39:19.264Z"
   },
   {
    "duration": 12,
    "start_time": "2024-05-27T06:39:19.278Z"
   },
   {
    "duration": 131,
    "start_time": "2024-05-27T06:39:19.292Z"
   },
   {
    "duration": 293,
    "start_time": "2024-05-27T06:39:19.424Z"
   },
   {
    "duration": 5,
    "start_time": "2024-05-27T06:39:19.718Z"
   },
   {
    "duration": 22,
    "start_time": "2024-05-27T06:39:19.724Z"
   },
   {
    "duration": 25,
    "start_time": "2024-05-27T06:39:19.748Z"
   },
   {
    "duration": 23,
    "start_time": "2024-05-27T06:39:19.775Z"
   },
   {
    "duration": 13,
    "start_time": "2024-05-27T06:39:19.800Z"
   },
   {
    "duration": 38,
    "start_time": "2024-05-27T06:39:19.814Z"
   },
   {
    "duration": 4,
    "start_time": "2024-05-27T06:39:19.854Z"
   },
   {
    "duration": 16,
    "start_time": "2024-05-27T06:39:19.860Z"
   },
   {
    "duration": 5,
    "start_time": "2024-05-27T06:39:19.878Z"
   },
   {
    "duration": 219,
    "start_time": "2024-05-27T06:39:19.884Z"
   },
   {
    "duration": 151,
    "start_time": "2024-05-27T06:39:20.105Z"
   },
   {
    "duration": 190,
    "start_time": "2024-05-27T06:39:20.257Z"
   },
   {
    "duration": 152,
    "start_time": "2024-05-27T06:39:20.448Z"
   },
   {
    "duration": 11,
    "start_time": "2024-05-27T06:39:20.602Z"
   },
   {
    "duration": 42,
    "start_time": "2024-05-27T06:39:20.614Z"
   },
   {
    "duration": 14,
    "start_time": "2024-05-27T06:39:20.658Z"
   },
   {
    "duration": 29,
    "start_time": "2024-05-27T06:43:46.995Z"
   },
   {
    "duration": 19,
    "start_time": "2024-05-27T06:43:49.550Z"
   },
   {
    "duration": 22,
    "start_time": "2024-05-27T06:48:05.626Z"
   },
   {
    "duration": 13,
    "start_time": "2024-05-27T06:48:08.450Z"
   },
   {
    "duration": 78,
    "start_time": "2024-05-27T06:49:02.883Z"
   },
   {
    "duration": 21,
    "start_time": "2024-05-27T06:49:05.541Z"
   },
   {
    "duration": 36,
    "start_time": "2024-05-27T06:50:28.370Z"
   },
   {
    "duration": 17,
    "start_time": "2024-05-27T06:50:30.580Z"
   },
   {
    "duration": 3,
    "start_time": "2024-05-27T06:52:42.383Z"
   },
   {
    "duration": 53,
    "start_time": "2024-05-27T06:52:49.056Z"
   },
   {
    "duration": 22,
    "start_time": "2024-05-27T06:52:51.944Z"
   },
   {
    "duration": 40,
    "start_time": "2024-05-27T06:59:13.413Z"
   },
   {
    "duration": 16,
    "start_time": "2024-05-27T06:59:15.338Z"
   },
   {
    "duration": 41,
    "start_time": "2024-05-27T06:59:55.896Z"
   },
   {
    "duration": 21,
    "start_time": "2024-05-27T06:59:58.115Z"
   },
   {
    "duration": 40,
    "start_time": "2024-05-27T07:03:54.764Z"
   },
   {
    "duration": 17,
    "start_time": "2024-05-27T07:03:57.589Z"
   },
   {
    "duration": 15,
    "start_time": "2024-05-27T07:05:34.769Z"
   },
   {
    "duration": 41,
    "start_time": "2024-05-27T07:06:22.708Z"
   },
   {
    "duration": 11,
    "start_time": "2024-05-27T07:06:24.891Z"
   },
   {
    "duration": 3,
    "start_time": "2024-05-27T07:08:33.439Z"
   },
   {
    "duration": 10,
    "start_time": "2024-05-27T07:08:41.989Z"
   },
   {
    "duration": 54,
    "start_time": "2024-05-27T07:10:00.373Z"
   },
   {
    "duration": 9,
    "start_time": "2024-05-27T07:10:33.431Z"
   },
   {
    "duration": 104,
    "start_time": "2024-05-27T07:21:02.145Z"
   },
   {
    "duration": 4,
    "start_time": "2024-05-27T07:21:23.036Z"
   },
   {
    "duration": 4,
    "start_time": "2024-05-27T07:21:26.624Z"
   },
   {
    "duration": 15,
    "start_time": "2024-05-27T07:21:37.332Z"
   },
   {
    "duration": 17,
    "start_time": "2024-05-27T07:22:01.623Z"
   },
   {
    "duration": 11,
    "start_time": "2024-05-27T07:22:26.111Z"
   },
   {
    "duration": 8,
    "start_time": "2024-05-27T07:27:05.495Z"
   },
   {
    "duration": 10,
    "start_time": "2024-05-27T07:27:45.480Z"
   },
   {
    "duration": 11,
    "start_time": "2024-05-27T07:28:53.250Z"
   },
   {
    "duration": 56,
    "start_time": "2024-05-27T07:31:37.991Z"
   },
   {
    "duration": 4,
    "start_time": "2024-05-27T07:32:35.407Z"
   },
   {
    "duration": 9,
    "start_time": "2024-05-27T07:32:47.596Z"
   },
   {
    "duration": 12,
    "start_time": "2024-05-27T09:27:34.146Z"
   },
   {
    "duration": 11,
    "start_time": "2024-05-27T10:09:40.930Z"
   },
   {
    "duration": 9,
    "start_time": "2024-05-27T10:11:09.308Z"
   },
   {
    "duration": 23,
    "start_time": "2024-05-27T10:11:23.819Z"
   },
   {
    "duration": 8,
    "start_time": "2024-05-27T10:11:51.627Z"
   },
   {
    "duration": 5,
    "start_time": "2024-05-27T10:11:53.500Z"
   },
   {
    "duration": 9,
    "start_time": "2024-05-27T10:12:58.804Z"
   },
   {
    "duration": 5,
    "start_time": "2024-05-27T10:13:01.299Z"
   },
   {
    "duration": 14,
    "start_time": "2024-05-27T10:15:54.511Z"
   },
   {
    "duration": 10,
    "start_time": "2024-05-27T10:18:51.624Z"
   },
   {
    "duration": 4,
    "start_time": "2024-05-27T10:20:06.732Z"
   },
   {
    "duration": 3,
    "start_time": "2024-05-27T10:20:20.355Z"
   },
   {
    "duration": 1477,
    "start_time": "2024-05-29T08:13:11.414Z"
   },
   {
    "duration": 10,
    "start_time": "2024-05-29T08:13:12.893Z"
   },
   {
    "duration": 10,
    "start_time": "2024-05-29T08:13:12.905Z"
   },
   {
    "duration": 5,
    "start_time": "2024-05-29T08:13:12.917Z"
   },
   {
    "duration": 5,
    "start_time": "2024-05-29T08:13:12.923Z"
   },
   {
    "duration": 5,
    "start_time": "2024-05-29T08:13:12.929Z"
   },
   {
    "duration": 4,
    "start_time": "2024-05-29T08:13:12.935Z"
   },
   {
    "duration": 5,
    "start_time": "2024-05-29T08:13:12.940Z"
   },
   {
    "duration": 8,
    "start_time": "2024-05-29T08:13:12.946Z"
   },
   {
    "duration": 4,
    "start_time": "2024-05-29T08:13:12.956Z"
   },
   {
    "duration": 5,
    "start_time": "2024-05-29T08:13:12.961Z"
   },
   {
    "duration": 4,
    "start_time": "2024-05-29T08:13:12.968Z"
   },
   {
    "duration": 5,
    "start_time": "2024-05-29T08:13:13.013Z"
   },
   {
    "duration": 7,
    "start_time": "2024-05-29T08:13:13.020Z"
   },
   {
    "duration": 15,
    "start_time": "2024-05-29T08:13:13.028Z"
   },
   {
    "duration": 15,
    "start_time": "2024-05-29T08:13:13.044Z"
   },
   {
    "duration": 4,
    "start_time": "2024-05-29T08:13:13.060Z"
   },
   {
    "duration": 13,
    "start_time": "2024-05-29T08:13:13.065Z"
   },
   {
    "duration": 16,
    "start_time": "2024-05-29T08:13:13.080Z"
   },
   {
    "duration": 23,
    "start_time": "2024-05-29T08:13:13.097Z"
   },
   {
    "duration": 10,
    "start_time": "2024-05-29T08:13:13.122Z"
   },
   {
    "duration": 9,
    "start_time": "2024-05-29T08:13:13.133Z"
   },
   {
    "duration": 14,
    "start_time": "2024-05-29T08:13:13.143Z"
   },
   {
    "duration": 197,
    "start_time": "2024-05-29T08:13:13.158Z"
   },
   {
    "duration": 6,
    "start_time": "2024-05-29T08:13:13.357Z"
   },
   {
    "duration": 5,
    "start_time": "2024-05-29T08:13:13.365Z"
   },
   {
    "duration": 12,
    "start_time": "2024-05-29T08:13:13.371Z"
   },
   {
    "duration": 135,
    "start_time": "2024-05-29T08:13:13.386Z"
   },
   {
    "duration": 166,
    "start_time": "2024-05-29T08:13:13.522Z"
   },
   {
    "duration": 4,
    "start_time": "2024-05-29T08:13:13.690Z"
   },
   {
    "duration": 17,
    "start_time": "2024-05-29T08:13:13.695Z"
   },
   {
    "duration": 5,
    "start_time": "2024-05-29T08:13:13.713Z"
   },
   {
    "duration": 5,
    "start_time": "2024-05-29T08:13:13.719Z"
   },
   {
    "duration": 168,
    "start_time": "2024-05-29T08:13:13.726Z"
   },
   {
    "duration": 18,
    "start_time": "2024-05-29T08:13:13.895Z"
   },
   {
    "duration": 7,
    "start_time": "2024-05-29T08:13:13.914Z"
   },
   {
    "duration": 121,
    "start_time": "2024-05-29T08:13:13.922Z"
   },
   {
    "duration": 253,
    "start_time": "2024-05-29T08:13:14.045Z"
   },
   {
    "duration": 5,
    "start_time": "2024-05-29T08:13:14.299Z"
   },
   {
    "duration": 4,
    "start_time": "2024-05-29T08:13:14.311Z"
   },
   {
    "duration": 11,
    "start_time": "2024-05-29T08:13:14.317Z"
   },
   {
    "duration": 188,
    "start_time": "2024-05-29T08:13:14.329Z"
   },
   {
    "duration": 181,
    "start_time": "2024-05-29T08:13:14.518Z"
   },
   {
    "duration": 4,
    "start_time": "2024-05-29T08:13:14.700Z"
   },
   {
    "duration": 5,
    "start_time": "2024-05-29T08:13:14.712Z"
   },
   {
    "duration": 16,
    "start_time": "2024-05-29T08:13:14.718Z"
   },
   {
    "duration": 16,
    "start_time": "2024-05-29T08:13:14.735Z"
   },
   {
    "duration": 12,
    "start_time": "2024-05-29T08:13:14.752Z"
   },
   {
    "duration": 15,
    "start_time": "2024-05-29T08:13:14.765Z"
   },
   {
    "duration": 32,
    "start_time": "2024-05-29T08:13:14.781Z"
   },
   {
    "duration": 13,
    "start_time": "2024-05-29T08:13:14.814Z"
   },
   {
    "duration": 23,
    "start_time": "2024-05-29T08:13:14.829Z"
   },
   {
    "duration": 201,
    "start_time": "2024-05-29T08:13:14.853Z"
   },
   {
    "duration": 179,
    "start_time": "2024-05-29T08:13:15.055Z"
   },
   {
    "duration": 209,
    "start_time": "2024-05-29T08:13:15.235Z"
   },
   {
    "duration": 160,
    "start_time": "2024-05-29T08:13:15.445Z"
   },
   {
    "duration": 13,
    "start_time": "2024-05-29T08:13:15.607Z"
   },
   {
    "duration": 53,
    "start_time": "2024-05-29T08:13:15.622Z"
   },
   {
    "duration": 9,
    "start_time": "2024-05-29T08:13:15.676Z"
   },
   {
    "duration": 32,
    "start_time": "2024-05-29T08:13:15.687Z"
   },
   {
    "duration": 13,
    "start_time": "2024-05-29T08:13:15.721Z"
   },
   {
    "duration": 10,
    "start_time": "2024-05-29T08:13:15.736Z"
   },
   {
    "duration": 11,
    "start_time": "2024-05-29T08:13:15.748Z"
   },
   {
    "duration": 5,
    "start_time": "2024-05-29T08:13:15.760Z"
   },
   {
    "duration": 6,
    "start_time": "2024-05-29T08:13:15.766Z"
   },
   {
    "duration": 10,
    "start_time": "2024-05-29T08:18:25.143Z"
   },
   {
    "duration": 16,
    "start_time": "2024-05-29T08:34:19.712Z"
   },
   {
    "duration": 3,
    "start_time": "2024-05-29T08:36:43.886Z"
   },
   {
    "duration": 6,
    "start_time": "2024-05-29T08:36:48.731Z"
   },
   {
    "duration": 3,
    "start_time": "2024-05-29T08:37:34.716Z"
   },
   {
    "duration": 5,
    "start_time": "2024-05-29T08:40:13.061Z"
   },
   {
    "duration": 5,
    "start_time": "2024-05-29T08:40:51.355Z"
   },
   {
    "duration": 5,
    "start_time": "2024-05-29T08:41:13.663Z"
   },
   {
    "duration": 110,
    "start_time": "2024-05-29T08:42:53.908Z"
   },
   {
    "duration": 8,
    "start_time": "2024-05-29T08:44:23.055Z"
   },
   {
    "duration": 8,
    "start_time": "2024-05-29T08:56:36.796Z"
   },
   {
    "duration": 8,
    "start_time": "2024-05-29T08:57:01.723Z"
   },
   {
    "duration": 4,
    "start_time": "2024-05-29T08:57:34.637Z"
   },
   {
    "duration": 7,
    "start_time": "2024-05-29T10:33:52.325Z"
   },
   {
    "duration": 1167,
    "start_time": "2024-05-29T10:34:05.176Z"
   },
   {
    "duration": 10,
    "start_time": "2024-05-29T10:34:06.345Z"
   },
   {
    "duration": 34,
    "start_time": "2024-05-29T10:34:06.357Z"
   },
   {
    "duration": 5,
    "start_time": "2024-05-29T10:34:06.393Z"
   },
   {
    "duration": 5,
    "start_time": "2024-05-29T10:34:06.399Z"
   },
   {
    "duration": 5,
    "start_time": "2024-05-29T10:34:06.405Z"
   },
   {
    "duration": 3,
    "start_time": "2024-05-29T10:34:06.411Z"
   },
   {
    "duration": 5,
    "start_time": "2024-05-29T10:34:06.415Z"
   },
   {
    "duration": 4,
    "start_time": "2024-05-29T10:34:06.422Z"
   },
   {
    "duration": 4,
    "start_time": "2024-05-29T10:34:06.428Z"
   },
   {
    "duration": 7,
    "start_time": "2024-05-29T10:34:06.433Z"
   },
   {
    "duration": 5,
    "start_time": "2024-05-29T10:34:06.441Z"
   },
   {
    "duration": 9,
    "start_time": "2024-05-29T10:34:06.447Z"
   },
   {
    "duration": 7,
    "start_time": "2024-05-29T10:34:06.457Z"
   },
   {
    "duration": 17,
    "start_time": "2024-05-29T10:34:06.465Z"
   },
   {
    "duration": 34,
    "start_time": "2024-05-29T10:34:06.483Z"
   },
   {
    "duration": 2,
    "start_time": "2024-05-29T10:34:06.519Z"
   },
   {
    "duration": 4,
    "start_time": "2024-05-29T10:34:06.523Z"
   },
   {
    "duration": 15,
    "start_time": "2024-05-29T10:34:06.528Z"
   },
   {
    "duration": 9,
    "start_time": "2024-05-29T10:34:06.544Z"
   },
   {
    "duration": 6,
    "start_time": "2024-05-29T10:34:06.554Z"
   },
   {
    "duration": 18,
    "start_time": "2024-05-29T10:34:06.562Z"
   },
   {
    "duration": 31,
    "start_time": "2024-05-29T10:34:06.582Z"
   },
   {
    "duration": 217,
    "start_time": "2024-05-29T10:34:06.614Z"
   },
   {
    "duration": 8,
    "start_time": "2024-05-29T10:34:06.832Z"
   },
   {
    "duration": 7,
    "start_time": "2024-05-29T10:34:06.841Z"
   },
   {
    "duration": 7,
    "start_time": "2024-05-29T10:34:06.849Z"
   },
   {
    "duration": 142,
    "start_time": "2024-05-29T10:34:06.860Z"
   },
   {
    "duration": 144,
    "start_time": "2024-05-29T10:34:07.011Z"
   },
   {
    "duration": 4,
    "start_time": "2024-05-29T10:34:07.156Z"
   },
   {
    "duration": 9,
    "start_time": "2024-05-29T10:34:07.161Z"
   },
   {
    "duration": 7,
    "start_time": "2024-05-29T10:34:07.172Z"
   },
   {
    "duration": 5,
    "start_time": "2024-05-29T10:34:07.180Z"
   },
   {
    "duration": 172,
    "start_time": "2024-05-29T10:34:07.186Z"
   },
   {
    "duration": 8,
    "start_time": "2024-05-29T10:34:07.359Z"
   },
   {
    "duration": 11,
    "start_time": "2024-05-29T10:34:07.368Z"
   },
   {
    "duration": 127,
    "start_time": "2024-05-29T10:34:07.380Z"
   },
   {
    "duration": 245,
    "start_time": "2024-05-29T10:34:07.508Z"
   },
   {
    "duration": 5,
    "start_time": "2024-05-29T10:34:07.755Z"
   },
   {
    "duration": 5,
    "start_time": "2024-05-29T10:34:07.761Z"
   },
   {
    "duration": 8,
    "start_time": "2024-05-29T10:34:07.767Z"
   },
   {
    "duration": 136,
    "start_time": "2024-05-29T10:34:07.777Z"
   },
   {
    "duration": 242,
    "start_time": "2024-05-29T10:34:07.915Z"
   },
   {
    "duration": 4,
    "start_time": "2024-05-29T10:34:08.158Z"
   },
   {
    "duration": 5,
    "start_time": "2024-05-29T10:34:08.163Z"
   },
   {
    "duration": 11,
    "start_time": "2024-05-29T10:34:08.169Z"
   },
   {
    "duration": 31,
    "start_time": "2024-05-29T10:34:08.182Z"
   },
   {
    "duration": 15,
    "start_time": "2024-05-29T10:34:08.214Z"
   },
   {
    "duration": 11,
    "start_time": "2024-05-29T10:34:08.231Z"
   },
   {
    "duration": 15,
    "start_time": "2024-05-29T10:34:08.243Z"
   },
   {
    "duration": 3,
    "start_time": "2024-05-29T10:34:08.259Z"
   },
   {
    "duration": 13,
    "start_time": "2024-05-29T10:34:08.263Z"
   },
   {
    "duration": 3,
    "start_time": "2024-05-29T10:34:08.277Z"
   },
   {
    "duration": 192,
    "start_time": "2024-05-29T10:34:08.312Z"
   },
   {
    "duration": 145,
    "start_time": "2024-05-29T10:34:08.506Z"
   },
   {
    "duration": 183,
    "start_time": "2024-05-29T10:34:08.652Z"
   },
   {
    "duration": 154,
    "start_time": "2024-05-29T10:34:08.837Z"
   },
   {
    "duration": 10,
    "start_time": "2024-05-29T10:34:08.993Z"
   },
   {
    "duration": 53,
    "start_time": "2024-05-29T10:34:09.012Z"
   },
   {
    "duration": 10,
    "start_time": "2024-05-29T10:34:09.066Z"
   },
   {
    "duration": 21,
    "start_time": "2024-05-29T10:34:09.078Z"
   },
   {
    "duration": 16,
    "start_time": "2024-05-29T10:34:09.113Z"
   },
   {
    "duration": 29,
    "start_time": "2024-05-29T10:34:09.130Z"
   },
   {
    "duration": 9,
    "start_time": "2024-05-29T10:34:09.161Z"
   },
   {
    "duration": 4,
    "start_time": "2024-05-29T10:34:09.172Z"
   },
   {
    "duration": 4,
    "start_time": "2024-05-29T10:34:09.177Z"
   },
   {
    "duration": 29,
    "start_time": "2024-05-29T10:34:09.183Z"
   },
   {
    "duration": 13,
    "start_time": "2024-05-29T10:34:09.213Z"
   },
   {
    "duration": 8,
    "start_time": "2024-05-29T10:34:09.227Z"
   },
   {
    "duration": 5,
    "start_time": "2024-05-29T10:34:09.237Z"
   },
   {
    "duration": 13,
    "start_time": "2024-05-29T10:35:06.517Z"
   },
   {
    "duration": 9,
    "start_time": "2024-05-29T10:38:54.277Z"
   },
   {
    "duration": 8,
    "start_time": "2024-05-29T10:40:06.383Z"
   },
   {
    "duration": 5,
    "start_time": "2024-05-29T10:40:50.508Z"
   },
   {
    "duration": 8,
    "start_time": "2024-05-29T10:41:51.503Z"
   },
   {
    "duration": 105,
    "start_time": "2024-05-29T10:53:55.702Z"
   },
   {
    "duration": 7,
    "start_time": "2024-05-29T10:54:10.520Z"
   },
   {
    "duration": 8,
    "start_time": "2024-05-29T10:54:12.385Z"
   },
   {
    "duration": 5,
    "start_time": "2024-05-29T10:54:25.846Z"
   },
   {
    "duration": 56,
    "start_time": "2024-05-29T11:07:18.905Z"
   },
   {
    "duration": 55,
    "start_time": "2024-05-29T11:07:52.072Z"
   },
   {
    "duration": 13,
    "start_time": "2024-05-29T11:12:50.856Z"
   },
   {
    "duration": 11,
    "start_time": "2024-05-29T11:13:11.931Z"
   },
   {
    "duration": 10,
    "start_time": "2024-05-29T11:13:25.618Z"
   },
   {
    "duration": 4,
    "start_time": "2024-05-29T11:13:49.694Z"
   },
   {
    "duration": 6,
    "start_time": "2024-05-29T11:13:55.851Z"
   },
   {
    "duration": 7,
    "start_time": "2024-05-29T11:14:31.522Z"
   },
   {
    "duration": 18,
    "start_time": "2024-05-29T11:14:45.631Z"
   },
   {
    "duration": 141,
    "start_time": "2024-05-29T11:39:37.121Z"
   },
   {
    "duration": 126,
    "start_time": "2024-05-29T11:39:54.939Z"
   },
   {
    "duration": 128,
    "start_time": "2024-05-29T11:40:11.326Z"
   },
   {
    "duration": 129,
    "start_time": "2024-05-29T11:40:17.418Z"
   },
   {
    "duration": 187,
    "start_time": "2024-05-29T11:40:53.987Z"
   },
   {
    "duration": 271,
    "start_time": "2024-05-29T11:41:08.670Z"
   },
   {
    "duration": 205,
    "start_time": "2024-05-29T11:41:14.350Z"
   },
   {
    "duration": 186,
    "start_time": "2024-05-29T11:41:37.521Z"
   },
   {
    "duration": 181,
    "start_time": "2024-05-29T11:41:50.724Z"
   },
   {
    "duration": 184,
    "start_time": "2024-05-29T11:41:57.571Z"
   },
   {
    "duration": 183,
    "start_time": "2024-05-29T11:42:05.916Z"
   },
   {
    "duration": 187,
    "start_time": "2024-05-29T11:42:09.822Z"
   },
   {
    "duration": 181,
    "start_time": "2024-05-29T11:42:16.043Z"
   },
   {
    "duration": 184,
    "start_time": "2024-05-29T11:42:23.194Z"
   },
   {
    "duration": 133,
    "start_time": "2024-05-29T11:42:46.017Z"
   },
   {
    "duration": 128,
    "start_time": "2024-05-29T11:43:27.336Z"
   },
   {
    "duration": 201,
    "start_time": "2024-05-29T11:43:35.262Z"
   },
   {
    "duration": 126,
    "start_time": "2024-05-29T11:43:40.143Z"
   },
   {
    "duration": 128,
    "start_time": "2024-05-29T11:43:45.227Z"
   },
   {
    "duration": 141,
    "start_time": "2024-05-29T11:44:04.813Z"
   },
   {
    "duration": 125,
    "start_time": "2024-05-29T11:44:44.277Z"
   },
   {
    "duration": 127,
    "start_time": "2024-05-29T11:44:55.560Z"
   },
   {
    "duration": 128,
    "start_time": "2024-05-29T11:45:00.482Z"
   },
   {
    "duration": 148,
    "start_time": "2024-05-29T11:45:05.001Z"
   },
   {
    "duration": 181,
    "start_time": "2024-05-29T11:45:14.578Z"
   },
   {
    "duration": 152,
    "start_time": "2024-05-29T11:45:38.177Z"
   },
   {
    "duration": 132,
    "start_time": "2024-05-29T11:45:44.396Z"
   },
   {
    "duration": 131,
    "start_time": "2024-05-29T11:45:59.692Z"
   },
   {
    "duration": 192,
    "start_time": "2024-05-29T11:46:08.235Z"
   },
   {
    "duration": 129,
    "start_time": "2024-05-29T11:46:17.663Z"
   },
   {
    "duration": 123,
    "start_time": "2024-05-29T11:46:34.668Z"
   },
   {
    "duration": 120,
    "start_time": "2024-05-29T11:46:49.167Z"
   },
   {
    "duration": 124,
    "start_time": "2024-05-29T11:46:59.618Z"
   },
   {
    "duration": 1497,
    "start_time": "2024-05-30T09:15:04.794Z"
   },
   {
    "duration": 10,
    "start_time": "2024-05-30T09:15:06.293Z"
   },
   {
    "duration": 34,
    "start_time": "2024-05-30T09:15:06.305Z"
   },
   {
    "duration": 20,
    "start_time": "2024-05-30T09:15:06.342Z"
   },
   {
    "duration": 23,
    "start_time": "2024-05-30T09:15:06.363Z"
   },
   {
    "duration": 9,
    "start_time": "2024-05-30T09:15:06.388Z"
   },
   {
    "duration": 17,
    "start_time": "2024-05-30T09:15:06.398Z"
   },
   {
    "duration": 23,
    "start_time": "2024-05-30T09:15:06.417Z"
   },
   {
    "duration": 15,
    "start_time": "2024-05-30T09:15:06.441Z"
   },
   {
    "duration": 36,
    "start_time": "2024-05-30T09:15:06.458Z"
   },
   {
    "duration": 48,
    "start_time": "2024-05-30T09:15:06.495Z"
   },
   {
    "duration": 26,
    "start_time": "2024-05-30T09:15:06.544Z"
   },
   {
    "duration": 14,
    "start_time": "2024-05-30T09:15:06.571Z"
   },
   {
    "duration": 8,
    "start_time": "2024-05-30T09:15:06.586Z"
   },
   {
    "duration": 27,
    "start_time": "2024-05-30T09:15:06.595Z"
   },
   {
    "duration": 22,
    "start_time": "2024-05-30T09:15:06.624Z"
   },
   {
    "duration": 15,
    "start_time": "2024-05-30T09:15:06.647Z"
   },
   {
    "duration": 10,
    "start_time": "2024-05-30T09:15:06.663Z"
   },
   {
    "duration": 20,
    "start_time": "2024-05-30T09:15:06.675Z"
   },
   {
    "duration": 23,
    "start_time": "2024-05-30T09:15:06.696Z"
   },
   {
    "duration": 44,
    "start_time": "2024-05-30T09:15:06.721Z"
   },
   {
    "duration": 20,
    "start_time": "2024-05-30T09:15:06.767Z"
   },
   {
    "duration": 24,
    "start_time": "2024-05-30T09:15:06.789Z"
   },
   {
    "duration": 168,
    "start_time": "2024-05-30T09:15:06.815Z"
   },
   {
    "duration": 7,
    "start_time": "2024-05-30T09:15:06.985Z"
   },
   {
    "duration": 38,
    "start_time": "2024-05-30T09:15:06.993Z"
   },
   {
    "duration": 31,
    "start_time": "2024-05-30T09:15:07.032Z"
   },
   {
    "duration": 111,
    "start_time": "2024-05-30T09:15:07.066Z"
   },
   {
    "duration": 142,
    "start_time": "2024-05-30T09:15:07.178Z"
   },
   {
    "duration": 4,
    "start_time": "2024-05-30T09:15:07.322Z"
   },
   {
    "duration": 17,
    "start_time": "2024-05-30T09:15:07.328Z"
   },
   {
    "duration": 7,
    "start_time": "2024-05-30T09:15:07.346Z"
   },
   {
    "duration": 28,
    "start_time": "2024-05-30T09:15:07.354Z"
   },
   {
    "duration": 179,
    "start_time": "2024-05-30T09:15:07.383Z"
   },
   {
    "duration": 8,
    "start_time": "2024-05-30T09:15:07.563Z"
   },
   {
    "duration": 15,
    "start_time": "2024-05-30T09:15:07.573Z"
   },
   {
    "duration": 126,
    "start_time": "2024-05-30T09:15:07.589Z"
   },
   {
    "duration": 248,
    "start_time": "2024-05-30T09:15:07.716Z"
   },
   {
    "duration": 5,
    "start_time": "2024-05-30T09:15:07.966Z"
   },
   {
    "duration": 25,
    "start_time": "2024-05-30T09:15:07.973Z"
   },
   {
    "duration": 10,
    "start_time": "2024-05-30T09:15:08.000Z"
   },
   {
    "duration": 125,
    "start_time": "2024-05-30T09:15:08.011Z"
   },
   {
    "duration": 232,
    "start_time": "2024-05-30T09:15:08.137Z"
   },
   {
    "duration": 4,
    "start_time": "2024-05-30T09:15:08.372Z"
   },
   {
    "duration": 25,
    "start_time": "2024-05-30T09:15:08.377Z"
   },
   {
    "duration": 21,
    "start_time": "2024-05-30T09:15:08.403Z"
   },
   {
    "duration": 6,
    "start_time": "2024-05-30T09:15:08.425Z"
   },
   {
    "duration": 44,
    "start_time": "2024-05-30T09:15:08.433Z"
   },
   {
    "duration": 80,
    "start_time": "2024-05-30T09:15:08.478Z"
   },
   {
    "duration": 33,
    "start_time": "2024-05-30T09:15:08.559Z"
   },
   {
    "duration": 20,
    "start_time": "2024-05-30T09:15:08.594Z"
   },
   {
    "duration": 22,
    "start_time": "2024-05-30T09:15:08.616Z"
   },
   {
    "duration": 45,
    "start_time": "2024-05-30T09:15:08.640Z"
   },
   {
    "duration": 3,
    "start_time": "2024-05-30T09:15:08.687Z"
   },
   {
    "duration": 203,
    "start_time": "2024-05-30T09:15:08.692Z"
   },
   {
    "duration": 159,
    "start_time": "2024-05-30T09:15:08.896Z"
   },
   {
    "duration": 177,
    "start_time": "2024-05-30T09:15:09.056Z"
   },
   {
    "duration": 149,
    "start_time": "2024-05-30T09:15:09.234Z"
   },
   {
    "duration": 19,
    "start_time": "2024-05-30T09:15:09.384Z"
   },
   {
    "duration": 72,
    "start_time": "2024-05-30T09:15:09.405Z"
   },
   {
    "duration": 52,
    "start_time": "2024-05-30T09:15:09.479Z"
   },
   {
    "duration": 18,
    "start_time": "2024-05-30T09:15:09.533Z"
   },
   {
    "duration": 29,
    "start_time": "2024-05-30T09:15:09.553Z"
   },
   {
    "duration": 17,
    "start_time": "2024-05-30T09:15:09.583Z"
   },
   {
    "duration": 22,
    "start_time": "2024-05-30T09:15:09.602Z"
   },
   {
    "duration": 19,
    "start_time": "2024-05-30T09:15:09.626Z"
   },
   {
    "duration": 16,
    "start_time": "2024-05-30T09:15:09.647Z"
   },
   {
    "duration": 15,
    "start_time": "2024-05-30T09:15:09.665Z"
   },
   {
    "duration": 4,
    "start_time": "2024-05-30T09:15:09.681Z"
   },
   {
    "duration": 11,
    "start_time": "2024-05-30T09:15:09.687Z"
   },
   {
    "duration": 13,
    "start_time": "2024-05-30T09:15:09.699Z"
   },
   {
    "duration": 19,
    "start_time": "2024-05-30T09:15:09.713Z"
   },
   {
    "duration": 91,
    "start_time": "2024-05-30T09:15:09.734Z"
   },
   {
    "duration": 26,
    "start_time": "2024-05-30T09:15:09.827Z"
   },
   {
    "duration": 123,
    "start_time": "2024-05-30T09:18:17.529Z"
   },
   {
    "duration": 154,
    "start_time": "2024-05-30T09:18:37.727Z"
   },
   {
    "duration": 121,
    "start_time": "2024-05-30T09:20:26.725Z"
   },
   {
    "duration": 127,
    "start_time": "2024-05-30T09:20:54.037Z"
   },
   {
    "duration": 146,
    "start_time": "2024-05-30T09:21:00.342Z"
   },
   {
    "duration": 201,
    "start_time": "2024-05-30T09:21:07.131Z"
   },
   {
    "duration": 125,
    "start_time": "2024-05-30T09:21:17.660Z"
   },
   {
    "duration": 156,
    "start_time": "2024-05-30T09:24:31.314Z"
   },
   {
    "duration": 155,
    "start_time": "2024-05-30T09:24:47.045Z"
   },
   {
    "duration": 155,
    "start_time": "2024-05-30T09:24:57.039Z"
   },
   {
    "duration": 150,
    "start_time": "2024-05-30T09:25:11.754Z"
   },
   {
    "duration": 6,
    "start_time": "2024-05-30T09:37:07.760Z"
   },
   {
    "duration": 2,
    "start_time": "2024-05-30T09:37:20.067Z"
   },
   {
    "duration": 227,
    "start_time": "2024-05-30T09:39:06.368Z"
   },
   {
    "duration": 3,
    "start_time": "2024-05-30T09:39:14.813Z"
   },
   {
    "duration": 175,
    "start_time": "2024-05-30T09:39:20.037Z"
   },
   {
    "duration": 204,
    "start_time": "2024-05-30T09:41:43.231Z"
   },
   {
    "duration": 167,
    "start_time": "2024-05-30T09:41:53.223Z"
   },
   {
    "duration": 165,
    "start_time": "2024-05-30T09:43:36.167Z"
   },
   {
    "duration": 462,
    "start_time": "2024-05-30T09:44:35.983Z"
   },
   {
    "duration": 278,
    "start_time": "2024-05-30T09:44:52.650Z"
   },
   {
    "duration": 226,
    "start_time": "2024-05-30T09:45:00.957Z"
   },
   {
    "duration": 168,
    "start_time": "2024-05-30T09:45:29.437Z"
   },
   {
    "duration": 198,
    "start_time": "2024-05-30T09:48:06.200Z"
   },
   {
    "duration": 244,
    "start_time": "2024-05-30T09:53:20.234Z"
   },
   {
    "duration": 183,
    "start_time": "2024-05-30T09:53:27.087Z"
   },
   {
    "duration": 247,
    "start_time": "2024-05-30T09:53:31.951Z"
   },
   {
    "duration": 411,
    "start_time": "2024-05-30T10:02:32.485Z"
   },
   {
    "duration": 557,
    "start_time": "2024-05-30T10:03:02.823Z"
   },
   {
    "duration": 591,
    "start_time": "2024-05-30T10:03:16.361Z"
   },
   {
    "duration": 493,
    "start_time": "2024-05-30T10:03:28.041Z"
   },
   {
    "duration": 515,
    "start_time": "2024-05-30T10:03:41.604Z"
   },
   {
    "duration": 515,
    "start_time": "2024-05-30T10:04:25.240Z"
   },
   {
    "duration": 576,
    "start_time": "2024-05-30T10:05:16.846Z"
   },
   {
    "duration": 423,
    "start_time": "2024-05-30T10:05:54.245Z"
   },
   {
    "duration": 414,
    "start_time": "2024-05-30T10:06:05.270Z"
   },
   {
    "duration": 409,
    "start_time": "2024-05-30T10:06:11.180Z"
   },
   {
    "duration": 392,
    "start_time": "2024-05-30T10:12:33.796Z"
   },
   {
    "duration": 507,
    "start_time": "2024-05-30T10:12:43.388Z"
   },
   {
    "duration": 680,
    "start_time": "2024-05-30T10:12:54.412Z"
   },
   {
    "duration": 740,
    "start_time": "2024-05-30T10:13:09.927Z"
   },
   {
    "duration": 148,
    "start_time": "2024-05-30T10:14:12.475Z"
   },
   {
    "duration": 131,
    "start_time": "2024-05-30T10:16:08.114Z"
   },
   {
    "duration": 132,
    "start_time": "2024-05-30T10:16:18.172Z"
   },
   {
    "duration": 213,
    "start_time": "2024-05-30T10:17:02.317Z"
   },
   {
    "duration": 97,
    "start_time": "2024-05-30T10:17:25.651Z"
   },
   {
    "duration": 96,
    "start_time": "2024-05-30T10:17:37.252Z"
   },
   {
    "duration": 129,
    "start_time": "2024-05-30T10:17:45.381Z"
   },
   {
    "duration": 123,
    "start_time": "2024-05-30T10:17:54.712Z"
   },
   {
    "duration": 222,
    "start_time": "2024-05-30T10:18:01.106Z"
   },
   {
    "duration": 151,
    "start_time": "2024-05-30T10:18:22.236Z"
   },
   {
    "duration": 390,
    "start_time": "2024-05-30T10:19:49.387Z"
   },
   {
    "duration": 581,
    "start_time": "2024-05-30T10:20:04.577Z"
   },
   {
    "duration": 1086,
    "start_time": "2024-05-30T10:43:57.094Z"
   },
   {
    "duration": 10,
    "start_time": "2024-05-30T10:43:58.181Z"
   },
   {
    "duration": 15,
    "start_time": "2024-05-30T10:43:58.192Z"
   },
   {
    "duration": 4,
    "start_time": "2024-05-30T10:43:58.209Z"
   },
   {
    "duration": 8,
    "start_time": "2024-05-30T10:43:58.214Z"
   },
   {
    "duration": 7,
    "start_time": "2024-05-30T10:43:58.223Z"
   },
   {
    "duration": 5,
    "start_time": "2024-05-30T10:43:58.231Z"
   },
   {
    "duration": 21,
    "start_time": "2024-05-30T10:43:58.237Z"
   },
   {
    "duration": 25,
    "start_time": "2024-05-30T10:43:58.259Z"
   },
   {
    "duration": 5,
    "start_time": "2024-05-30T10:43:58.286Z"
   },
   {
    "duration": 15,
    "start_time": "2024-05-30T10:43:58.292Z"
   },
   {
    "duration": 16,
    "start_time": "2024-05-30T10:43:58.309Z"
   },
   {
    "duration": 9,
    "start_time": "2024-05-30T10:43:58.326Z"
   },
   {
    "duration": 8,
    "start_time": "2024-05-30T10:43:58.336Z"
   },
   {
    "duration": 15,
    "start_time": "2024-05-30T10:43:58.345Z"
   },
   {
    "duration": 10,
    "start_time": "2024-05-30T10:43:58.361Z"
   },
   {
    "duration": 3,
    "start_time": "2024-05-30T10:43:58.372Z"
   },
   {
    "duration": 6,
    "start_time": "2024-05-30T10:43:58.376Z"
   },
   {
    "duration": 10,
    "start_time": "2024-05-30T10:43:58.384Z"
   },
   {
    "duration": 10,
    "start_time": "2024-05-30T10:43:58.396Z"
   },
   {
    "duration": 7,
    "start_time": "2024-05-30T10:43:58.407Z"
   },
   {
    "duration": 19,
    "start_time": "2024-05-30T10:43:58.415Z"
   },
   {
    "duration": 12,
    "start_time": "2024-05-30T10:43:58.435Z"
   },
   {
    "duration": 169,
    "start_time": "2024-05-30T10:43:58.449Z"
   },
   {
    "duration": 7,
    "start_time": "2024-05-30T10:43:58.619Z"
   },
   {
    "duration": 19,
    "start_time": "2024-05-30T10:43:58.627Z"
   },
   {
    "duration": 12,
    "start_time": "2024-05-30T10:43:58.647Z"
   },
   {
    "duration": 120,
    "start_time": "2024-05-30T10:43:58.662Z"
   },
   {
    "duration": 3,
    "start_time": "2024-05-30T10:43:58.784Z"
   },
   {
    "duration": 15,
    "start_time": "2024-05-30T10:43:58.788Z"
   },
   {
    "duration": 4,
    "start_time": "2024-05-30T10:43:58.804Z"
   },
   {
    "duration": 14,
    "start_time": "2024-05-30T10:43:58.809Z"
   },
   {
    "duration": 134,
    "start_time": "2024-05-30T10:43:58.824Z"
   },
   {
    "duration": 7,
    "start_time": "2024-05-30T10:43:58.959Z"
   },
   {
    "duration": 8,
    "start_time": "2024-05-30T10:43:58.967Z"
   },
   {
    "duration": 112,
    "start_time": "2024-05-30T10:43:58.976Z"
   },
   {
    "duration": 231,
    "start_time": "2024-05-30T10:43:59.090Z"
   },
   {
    "duration": 4,
    "start_time": "2024-05-30T10:43:59.323Z"
   },
   {
    "duration": 9,
    "start_time": "2024-05-30T10:43:59.327Z"
   },
   {
    "duration": 10,
    "start_time": "2024-05-30T10:43:59.337Z"
   },
   {
    "duration": 107,
    "start_time": "2024-05-30T10:43:59.349Z"
   },
   {
    "duration": 154,
    "start_time": "2024-05-30T10:43:59.457Z"
   },
   {
    "duration": 4,
    "start_time": "2024-05-30T10:43:59.612Z"
   },
   {
    "duration": 5,
    "start_time": "2024-05-30T10:43:59.616Z"
   },
   {
    "duration": 20,
    "start_time": "2024-05-30T10:43:59.622Z"
   },
   {
    "duration": 5,
    "start_time": "2024-05-30T10:43:59.643Z"
   },
   {
    "duration": 15,
    "start_time": "2024-05-30T10:43:59.649Z"
   },
   {
    "duration": 21,
    "start_time": "2024-05-30T10:43:59.664Z"
   },
   {
    "duration": 73,
    "start_time": "2024-05-30T10:43:59.686Z"
   },
   {
    "duration": 11,
    "start_time": "2024-05-30T10:43:59.760Z"
   },
   {
    "duration": 3,
    "start_time": "2024-05-30T10:43:59.773Z"
   },
   {
    "duration": 29,
    "start_time": "2024-05-30T10:43:59.777Z"
   },
   {
    "duration": 4,
    "start_time": "2024-05-30T10:43:59.807Z"
   },
   {
    "duration": 474,
    "start_time": "2024-05-30T10:43:59.812Z"
   },
   {
    "duration": 688,
    "start_time": "2024-05-30T10:44:00.288Z"
   },
   {
    "duration": 10,
    "start_time": "2024-05-30T10:44:00.977Z"
   },
   {
    "duration": 90,
    "start_time": "2024-05-30T10:44:00.989Z"
   },
   {
    "duration": 149,
    "start_time": "2024-05-30T10:44:01.080Z"
   },
   {
    "duration": 70,
    "start_time": "2024-05-30T10:44:01.230Z"
   },
   {
    "duration": 88,
    "start_time": "2024-05-30T10:44:01.301Z"
   },
   {
    "duration": 59,
    "start_time": "2024-05-30T10:44:01.390Z"
   },
   {
    "duration": 78,
    "start_time": "2024-05-30T10:44:01.451Z"
   },
   {
    "duration": 81,
    "start_time": "2024-05-30T10:44:01.531Z"
   },
   {
    "duration": 131,
    "start_time": "2024-05-30T10:44:01.613Z"
   },
   {
    "duration": 161,
    "start_time": "2024-05-30T10:44:01.745Z"
   },
   {
    "duration": 29,
    "start_time": "2024-05-30T10:44:01.907Z"
   },
   {
    "duration": 20,
    "start_time": "2024-05-30T10:44:01.937Z"
   },
   {
    "duration": 47,
    "start_time": "2024-05-30T10:44:01.958Z"
   },
   {
    "duration": 25,
    "start_time": "2024-05-30T10:44:02.007Z"
   },
   {
    "duration": 9,
    "start_time": "2024-05-30T10:44:02.033Z"
   },
   {
    "duration": 21,
    "start_time": "2024-05-30T10:44:02.043Z"
   },
   {
    "duration": 9,
    "start_time": "2024-05-30T11:01:54.392Z"
   },
   {
    "duration": 1067,
    "start_time": "2024-05-30T11:54:49.061Z"
   },
   {
    "duration": 12,
    "start_time": "2024-05-30T11:54:50.130Z"
   },
   {
    "duration": 11,
    "start_time": "2024-05-30T11:54:50.143Z"
   },
   {
    "duration": 8,
    "start_time": "2024-05-30T11:54:50.156Z"
   },
   {
    "duration": 5,
    "start_time": "2024-05-30T11:54:50.165Z"
   },
   {
    "duration": 8,
    "start_time": "2024-05-30T11:54:50.171Z"
   },
   {
    "duration": 3,
    "start_time": "2024-05-30T11:54:50.180Z"
   },
   {
    "duration": 5,
    "start_time": "2024-05-30T11:54:50.184Z"
   },
   {
    "duration": 3,
    "start_time": "2024-05-30T11:54:50.202Z"
   },
   {
    "duration": 12,
    "start_time": "2024-05-30T11:54:50.207Z"
   },
   {
    "duration": 8,
    "start_time": "2024-05-30T11:54:50.220Z"
   },
   {
    "duration": 4,
    "start_time": "2024-05-30T11:54:50.229Z"
   },
   {
    "duration": 12,
    "start_time": "2024-05-30T11:54:50.234Z"
   },
   {
    "duration": 12,
    "start_time": "2024-05-30T11:54:50.247Z"
   },
   {
    "duration": 14,
    "start_time": "2024-05-30T11:54:50.261Z"
   },
   {
    "duration": 7,
    "start_time": "2024-05-30T11:54:50.277Z"
   },
   {
    "duration": 4,
    "start_time": "2024-05-30T11:54:50.285Z"
   },
   {
    "duration": 7,
    "start_time": "2024-05-30T11:54:50.302Z"
   },
   {
    "duration": 22,
    "start_time": "2024-05-30T11:54:50.311Z"
   },
   {
    "duration": 9,
    "start_time": "2024-05-30T11:54:50.335Z"
   },
   {
    "duration": 11,
    "start_time": "2024-05-30T11:54:50.345Z"
   },
   {
    "duration": 13,
    "start_time": "2024-05-30T11:54:50.357Z"
   },
   {
    "duration": 6,
    "start_time": "2024-05-30T11:54:50.371Z"
   },
   {
    "duration": 247,
    "start_time": "2024-05-30T11:54:50.378Z"
   },
   {
    "duration": 7,
    "start_time": "2024-05-30T11:54:50.626Z"
   },
   {
    "duration": 4,
    "start_time": "2024-05-30T11:54:50.634Z"
   },
   {
    "duration": 9,
    "start_time": "2024-05-30T11:54:50.639Z"
   },
   {
    "duration": 133,
    "start_time": "2024-05-30T11:54:50.651Z"
   },
   {
    "duration": 4,
    "start_time": "2024-05-30T11:54:50.785Z"
   },
   {
    "duration": 28,
    "start_time": "2024-05-30T11:54:50.790Z"
   },
   {
    "duration": 22,
    "start_time": "2024-05-30T11:54:50.819Z"
   },
   {
    "duration": 24,
    "start_time": "2024-05-30T11:54:50.842Z"
   },
   {
    "duration": 136,
    "start_time": "2024-05-30T11:54:50.867Z"
   },
   {
    "duration": 7,
    "start_time": "2024-05-30T11:54:51.004Z"
   },
   {
    "duration": 23,
    "start_time": "2024-05-30T11:54:51.012Z"
   },
   {
    "duration": 99,
    "start_time": "2024-05-30T11:54:51.036Z"
   },
   {
    "duration": 236,
    "start_time": "2024-05-30T11:54:51.136Z"
   },
   {
    "duration": 5,
    "start_time": "2024-05-30T11:54:51.373Z"
   },
   {
    "duration": 28,
    "start_time": "2024-05-30T11:54:51.379Z"
   },
   {
    "duration": 37,
    "start_time": "2024-05-30T11:54:51.408Z"
   },
   {
    "duration": 129,
    "start_time": "2024-05-30T11:54:51.446Z"
   },
   {
    "duration": 168,
    "start_time": "2024-05-30T11:54:51.576Z"
   },
   {
    "duration": 4,
    "start_time": "2024-05-30T11:54:51.745Z"
   },
   {
    "duration": 9,
    "start_time": "2024-05-30T11:54:51.750Z"
   },
   {
    "duration": 23,
    "start_time": "2024-05-30T11:54:51.761Z"
   },
   {
    "duration": 11,
    "start_time": "2024-05-30T11:54:51.785Z"
   },
   {
    "duration": 59,
    "start_time": "2024-05-30T11:54:51.797Z"
   },
   {
    "duration": 85,
    "start_time": "2024-05-30T11:54:51.858Z"
   },
   {
    "duration": 87,
    "start_time": "2024-05-30T11:54:51.944Z"
   },
   {
    "duration": 13,
    "start_time": "2024-05-30T11:54:52.032Z"
   },
   {
    "duration": 31,
    "start_time": "2024-05-30T11:54:52.046Z"
   },
   {
    "duration": 50,
    "start_time": "2024-05-30T11:54:52.078Z"
   },
   {
    "duration": 8,
    "start_time": "2024-05-30T11:54:52.129Z"
   },
   {
    "duration": 452,
    "start_time": "2024-05-30T11:54:52.138Z"
   },
   {
    "duration": 716,
    "start_time": "2024-05-30T11:54:52.592Z"
   },
   {
    "duration": 11,
    "start_time": "2024-05-30T11:54:53.309Z"
   },
   {
    "duration": 76,
    "start_time": "2024-05-30T11:54:53.321Z"
   },
   {
    "duration": 27,
    "start_time": "2024-05-30T11:54:53.398Z"
   },
   {
    "duration": 210,
    "start_time": "2024-05-30T11:54:53.426Z"
   },
   {
    "duration": 126,
    "start_time": "2024-05-30T11:54:53.637Z"
   },
   {
    "duration": 73,
    "start_time": "2024-05-30T11:54:53.764Z"
   },
   {
    "duration": 9,
    "start_time": "2024-05-30T11:54:53.838Z"
   },
   {
    "duration": 55,
    "start_time": "2024-05-30T11:54:53.848Z"
   },
   {
    "duration": 32,
    "start_time": "2024-05-30T11:54:53.904Z"
   },
   {
    "duration": 63,
    "start_time": "2024-05-30T11:54:53.937Z"
   },
   {
    "duration": 19,
    "start_time": "2024-05-30T11:54:54.002Z"
   },
   {
    "duration": 24,
    "start_time": "2024-05-30T11:54:54.022Z"
   },
   {
    "duration": 23,
    "start_time": "2024-05-30T11:54:54.047Z"
   },
   {
    "duration": 1299,
    "start_time": "2024-05-30T12:14:28.288Z"
   },
   {
    "duration": 12,
    "start_time": "2024-05-30T12:14:29.589Z"
   },
   {
    "duration": 12,
    "start_time": "2024-05-30T12:14:29.602Z"
   },
   {
    "duration": 17,
    "start_time": "2024-05-30T12:14:29.617Z"
   },
   {
    "duration": 14,
    "start_time": "2024-05-30T12:14:29.636Z"
   },
   {
    "duration": 8,
    "start_time": "2024-05-30T12:14:29.652Z"
   },
   {
    "duration": 4,
    "start_time": "2024-05-30T12:14:29.661Z"
   },
   {
    "duration": 9,
    "start_time": "2024-05-30T12:14:29.666Z"
   },
   {
    "duration": 17,
    "start_time": "2024-05-30T12:14:29.677Z"
   },
   {
    "duration": 20,
    "start_time": "2024-05-30T12:14:29.696Z"
   },
   {
    "duration": 34,
    "start_time": "2024-05-30T12:14:29.717Z"
   },
   {
    "duration": 13,
    "start_time": "2024-05-30T12:14:29.753Z"
   },
   {
    "duration": 12,
    "start_time": "2024-05-30T12:14:29.768Z"
   },
   {
    "duration": 9,
    "start_time": "2024-05-30T12:14:29.782Z"
   },
   {
    "duration": 17,
    "start_time": "2024-05-30T12:14:29.792Z"
   },
   {
    "duration": 9,
    "start_time": "2024-05-30T12:14:29.811Z"
   },
   {
    "duration": 11,
    "start_time": "2024-05-30T12:14:29.822Z"
   },
   {
    "duration": 8,
    "start_time": "2024-05-30T12:14:29.834Z"
   },
   {
    "duration": 16,
    "start_time": "2024-05-30T12:14:29.853Z"
   },
   {
    "duration": 12,
    "start_time": "2024-05-30T12:14:29.871Z"
   },
   {
    "duration": 16,
    "start_time": "2024-05-30T12:14:29.885Z"
   },
   {
    "duration": 11,
    "start_time": "2024-05-30T12:14:29.902Z"
   },
   {
    "duration": 8,
    "start_time": "2024-05-30T12:14:29.915Z"
   },
   {
    "duration": 238,
    "start_time": "2024-05-30T12:14:29.925Z"
   },
   {
    "duration": 8,
    "start_time": "2024-05-30T12:14:30.165Z"
   },
   {
    "duration": 82,
    "start_time": "2024-05-30T12:14:30.175Z"
   },
   {
    "duration": 125,
    "start_time": "2024-05-30T12:14:30.258Z"
   },
   {
    "duration": 254,
    "start_time": "2024-05-30T12:14:30.387Z"
   },
   {
    "duration": 4,
    "start_time": "2024-05-30T12:14:30.643Z"
   },
   {
    "duration": 62,
    "start_time": "2024-05-30T12:14:30.653Z"
   },
   {
    "duration": 49,
    "start_time": "2024-05-30T12:14:30.717Z"
   },
   {
    "duration": 53,
    "start_time": "2024-05-30T12:14:30.768Z"
   },
   {
    "duration": 300,
    "start_time": "2024-05-30T12:14:30.823Z"
   },
   {
    "duration": 10,
    "start_time": "2024-05-30T12:14:31.124Z"
   },
   {
    "duration": 75,
    "start_time": "2024-05-30T12:14:31.135Z"
   },
   {
    "duration": 175,
    "start_time": "2024-05-30T12:14:31.212Z"
   },
   {
    "duration": 296,
    "start_time": "2024-05-30T12:14:31.388Z"
   },
   {
    "duration": 6,
    "start_time": "2024-05-30T12:14:31.685Z"
   },
   {
    "duration": 162,
    "start_time": "2024-05-30T12:14:31.692Z"
   },
   {
    "duration": 51,
    "start_time": "2024-05-30T12:14:31.856Z"
   },
   {
    "duration": 168,
    "start_time": "2024-05-30T12:14:31.908Z"
   },
   {
    "duration": 233,
    "start_time": "2024-05-30T12:14:32.078Z"
   },
   {
    "duration": 5,
    "start_time": "2024-05-30T12:14:32.312Z"
   },
   {
    "duration": 36,
    "start_time": "2024-05-30T12:14:32.319Z"
   },
   {
    "duration": 39,
    "start_time": "2024-05-30T12:14:32.357Z"
   },
   {
    "duration": 10,
    "start_time": "2024-05-30T12:14:32.397Z"
   },
   {
    "duration": 19,
    "start_time": "2024-05-30T12:14:32.409Z"
   },
   {
    "duration": 22,
    "start_time": "2024-05-30T12:14:32.430Z"
   },
   {
    "duration": 100,
    "start_time": "2024-05-30T12:14:32.454Z"
   },
   {
    "duration": 15,
    "start_time": "2024-05-30T12:14:32.555Z"
   },
   {
    "duration": 10,
    "start_time": "2024-05-30T12:14:32.572Z"
   },
   {
    "duration": 34,
    "start_time": "2024-05-30T12:14:32.584Z"
   },
   {
    "duration": 18,
    "start_time": "2024-05-30T12:14:32.620Z"
   },
   {
    "duration": 541,
    "start_time": "2024-05-30T12:14:32.639Z"
   },
   {
    "duration": 774,
    "start_time": "2024-05-30T12:14:33.181Z"
   },
   {
    "duration": 12,
    "start_time": "2024-05-30T12:14:33.957Z"
   },
   {
    "duration": 54,
    "start_time": "2024-05-30T12:14:33.970Z"
   },
   {
    "duration": 29,
    "start_time": "2024-05-30T12:14:34.026Z"
   },
   {
    "duration": 13,
    "start_time": "2024-05-30T12:14:34.056Z"
   },
   {
    "duration": 12,
    "start_time": "2024-05-30T12:14:34.070Z"
   },
   {
    "duration": 11,
    "start_time": "2024-05-30T12:14:34.084Z"
   },
   {
    "duration": 11,
    "start_time": "2024-05-30T12:14:34.096Z"
   },
   {
    "duration": 46,
    "start_time": "2024-05-30T12:14:34.108Z"
   },
   {
    "duration": 13,
    "start_time": "2024-05-30T12:14:34.156Z"
   },
   {
    "duration": 9,
    "start_time": "2024-05-30T12:14:34.171Z"
   },
   {
    "duration": 11,
    "start_time": "2024-05-30T12:14:34.182Z"
   },
   {
    "duration": 9,
    "start_time": "2024-05-30T12:14:34.195Z"
   },
   {
    "duration": 15,
    "start_time": "2024-05-30T12:14:34.205Z"
   },
   {
    "duration": 6,
    "start_time": "2024-05-30T13:21:35.188Z"
   },
   {
    "duration": 1316,
    "start_time": "2024-05-30T13:29:17.864Z"
   },
   {
    "duration": 12,
    "start_time": "2024-05-30T13:29:19.182Z"
   },
   {
    "duration": 43,
    "start_time": "2024-05-30T13:29:19.196Z"
   },
   {
    "duration": 68,
    "start_time": "2024-05-30T13:29:19.241Z"
   },
   {
    "duration": 15,
    "start_time": "2024-05-30T13:29:19.312Z"
   },
   {
    "duration": 23,
    "start_time": "2024-05-30T13:29:19.329Z"
   },
   {
    "duration": 6,
    "start_time": "2024-05-30T13:29:19.354Z"
   },
   {
    "duration": 6,
    "start_time": "2024-05-30T13:29:19.362Z"
   },
   {
    "duration": 18,
    "start_time": "2024-05-30T13:29:19.370Z"
   },
   {
    "duration": 11,
    "start_time": "2024-05-30T13:29:19.390Z"
   },
   {
    "duration": 30,
    "start_time": "2024-05-30T13:29:19.403Z"
   },
   {
    "duration": 7,
    "start_time": "2024-05-30T13:29:19.436Z"
   },
   {
    "duration": 21,
    "start_time": "2024-05-30T13:29:19.445Z"
   },
   {
    "duration": 10,
    "start_time": "2024-05-30T13:29:19.469Z"
   },
   {
    "duration": 16,
    "start_time": "2024-05-30T13:29:19.481Z"
   },
   {
    "duration": 13,
    "start_time": "2024-05-30T13:29:19.499Z"
   },
   {
    "duration": 3,
    "start_time": "2024-05-30T13:29:19.514Z"
   },
   {
    "duration": 5,
    "start_time": "2024-05-30T13:29:19.519Z"
   },
   {
    "duration": 33,
    "start_time": "2024-05-30T13:29:19.526Z"
   },
   {
    "duration": 11,
    "start_time": "2024-05-30T13:29:19.560Z"
   },
   {
    "duration": 6,
    "start_time": "2024-05-30T13:29:19.573Z"
   },
   {
    "duration": 12,
    "start_time": "2024-05-30T13:29:19.581Z"
   },
   {
    "duration": 13,
    "start_time": "2024-05-30T13:29:19.595Z"
   },
   {
    "duration": 246,
    "start_time": "2024-05-30T13:29:19.609Z"
   },
   {
    "duration": 8,
    "start_time": "2024-05-30T13:29:19.856Z"
   },
   {
    "duration": 6,
    "start_time": "2024-05-30T13:29:19.866Z"
   },
   {
    "duration": 7,
    "start_time": "2024-05-30T13:29:19.874Z"
   },
   {
    "duration": 182,
    "start_time": "2024-05-30T13:29:19.883Z"
   },
   {
    "duration": 4,
    "start_time": "2024-05-30T13:29:20.067Z"
   },
   {
    "duration": 24,
    "start_time": "2024-05-30T13:29:20.073Z"
   },
   {
    "duration": 19,
    "start_time": "2024-05-30T13:29:20.099Z"
   },
   {
    "duration": 27,
    "start_time": "2024-05-30T13:29:20.120Z"
   },
   {
    "duration": 172,
    "start_time": "2024-05-30T13:29:20.149Z"
   },
   {
    "duration": 9,
    "start_time": "2024-05-30T13:29:20.323Z"
   },
   {
    "duration": 23,
    "start_time": "2024-05-30T13:29:20.333Z"
   },
   {
    "duration": 131,
    "start_time": "2024-05-30T13:29:20.358Z"
   },
   {
    "duration": 296,
    "start_time": "2024-05-30T13:29:20.491Z"
   },
   {
    "duration": 5,
    "start_time": "2024-05-30T13:29:20.789Z"
   },
   {
    "duration": 12,
    "start_time": "2024-05-30T13:29:20.796Z"
   },
   {
    "duration": 35,
    "start_time": "2024-05-30T13:29:20.810Z"
   },
   {
    "duration": 166,
    "start_time": "2024-05-30T13:29:20.850Z"
   },
   {
    "duration": 240,
    "start_time": "2024-05-30T13:29:21.018Z"
   },
   {
    "duration": 5,
    "start_time": "2024-05-30T13:29:21.260Z"
   },
   {
    "duration": 14,
    "start_time": "2024-05-30T13:29:21.266Z"
   },
   {
    "duration": 16,
    "start_time": "2024-05-30T13:29:21.281Z"
   },
   {
    "duration": 7,
    "start_time": "2024-05-30T13:29:21.299Z"
   },
   {
    "duration": 39,
    "start_time": "2024-05-30T13:29:21.307Z"
   },
   {
    "duration": 22,
    "start_time": "2024-05-30T13:29:21.347Z"
   },
   {
    "duration": 118,
    "start_time": "2024-05-30T13:29:21.371Z"
   },
   {
    "duration": 16,
    "start_time": "2024-05-30T13:29:21.491Z"
   },
   {
    "duration": 4,
    "start_time": "2024-05-30T13:29:21.508Z"
   },
   {
    "duration": 33,
    "start_time": "2024-05-30T13:29:21.513Z"
   },
   {
    "duration": 5,
    "start_time": "2024-05-30T13:29:21.548Z"
   },
   {
    "duration": 538,
    "start_time": "2024-05-30T13:29:21.555Z"
   },
   {
    "duration": 762,
    "start_time": "2024-05-30T13:29:22.095Z"
   },
   {
    "duration": 12,
    "start_time": "2024-05-30T13:29:22.860Z"
   },
   {
    "duration": 64,
    "start_time": "2024-05-30T13:29:22.874Z"
   },
   {
    "duration": 22,
    "start_time": "2024-05-30T13:29:22.939Z"
   },
   {
    "duration": 13,
    "start_time": "2024-05-30T13:29:22.963Z"
   },
   {
    "duration": 28,
    "start_time": "2024-05-30T13:29:22.977Z"
   },
   {
    "duration": 8,
    "start_time": "2024-05-30T13:29:23.007Z"
   },
   {
    "duration": 33,
    "start_time": "2024-05-30T13:29:23.017Z"
   },
   {
    "duration": 21,
    "start_time": "2024-05-30T13:29:23.051Z"
   },
   {
    "duration": 13,
    "start_time": "2024-05-30T13:29:23.073Z"
   },
   {
    "duration": 32,
    "start_time": "2024-05-30T13:29:23.087Z"
   },
   {
    "duration": 17,
    "start_time": "2024-05-30T13:29:23.120Z"
   },
   {
    "duration": 10,
    "start_time": "2024-05-30T13:29:23.139Z"
   },
   {
    "duration": 8,
    "start_time": "2024-05-30T13:29:23.150Z"
   },
   {
    "duration": 5,
    "start_time": "2024-05-30T13:29:23.160Z"
   },
   {
    "duration": 3,
    "start_time": "2024-05-30T14:17:45.760Z"
   },
   {
    "duration": 21,
    "start_time": "2024-05-30T14:18:29.767Z"
   },
   {
    "duration": 3,
    "start_time": "2024-05-30T14:19:17.894Z"
   },
   {
    "duration": 3,
    "start_time": "2024-05-30T14:19:30.933Z"
   },
   {
    "duration": 2,
    "start_time": "2024-05-30T14:20:27.688Z"
   },
   {
    "duration": 3,
    "start_time": "2024-05-30T14:20:32.857Z"
   },
   {
    "duration": 2,
    "start_time": "2024-05-30T14:20:55.327Z"
   },
   {
    "duration": 3,
    "start_time": "2024-05-30T14:21:08.162Z"
   },
   {
    "duration": 2,
    "start_time": "2024-05-30T14:22:03.873Z"
   },
   {
    "duration": 2,
    "start_time": "2024-05-30T14:22:10.738Z"
   },
   {
    "duration": 20,
    "start_time": "2024-05-30T14:22:13.190Z"
   },
   {
    "duration": 3,
    "start_time": "2024-05-30T14:22:40.584Z"
   },
   {
    "duration": 20,
    "start_time": "2024-05-30T14:22:42.998Z"
   },
   {
    "duration": 33,
    "start_time": "2024-05-30T14:24:39.154Z"
   },
   {
    "duration": 2,
    "start_time": "2024-05-30T14:25:39.702Z"
   },
   {
    "duration": 12,
    "start_time": "2024-05-30T14:25:43.027Z"
   },
   {
    "duration": 12,
    "start_time": "2024-05-30T14:26:56.755Z"
   },
   {
    "duration": 3,
    "start_time": "2024-05-30T14:36:54.467Z"
   },
   {
    "duration": 3,
    "start_time": "2024-05-30T14:37:27.545Z"
   },
   {
    "duration": 1103,
    "start_time": "2024-05-30T14:44:45.269Z"
   },
   {
    "duration": 60,
    "start_time": "2024-05-30T14:44:46.374Z"
   },
   {
    "duration": 2,
    "start_time": "2024-05-30T14:44:46.436Z"
   },
   {
    "duration": 17,
    "start_time": "2024-05-30T14:44:46.440Z"
   },
   {
    "duration": 13,
    "start_time": "2024-05-30T14:44:46.458Z"
   },
   {
    "duration": 26,
    "start_time": "2024-05-30T14:44:46.472Z"
   },
   {
    "duration": 6,
    "start_time": "2024-05-30T14:44:46.499Z"
   },
   {
    "duration": 4,
    "start_time": "2024-05-30T14:44:46.507Z"
   },
   {
    "duration": 6,
    "start_time": "2024-05-30T14:44:46.512Z"
   },
   {
    "duration": 8,
    "start_time": "2024-05-30T14:44:46.520Z"
   },
   {
    "duration": 7,
    "start_time": "2024-05-30T14:44:46.529Z"
   },
   {
    "duration": 5,
    "start_time": "2024-05-30T14:44:46.537Z"
   },
   {
    "duration": 4,
    "start_time": "2024-05-30T14:44:46.544Z"
   },
   {
    "duration": 12,
    "start_time": "2024-05-30T14:44:46.549Z"
   },
   {
    "duration": 13,
    "start_time": "2024-05-30T14:44:46.562Z"
   },
   {
    "duration": 22,
    "start_time": "2024-05-30T14:44:46.576Z"
   },
   {
    "duration": 9,
    "start_time": "2024-05-30T14:44:46.599Z"
   },
   {
    "duration": 15,
    "start_time": "2024-05-30T14:44:46.609Z"
   },
   {
    "duration": 6,
    "start_time": "2024-05-30T14:44:46.625Z"
   },
   {
    "duration": 10,
    "start_time": "2024-05-30T14:44:46.632Z"
   },
   {
    "duration": 4,
    "start_time": "2024-05-30T14:44:46.643Z"
   },
   {
    "duration": 18,
    "start_time": "2024-05-30T14:44:46.648Z"
   },
   {
    "duration": 14,
    "start_time": "2024-05-30T14:44:46.667Z"
   },
   {
    "duration": 3,
    "start_time": "2024-05-30T14:44:46.682Z"
   },
   {
    "duration": 15,
    "start_time": "2024-05-30T14:44:46.686Z"
   },
   {
    "duration": 7,
    "start_time": "2024-05-30T14:44:46.702Z"
   },
   {
    "duration": 4,
    "start_time": "2024-05-30T14:44:46.711Z"
   },
   {
    "duration": 169,
    "start_time": "2024-05-30T14:44:46.719Z"
   },
   {
    "duration": 17,
    "start_time": "2024-05-30T14:44:46.889Z"
   },
   {
    "duration": 4,
    "start_time": "2024-05-30T14:44:46.907Z"
   },
   {
    "duration": 13,
    "start_time": "2024-05-30T14:44:46.912Z"
   },
   {
    "duration": 128,
    "start_time": "2024-05-30T14:44:46.926Z"
   },
   {
    "duration": 4,
    "start_time": "2024-05-30T14:44:47.055Z"
   },
   {
    "duration": 46,
    "start_time": "2024-05-30T14:44:47.060Z"
   },
   {
    "duration": 6,
    "start_time": "2024-05-30T14:44:47.108Z"
   },
   {
    "duration": 10,
    "start_time": "2024-05-30T14:44:47.116Z"
   },
   {
    "duration": 153,
    "start_time": "2024-05-30T14:44:47.127Z"
   },
   {
    "duration": 9,
    "start_time": "2024-05-30T14:44:47.281Z"
   },
   {
    "duration": 46,
    "start_time": "2024-05-30T14:44:47.291Z"
   },
   {
    "duration": 102,
    "start_time": "2024-05-30T14:44:47.338Z"
   },
   {
    "duration": 230,
    "start_time": "2024-05-30T14:44:47.442Z"
   },
   {
    "duration": 5,
    "start_time": "2024-05-30T14:44:47.674Z"
   },
   {
    "duration": 10,
    "start_time": "2024-05-30T14:44:47.681Z"
   },
   {
    "duration": 13,
    "start_time": "2024-05-30T14:44:47.692Z"
   },
   {
    "duration": 110,
    "start_time": "2024-05-30T14:44:47.707Z"
   },
   {
    "duration": 160,
    "start_time": "2024-05-30T14:44:47.819Z"
   },
   {
    "duration": 4,
    "start_time": "2024-05-30T14:44:47.980Z"
   },
   {
    "duration": 17,
    "start_time": "2024-05-30T14:44:47.986Z"
   },
   {
    "duration": 12,
    "start_time": "2024-05-30T14:44:48.005Z"
   },
   {
    "duration": 6,
    "start_time": "2024-05-30T14:44:48.018Z"
   },
   {
    "duration": 14,
    "start_time": "2024-05-30T14:44:48.026Z"
   },
   {
    "duration": 14,
    "start_time": "2024-05-30T14:44:48.041Z"
   },
   {
    "duration": 90,
    "start_time": "2024-05-30T14:44:48.056Z"
   },
   {
    "duration": 12,
    "start_time": "2024-05-30T14:44:48.148Z"
   },
   {
    "duration": 4,
    "start_time": "2024-05-30T14:44:48.161Z"
   },
   {
    "duration": 17,
    "start_time": "2024-05-30T14:44:48.166Z"
   },
   {
    "duration": 19,
    "start_time": "2024-05-30T14:44:48.184Z"
   },
   {
    "duration": 450,
    "start_time": "2024-05-30T14:44:48.204Z"
   },
   {
    "duration": 664,
    "start_time": "2024-05-30T14:44:48.656Z"
   },
   {
    "duration": 10,
    "start_time": "2024-05-30T14:44:49.322Z"
   },
   {
    "duration": 72,
    "start_time": "2024-05-30T14:44:49.334Z"
   },
   {
    "duration": 9,
    "start_time": "2024-05-30T14:44:49.407Z"
   },
   {
    "duration": 39,
    "start_time": "2024-05-30T14:44:49.417Z"
   },
   {
    "duration": 30,
    "start_time": "2024-05-30T14:44:49.457Z"
   },
   {
    "duration": 8,
    "start_time": "2024-05-30T14:44:49.489Z"
   },
   {
    "duration": 25,
    "start_time": "2024-05-30T14:44:49.498Z"
   },
   {
    "duration": 28,
    "start_time": "2024-05-30T14:44:49.524Z"
   },
   {
    "duration": 43,
    "start_time": "2024-05-30T14:44:49.553Z"
   },
   {
    "duration": 39,
    "start_time": "2024-05-30T14:44:49.598Z"
   },
   {
    "duration": 43,
    "start_time": "2024-05-30T14:44:49.639Z"
   },
   {
    "duration": 42,
    "start_time": "2024-05-30T14:44:49.683Z"
   },
   {
    "duration": 24,
    "start_time": "2024-05-30T14:44:49.726Z"
   },
   {
    "duration": 17,
    "start_time": "2024-05-30T14:44:49.751Z"
   },
   {
    "duration": 1024,
    "start_time": "2024-05-30T14:53:55.814Z"
   },
   {
    "duration": 70,
    "start_time": "2024-05-30T14:53:56.840Z"
   },
   {
    "duration": 3,
    "start_time": "2024-05-30T14:53:56.912Z"
   },
   {
    "duration": 38,
    "start_time": "2024-05-30T14:53:56.917Z"
   },
   {
    "duration": 14,
    "start_time": "2024-05-30T14:53:56.956Z"
   },
   {
    "duration": 20,
    "start_time": "2024-05-30T14:53:56.972Z"
   },
   {
    "duration": 25,
    "start_time": "2024-05-30T14:53:56.993Z"
   },
   {
    "duration": 12,
    "start_time": "2024-05-30T14:53:57.020Z"
   },
   {
    "duration": 8,
    "start_time": "2024-05-30T14:53:57.034Z"
   },
   {
    "duration": 11,
    "start_time": "2024-05-30T14:53:57.045Z"
   },
   {
    "duration": 24,
    "start_time": "2024-05-30T14:53:57.058Z"
   },
   {
    "duration": 64,
    "start_time": "2024-05-30T14:53:57.083Z"
   },
   {
    "duration": 15,
    "start_time": "2024-05-30T14:53:57.149Z"
   },
   {
    "duration": 6,
    "start_time": "2024-05-30T14:53:57.165Z"
   },
   {
    "duration": 16,
    "start_time": "2024-05-30T14:53:57.173Z"
   },
   {
    "duration": 29,
    "start_time": "2024-05-30T14:53:57.190Z"
   },
   {
    "duration": 20,
    "start_time": "2024-05-30T14:53:57.220Z"
   },
   {
    "duration": 28,
    "start_time": "2024-05-30T14:53:57.241Z"
   },
   {
    "duration": 50,
    "start_time": "2024-05-30T14:53:57.270Z"
   },
   {
    "duration": 37,
    "start_time": "2024-05-30T14:53:57.321Z"
   },
   {
    "duration": 7,
    "start_time": "2024-05-30T14:53:57.359Z"
   },
   {
    "duration": 22,
    "start_time": "2024-05-30T14:53:57.367Z"
   },
   {
    "duration": 24,
    "start_time": "2024-05-30T14:53:57.390Z"
   },
   {
    "duration": 4,
    "start_time": "2024-05-30T14:53:57.415Z"
   },
   {
    "duration": 10,
    "start_time": "2024-05-30T14:53:57.421Z"
   },
   {
    "duration": 14,
    "start_time": "2024-05-30T14:53:57.432Z"
   },
   {
    "duration": 9,
    "start_time": "2024-05-30T14:53:57.447Z"
   },
   {
    "duration": 171,
    "start_time": "2024-05-30T14:53:57.459Z"
   },
   {
    "duration": 6,
    "start_time": "2024-05-30T14:53:57.631Z"
   },
   {
    "duration": 25,
    "start_time": "2024-05-30T14:53:57.639Z"
   },
   {
    "duration": 11,
    "start_time": "2024-05-30T14:53:57.665Z"
   },
   {
    "duration": 138,
    "start_time": "2024-05-30T14:53:57.677Z"
   },
   {
    "duration": 5,
    "start_time": "2024-05-30T14:53:57.816Z"
   },
   {
    "duration": 15,
    "start_time": "2024-05-30T14:53:57.822Z"
   },
   {
    "duration": 6,
    "start_time": "2024-05-30T14:53:57.839Z"
   },
   {
    "duration": 21,
    "start_time": "2024-05-30T14:53:57.846Z"
   },
   {
    "duration": 164,
    "start_time": "2024-05-30T14:53:57.868Z"
   },
   {
    "duration": 8,
    "start_time": "2024-05-30T14:53:58.033Z"
   },
   {
    "duration": 14,
    "start_time": "2024-05-30T14:53:58.043Z"
   },
   {
    "duration": 108,
    "start_time": "2024-05-30T14:53:58.058Z"
   },
   {
    "duration": 225,
    "start_time": "2024-05-30T14:53:58.167Z"
   },
   {
    "duration": 8,
    "start_time": "2024-05-30T14:53:58.394Z"
   },
   {
    "duration": 13,
    "start_time": "2024-05-30T14:53:58.404Z"
   },
   {
    "duration": 16,
    "start_time": "2024-05-30T14:53:58.418Z"
   },
   {
    "duration": 183,
    "start_time": "2024-05-30T14:53:58.436Z"
   },
   {
    "duration": 160,
    "start_time": "2024-05-30T14:53:58.621Z"
   },
   {
    "duration": 5,
    "start_time": "2024-05-30T14:53:58.782Z"
   },
   {
    "duration": 5,
    "start_time": "2024-05-30T14:53:58.802Z"
   },
   {
    "duration": 15,
    "start_time": "2024-05-30T14:53:58.808Z"
   },
   {
    "duration": 5,
    "start_time": "2024-05-30T14:53:58.825Z"
   },
   {
    "duration": 22,
    "start_time": "2024-05-30T14:53:58.832Z"
   },
   {
    "duration": 21,
    "start_time": "2024-05-30T14:53:58.855Z"
   },
   {
    "duration": 17,
    "start_time": "2024-05-30T14:53:58.901Z"
   },
   {
    "duration": 12,
    "start_time": "2024-05-30T14:53:58.920Z"
   },
   {
    "duration": 17,
    "start_time": "2024-05-30T14:53:58.934Z"
   },
   {
    "duration": 23,
    "start_time": "2024-05-30T14:53:58.953Z"
   },
   {
    "duration": 7,
    "start_time": "2024-05-30T14:53:58.977Z"
   },
   {
    "duration": 509,
    "start_time": "2024-05-30T14:53:58.985Z"
   },
   {
    "duration": 719,
    "start_time": "2024-05-30T14:53:59.501Z"
   },
   {
    "duration": 11,
    "start_time": "2024-05-30T14:54:00.221Z"
   },
   {
    "duration": 113,
    "start_time": "2024-05-30T14:54:00.233Z"
   },
   {
    "duration": 64,
    "start_time": "2024-05-30T14:54:00.348Z"
   },
   {
    "duration": 50,
    "start_time": "2024-05-30T14:54:00.414Z"
   },
   {
    "duration": 53,
    "start_time": "2024-05-30T14:54:00.465Z"
   },
   {
    "duration": 38,
    "start_time": "2024-05-30T14:54:00.519Z"
   },
   {
    "duration": 48,
    "start_time": "2024-05-30T14:54:00.558Z"
   },
   {
    "duration": 52,
    "start_time": "2024-05-30T14:54:00.607Z"
   },
   {
    "duration": 59,
    "start_time": "2024-05-30T14:54:00.661Z"
   },
   {
    "duration": 24,
    "start_time": "2024-05-30T14:54:00.724Z"
   },
   {
    "duration": 50,
    "start_time": "2024-05-30T14:54:00.749Z"
   },
   {
    "duration": 99,
    "start_time": "2024-05-30T14:54:00.800Z"
   },
   {
    "duration": 74,
    "start_time": "2024-05-30T14:54:00.901Z"
   },
   {
    "duration": 71,
    "start_time": "2024-05-30T14:54:00.976Z"
   },
   {
    "duration": 75,
    "start_time": "2024-05-30T14:55:53.547Z"
   },
   {
    "duration": 1045,
    "start_time": "2024-05-30T14:57:14.496Z"
   },
   {
    "duration": 65,
    "start_time": "2024-05-30T14:57:15.543Z"
   },
   {
    "duration": 3,
    "start_time": "2024-05-30T14:57:15.609Z"
   },
   {
    "duration": 22,
    "start_time": "2024-05-30T14:57:15.613Z"
   },
   {
    "duration": 14,
    "start_time": "2024-05-30T14:57:15.637Z"
   },
   {
    "duration": 10,
    "start_time": "2024-05-30T14:57:15.652Z"
   },
   {
    "duration": 4,
    "start_time": "2024-05-30T14:57:15.664Z"
   },
   {
    "duration": 33,
    "start_time": "2024-05-30T14:57:15.669Z"
   },
   {
    "duration": 26,
    "start_time": "2024-05-30T14:57:15.703Z"
   },
   {
    "duration": 8,
    "start_time": "2024-05-30T14:57:15.730Z"
   },
   {
    "duration": 16,
    "start_time": "2024-05-30T14:57:15.739Z"
   },
   {
    "duration": 15,
    "start_time": "2024-05-30T14:57:15.756Z"
   },
   {
    "duration": 18,
    "start_time": "2024-05-30T14:57:15.772Z"
   },
   {
    "duration": 5,
    "start_time": "2024-05-30T14:57:15.793Z"
   },
   {
    "duration": 5,
    "start_time": "2024-05-30T14:57:15.799Z"
   },
   {
    "duration": 11,
    "start_time": "2024-05-30T14:57:15.805Z"
   },
   {
    "duration": 21,
    "start_time": "2024-05-30T14:57:15.817Z"
   },
   {
    "duration": 4,
    "start_time": "2024-05-30T14:57:15.840Z"
   },
   {
    "duration": 12,
    "start_time": "2024-05-30T14:57:15.845Z"
   },
   {
    "duration": 14,
    "start_time": "2024-05-30T14:57:15.858Z"
   },
   {
    "duration": 11,
    "start_time": "2024-05-30T14:57:15.873Z"
   },
   {
    "duration": 15,
    "start_time": "2024-05-30T14:57:15.885Z"
   },
   {
    "duration": 22,
    "start_time": "2024-05-30T14:57:15.901Z"
   },
   {
    "duration": 8,
    "start_time": "2024-05-30T14:57:15.924Z"
   },
   {
    "duration": 187,
    "start_time": "2024-05-30T14:57:15.933Z"
   },
   {
    "duration": 7,
    "start_time": "2024-05-30T14:57:16.121Z"
   },
   {
    "duration": 5,
    "start_time": "2024-05-30T14:57:16.129Z"
   },
   {
    "duration": 7,
    "start_time": "2024-05-30T14:57:16.135Z"
   },
   {
    "duration": 138,
    "start_time": "2024-05-30T14:57:16.143Z"
   },
   {
    "duration": 3,
    "start_time": "2024-05-30T14:57:16.283Z"
   },
   {
    "duration": 18,
    "start_time": "2024-05-30T14:57:16.287Z"
   },
   {
    "duration": 4,
    "start_time": "2024-05-30T14:57:16.306Z"
   },
   {
    "duration": 19,
    "start_time": "2024-05-30T14:57:16.311Z"
   },
   {
    "duration": 135,
    "start_time": "2024-05-30T14:57:16.332Z"
   },
   {
    "duration": 7,
    "start_time": "2024-05-30T14:57:16.468Z"
   },
   {
    "duration": 9,
    "start_time": "2024-05-30T14:57:16.476Z"
   },
   {
    "duration": 104,
    "start_time": "2024-05-30T14:57:16.486Z"
   },
   {
    "duration": 215,
    "start_time": "2024-05-30T14:57:16.591Z"
   },
   {
    "duration": 5,
    "start_time": "2024-05-30T14:57:16.807Z"
   },
   {
    "duration": 6,
    "start_time": "2024-05-30T14:57:16.813Z"
   },
   {
    "duration": 6,
    "start_time": "2024-05-30T14:57:16.822Z"
   },
   {
    "duration": 116,
    "start_time": "2024-05-30T14:57:16.829Z"
   },
   {
    "duration": 162,
    "start_time": "2024-05-30T14:57:16.946Z"
   },
   {
    "duration": 4,
    "start_time": "2024-05-30T14:57:17.109Z"
   },
   {
    "duration": 56,
    "start_time": "2024-05-30T14:57:17.114Z"
   },
   {
    "duration": 14,
    "start_time": "2024-05-30T14:57:17.171Z"
   },
   {
    "duration": 5,
    "start_time": "2024-05-30T14:57:17.186Z"
   },
   {
    "duration": 16,
    "start_time": "2024-05-30T14:57:17.192Z"
   },
   {
    "duration": 15,
    "start_time": "2024-05-30T14:57:17.209Z"
   },
   {
    "duration": 65,
    "start_time": "2024-05-30T14:57:17.225Z"
   },
   {
    "duration": 12,
    "start_time": "2024-05-30T14:57:17.301Z"
   },
   {
    "duration": 132,
    "start_time": "2024-05-30T14:57:17.314Z"
   },
   {
    "duration": 94,
    "start_time": "2024-05-30T14:57:17.448Z"
   },
   {
    "duration": 9,
    "start_time": "2024-05-30T14:57:17.543Z"
   },
   {
    "duration": 427,
    "start_time": "2024-05-30T14:57:17.553Z"
   },
   {
    "duration": 647,
    "start_time": "2024-05-30T14:57:17.981Z"
   },
   {
    "duration": 10,
    "start_time": "2024-05-30T14:57:18.629Z"
   },
   {
    "duration": 73,
    "start_time": "2024-05-30T14:57:18.640Z"
   },
   {
    "duration": 8,
    "start_time": "2024-05-30T14:57:18.714Z"
   },
   {
    "duration": 14,
    "start_time": "2024-05-30T14:57:18.724Z"
   },
   {
    "duration": 36,
    "start_time": "2024-05-30T14:57:18.739Z"
   },
   {
    "duration": 14,
    "start_time": "2024-05-30T14:57:18.776Z"
   },
   {
    "duration": 24,
    "start_time": "2024-05-30T14:57:18.791Z"
   },
   {
    "duration": 10,
    "start_time": "2024-05-30T14:57:18.816Z"
   },
   {
    "duration": 36,
    "start_time": "2024-05-30T14:57:18.827Z"
   },
   {
    "duration": 25,
    "start_time": "2024-05-30T14:57:18.864Z"
   },
   {
    "duration": 17,
    "start_time": "2024-05-30T14:57:18.890Z"
   },
   {
    "duration": 31,
    "start_time": "2024-05-30T14:57:18.908Z"
   },
   {
    "duration": 40,
    "start_time": "2024-05-30T14:57:18.940Z"
   },
   {
    "duration": 13,
    "start_time": "2024-05-30T14:57:18.982Z"
   },
   {
    "duration": 155,
    "start_time": "2024-05-30T15:02:20.174Z"
   },
   {
    "duration": 149,
    "start_time": "2024-05-30T15:02:35.666Z"
   },
   {
    "duration": 145,
    "start_time": "2024-05-30T15:02:47.989Z"
   },
   {
    "duration": 154,
    "start_time": "2024-05-30T15:04:24.002Z"
   },
   {
    "duration": 164,
    "start_time": "2024-05-30T15:05:22.343Z"
   },
   {
    "duration": 153,
    "start_time": "2024-05-30T15:08:44.583Z"
   },
   {
    "duration": 148,
    "start_time": "2024-05-30T15:14:25.080Z"
   },
   {
    "duration": 210,
    "start_time": "2024-05-30T15:16:07.952Z"
   },
   {
    "duration": 143,
    "start_time": "2024-05-30T15:16:16.713Z"
   },
   {
    "duration": 158,
    "start_time": "2024-05-30T15:16:27.087Z"
   },
   {
    "duration": 155,
    "start_time": "2024-05-30T15:16:44.277Z"
   },
   {
    "duration": 152,
    "start_time": "2024-05-30T15:17:29.787Z"
   },
   {
    "duration": 144,
    "start_time": "2024-05-30T15:21:09.476Z"
   },
   {
    "duration": 1068,
    "start_time": "2024-05-30T15:23:04.177Z"
   },
   {
    "duration": 66,
    "start_time": "2024-05-30T15:23:05.247Z"
   },
   {
    "duration": 3,
    "start_time": "2024-05-30T15:23:05.314Z"
   },
   {
    "duration": 97,
    "start_time": "2024-05-30T15:23:05.319Z"
   },
   {
    "duration": 29,
    "start_time": "2024-05-30T15:23:05.417Z"
   },
   {
    "duration": 27,
    "start_time": "2024-05-30T15:23:05.447Z"
   },
   {
    "duration": 18,
    "start_time": "2024-05-30T15:23:05.475Z"
   },
   {
    "duration": 18,
    "start_time": "2024-05-30T15:23:05.494Z"
   },
   {
    "duration": 44,
    "start_time": "2024-05-30T15:23:05.513Z"
   },
   {
    "duration": 15,
    "start_time": "2024-05-30T15:23:05.559Z"
   },
   {
    "duration": 33,
    "start_time": "2024-05-30T15:23:05.575Z"
   },
   {
    "duration": 18,
    "start_time": "2024-05-30T15:23:05.609Z"
   },
   {
    "duration": 20,
    "start_time": "2024-05-30T15:23:05.629Z"
   },
   {
    "duration": 14,
    "start_time": "2024-05-30T15:23:05.650Z"
   },
   {
    "duration": 35,
    "start_time": "2024-05-30T15:23:05.665Z"
   },
   {
    "duration": 13,
    "start_time": "2024-05-30T15:23:05.702Z"
   },
   {
    "duration": 6,
    "start_time": "2024-05-30T15:23:05.716Z"
   },
   {
    "duration": 7,
    "start_time": "2024-05-30T15:23:05.723Z"
   },
   {
    "duration": 8,
    "start_time": "2024-05-30T15:23:05.731Z"
   },
   {
    "duration": 17,
    "start_time": "2024-05-30T15:23:05.740Z"
   },
   {
    "duration": 4,
    "start_time": "2024-05-30T15:23:05.758Z"
   },
   {
    "duration": 23,
    "start_time": "2024-05-30T15:23:05.763Z"
   },
   {
    "duration": 166,
    "start_time": "2024-05-30T15:23:05.787Z"
   },
   {
    "duration": 6,
    "start_time": "2024-05-30T15:23:05.955Z"
   },
   {
    "duration": 45,
    "start_time": "2024-05-30T15:23:05.962Z"
   },
   {
    "duration": 10,
    "start_time": "2024-05-30T15:23:06.008Z"
   },
   {
    "duration": 129,
    "start_time": "2024-05-30T15:23:06.020Z"
   },
   {
    "duration": 4,
    "start_time": "2024-05-30T15:23:06.152Z"
   },
   {
    "duration": 17,
    "start_time": "2024-05-30T15:23:06.157Z"
   },
   {
    "duration": 46,
    "start_time": "2024-05-30T15:23:06.175Z"
   },
   {
    "duration": 16,
    "start_time": "2024-05-30T15:23:06.222Z"
   },
   {
    "duration": 133,
    "start_time": "2024-05-30T15:23:06.240Z"
   },
   {
    "duration": 7,
    "start_time": "2024-05-30T15:23:06.374Z"
   },
   {
    "duration": 12,
    "start_time": "2024-05-30T15:23:06.382Z"
   },
   {
    "duration": 125,
    "start_time": "2024-05-30T15:23:06.395Z"
   },
   {
    "duration": 226,
    "start_time": "2024-05-30T15:23:06.522Z"
   },
   {
    "duration": 4,
    "start_time": "2024-05-30T15:23:06.750Z"
   },
   {
    "duration": 5,
    "start_time": "2024-05-30T15:23:06.755Z"
   },
   {
    "duration": 7,
    "start_time": "2024-05-30T15:23:06.761Z"
   },
   {
    "duration": 116,
    "start_time": "2024-05-30T15:23:06.769Z"
   },
   {
    "duration": 166,
    "start_time": "2024-05-30T15:23:06.886Z"
   },
   {
    "duration": 4,
    "start_time": "2024-05-30T15:23:07.054Z"
   },
   {
    "duration": 14,
    "start_time": "2024-05-30T15:23:07.060Z"
   },
   {
    "duration": 14,
    "start_time": "2024-05-30T15:23:07.076Z"
   },
   {
    "duration": 16,
    "start_time": "2024-05-30T15:23:07.091Z"
   },
   {
    "duration": 27,
    "start_time": "2024-05-30T15:23:07.108Z"
   },
   {
    "duration": 14,
    "start_time": "2024-05-30T15:23:07.137Z"
   },
   {
    "duration": 80,
    "start_time": "2024-05-30T15:23:07.152Z"
   },
   {
    "duration": 50,
    "start_time": "2024-05-30T15:23:07.233Z"
   },
   {
    "duration": 8,
    "start_time": "2024-05-30T15:23:07.284Z"
   },
   {
    "duration": 27,
    "start_time": "2024-05-30T15:23:07.293Z"
   },
   {
    "duration": 15,
    "start_time": "2024-05-30T15:23:07.321Z"
   },
   {
    "duration": 449,
    "start_time": "2024-05-30T15:23:07.337Z"
   },
   {
    "duration": 692,
    "start_time": "2024-05-30T15:23:07.788Z"
   },
   {
    "duration": 10,
    "start_time": "2024-05-30T15:23:08.481Z"
   },
   {
    "duration": 45,
    "start_time": "2024-05-30T15:23:08.492Z"
   },
   {
    "duration": 8,
    "start_time": "2024-05-30T15:23:08.539Z"
   },
   {
    "duration": 10,
    "start_time": "2024-05-30T15:23:08.549Z"
   },
   {
    "duration": 9,
    "start_time": "2024-05-30T15:23:08.560Z"
   },
   {
    "duration": 3,
    "start_time": "2024-05-30T15:23:08.571Z"
   },
   {
    "duration": 27,
    "start_time": "2024-05-30T15:23:08.575Z"
   },
   {
    "duration": 10,
    "start_time": "2024-05-30T15:23:08.606Z"
   },
   {
    "duration": 17,
    "start_time": "2024-05-30T15:23:08.618Z"
   },
   {
    "duration": 17,
    "start_time": "2024-05-30T15:23:08.637Z"
   },
   {
    "duration": 13,
    "start_time": "2024-05-30T15:23:08.655Z"
   },
   {
    "duration": 11,
    "start_time": "2024-05-30T15:23:08.669Z"
   },
   {
    "duration": 9,
    "start_time": "2024-05-30T15:23:08.681Z"
   },
   {
    "duration": 8,
    "start_time": "2024-05-30T15:23:08.691Z"
   },
   {
    "duration": 161,
    "start_time": "2024-05-30T15:32:10.367Z"
   },
   {
    "duration": 152,
    "start_time": "2024-05-30T15:32:17.789Z"
   },
   {
    "duration": 79,
    "start_time": "2024-05-30T15:35:48.279Z"
   },
   {
    "duration": 76,
    "start_time": "2024-05-30T15:36:03.644Z"
   },
   {
    "duration": 78,
    "start_time": "2024-05-30T15:36:10.945Z"
   },
   {
    "duration": 78,
    "start_time": "2024-05-30T15:38:23.233Z"
   },
   {
    "duration": 48,
    "start_time": "2024-05-31T08:03:30.896Z"
   },
   {
    "duration": 1238,
    "start_time": "2024-05-31T08:03:48.197Z"
   },
   {
    "duration": 285,
    "start_time": "2024-05-31T08:03:49.437Z"
   },
   {
    "duration": 3,
    "start_time": "2024-05-31T08:03:49.724Z"
   },
   {
    "duration": 19,
    "start_time": "2024-05-31T08:03:49.728Z"
   },
   {
    "duration": 13,
    "start_time": "2024-05-31T08:03:49.749Z"
   },
   {
    "duration": 15,
    "start_time": "2024-05-31T08:03:49.764Z"
   },
   {
    "duration": 11,
    "start_time": "2024-05-31T08:03:49.781Z"
   },
   {
    "duration": 5,
    "start_time": "2024-05-31T08:03:49.793Z"
   },
   {
    "duration": 4,
    "start_time": "2024-05-31T08:03:49.799Z"
   },
   {
    "duration": 13,
    "start_time": "2024-05-31T08:03:49.804Z"
   },
   {
    "duration": 4,
    "start_time": "2024-05-31T08:03:49.818Z"
   },
   {
    "duration": 11,
    "start_time": "2024-05-31T08:03:49.823Z"
   },
   {
    "duration": 28,
    "start_time": "2024-05-31T08:03:49.835Z"
   },
   {
    "duration": 8,
    "start_time": "2024-05-31T08:03:49.866Z"
   },
   {
    "duration": 11,
    "start_time": "2024-05-31T08:03:49.876Z"
   },
   {
    "duration": 11,
    "start_time": "2024-05-31T08:03:49.889Z"
   },
   {
    "duration": 12,
    "start_time": "2024-05-31T08:03:49.902Z"
   },
   {
    "duration": 6,
    "start_time": "2024-05-31T08:03:49.915Z"
   },
   {
    "duration": 4,
    "start_time": "2024-05-31T08:03:49.923Z"
   },
   {
    "duration": 4,
    "start_time": "2024-05-31T08:03:49.928Z"
   },
   {
    "duration": 12,
    "start_time": "2024-05-31T08:03:49.933Z"
   },
   {
    "duration": 21,
    "start_time": "2024-05-31T08:03:49.946Z"
   },
   {
    "duration": 7,
    "start_time": "2024-05-31T08:03:49.969Z"
   },
   {
    "duration": 186,
    "start_time": "2024-05-31T08:03:49.977Z"
   },
   {
    "duration": 7,
    "start_time": "2024-05-31T08:03:50.164Z"
   },
   {
    "duration": 12,
    "start_time": "2024-05-31T08:03:50.173Z"
   },
   {
    "duration": 21,
    "start_time": "2024-05-31T08:03:50.186Z"
   },
   {
    "duration": 141,
    "start_time": "2024-05-31T08:03:50.208Z"
   },
   {
    "duration": 98,
    "start_time": "2024-05-31T08:03:50.351Z"
   },
   {
    "duration": 4,
    "start_time": "2024-05-31T08:03:50.450Z"
   },
   {
    "duration": 24,
    "start_time": "2024-05-31T08:03:50.455Z"
   },
   {
    "duration": 5,
    "start_time": "2024-05-31T08:03:50.480Z"
   },
   {
    "duration": 5,
    "start_time": "2024-05-31T08:03:50.486Z"
   },
   {
    "duration": 151,
    "start_time": "2024-05-31T08:03:50.492Z"
   },
   {
    "duration": 8,
    "start_time": "2024-05-31T08:03:50.645Z"
   },
   {
    "duration": 30,
    "start_time": "2024-05-31T08:03:50.655Z"
   },
   {
    "duration": 115,
    "start_time": "2024-05-31T08:03:50.686Z"
   },
   {
    "duration": 242,
    "start_time": "2024-05-31T08:03:50.802Z"
   },
   {
    "duration": 5,
    "start_time": "2024-05-31T08:03:51.047Z"
   },
   {
    "duration": 6,
    "start_time": "2024-05-31T08:03:51.053Z"
   },
   {
    "duration": 18,
    "start_time": "2024-05-31T08:03:51.060Z"
   },
   {
    "duration": 125,
    "start_time": "2024-05-31T08:03:51.080Z"
   },
   {
    "duration": 232,
    "start_time": "2024-05-31T08:03:51.207Z"
   },
   {
    "duration": 4,
    "start_time": "2024-05-31T08:03:51.440Z"
   },
   {
    "duration": 26,
    "start_time": "2024-05-31T08:03:51.446Z"
   },
   {
    "duration": 40,
    "start_time": "2024-05-31T08:03:51.473Z"
   },
   {
    "duration": 29,
    "start_time": "2024-05-31T08:03:51.514Z"
   },
   {
    "duration": 19,
    "start_time": "2024-05-31T08:03:51.544Z"
   },
   {
    "duration": 29,
    "start_time": "2024-05-31T08:03:51.565Z"
   },
   {
    "duration": 12,
    "start_time": "2024-05-31T08:03:51.595Z"
   },
   {
    "duration": 20,
    "start_time": "2024-05-31T08:03:51.609Z"
   },
   {
    "duration": 9,
    "start_time": "2024-05-31T08:03:51.630Z"
   },
   {
    "duration": 19,
    "start_time": "2024-05-31T08:03:51.641Z"
   },
   {
    "duration": 4,
    "start_time": "2024-05-31T08:03:51.661Z"
   },
   {
    "duration": 532,
    "start_time": "2024-05-31T08:03:51.666Z"
   },
   {
    "duration": 701,
    "start_time": "2024-05-31T08:03:52.200Z"
   },
   {
    "duration": 10,
    "start_time": "2024-05-31T08:03:52.903Z"
   },
   {
    "duration": 61,
    "start_time": "2024-05-31T08:03:52.915Z"
   },
   {
    "duration": 12,
    "start_time": "2024-05-31T08:03:52.978Z"
   },
   {
    "duration": 30,
    "start_time": "2024-05-31T08:03:52.991Z"
   },
   {
    "duration": 15,
    "start_time": "2024-05-31T08:03:53.022Z"
   },
   {
    "duration": 12,
    "start_time": "2024-05-31T08:03:53.038Z"
   },
   {
    "duration": 40,
    "start_time": "2024-05-31T08:03:53.052Z"
   },
   {
    "duration": 49,
    "start_time": "2024-05-31T08:03:53.094Z"
   },
   {
    "duration": 27,
    "start_time": "2024-05-31T08:03:53.144Z"
   },
   {
    "duration": 16,
    "start_time": "2024-05-31T08:03:53.172Z"
   },
   {
    "duration": 9,
    "start_time": "2024-05-31T08:03:53.189Z"
   },
   {
    "duration": 8,
    "start_time": "2024-05-31T08:03:53.199Z"
   },
   {
    "duration": 7,
    "start_time": "2024-05-31T08:03:53.210Z"
   },
   {
    "duration": 6,
    "start_time": "2024-05-31T08:03:53.219Z"
   },
   {
    "duration": 6,
    "start_time": "2024-05-31T08:07:17.018Z"
   },
   {
    "duration": 71,
    "start_time": "2024-05-31T08:16:35.942Z"
   },
   {
    "duration": 83,
    "start_time": "2024-05-31T08:17:02.527Z"
   },
   {
    "duration": 1028,
    "start_time": "2024-05-31T08:23:20.004Z"
   },
   {
    "duration": 66,
    "start_time": "2024-05-31T08:23:21.034Z"
   },
   {
    "duration": 3,
    "start_time": "2024-05-31T08:23:21.101Z"
   },
   {
    "duration": 41,
    "start_time": "2024-05-31T08:23:21.106Z"
   },
   {
    "duration": 16,
    "start_time": "2024-05-31T08:23:21.149Z"
   },
   {
    "duration": 20,
    "start_time": "2024-05-31T08:23:21.166Z"
   },
   {
    "duration": 13,
    "start_time": "2024-05-31T08:23:21.187Z"
   },
   {
    "duration": 5,
    "start_time": "2024-05-31T08:23:21.201Z"
   },
   {
    "duration": 9,
    "start_time": "2024-05-31T08:23:21.208Z"
   },
   {
    "duration": 5,
    "start_time": "2024-05-31T08:23:21.219Z"
   },
   {
    "duration": 5,
    "start_time": "2024-05-31T08:23:21.225Z"
   },
   {
    "duration": 9,
    "start_time": "2024-05-31T08:23:21.232Z"
   },
   {
    "duration": 4,
    "start_time": "2024-05-31T08:23:21.242Z"
   },
   {
    "duration": 9,
    "start_time": "2024-05-31T08:23:21.250Z"
   },
   {
    "duration": 17,
    "start_time": "2024-05-31T08:23:21.269Z"
   },
   {
    "duration": 4,
    "start_time": "2024-05-31T08:23:21.288Z"
   },
   {
    "duration": 8,
    "start_time": "2024-05-31T08:23:21.293Z"
   },
   {
    "duration": 8,
    "start_time": "2024-05-31T08:23:21.302Z"
   },
   {
    "duration": 3,
    "start_time": "2024-05-31T08:23:21.312Z"
   },
   {
    "duration": 10,
    "start_time": "2024-05-31T08:23:21.316Z"
   },
   {
    "duration": 10,
    "start_time": "2024-05-31T08:23:21.327Z"
   },
   {
    "duration": 4,
    "start_time": "2024-05-31T08:23:21.339Z"
   },
   {
    "duration": 9,
    "start_time": "2024-05-31T08:23:21.344Z"
   },
   {
    "duration": 175,
    "start_time": "2024-05-31T08:23:21.385Z"
   },
   {
    "duration": 7,
    "start_time": "2024-05-31T08:23:21.561Z"
   },
   {
    "duration": 31,
    "start_time": "2024-05-31T08:23:21.569Z"
   },
   {
    "duration": 31,
    "start_time": "2024-05-31T08:23:21.601Z"
   },
   {
    "duration": 90,
    "start_time": "2024-05-31T08:23:21.633Z"
   },
   {
    "duration": 0,
    "start_time": "2024-05-31T08:23:21.725Z"
   },
   {
    "duration": 0,
    "start_time": "2024-05-31T08:23:21.725Z"
   },
   {
    "duration": 0,
    "start_time": "2024-05-31T08:23:21.726Z"
   },
   {
    "duration": 0,
    "start_time": "2024-05-31T08:23:21.727Z"
   },
   {
    "duration": 0,
    "start_time": "2024-05-31T08:23:21.728Z"
   },
   {
    "duration": 0,
    "start_time": "2024-05-31T08:23:21.729Z"
   },
   {
    "duration": 0,
    "start_time": "2024-05-31T08:23:21.729Z"
   },
   {
    "duration": 0,
    "start_time": "2024-05-31T08:23:21.730Z"
   },
   {
    "duration": 0,
    "start_time": "2024-05-31T08:23:21.731Z"
   },
   {
    "duration": 0,
    "start_time": "2024-05-31T08:23:21.732Z"
   },
   {
    "duration": 0,
    "start_time": "2024-05-31T08:23:21.733Z"
   },
   {
    "duration": 0,
    "start_time": "2024-05-31T08:23:21.734Z"
   },
   {
    "duration": 0,
    "start_time": "2024-05-31T08:23:21.734Z"
   },
   {
    "duration": 0,
    "start_time": "2024-05-31T08:23:21.735Z"
   },
   {
    "duration": 0,
    "start_time": "2024-05-31T08:23:21.736Z"
   },
   {
    "duration": 0,
    "start_time": "2024-05-31T08:23:21.737Z"
   },
   {
    "duration": 0,
    "start_time": "2024-05-31T08:23:21.738Z"
   },
   {
    "duration": 0,
    "start_time": "2024-05-31T08:23:21.738Z"
   },
   {
    "duration": 0,
    "start_time": "2024-05-31T08:23:21.739Z"
   },
   {
    "duration": 0,
    "start_time": "2024-05-31T08:23:21.740Z"
   },
   {
    "duration": 0,
    "start_time": "2024-05-31T08:23:21.742Z"
   },
   {
    "duration": 0,
    "start_time": "2024-05-31T08:23:21.743Z"
   },
   {
    "duration": 0,
    "start_time": "2024-05-31T08:23:21.743Z"
   },
   {
    "duration": 0,
    "start_time": "2024-05-31T08:23:21.744Z"
   },
   {
    "duration": 0,
    "start_time": "2024-05-31T08:23:21.745Z"
   },
   {
    "duration": 0,
    "start_time": "2024-05-31T08:23:21.784Z"
   },
   {
    "duration": 0,
    "start_time": "2024-05-31T08:23:21.785Z"
   },
   {
    "duration": 0,
    "start_time": "2024-05-31T08:23:21.786Z"
   },
   {
    "duration": 0,
    "start_time": "2024-05-31T08:23:21.786Z"
   },
   {
    "duration": 0,
    "start_time": "2024-05-31T08:23:21.787Z"
   },
   {
    "duration": 0,
    "start_time": "2024-05-31T08:23:21.788Z"
   },
   {
    "duration": 9,
    "start_time": "2024-05-31T08:23:21.793Z"
   },
   {
    "duration": 0,
    "start_time": "2024-05-31T08:23:21.804Z"
   },
   {
    "duration": 0,
    "start_time": "2024-05-31T08:23:21.805Z"
   },
   {
    "duration": 0,
    "start_time": "2024-05-31T08:23:21.806Z"
   },
   {
    "duration": 0,
    "start_time": "2024-05-31T08:23:21.808Z"
   },
   {
    "duration": 7,
    "start_time": "2024-05-31T08:23:21.964Z"
   },
   {
    "duration": 0,
    "start_time": "2024-05-31T08:23:21.972Z"
   },
   {
    "duration": 0,
    "start_time": "2024-05-31T08:23:21.973Z"
   },
   {
    "duration": 0,
    "start_time": "2024-05-31T08:23:21.974Z"
   },
   {
    "duration": 0,
    "start_time": "2024-05-31T08:23:21.975Z"
   },
   {
    "duration": 0,
    "start_time": "2024-05-31T08:23:21.976Z"
   },
   {
    "duration": 71,
    "start_time": "2024-05-31T08:23:45.872Z"
   },
   {
    "duration": 3,
    "start_time": "2024-05-31T08:24:02.378Z"
   },
   {
    "duration": 66,
    "start_time": "2024-05-31T08:24:17.844Z"
   },
   {
    "duration": 86,
    "start_time": "2024-05-31T08:25:52.153Z"
   },
   {
    "duration": 4,
    "start_time": "2024-05-31T08:27:57.289Z"
   },
   {
    "duration": 1064,
    "start_time": "2024-05-31T08:29:07.091Z"
   },
   {
    "duration": 66,
    "start_time": "2024-05-31T08:29:08.156Z"
   },
   {
    "duration": 3,
    "start_time": "2024-05-31T08:29:08.223Z"
   },
   {
    "duration": 20,
    "start_time": "2024-05-31T08:29:08.227Z"
   },
   {
    "duration": 12,
    "start_time": "2024-05-31T08:29:08.249Z"
   },
   {
    "duration": 15,
    "start_time": "2024-05-31T08:29:08.263Z"
   },
   {
    "duration": 11,
    "start_time": "2024-05-31T08:29:08.279Z"
   },
   {
    "duration": 17,
    "start_time": "2024-05-31T08:29:08.291Z"
   },
   {
    "duration": 4,
    "start_time": "2024-05-31T08:29:08.309Z"
   },
   {
    "duration": 13,
    "start_time": "2024-05-31T08:29:08.314Z"
   },
   {
    "duration": 5,
    "start_time": "2024-05-31T08:29:08.329Z"
   },
   {
    "duration": 16,
    "start_time": "2024-05-31T08:29:08.335Z"
   },
   {
    "duration": 6,
    "start_time": "2024-05-31T08:29:08.353Z"
   },
   {
    "duration": 13,
    "start_time": "2024-05-31T08:29:08.361Z"
   },
   {
    "duration": 7,
    "start_time": "2024-05-31T08:29:08.375Z"
   },
   {
    "duration": 6,
    "start_time": "2024-05-31T08:29:08.384Z"
   },
   {
    "duration": 13,
    "start_time": "2024-05-31T08:29:08.392Z"
   },
   {
    "duration": 8,
    "start_time": "2024-05-31T08:29:08.406Z"
   },
   {
    "duration": 3,
    "start_time": "2024-05-31T08:29:08.415Z"
   },
   {
    "duration": 10,
    "start_time": "2024-05-31T08:29:08.419Z"
   },
   {
    "duration": 16,
    "start_time": "2024-05-31T08:29:08.430Z"
   },
   {
    "duration": 4,
    "start_time": "2024-05-31T08:29:08.447Z"
   },
   {
    "duration": 9,
    "start_time": "2024-05-31T08:29:08.453Z"
   },
   {
    "duration": 196,
    "start_time": "2024-05-31T08:29:08.463Z"
   },
   {
    "duration": 8,
    "start_time": "2024-05-31T08:29:08.660Z"
   },
   {
    "duration": 17,
    "start_time": "2024-05-31T08:29:08.669Z"
   },
   {
    "duration": 19,
    "start_time": "2024-05-31T08:29:08.687Z"
   },
   {
    "duration": 87,
    "start_time": "2024-05-31T08:29:08.708Z"
   },
   {
    "duration": 3,
    "start_time": "2024-05-31T08:29:08.797Z"
   },
   {
    "duration": 27,
    "start_time": "2024-05-31T08:29:08.802Z"
   },
   {
    "duration": 8,
    "start_time": "2024-05-31T08:29:08.831Z"
   },
   {
    "duration": 8,
    "start_time": "2024-05-31T08:29:08.841Z"
   },
   {
    "duration": 156,
    "start_time": "2024-05-31T08:29:08.850Z"
   },
   {
    "duration": 8,
    "start_time": "2024-05-31T08:29:09.007Z"
   },
   {
    "duration": 17,
    "start_time": "2024-05-31T08:29:09.017Z"
   },
   {
    "duration": 116,
    "start_time": "2024-05-31T08:29:09.035Z"
   },
   {
    "duration": 253,
    "start_time": "2024-05-31T08:29:09.152Z"
   },
   {
    "duration": 5,
    "start_time": "2024-05-31T08:29:09.406Z"
   },
   {
    "duration": 10,
    "start_time": "2024-05-31T08:29:09.412Z"
   },
   {
    "duration": 11,
    "start_time": "2024-05-31T08:29:09.424Z"
   },
   {
    "duration": 120,
    "start_time": "2024-05-31T08:29:09.439Z"
   },
   {
    "duration": 182,
    "start_time": "2024-05-31T08:29:09.560Z"
   },
   {
    "duration": 4,
    "start_time": "2024-05-31T08:29:09.743Z"
   },
   {
    "duration": 6,
    "start_time": "2024-05-31T08:29:09.748Z"
   },
   {
    "duration": 24,
    "start_time": "2024-05-31T08:29:09.756Z"
   },
   {
    "duration": 20,
    "start_time": "2024-05-31T08:29:09.782Z"
   },
   {
    "duration": 17,
    "start_time": "2024-05-31T08:29:09.804Z"
   },
   {
    "duration": 16,
    "start_time": "2024-05-31T08:29:09.822Z"
   },
   {
    "duration": 71,
    "start_time": "2024-05-31T08:29:09.839Z"
   },
   {
    "duration": 14,
    "start_time": "2024-05-31T08:29:09.911Z"
   },
   {
    "duration": 3,
    "start_time": "2024-05-31T08:29:09.926Z"
   },
   {
    "duration": 16,
    "start_time": "2024-05-31T08:29:09.930Z"
   },
   {
    "duration": 3,
    "start_time": "2024-05-31T08:29:09.948Z"
   },
   {
    "duration": 534,
    "start_time": "2024-05-31T08:29:09.953Z"
   },
   {
    "duration": 712,
    "start_time": "2024-05-31T08:29:10.489Z"
   },
   {
    "duration": 10,
    "start_time": "2024-05-31T08:29:11.203Z"
   },
   {
    "duration": 53,
    "start_time": "2024-05-31T08:29:11.215Z"
   },
   {
    "duration": 11,
    "start_time": "2024-05-31T08:29:11.269Z"
   },
   {
    "duration": 23,
    "start_time": "2024-05-31T08:29:11.282Z"
   },
   {
    "duration": 11,
    "start_time": "2024-05-31T08:29:11.307Z"
   },
   {
    "duration": 17,
    "start_time": "2024-05-31T08:29:11.319Z"
   },
   {
    "duration": 15,
    "start_time": "2024-05-31T08:29:11.337Z"
   },
   {
    "duration": 17,
    "start_time": "2024-05-31T08:29:11.353Z"
   },
   {
    "duration": 26,
    "start_time": "2024-05-31T08:29:11.372Z"
   },
   {
    "duration": 20,
    "start_time": "2024-05-31T08:29:11.399Z"
   },
   {
    "duration": 9,
    "start_time": "2024-05-31T08:29:11.421Z"
   },
   {
    "duration": 12,
    "start_time": "2024-05-31T08:29:11.431Z"
   },
   {
    "duration": 21,
    "start_time": "2024-05-31T08:29:11.445Z"
   },
   {
    "duration": 4,
    "start_time": "2024-05-31T08:29:11.468Z"
   },
   {
    "duration": 13,
    "start_time": "2024-05-31T08:40:02.051Z"
   },
   {
    "duration": 18,
    "start_time": "2024-05-31T08:41:30.523Z"
   },
   {
    "duration": 11,
    "start_time": "2024-05-31T08:42:15.606Z"
   },
   {
    "duration": 1070,
    "start_time": "2024-05-31T08:42:28.859Z"
   },
   {
    "duration": 15,
    "start_time": "2024-05-31T08:42:33.508Z"
   },
   {
    "duration": 7,
    "start_time": "2024-05-31T08:42:51.803Z"
   },
   {
    "duration": 9,
    "start_time": "2024-05-31T08:45:40.021Z"
   },
   {
    "duration": 10,
    "start_time": "2024-05-31T08:55:29.410Z"
   },
   {
    "duration": 6,
    "start_time": "2024-05-31T09:00:21.761Z"
   },
   {
    "duration": 12,
    "start_time": "2024-05-31T09:00:50.501Z"
   },
   {
    "duration": 5,
    "start_time": "2024-05-31T09:03:26.273Z"
   },
   {
    "duration": 11,
    "start_time": "2024-05-31T09:03:44.927Z"
   },
   {
    "duration": 7,
    "start_time": "2024-05-31T09:03:59.266Z"
   },
   {
    "duration": 18,
    "start_time": "2024-05-31T09:04:05.337Z"
   },
   {
    "duration": 9,
    "start_time": "2024-05-31T09:04:16.954Z"
   },
   {
    "duration": 7,
    "start_time": "2024-05-31T09:05:19.434Z"
   },
   {
    "duration": 7,
    "start_time": "2024-05-31T09:05:57.949Z"
   },
   {
    "duration": 8,
    "start_time": "2024-05-31T09:06:34.972Z"
   },
   {
    "duration": 7,
    "start_time": "2024-05-31T09:06:54.940Z"
   },
   {
    "duration": 7,
    "start_time": "2024-05-31T09:07:21.876Z"
   },
   {
    "duration": 7,
    "start_time": "2024-05-31T09:07:25.236Z"
   },
   {
    "duration": 9,
    "start_time": "2024-05-31T09:07:43.400Z"
   },
   {
    "duration": 6,
    "start_time": "2024-05-31T09:23:58.344Z"
   },
   {
    "duration": 10,
    "start_time": "2024-05-31T09:24:04.153Z"
   },
   {
    "duration": 7,
    "start_time": "2024-05-31T09:24:33.183Z"
   },
   {
    "duration": 10,
    "start_time": "2024-05-31T09:24:36.380Z"
   },
   {
    "duration": 6,
    "start_time": "2024-05-31T09:25:10.257Z"
   },
   {
    "duration": 4,
    "start_time": "2024-05-31T09:25:21.912Z"
   },
   {
    "duration": 5,
    "start_time": "2024-05-31T09:25:47.941Z"
   },
   {
    "duration": 5,
    "start_time": "2024-05-31T09:34:28.105Z"
   },
   {
    "duration": 1057,
    "start_time": "2024-05-31T10:39:54.163Z"
   },
   {
    "duration": 64,
    "start_time": "2024-05-31T10:39:55.222Z"
   },
   {
    "duration": 4,
    "start_time": "2024-05-31T10:39:55.287Z"
   },
   {
    "duration": 19,
    "start_time": "2024-05-31T10:39:55.292Z"
   },
   {
    "duration": 13,
    "start_time": "2024-05-31T10:39:55.312Z"
   },
   {
    "duration": 20,
    "start_time": "2024-05-31T10:39:55.326Z"
   },
   {
    "duration": 38,
    "start_time": "2024-05-31T10:39:55.347Z"
   },
   {
    "duration": 5,
    "start_time": "2024-05-31T10:39:55.386Z"
   },
   {
    "duration": 18,
    "start_time": "2024-05-31T10:39:55.393Z"
   },
   {
    "duration": 5,
    "start_time": "2024-05-31T10:39:55.413Z"
   },
   {
    "duration": 13,
    "start_time": "2024-05-31T10:39:55.420Z"
   },
   {
    "duration": 28,
    "start_time": "2024-05-31T10:39:55.434Z"
   },
   {
    "duration": 5,
    "start_time": "2024-05-31T10:39:55.463Z"
   },
   {
    "duration": 14,
    "start_time": "2024-05-31T10:39:55.470Z"
   },
   {
    "duration": 5,
    "start_time": "2024-05-31T10:39:55.485Z"
   },
   {
    "duration": 7,
    "start_time": "2024-05-31T10:39:55.492Z"
   },
   {
    "duration": 20,
    "start_time": "2024-05-31T10:39:55.500Z"
   },
   {
    "duration": 12,
    "start_time": "2024-05-31T10:39:55.521Z"
   },
   {
    "duration": 17,
    "start_time": "2024-05-31T10:39:55.534Z"
   },
   {
    "duration": 13,
    "start_time": "2024-05-31T10:39:55.552Z"
   },
   {
    "duration": 17,
    "start_time": "2024-05-31T10:39:55.566Z"
   },
   {
    "duration": 15,
    "start_time": "2024-05-31T10:39:55.584Z"
   },
   {
    "duration": 6,
    "start_time": "2024-05-31T10:39:55.600Z"
   },
   {
    "duration": 173,
    "start_time": "2024-05-31T10:39:55.607Z"
   },
   {
    "duration": 7,
    "start_time": "2024-05-31T10:39:55.782Z"
   },
   {
    "duration": 11,
    "start_time": "2024-05-31T10:39:55.791Z"
   },
   {
    "duration": 6,
    "start_time": "2024-05-31T10:39:55.803Z"
   },
   {
    "duration": 80,
    "start_time": "2024-05-31T10:39:55.813Z"
   },
   {
    "duration": 4,
    "start_time": "2024-05-31T10:39:55.895Z"
   },
   {
    "duration": 11,
    "start_time": "2024-05-31T10:39:55.900Z"
   },
   {
    "duration": 6,
    "start_time": "2024-05-31T10:39:55.912Z"
   },
   {
    "duration": 12,
    "start_time": "2024-05-31T10:39:55.919Z"
   },
   {
    "duration": 140,
    "start_time": "2024-05-31T10:39:55.932Z"
   },
   {
    "duration": 12,
    "start_time": "2024-05-31T10:39:56.073Z"
   },
   {
    "duration": 7,
    "start_time": "2024-05-31T10:39:56.086Z"
   },
   {
    "duration": 107,
    "start_time": "2024-05-31T10:39:56.094Z"
   },
   {
    "duration": 222,
    "start_time": "2024-05-31T10:39:56.203Z"
   },
   {
    "duration": 5,
    "start_time": "2024-05-31T10:39:56.427Z"
   },
   {
    "duration": 21,
    "start_time": "2024-05-31T10:39:56.434Z"
   },
   {
    "duration": 4,
    "start_time": "2024-05-31T10:39:56.456Z"
   },
   {
    "duration": 4,
    "start_time": "2024-05-31T10:39:56.461Z"
   },
   {
    "duration": 7,
    "start_time": "2024-05-31T10:39:56.466Z"
   },
   {
    "duration": 125,
    "start_time": "2024-05-31T10:39:56.474Z"
   },
   {
    "duration": 170,
    "start_time": "2024-05-31T10:39:56.600Z"
   },
   {
    "duration": 4,
    "start_time": "2024-05-31T10:39:56.771Z"
   },
   {
    "duration": 9,
    "start_time": "2024-05-31T10:39:56.776Z"
   },
   {
    "duration": 18,
    "start_time": "2024-05-31T10:39:56.786Z"
   },
   {
    "duration": 6,
    "start_time": "2024-05-31T10:39:56.805Z"
   },
   {
    "duration": 16,
    "start_time": "2024-05-31T10:39:56.812Z"
   },
   {
    "duration": 14,
    "start_time": "2024-05-31T10:39:56.829Z"
   },
   {
    "duration": 76,
    "start_time": "2024-05-31T10:39:56.844Z"
   },
   {
    "duration": 12,
    "start_time": "2024-05-31T10:39:56.921Z"
   },
   {
    "duration": 4,
    "start_time": "2024-05-31T10:39:56.935Z"
   },
   {
    "duration": 15,
    "start_time": "2024-05-31T10:39:56.940Z"
   },
   {
    "duration": 3,
    "start_time": "2024-05-31T10:39:56.956Z"
   },
   {
    "duration": 413,
    "start_time": "2024-05-31T10:39:56.960Z"
   },
   {
    "duration": 707,
    "start_time": "2024-05-31T10:39:57.374Z"
   },
   {
    "duration": 10,
    "start_time": "2024-05-31T10:39:58.082Z"
   },
   {
    "duration": 50,
    "start_time": "2024-05-31T10:39:58.093Z"
   },
   {
    "duration": 8,
    "start_time": "2024-05-31T10:39:58.144Z"
   },
   {
    "duration": 14,
    "start_time": "2024-05-31T10:39:58.153Z"
   },
   {
    "duration": 15,
    "start_time": "2024-05-31T10:39:58.169Z"
   },
   {
    "duration": 3,
    "start_time": "2024-05-31T10:39:58.185Z"
   },
   {
    "duration": 17,
    "start_time": "2024-05-31T10:39:58.189Z"
   },
   {
    "duration": 15,
    "start_time": "2024-05-31T10:39:58.207Z"
   },
   {
    "duration": 25,
    "start_time": "2024-05-31T10:39:58.223Z"
   },
   {
    "duration": 5,
    "start_time": "2024-05-31T10:39:58.249Z"
   },
   {
    "duration": 10,
    "start_time": "2024-05-31T10:39:58.255Z"
   },
   {
    "duration": 13,
    "start_time": "2024-05-31T10:39:58.266Z"
   },
   {
    "duration": 7,
    "start_time": "2024-05-31T10:39:58.280Z"
   },
   {
    "duration": 15,
    "start_time": "2024-05-31T10:39:58.288Z"
   },
   {
    "duration": 6,
    "start_time": "2024-05-31T10:44:06.165Z"
   },
   {
    "duration": 4,
    "start_time": "2024-05-31T10:44:26.580Z"
   },
   {
    "duration": 3,
    "start_time": "2024-05-31T10:48:15.095Z"
   },
   {
    "duration": 6,
    "start_time": "2024-05-31T10:48:52.347Z"
   },
   {
    "duration": 18,
    "start_time": "2024-05-31T10:49:26.678Z"
   },
   {
    "duration": 22,
    "start_time": "2024-05-31T10:49:55.922Z"
   },
   {
    "duration": 11,
    "start_time": "2024-05-31T10:50:29.537Z"
   },
   {
    "duration": 17,
    "start_time": "2024-05-31T10:52:05.498Z"
   },
   {
    "duration": 7,
    "start_time": "2024-05-31T11:06:49.218Z"
   },
   {
    "duration": 11,
    "start_time": "2024-05-31T11:08:41.440Z"
   },
   {
    "duration": 7,
    "start_time": "2024-05-31T11:19:04.385Z"
   },
   {
    "duration": 18,
    "start_time": "2024-05-31T11:19:40.570Z"
   },
   {
    "duration": 460,
    "start_time": "2024-05-31T11:38:24.015Z"
   },
   {
    "duration": 418,
    "start_time": "2024-05-31T11:38:40.192Z"
   },
   {
    "duration": 5,
    "start_time": "2024-05-31T11:44:57.522Z"
   },
   {
    "duration": 7,
    "start_time": "2024-05-31T11:45:07.145Z"
   },
   {
    "duration": 8,
    "start_time": "2024-05-31T11:45:19.987Z"
   },
   {
    "duration": 10,
    "start_time": "2024-05-31T11:47:22.577Z"
   },
   {
    "duration": 105,
    "start_time": "2024-05-31T11:50:09.549Z"
   },
   {
    "duration": 7,
    "start_time": "2024-05-31T11:50:16.883Z"
   },
   {
    "duration": 6,
    "start_time": "2024-05-31T11:52:29.803Z"
   },
   {
    "duration": 7,
    "start_time": "2024-05-31T11:52:39.145Z"
   },
   {
    "duration": 52,
    "start_time": "2024-05-31T12:03:56.440Z"
   },
   {
    "duration": 50,
    "start_time": "2024-05-31T12:04:18.129Z"
   },
   {
    "duration": 9,
    "start_time": "2024-05-31T12:05:13.257Z"
   },
   {
    "duration": 6,
    "start_time": "2024-05-31T12:07:27.712Z"
   },
   {
    "duration": 6,
    "start_time": "2024-05-31T12:07:35.478Z"
   },
   {
    "duration": 5,
    "start_time": "2024-05-31T12:07:46.932Z"
   },
   {
    "duration": 1443,
    "start_time": "2024-06-01T07:32:23.397Z"
   },
   {
    "duration": 297,
    "start_time": "2024-06-01T07:32:24.842Z"
   },
   {
    "duration": 3,
    "start_time": "2024-06-01T07:32:25.140Z"
   },
   {
    "duration": 31,
    "start_time": "2024-06-01T07:32:25.145Z"
   },
   {
    "duration": 23,
    "start_time": "2024-06-01T07:32:25.178Z"
   },
   {
    "duration": 18,
    "start_time": "2024-06-01T07:32:25.203Z"
   },
   {
    "duration": 13,
    "start_time": "2024-06-01T07:32:25.223Z"
   },
   {
    "duration": 12,
    "start_time": "2024-06-01T07:32:25.237Z"
   },
   {
    "duration": 5,
    "start_time": "2024-06-01T07:32:25.250Z"
   },
   {
    "duration": 30,
    "start_time": "2024-06-01T07:32:25.257Z"
   },
   {
    "duration": 5,
    "start_time": "2024-06-01T07:32:25.288Z"
   },
   {
    "duration": 48,
    "start_time": "2024-06-01T07:32:25.295Z"
   },
   {
    "duration": 26,
    "start_time": "2024-06-01T07:32:25.345Z"
   },
   {
    "duration": 50,
    "start_time": "2024-06-01T07:32:25.375Z"
   },
   {
    "duration": 25,
    "start_time": "2024-06-01T07:32:25.426Z"
   },
   {
    "duration": 30,
    "start_time": "2024-06-01T07:32:25.452Z"
   },
   {
    "duration": 22,
    "start_time": "2024-06-01T07:32:25.485Z"
   },
   {
    "duration": 18,
    "start_time": "2024-06-01T07:32:25.509Z"
   },
   {
    "duration": 3,
    "start_time": "2024-06-01T07:32:25.529Z"
   },
   {
    "duration": 12,
    "start_time": "2024-06-01T07:32:25.533Z"
   },
   {
    "duration": 26,
    "start_time": "2024-06-01T07:32:25.546Z"
   },
   {
    "duration": 27,
    "start_time": "2024-06-01T07:32:25.573Z"
   },
   {
    "duration": 6,
    "start_time": "2024-06-01T07:32:25.601Z"
   },
   {
    "duration": 220,
    "start_time": "2024-06-01T07:32:25.609Z"
   },
   {
    "duration": 9,
    "start_time": "2024-06-01T07:32:25.831Z"
   },
   {
    "duration": 7,
    "start_time": "2024-06-01T07:32:25.841Z"
   },
   {
    "duration": 13,
    "start_time": "2024-06-01T07:32:25.849Z"
   },
   {
    "duration": 111,
    "start_time": "2024-06-01T07:32:25.863Z"
   },
   {
    "duration": 5,
    "start_time": "2024-06-01T07:32:25.976Z"
   },
   {
    "duration": 23,
    "start_time": "2024-06-01T07:32:25.982Z"
   },
   {
    "duration": 11,
    "start_time": "2024-06-01T07:32:26.007Z"
   },
   {
    "duration": 18,
    "start_time": "2024-06-01T07:32:26.020Z"
   },
   {
    "duration": 214,
    "start_time": "2024-06-01T07:32:26.040Z"
   },
   {
    "duration": 9,
    "start_time": "2024-06-01T07:32:26.256Z"
   },
   {
    "duration": 17,
    "start_time": "2024-06-01T07:32:26.266Z"
   },
   {
    "duration": 133,
    "start_time": "2024-06-01T07:32:26.285Z"
   },
   {
    "duration": 307,
    "start_time": "2024-06-01T07:32:26.420Z"
   },
   {
    "duration": 5,
    "start_time": "2024-06-01T07:32:26.729Z"
   },
   {
    "duration": 15,
    "start_time": "2024-06-01T07:32:26.736Z"
   },
   {
    "duration": 6,
    "start_time": "2024-06-01T07:32:26.752Z"
   },
   {
    "duration": 3,
    "start_time": "2024-06-01T07:32:26.762Z"
   },
   {
    "duration": 8,
    "start_time": "2024-06-01T07:32:26.780Z"
   },
   {
    "duration": 150,
    "start_time": "2024-06-01T07:32:26.790Z"
   },
   {
    "duration": 233,
    "start_time": "2024-06-01T07:32:26.941Z"
   },
   {
    "duration": 12,
    "start_time": "2024-06-01T07:32:27.175Z"
   },
   {
    "duration": 11,
    "start_time": "2024-06-01T07:32:27.189Z"
   },
   {
    "duration": 14,
    "start_time": "2024-06-01T07:32:27.202Z"
   },
   {
    "duration": 5,
    "start_time": "2024-06-01T07:32:27.218Z"
   },
   {
    "duration": 14,
    "start_time": "2024-06-01T07:32:27.225Z"
   },
   {
    "duration": 141,
    "start_time": "2024-06-01T07:32:27.240Z"
   },
   {
    "duration": 0,
    "start_time": "2024-06-01T07:32:27.383Z"
   },
   {
    "duration": 0,
    "start_time": "2024-06-01T07:32:27.385Z"
   },
   {
    "duration": 0,
    "start_time": "2024-06-01T07:32:27.387Z"
   },
   {
    "duration": 0,
    "start_time": "2024-06-01T07:32:27.388Z"
   },
   {
    "duration": 0,
    "start_time": "2024-06-01T07:32:27.389Z"
   },
   {
    "duration": 0,
    "start_time": "2024-06-01T07:32:27.391Z"
   },
   {
    "duration": 0,
    "start_time": "2024-06-01T07:32:27.392Z"
   },
   {
    "duration": 0,
    "start_time": "2024-06-01T07:32:27.394Z"
   },
   {
    "duration": 0,
    "start_time": "2024-06-01T07:32:27.395Z"
   },
   {
    "duration": 0,
    "start_time": "2024-06-01T07:32:27.397Z"
   },
   {
    "duration": 0,
    "start_time": "2024-06-01T07:32:27.399Z"
   },
   {
    "duration": 0,
    "start_time": "2024-06-01T07:32:27.400Z"
   },
   {
    "duration": 0,
    "start_time": "2024-06-01T07:32:27.401Z"
   },
   {
    "duration": 0,
    "start_time": "2024-06-01T07:32:27.403Z"
   },
   {
    "duration": 0,
    "start_time": "2024-06-01T07:32:27.403Z"
   },
   {
    "duration": 0,
    "start_time": "2024-06-01T07:32:27.530Z"
   },
   {
    "duration": 0,
    "start_time": "2024-06-01T07:32:27.531Z"
   },
   {
    "duration": 0,
    "start_time": "2024-06-01T07:32:27.532Z"
   },
   {
    "duration": 0,
    "start_time": "2024-06-01T07:32:27.533Z"
   },
   {
    "duration": 0,
    "start_time": "2024-06-01T07:32:27.534Z"
   },
   {
    "duration": 0,
    "start_time": "2024-06-01T07:32:27.535Z"
   },
   {
    "duration": 0,
    "start_time": "2024-06-01T07:32:27.536Z"
   },
   {
    "duration": 1,
    "start_time": "2024-06-01T07:32:27.537Z"
   },
   {
    "duration": 0,
    "start_time": "2024-06-01T07:32:27.539Z"
   },
   {
    "duration": 0,
    "start_time": "2024-06-01T07:32:27.540Z"
   },
   {
    "duration": 0,
    "start_time": "2024-06-01T07:32:27.541Z"
   },
   {
    "duration": 0,
    "start_time": "2024-06-01T07:32:27.542Z"
   },
   {
    "duration": 0,
    "start_time": "2024-06-01T07:32:27.544Z"
   },
   {
    "duration": 0,
    "start_time": "2024-06-01T07:32:27.544Z"
   },
   {
    "duration": 0,
    "start_time": "2024-06-01T07:32:27.546Z"
   },
   {
    "duration": 0,
    "start_time": "2024-06-01T07:32:27.547Z"
   },
   {
    "duration": 0,
    "start_time": "2024-06-01T07:32:27.548Z"
   },
   {
    "duration": 1232,
    "start_time": "2024-06-01T07:34:27.455Z"
   },
   {
    "duration": 75,
    "start_time": "2024-06-01T07:34:28.689Z"
   },
   {
    "duration": 3,
    "start_time": "2024-06-01T07:34:28.765Z"
   },
   {
    "duration": 23,
    "start_time": "2024-06-01T07:34:28.770Z"
   },
   {
    "duration": 15,
    "start_time": "2024-06-01T07:34:28.795Z"
   },
   {
    "duration": 18,
    "start_time": "2024-06-01T07:34:28.812Z"
   },
   {
    "duration": 12,
    "start_time": "2024-06-01T07:34:28.832Z"
   },
   {
    "duration": 5,
    "start_time": "2024-06-01T07:34:28.846Z"
   },
   {
    "duration": 33,
    "start_time": "2024-06-01T07:34:28.852Z"
   },
   {
    "duration": 6,
    "start_time": "2024-06-01T07:34:28.886Z"
   },
   {
    "duration": 4,
    "start_time": "2024-06-01T07:34:28.893Z"
   },
   {
    "duration": 6,
    "start_time": "2024-06-01T07:34:28.898Z"
   },
   {
    "duration": 4,
    "start_time": "2024-06-01T07:34:28.905Z"
   },
   {
    "duration": 3,
    "start_time": "2024-06-01T07:34:28.912Z"
   },
   {
    "duration": 4,
    "start_time": "2024-06-01T07:34:28.917Z"
   },
   {
    "duration": 4,
    "start_time": "2024-06-01T07:34:28.923Z"
   },
   {
    "duration": 9,
    "start_time": "2024-06-01T07:34:28.928Z"
   },
   {
    "duration": 44,
    "start_time": "2024-06-01T07:34:28.938Z"
   },
   {
    "duration": 3,
    "start_time": "2024-06-01T07:34:28.983Z"
   },
   {
    "duration": 17,
    "start_time": "2024-06-01T07:34:28.987Z"
   },
   {
    "duration": 11,
    "start_time": "2024-06-01T07:34:29.005Z"
   },
   {
    "duration": 14,
    "start_time": "2024-06-01T07:34:29.017Z"
   },
   {
    "duration": 5,
    "start_time": "2024-06-01T07:34:29.033Z"
   },
   {
    "duration": 235,
    "start_time": "2024-06-01T07:34:29.039Z"
   },
   {
    "duration": 8,
    "start_time": "2024-06-01T07:34:29.280Z"
   },
   {
    "duration": 8,
    "start_time": "2024-06-01T07:34:29.289Z"
   },
   {
    "duration": 9,
    "start_time": "2024-06-01T07:34:29.299Z"
   },
   {
    "duration": 99,
    "start_time": "2024-06-01T07:34:29.310Z"
   },
   {
    "duration": 4,
    "start_time": "2024-06-01T07:34:29.411Z"
   },
   {
    "duration": 20,
    "start_time": "2024-06-01T07:34:29.417Z"
   },
   {
    "duration": 17,
    "start_time": "2024-06-01T07:34:29.439Z"
   },
   {
    "duration": 8,
    "start_time": "2024-06-01T07:34:29.458Z"
   },
   {
    "duration": 176,
    "start_time": "2024-06-01T07:34:29.468Z"
   },
   {
    "duration": 8,
    "start_time": "2024-06-01T07:34:29.646Z"
   },
   {
    "duration": 13,
    "start_time": "2024-06-01T07:34:29.655Z"
   },
   {
    "duration": 133,
    "start_time": "2024-06-01T07:34:29.686Z"
   },
   {
    "duration": 282,
    "start_time": "2024-06-01T07:34:29.821Z"
   },
   {
    "duration": 6,
    "start_time": "2024-06-01T07:34:30.104Z"
   },
   {
    "duration": 28,
    "start_time": "2024-06-01T07:34:30.111Z"
   },
   {
    "duration": 40,
    "start_time": "2024-06-01T07:34:30.141Z"
   },
   {
    "duration": 47,
    "start_time": "2024-06-01T07:34:30.185Z"
   },
   {
    "duration": 133,
    "start_time": "2024-06-01T07:34:30.233Z"
   },
   {
    "duration": 157,
    "start_time": "2024-06-01T07:34:30.368Z"
   },
   {
    "duration": 201,
    "start_time": "2024-06-01T07:34:30.527Z"
   },
   {
    "duration": 5,
    "start_time": "2024-06-01T07:34:30.729Z"
   },
   {
    "duration": 45,
    "start_time": "2024-06-01T07:34:30.736Z"
   },
   {
    "duration": 56,
    "start_time": "2024-06-01T07:34:30.783Z"
   },
   {
    "duration": 68,
    "start_time": "2024-06-01T07:34:30.841Z"
   },
   {
    "duration": 86,
    "start_time": "2024-06-01T07:34:30.911Z"
   },
   {
    "duration": 59,
    "start_time": "2024-06-01T07:34:30.999Z"
   },
   {
    "duration": 197,
    "start_time": "2024-06-01T07:34:31.060Z"
   },
   {
    "duration": 171,
    "start_time": "2024-06-01T07:34:31.258Z"
   },
   {
    "duration": 11,
    "start_time": "2024-06-01T07:34:31.431Z"
   },
   {
    "duration": 24,
    "start_time": "2024-06-01T07:34:31.443Z"
   },
   {
    "duration": 13,
    "start_time": "2024-06-01T07:34:31.469Z"
   },
   {
    "duration": 35,
    "start_time": "2024-06-01T07:34:31.483Z"
   },
   {
    "duration": 19,
    "start_time": "2024-06-01T07:34:31.519Z"
   },
   {
    "duration": 491,
    "start_time": "2024-06-01T07:34:31.540Z"
   },
   {
    "duration": 9,
    "start_time": "2024-06-01T07:34:32.033Z"
   },
   {
    "duration": 49,
    "start_time": "2024-06-01T07:34:32.044Z"
   },
   {
    "duration": 795,
    "start_time": "2024-06-01T07:34:32.095Z"
   },
   {
    "duration": 8,
    "start_time": "2024-06-01T07:34:32.891Z"
   },
   {
    "duration": 31,
    "start_time": "2024-06-01T07:34:32.900Z"
   },
   {
    "duration": 29,
    "start_time": "2024-06-01T07:34:32.933Z"
   },
   {
    "duration": 145,
    "start_time": "2024-06-01T07:34:32.964Z"
   },
   {
    "duration": 7,
    "start_time": "2024-06-01T07:34:33.110Z"
   },
   {
    "duration": 9,
    "start_time": "2024-06-01T07:34:33.119Z"
   },
   {
    "duration": 13,
    "start_time": "2024-06-01T07:34:33.129Z"
   },
   {
    "duration": 12,
    "start_time": "2024-06-01T07:34:33.143Z"
   },
   {
    "duration": 7,
    "start_time": "2024-06-01T07:34:33.181Z"
   },
   {
    "duration": 11,
    "start_time": "2024-06-01T07:34:33.189Z"
   },
   {
    "duration": 5,
    "start_time": "2024-06-01T07:34:33.202Z"
   },
   {
    "duration": 15,
    "start_time": "2024-06-01T07:34:33.208Z"
   },
   {
    "duration": 11,
    "start_time": "2024-06-01T07:34:33.225Z"
   },
   {
    "duration": 23,
    "start_time": "2024-06-01T07:34:33.237Z"
   },
   {
    "duration": 20,
    "start_time": "2024-06-01T07:34:33.261Z"
   },
   {
    "duration": 13,
    "start_time": "2024-06-01T07:34:33.283Z"
   },
   {
    "duration": 18,
    "start_time": "2024-06-01T07:34:33.297Z"
   },
   {
    "duration": 7,
    "start_time": "2024-06-01T07:34:33.316Z"
   },
   {
    "duration": 5,
    "start_time": "2024-06-01T07:34:33.325Z"
   },
   {
    "duration": 11,
    "start_time": "2024-06-01T09:00:12.913Z"
   },
   {
    "duration": 132,
    "start_time": "2024-06-01T13:42:46.677Z"
   },
   {
    "duration": 21,
    "start_time": "2024-06-01T13:43:02.236Z"
   },
   {
    "duration": 16,
    "start_time": "2024-06-01T13:44:17.956Z"
   },
   {
    "duration": 68,
    "start_time": "2024-06-01T14:00:36.466Z"
   },
   {
    "duration": 1253,
    "start_time": "2024-06-01T14:23:38.175Z"
   },
   {
    "duration": 71,
    "start_time": "2024-06-01T14:23:39.430Z"
   },
   {
    "duration": 3,
    "start_time": "2024-06-01T14:23:39.503Z"
   },
   {
    "duration": 31,
    "start_time": "2024-06-01T14:23:39.508Z"
   },
   {
    "duration": 23,
    "start_time": "2024-06-01T14:23:39.541Z"
   },
   {
    "duration": 37,
    "start_time": "2024-06-01T14:23:39.566Z"
   },
   {
    "duration": 16,
    "start_time": "2024-06-01T14:23:39.605Z"
   },
   {
    "duration": 6,
    "start_time": "2024-06-01T14:23:39.623Z"
   },
   {
    "duration": 6,
    "start_time": "2024-06-01T14:23:39.630Z"
   },
   {
    "duration": 42,
    "start_time": "2024-06-01T14:23:39.639Z"
   },
   {
    "duration": 7,
    "start_time": "2024-06-01T14:23:39.683Z"
   },
   {
    "duration": 8,
    "start_time": "2024-06-01T14:23:39.691Z"
   },
   {
    "duration": 7,
    "start_time": "2024-06-01T14:23:39.701Z"
   },
   {
    "duration": 6,
    "start_time": "2024-06-01T14:23:39.711Z"
   },
   {
    "duration": 10,
    "start_time": "2024-06-01T14:23:39.719Z"
   },
   {
    "duration": 13,
    "start_time": "2024-06-01T14:23:39.731Z"
   },
   {
    "duration": 6,
    "start_time": "2024-06-01T14:23:39.781Z"
   },
   {
    "duration": 10,
    "start_time": "2024-06-01T14:23:39.789Z"
   },
   {
    "duration": 5,
    "start_time": "2024-06-01T14:23:39.802Z"
   },
   {
    "duration": 9,
    "start_time": "2024-06-01T14:23:39.809Z"
   },
   {
    "duration": 13,
    "start_time": "2024-06-01T14:23:39.820Z"
   },
   {
    "duration": 6,
    "start_time": "2024-06-01T14:23:39.834Z"
   },
   {
    "duration": 6,
    "start_time": "2024-06-01T14:23:39.879Z"
   },
   {
    "duration": 252,
    "start_time": "2024-06-01T14:23:39.887Z"
   },
   {
    "duration": 8,
    "start_time": "2024-06-01T14:23:40.140Z"
   },
   {
    "duration": 5,
    "start_time": "2024-06-01T14:23:40.150Z"
   },
   {
    "duration": 24,
    "start_time": "2024-06-01T14:23:40.157Z"
   },
   {
    "duration": 127,
    "start_time": "2024-06-01T14:23:40.190Z"
   },
   {
    "duration": 5,
    "start_time": "2024-06-01T14:23:40.318Z"
   },
   {
    "duration": 9,
    "start_time": "2024-06-01T14:23:40.324Z"
   },
   {
    "duration": 5,
    "start_time": "2024-06-01T14:23:40.334Z"
   },
   {
    "duration": 11,
    "start_time": "2024-06-01T14:23:40.341Z"
   },
   {
    "duration": 186,
    "start_time": "2024-06-01T14:23:40.381Z"
   },
   {
    "duration": 18,
    "start_time": "2024-06-01T14:23:40.569Z"
   },
   {
    "duration": 9,
    "start_time": "2024-06-01T14:23:40.589Z"
   },
   {
    "duration": 183,
    "start_time": "2024-06-01T14:23:40.600Z"
   },
   {
    "duration": 317,
    "start_time": "2024-06-01T14:23:40.785Z"
   },
   {
    "duration": 6,
    "start_time": "2024-06-01T14:23:41.103Z"
   },
   {
    "duration": 7,
    "start_time": "2024-06-01T14:23:41.111Z"
   },
   {
    "duration": 6,
    "start_time": "2024-06-01T14:23:41.120Z"
   },
   {
    "duration": 5,
    "start_time": "2024-06-01T14:23:41.128Z"
   },
   {
    "duration": 11,
    "start_time": "2024-06-01T14:23:41.135Z"
   },
   {
    "duration": 169,
    "start_time": "2024-06-01T14:23:41.181Z"
   },
   {
    "duration": 245,
    "start_time": "2024-06-01T14:23:41.352Z"
   },
   {
    "duration": 7,
    "start_time": "2024-06-01T14:23:41.599Z"
   },
   {
    "duration": 14,
    "start_time": "2024-06-01T14:23:41.608Z"
   },
   {
    "duration": 21,
    "start_time": "2024-06-01T14:23:41.624Z"
   },
   {
    "duration": 33,
    "start_time": "2024-06-01T14:23:41.648Z"
   },
   {
    "duration": 7,
    "start_time": "2024-06-01T14:23:41.683Z"
   },
   {
    "duration": 23,
    "start_time": "2024-06-01T14:23:41.692Z"
   },
   {
    "duration": 12,
    "start_time": "2024-06-01T14:23:41.717Z"
   },
   {
    "duration": 124,
    "start_time": "2024-06-01T14:23:41.730Z"
   },
   {
    "duration": 32,
    "start_time": "2024-06-01T14:23:41.857Z"
   },
   {
    "duration": 17,
    "start_time": "2024-06-01T14:23:41.891Z"
   },
   {
    "duration": 4,
    "start_time": "2024-06-01T14:23:41.910Z"
   },
   {
    "duration": 16,
    "start_time": "2024-06-01T14:23:41.916Z"
   },
   {
    "duration": 4,
    "start_time": "2024-06-01T14:23:41.934Z"
   },
   {
    "duration": 617,
    "start_time": "2024-06-01T14:23:41.940Z"
   },
   {
    "duration": 9,
    "start_time": "2024-06-01T14:23:42.559Z"
   },
   {
    "duration": 18,
    "start_time": "2024-06-01T14:23:42.570Z"
   },
   {
    "duration": 940,
    "start_time": "2024-06-01T14:23:42.590Z"
   },
   {
    "duration": 11,
    "start_time": "2024-06-01T14:23:43.532Z"
   },
   {
    "duration": 11,
    "start_time": "2024-06-01T14:23:43.545Z"
   },
   {
    "duration": 17,
    "start_time": "2024-06-01T14:23:43.558Z"
   },
   {
    "duration": 63,
    "start_time": "2024-06-01T14:23:43.580Z"
   },
   {
    "duration": 10,
    "start_time": "2024-06-01T14:23:43.646Z"
   },
   {
    "duration": 35,
    "start_time": "2024-06-01T14:23:43.658Z"
   },
   {
    "duration": 18,
    "start_time": "2024-06-01T14:23:43.695Z"
   },
   {
    "duration": 16,
    "start_time": "2024-06-01T14:23:43.715Z"
   },
   {
    "duration": 11,
    "start_time": "2024-06-01T14:23:43.733Z"
   },
   {
    "duration": 9,
    "start_time": "2024-06-01T14:23:43.746Z"
   },
   {
    "duration": 8,
    "start_time": "2024-06-01T14:23:43.779Z"
   },
   {
    "duration": 5,
    "start_time": "2024-06-01T14:23:43.789Z"
   },
   {
    "duration": 18,
    "start_time": "2024-06-01T14:23:43.795Z"
   },
   {
    "duration": 12,
    "start_time": "2024-06-01T14:23:43.814Z"
   },
   {
    "duration": 14,
    "start_time": "2024-06-01T14:23:43.828Z"
   },
   {
    "duration": 37,
    "start_time": "2024-06-01T14:23:43.844Z"
   },
   {
    "duration": 9,
    "start_time": "2024-06-01T14:23:43.883Z"
   },
   {
    "duration": 10,
    "start_time": "2024-06-01T14:23:43.894Z"
   },
   {
    "duration": 16,
    "start_time": "2024-06-01T14:23:43.906Z"
   },
   {
    "duration": 6,
    "start_time": "2024-06-01T14:23:43.924Z"
   },
   {
    "duration": 52,
    "start_time": "2024-06-02T08:46:01.742Z"
   },
   {
    "duration": 1203,
    "start_time": "2024-06-02T08:46:07.194Z"
   },
   {
    "duration": 328,
    "start_time": "2024-06-02T08:46:08.398Z"
   },
   {
    "duration": 3,
    "start_time": "2024-06-02T08:46:08.728Z"
   },
   {
    "duration": 21,
    "start_time": "2024-06-02T08:46:08.733Z"
   },
   {
    "duration": 15,
    "start_time": "2024-06-02T08:46:08.756Z"
   },
   {
    "duration": 19,
    "start_time": "2024-06-02T08:46:08.773Z"
   },
   {
    "duration": 14,
    "start_time": "2024-06-02T08:46:08.794Z"
   },
   {
    "duration": 6,
    "start_time": "2024-06-02T08:46:08.809Z"
   },
   {
    "duration": 5,
    "start_time": "2024-06-02T08:46:08.816Z"
   },
   {
    "duration": 7,
    "start_time": "2024-06-02T08:46:08.855Z"
   },
   {
    "duration": 5,
    "start_time": "2024-06-02T08:46:08.864Z"
   },
   {
    "duration": 9,
    "start_time": "2024-06-02T08:46:08.870Z"
   },
   {
    "duration": 37,
    "start_time": "2024-06-02T08:46:08.881Z"
   },
   {
    "duration": 14,
    "start_time": "2024-06-02T08:46:08.920Z"
   },
   {
    "duration": 11,
    "start_time": "2024-06-02T08:46:08.936Z"
   },
   {
    "duration": 6,
    "start_time": "2024-06-02T08:46:08.948Z"
   },
   {
    "duration": 7,
    "start_time": "2024-06-02T08:46:08.956Z"
   },
   {
    "duration": 9,
    "start_time": "2024-06-02T08:46:08.964Z"
   },
   {
    "duration": 4,
    "start_time": "2024-06-02T08:46:08.974Z"
   },
   {
    "duration": 8,
    "start_time": "2024-06-02T08:46:08.980Z"
   },
   {
    "duration": 12,
    "start_time": "2024-06-02T08:46:08.989Z"
   },
   {
    "duration": 6,
    "start_time": "2024-06-02T08:46:09.002Z"
   },
   {
    "duration": 46,
    "start_time": "2024-06-02T08:46:09.010Z"
   },
   {
    "duration": 223,
    "start_time": "2024-06-02T08:46:09.058Z"
   },
   {
    "duration": 8,
    "start_time": "2024-06-02T08:46:09.283Z"
   },
   {
    "duration": 10,
    "start_time": "2024-06-02T08:46:09.293Z"
   },
   {
    "duration": 6,
    "start_time": "2024-06-02T08:46:09.304Z"
   },
   {
    "duration": 105,
    "start_time": "2024-06-02T08:46:09.314Z"
   },
   {
    "duration": 4,
    "start_time": "2024-06-02T08:46:09.421Z"
   },
   {
    "duration": 11,
    "start_time": "2024-06-02T08:46:09.427Z"
   },
   {
    "duration": 17,
    "start_time": "2024-06-02T08:46:09.439Z"
   },
   {
    "duration": 7,
    "start_time": "2024-06-02T08:46:09.458Z"
   },
   {
    "duration": 180,
    "start_time": "2024-06-02T08:46:09.466Z"
   },
   {
    "duration": 10,
    "start_time": "2024-06-02T08:46:09.647Z"
   },
   {
    "duration": 8,
    "start_time": "2024-06-02T08:46:09.658Z"
   },
   {
    "duration": 139,
    "start_time": "2024-06-02T08:46:09.667Z"
   },
   {
    "duration": 316,
    "start_time": "2024-06-02T08:46:09.807Z"
   },
   {
    "duration": 6,
    "start_time": "2024-06-02T08:46:10.125Z"
   },
   {
    "duration": 23,
    "start_time": "2024-06-02T08:46:10.133Z"
   },
   {
    "duration": 6,
    "start_time": "2024-06-02T08:46:10.157Z"
   },
   {
    "duration": 4,
    "start_time": "2024-06-02T08:46:10.165Z"
   },
   {
    "duration": 10,
    "start_time": "2024-06-02T08:46:10.170Z"
   },
   {
    "duration": 149,
    "start_time": "2024-06-02T08:46:10.182Z"
   },
   {
    "duration": 222,
    "start_time": "2024-06-02T08:46:10.333Z"
   },
   {
    "duration": 5,
    "start_time": "2024-06-02T08:46:10.557Z"
   },
   {
    "duration": 5,
    "start_time": "2024-06-02T08:46:10.564Z"
   },
   {
    "duration": 14,
    "start_time": "2024-06-02T08:46:10.571Z"
   },
   {
    "duration": 7,
    "start_time": "2024-06-02T08:46:10.587Z"
   },
   {
    "duration": 5,
    "start_time": "2024-06-02T08:46:10.595Z"
   },
   {
    "duration": 60,
    "start_time": "2024-06-02T08:46:10.602Z"
   },
   {
    "duration": 9,
    "start_time": "2024-06-02T08:46:10.663Z"
   },
   {
    "duration": 106,
    "start_time": "2024-06-02T08:46:10.674Z"
   },
   {
    "duration": 11,
    "start_time": "2024-06-02T08:46:10.782Z"
   },
   {
    "duration": 15,
    "start_time": "2024-06-02T08:46:10.794Z"
   },
   {
    "duration": 4,
    "start_time": "2024-06-02T08:46:10.810Z"
   },
   {
    "duration": 42,
    "start_time": "2024-06-02T08:46:10.815Z"
   },
   {
    "duration": 4,
    "start_time": "2024-06-02T08:46:10.859Z"
   },
   {
    "duration": 623,
    "start_time": "2024-06-02T08:46:10.865Z"
   },
   {
    "duration": 9,
    "start_time": "2024-06-02T08:46:11.489Z"
   },
   {
    "duration": 9,
    "start_time": "2024-06-02T08:46:11.500Z"
   },
   {
    "duration": 885,
    "start_time": "2024-06-02T08:46:11.511Z"
   },
   {
    "duration": 9,
    "start_time": "2024-06-02T08:46:12.398Z"
   },
   {
    "duration": 9,
    "start_time": "2024-06-02T08:46:12.409Z"
   },
   {
    "duration": 13,
    "start_time": "2024-06-02T08:46:12.420Z"
   },
   {
    "duration": 69,
    "start_time": "2024-06-02T08:46:12.435Z"
   },
   {
    "duration": 7,
    "start_time": "2024-06-02T08:46:12.505Z"
   },
   {
    "duration": 14,
    "start_time": "2024-06-02T08:46:12.514Z"
   },
   {
    "duration": 35,
    "start_time": "2024-06-02T08:46:12.530Z"
   },
   {
    "duration": 20,
    "start_time": "2024-06-02T08:46:12.566Z"
   },
   {
    "duration": 12,
    "start_time": "2024-06-02T08:46:12.588Z"
   },
   {
    "duration": 7,
    "start_time": "2024-06-02T08:46:12.602Z"
   },
   {
    "duration": 7,
    "start_time": "2024-06-02T08:46:12.611Z"
   },
   {
    "duration": 7,
    "start_time": "2024-06-02T08:46:12.620Z"
   },
   {
    "duration": 13,
    "start_time": "2024-06-02T08:46:12.656Z"
   },
   {
    "duration": 14,
    "start_time": "2024-06-02T08:46:12.671Z"
   },
   {
    "duration": 12,
    "start_time": "2024-06-02T08:46:12.687Z"
   },
   {
    "duration": 5,
    "start_time": "2024-06-02T08:46:12.701Z"
   },
   {
    "duration": 8,
    "start_time": "2024-06-02T08:46:12.707Z"
   },
   {
    "duration": 43,
    "start_time": "2024-06-02T08:46:12.716Z"
   },
   {
    "duration": 9,
    "start_time": "2024-06-02T08:46:12.760Z"
   },
   {
    "duration": 5,
    "start_time": "2024-06-02T08:46:12.771Z"
   },
   {
    "duration": 610,
    "start_time": "2024-06-02T08:47:19.870Z"
   },
   {
    "duration": 651,
    "start_time": "2024-06-02T08:47:29.688Z"
   },
   {
    "duration": 664,
    "start_time": "2024-06-02T08:47:43.511Z"
   },
   {
    "duration": 671,
    "start_time": "2024-06-02T08:47:54.986Z"
   },
   {
    "duration": 553,
    "start_time": "2024-06-02T08:48:05.014Z"
   },
   {
    "duration": 639,
    "start_time": "2024-06-02T08:48:21.437Z"
   },
   {
    "duration": 547,
    "start_time": "2024-06-02T08:48:31.815Z"
   },
   {
    "duration": 7,
    "start_time": "2024-06-02T08:50:38.530Z"
   },
   {
    "duration": 5,
    "start_time": "2024-06-02T08:54:42.971Z"
   },
   {
    "duration": 5,
    "start_time": "2024-06-02T08:54:45.475Z"
   },
   {
    "duration": 4,
    "start_time": "2024-06-02T08:54:46.231Z"
   },
   {
    "duration": 11,
    "start_time": "2024-06-02T08:54:47.413Z"
   },
   {
    "duration": 888,
    "start_time": "2024-06-02T08:54:48.500Z"
   },
   {
    "duration": 3,
    "start_time": "2024-06-02T08:54:49.389Z"
   },
   {
    "duration": 12,
    "start_time": "2024-06-02T08:54:49.842Z"
   },
   {
    "duration": 1172,
    "start_time": "2024-06-02T08:54:59.497Z"
   },
   {
    "duration": 76,
    "start_time": "2024-06-02T08:55:00.671Z"
   },
   {
    "duration": 3,
    "start_time": "2024-06-02T08:55:00.749Z"
   },
   {
    "duration": 62,
    "start_time": "2024-06-02T08:55:00.755Z"
   },
   {
    "duration": 95,
    "start_time": "2024-06-02T08:55:00.819Z"
   },
   {
    "duration": 54,
    "start_time": "2024-06-02T08:55:00.916Z"
   },
   {
    "duration": 46,
    "start_time": "2024-06-02T08:55:00.972Z"
   },
   {
    "duration": 55,
    "start_time": "2024-06-02T08:55:01.020Z"
   },
   {
    "duration": 100,
    "start_time": "2024-06-02T08:55:01.076Z"
   },
   {
    "duration": 114,
    "start_time": "2024-06-02T08:55:01.178Z"
   },
   {
    "duration": 105,
    "start_time": "2024-06-02T08:55:01.294Z"
   },
   {
    "duration": 161,
    "start_time": "2024-06-02T08:55:01.401Z"
   },
   {
    "duration": 137,
    "start_time": "2024-06-02T08:55:01.564Z"
   },
   {
    "duration": 87,
    "start_time": "2024-06-02T08:55:01.702Z"
   },
   {
    "duration": 28,
    "start_time": "2024-06-02T08:55:01.790Z"
   },
   {
    "duration": 36,
    "start_time": "2024-06-02T08:55:01.819Z"
   },
   {
    "duration": 40,
    "start_time": "2024-06-02T08:55:01.858Z"
   },
   {
    "duration": 24,
    "start_time": "2024-06-02T08:55:01.900Z"
   },
   {
    "duration": 42,
    "start_time": "2024-06-02T08:55:01.925Z"
   },
   {
    "duration": 27,
    "start_time": "2024-06-02T08:55:01.969Z"
   },
   {
    "duration": 45,
    "start_time": "2024-06-02T08:55:01.998Z"
   },
   {
    "duration": 16,
    "start_time": "2024-06-02T08:55:02.044Z"
   },
   {
    "duration": 31,
    "start_time": "2024-06-02T08:55:02.062Z"
   },
   {
    "duration": 258,
    "start_time": "2024-06-02T08:55:02.094Z"
   },
   {
    "duration": 8,
    "start_time": "2024-06-02T08:55:02.354Z"
   },
   {
    "duration": 37,
    "start_time": "2024-06-02T08:55:02.363Z"
   },
   {
    "duration": 30,
    "start_time": "2024-06-02T08:55:02.401Z"
   },
   {
    "duration": 122,
    "start_time": "2024-06-02T08:55:02.435Z"
   },
   {
    "duration": 6,
    "start_time": "2024-06-02T08:55:02.560Z"
   },
   {
    "duration": 36,
    "start_time": "2024-06-02T08:55:02.568Z"
   },
   {
    "duration": 20,
    "start_time": "2024-06-02T08:55:02.605Z"
   },
   {
    "duration": 23,
    "start_time": "2024-06-02T08:55:02.626Z"
   },
   {
    "duration": 188,
    "start_time": "2024-06-02T08:55:02.651Z"
   },
   {
    "duration": 9,
    "start_time": "2024-06-02T08:55:02.841Z"
   },
   {
    "duration": 55,
    "start_time": "2024-06-02T08:55:02.855Z"
   },
   {
    "duration": 135,
    "start_time": "2024-06-02T08:55:02.913Z"
   },
   {
    "duration": 290,
    "start_time": "2024-06-02T08:55:03.050Z"
   },
   {
    "duration": 13,
    "start_time": "2024-06-02T08:55:03.342Z"
   },
   {
    "duration": 8,
    "start_time": "2024-06-02T08:55:03.357Z"
   },
   {
    "duration": 33,
    "start_time": "2024-06-02T08:55:03.366Z"
   },
   {
    "duration": 16,
    "start_time": "2024-06-02T08:55:03.401Z"
   },
   {
    "duration": 33,
    "start_time": "2024-06-02T08:55:03.419Z"
   },
   {
    "duration": 141,
    "start_time": "2024-06-02T08:55:03.454Z"
   },
   {
    "duration": 209,
    "start_time": "2024-06-02T08:55:03.597Z"
   },
   {
    "duration": 4,
    "start_time": "2024-06-02T08:55:03.808Z"
   },
   {
    "duration": 35,
    "start_time": "2024-06-02T08:55:03.814Z"
   },
   {
    "duration": 30,
    "start_time": "2024-06-02T08:55:03.850Z"
   },
   {
    "duration": 23,
    "start_time": "2024-06-02T08:55:03.881Z"
   },
   {
    "duration": 23,
    "start_time": "2024-06-02T08:55:03.906Z"
   },
   {
    "duration": 25,
    "start_time": "2024-06-02T08:55:03.931Z"
   },
   {
    "duration": 16,
    "start_time": "2024-06-02T08:55:03.958Z"
   },
   {
    "duration": 129,
    "start_time": "2024-06-02T08:55:03.976Z"
   },
   {
    "duration": 19,
    "start_time": "2024-06-02T08:55:04.106Z"
   },
   {
    "duration": 31,
    "start_time": "2024-06-02T08:55:04.126Z"
   },
   {
    "duration": 19,
    "start_time": "2024-06-02T08:55:04.159Z"
   },
   {
    "duration": 68,
    "start_time": "2024-06-02T08:55:04.179Z"
   },
   {
    "duration": 20,
    "start_time": "2024-06-02T08:55:04.249Z"
   },
   {
    "duration": 569,
    "start_time": "2024-06-02T08:55:04.270Z"
   },
   {
    "duration": 16,
    "start_time": "2024-06-02T08:55:04.840Z"
   },
   {
    "duration": 13,
    "start_time": "2024-06-02T08:55:04.857Z"
   },
   {
    "duration": 816,
    "start_time": "2024-06-02T08:55:04.872Z"
   },
   {
    "duration": 9,
    "start_time": "2024-06-02T08:55:05.690Z"
   },
   {
    "duration": 18,
    "start_time": "2024-06-02T08:55:05.701Z"
   },
   {
    "duration": 40,
    "start_time": "2024-06-02T08:55:05.721Z"
   },
   {
    "duration": 74,
    "start_time": "2024-06-02T08:55:05.763Z"
   },
   {
    "duration": 8,
    "start_time": "2024-06-02T08:55:05.839Z"
   },
   {
    "duration": 13,
    "start_time": "2024-06-02T08:55:05.849Z"
   },
   {
    "duration": 12,
    "start_time": "2024-06-02T08:55:05.864Z"
   },
   {
    "duration": 12,
    "start_time": "2024-06-02T08:55:05.878Z"
   },
   {
    "duration": 15,
    "start_time": "2024-06-02T08:55:05.892Z"
   },
   {
    "duration": 6,
    "start_time": "2024-06-02T08:55:05.908Z"
   },
   {
    "duration": 13,
    "start_time": "2024-06-02T08:55:05.915Z"
   },
   {
    "duration": 29,
    "start_time": "2024-06-02T08:55:05.929Z"
   },
   {
    "duration": 12,
    "start_time": "2024-06-02T08:55:05.960Z"
   },
   {
    "duration": 11,
    "start_time": "2024-06-02T08:55:05.974Z"
   },
   {
    "duration": 6,
    "start_time": "2024-06-02T08:55:05.987Z"
   },
   {
    "duration": 17,
    "start_time": "2024-06-02T08:55:05.994Z"
   },
   {
    "duration": 41,
    "start_time": "2024-06-02T08:55:06.013Z"
   },
   {
    "duration": 15,
    "start_time": "2024-06-02T08:55:06.055Z"
   },
   {
    "duration": 32,
    "start_time": "2024-06-02T08:55:06.072Z"
   },
   {
    "duration": 9,
    "start_time": "2024-06-02T08:55:06.106Z"
   },
   {
    "duration": 7,
    "start_time": "2024-06-02T08:55:06.123Z"
   },
   {
    "duration": 8,
    "start_time": "2024-06-02T08:55:06.155Z"
   },
   {
    "duration": 15,
    "start_time": "2024-06-02T08:55:06.165Z"
   },
   {
    "duration": 8,
    "start_time": "2024-06-02T08:55:06.182Z"
   },
   {
    "duration": 17,
    "start_time": "2024-06-02T08:55:06.191Z"
   },
   {
    "duration": 18,
    "start_time": "2024-06-02T08:55:06.210Z"
   },
   {
    "duration": 16,
    "start_time": "2024-06-02T08:55:06.229Z"
   },
   {
    "duration": 19,
    "start_time": "2024-06-02T08:55:06.246Z"
   },
   {
    "duration": 11,
    "start_time": "2024-06-02T08:55:06.267Z"
   },
   {
    "duration": 5,
    "start_time": "2024-06-02T08:55:06.280Z"
   },
   {
    "duration": 13,
    "start_time": "2024-06-02T08:55:06.287Z"
   },
   {
    "duration": 7,
    "start_time": "2024-06-02T08:55:06.302Z"
   },
   {
    "duration": 8,
    "start_time": "2024-06-02T08:55:06.310Z"
   },
   {
    "duration": 17,
    "start_time": "2024-06-02T08:55:06.319Z"
   },
   {
    "duration": 1153,
    "start_time": "2024-06-02T08:55:06.337Z"
   },
   {
    "duration": 3,
    "start_time": "2024-06-02T08:55:07.491Z"
   },
   {
    "duration": 12,
    "start_time": "2024-06-02T08:55:07.495Z"
   },
   {
    "duration": 19,
    "start_time": "2024-06-02T08:55:07.509Z"
   },
   {
    "duration": 31,
    "start_time": "2024-06-02T08:55:07.530Z"
   },
   {
    "duration": 9,
    "start_time": "2024-06-02T08:55:07.562Z"
   },
   {
    "duration": 888,
    "start_time": "2024-06-02T08:55:07.573Z"
   },
   {
    "duration": 1321,
    "start_time": "2024-06-05T07:20:28.735Z"
   },
   {
    "duration": 199,
    "start_time": "2024-06-05T07:20:30.058Z"
   },
   {
    "duration": 3,
    "start_time": "2024-06-05T07:20:30.259Z"
   },
   {
    "duration": 47,
    "start_time": "2024-06-05T07:20:30.264Z"
   },
   {
    "duration": 32,
    "start_time": "2024-06-05T07:20:30.312Z"
   },
   {
    "duration": 75,
    "start_time": "2024-06-05T07:20:30.345Z"
   },
   {
    "duration": 30,
    "start_time": "2024-06-05T07:20:30.422Z"
   },
   {
    "duration": 30,
    "start_time": "2024-06-05T07:20:30.453Z"
   },
   {
    "duration": 22,
    "start_time": "2024-06-05T07:20:30.484Z"
   },
   {
    "duration": 96,
    "start_time": "2024-06-05T07:20:30.508Z"
   },
   {
    "duration": 86,
    "start_time": "2024-06-05T07:20:30.606Z"
   },
   {
    "duration": 85,
    "start_time": "2024-06-05T07:20:30.694Z"
   },
   {
    "duration": 133,
    "start_time": "2024-06-05T07:20:30.780Z"
   },
   {
    "duration": 173,
    "start_time": "2024-06-05T07:20:30.914Z"
   },
   {
    "duration": 65,
    "start_time": "2024-06-05T07:20:31.088Z"
   },
   {
    "duration": 26,
    "start_time": "2024-06-05T07:20:31.154Z"
   },
   {
    "duration": 93,
    "start_time": "2024-06-05T07:20:31.182Z"
   },
   {
    "duration": 42,
    "start_time": "2024-06-05T07:20:31.276Z"
   },
   {
    "duration": 51,
    "start_time": "2024-06-05T07:20:31.320Z"
   },
   {
    "duration": 48,
    "start_time": "2024-06-05T07:20:31.373Z"
   },
   {
    "duration": 53,
    "start_time": "2024-06-05T07:20:31.423Z"
   },
   {
    "duration": 65,
    "start_time": "2024-06-05T07:20:31.478Z"
   },
   {
    "duration": 43,
    "start_time": "2024-06-05T07:20:31.545Z"
   },
   {
    "duration": 228,
    "start_time": "2024-06-05T07:20:31.590Z"
   },
   {
    "duration": 10,
    "start_time": "2024-06-05T07:20:31.819Z"
   },
   {
    "duration": 20,
    "start_time": "2024-06-05T07:20:31.831Z"
   },
   {
    "duration": 27,
    "start_time": "2024-06-05T07:20:31.852Z"
   },
   {
    "duration": 109,
    "start_time": "2024-06-05T07:20:31.884Z"
   },
   {
    "duration": 5,
    "start_time": "2024-06-05T07:20:31.995Z"
   },
   {
    "duration": 52,
    "start_time": "2024-06-05T07:20:32.001Z"
   },
   {
    "duration": 56,
    "start_time": "2024-06-05T07:20:32.054Z"
   },
   {
    "duration": 22,
    "start_time": "2024-06-05T07:20:32.111Z"
   },
   {
    "duration": 146,
    "start_time": "2024-06-05T07:20:32.134Z"
   },
   {
    "duration": 8,
    "start_time": "2024-06-05T07:20:32.282Z"
   },
   {
    "duration": 24,
    "start_time": "2024-06-05T07:20:32.292Z"
   },
   {
    "duration": 135,
    "start_time": "2024-06-05T07:20:32.317Z"
   },
   {
    "duration": 259,
    "start_time": "2024-06-05T07:20:32.453Z"
   },
   {
    "duration": 5,
    "start_time": "2024-06-05T07:20:32.713Z"
   },
   {
    "duration": 7,
    "start_time": "2024-06-05T07:20:32.719Z"
   },
   {
    "duration": 18,
    "start_time": "2024-06-05T07:20:32.727Z"
   },
   {
    "duration": 7,
    "start_time": "2024-06-05T07:20:32.746Z"
   },
   {
    "duration": 22,
    "start_time": "2024-06-05T07:20:32.754Z"
   },
   {
    "duration": 112,
    "start_time": "2024-06-05T07:20:32.777Z"
   },
   {
    "duration": 198,
    "start_time": "2024-06-05T07:20:32.890Z"
   },
   {
    "duration": 4,
    "start_time": "2024-06-05T07:20:33.090Z"
   },
   {
    "duration": 12,
    "start_time": "2024-06-05T07:20:33.096Z"
   },
   {
    "duration": 14,
    "start_time": "2024-06-05T07:20:33.109Z"
   },
   {
    "duration": 5,
    "start_time": "2024-06-05T07:20:33.124Z"
   },
   {
    "duration": 5,
    "start_time": "2024-06-05T07:20:33.145Z"
   },
   {
    "duration": 17,
    "start_time": "2024-06-05T07:20:33.151Z"
   },
   {
    "duration": 9,
    "start_time": "2024-06-05T07:20:33.169Z"
   },
   {
    "duration": 110,
    "start_time": "2024-06-05T07:20:33.179Z"
   },
   {
    "duration": 11,
    "start_time": "2024-06-05T07:20:33.291Z"
   },
   {
    "duration": 14,
    "start_time": "2024-06-05T07:20:33.303Z"
   },
   {
    "duration": 4,
    "start_time": "2024-06-05T07:20:33.318Z"
   },
   {
    "duration": 14,
    "start_time": "2024-06-05T07:20:33.347Z"
   },
   {
    "duration": 13,
    "start_time": "2024-06-05T07:20:33.362Z"
   },
   {
    "duration": 511,
    "start_time": "2024-06-05T07:20:33.377Z"
   },
   {
    "duration": 7,
    "start_time": "2024-06-05T07:20:33.890Z"
   },
   {
    "duration": 31,
    "start_time": "2024-06-05T07:20:33.898Z"
   },
   {
    "duration": 747,
    "start_time": "2024-06-05T07:20:33.931Z"
   },
   {
    "duration": 9,
    "start_time": "2024-06-05T07:20:34.680Z"
   },
   {
    "duration": 8,
    "start_time": "2024-06-05T07:20:34.691Z"
   },
   {
    "duration": 38,
    "start_time": "2024-06-05T07:20:34.700Z"
   },
   {
    "duration": 67,
    "start_time": "2024-06-05T07:20:34.740Z"
   },
   {
    "duration": 9,
    "start_time": "2024-06-05T07:20:34.809Z"
   },
   {
    "duration": 28,
    "start_time": "2024-06-05T07:20:34.819Z"
   },
   {
    "duration": 16,
    "start_time": "2024-06-05T07:20:34.849Z"
   },
   {
    "duration": 16,
    "start_time": "2024-06-05T07:20:34.866Z"
   },
   {
    "duration": 10,
    "start_time": "2024-06-05T07:20:34.883Z"
   },
   {
    "duration": 7,
    "start_time": "2024-06-05T07:20:34.895Z"
   },
   {
    "duration": 7,
    "start_time": "2024-06-05T07:20:34.903Z"
   },
   {
    "duration": 10,
    "start_time": "2024-06-05T07:20:34.911Z"
   },
   {
    "duration": 12,
    "start_time": "2024-06-05T07:20:34.944Z"
   },
   {
    "duration": 88,
    "start_time": "2024-06-05T07:20:34.957Z"
   },
   {
    "duration": 14,
    "start_time": "2024-06-05T07:20:35.046Z"
   },
   {
    "duration": 16,
    "start_time": "2024-06-05T07:20:35.062Z"
   },
   {
    "duration": 12,
    "start_time": "2024-06-05T07:20:35.079Z"
   },
   {
    "duration": 10,
    "start_time": "2024-06-05T07:20:35.092Z"
   },
   {
    "duration": 8,
    "start_time": "2024-06-05T07:20:35.103Z"
   },
   {
    "duration": 7,
    "start_time": "2024-06-05T07:20:35.113Z"
   },
   {
    "duration": 4,
    "start_time": "2024-06-05T07:20:35.126Z"
   },
   {
    "duration": 8,
    "start_time": "2024-06-05T07:20:35.145Z"
   },
   {
    "duration": 8,
    "start_time": "2024-06-05T07:20:35.154Z"
   },
   {
    "duration": 6,
    "start_time": "2024-06-05T07:20:35.163Z"
   },
   {
    "duration": 27,
    "start_time": "2024-06-05T07:20:35.170Z"
   },
   {
    "duration": 37,
    "start_time": "2024-06-05T07:20:35.199Z"
   },
   {
    "duration": 17,
    "start_time": "2024-06-05T07:20:35.238Z"
   },
   {
    "duration": 41,
    "start_time": "2024-06-05T07:20:35.257Z"
   },
   {
    "duration": 23,
    "start_time": "2024-06-05T07:20:35.300Z"
   },
   {
    "duration": 5,
    "start_time": "2024-06-05T07:20:35.325Z"
   },
   {
    "duration": 17,
    "start_time": "2024-06-05T07:20:35.331Z"
   },
   {
    "duration": 5,
    "start_time": "2024-06-05T07:20:35.349Z"
   },
   {
    "duration": 4,
    "start_time": "2024-06-05T07:20:35.355Z"
   },
   {
    "duration": 15,
    "start_time": "2024-06-05T07:20:35.360Z"
   },
   {
    "duration": 725,
    "start_time": "2024-06-05T07:20:35.376Z"
   },
   {
    "duration": 3,
    "start_time": "2024-06-05T07:20:36.103Z"
   },
   {
    "duration": 17,
    "start_time": "2024-06-05T07:20:36.107Z"
   },
   {
    "duration": 28,
    "start_time": "2024-06-05T07:20:36.126Z"
   },
   {
    "duration": 10,
    "start_time": "2024-06-05T07:20:36.156Z"
   },
   {
    "duration": 32,
    "start_time": "2024-06-05T07:20:36.167Z"
   },
   {
    "duration": 827,
    "start_time": "2024-06-05T07:20:36.200Z"
   },
   {
    "duration": 475,
    "start_time": "2024-06-05T07:22:42.231Z"
   },
   {
    "duration": 544,
    "start_time": "2024-06-05T07:22:57.380Z"
   },
   {
    "duration": 528,
    "start_time": "2024-06-05T07:23:09.485Z"
   },
   {
    "duration": 332,
    "start_time": "2024-06-05T07:24:35.870Z"
   },
   {
    "duration": 485,
    "start_time": "2024-06-05T07:24:43.415Z"
   },
   {
    "duration": 528,
    "start_time": "2024-06-05T08:36:18.054Z"
   },
   {
    "duration": 593,
    "start_time": "2024-06-05T08:36:31.164Z"
   },
   {
    "duration": 695,
    "start_time": "2024-06-05T08:36:59.292Z"
   },
   {
    "duration": 661,
    "start_time": "2024-06-05T08:37:18.269Z"
   },
   {
    "duration": 565,
    "start_time": "2024-06-05T08:39:11.250Z"
   },
   {
    "duration": 523,
    "start_time": "2024-06-05T08:39:26.514Z"
   },
   {
    "duration": 589,
    "start_time": "2024-06-05T08:39:41.032Z"
   },
   {
    "duration": 514,
    "start_time": "2024-06-05T08:40:01.014Z"
   },
   {
    "duration": 585,
    "start_time": "2024-06-05T08:42:01.135Z"
   },
   {
    "duration": 255,
    "start_time": "2024-06-05T08:42:27.035Z"
   },
   {
    "duration": 525,
    "start_time": "2024-06-05T08:42:39.706Z"
   },
   {
    "duration": 550,
    "start_time": "2024-06-05T08:42:53.554Z"
   },
   {
    "duration": 3,
    "start_time": "2024-06-05T08:51:44.930Z"
   },
   {
    "duration": 10,
    "start_time": "2024-06-05T08:51:49.769Z"
   },
   {
    "duration": 3,
    "start_time": "2024-06-05T08:52:35.131Z"
   },
   {
    "duration": 15,
    "start_time": "2024-06-05T08:52:35.993Z"
   },
   {
    "duration": 3,
    "start_time": "2024-06-05T08:54:25.805Z"
   },
   {
    "duration": 15,
    "start_time": "2024-06-05T08:54:26.538Z"
   },
   {
    "duration": 4,
    "start_time": "2024-06-05T08:54:48.339Z"
   },
   {
    "duration": 14,
    "start_time": "2024-06-05T08:54:48.812Z"
   },
   {
    "duration": 1145,
    "start_time": "2024-06-05T18:23:11.785Z"
   },
   {
    "duration": 72,
    "start_time": "2024-06-05T18:23:12.932Z"
   },
   {
    "duration": 3,
    "start_time": "2024-06-05T18:23:13.006Z"
   },
   {
    "duration": 32,
    "start_time": "2024-06-05T18:23:13.012Z"
   },
   {
    "duration": 18,
    "start_time": "2024-06-05T18:23:13.046Z"
   },
   {
    "duration": 25,
    "start_time": "2024-06-05T18:23:13.065Z"
   },
   {
    "duration": 12,
    "start_time": "2024-06-05T18:23:13.091Z"
   },
   {
    "duration": 8,
    "start_time": "2024-06-05T18:23:13.105Z"
   },
   {
    "duration": 28,
    "start_time": "2024-06-05T18:23:13.115Z"
   },
   {
    "duration": 7,
    "start_time": "2024-06-05T18:23:13.146Z"
   },
   {
    "duration": 27,
    "start_time": "2024-06-05T18:23:13.154Z"
   },
   {
    "duration": 9,
    "start_time": "2024-06-05T18:23:13.182Z"
   },
   {
    "duration": 7,
    "start_time": "2024-06-05T18:23:13.192Z"
   },
   {
    "duration": 9,
    "start_time": "2024-06-05T18:23:13.200Z"
   },
   {
    "duration": 14,
    "start_time": "2024-06-05T18:23:13.211Z"
   },
   {
    "duration": 10,
    "start_time": "2024-06-05T18:23:13.227Z"
   },
   {
    "duration": 6,
    "start_time": "2024-06-05T18:23:13.239Z"
   },
   {
    "duration": 9,
    "start_time": "2024-06-05T18:23:13.247Z"
   },
   {
    "duration": 4,
    "start_time": "2024-06-05T18:23:13.257Z"
   },
   {
    "duration": 8,
    "start_time": "2024-06-05T18:23:13.262Z"
   },
   {
    "duration": 13,
    "start_time": "2024-06-05T18:23:13.271Z"
   },
   {
    "duration": 8,
    "start_time": "2024-06-05T18:23:13.286Z"
   },
   {
    "duration": 13,
    "start_time": "2024-06-05T18:23:13.296Z"
   },
   {
    "duration": 210,
    "start_time": "2024-06-05T18:23:13.311Z"
   },
   {
    "duration": 11,
    "start_time": "2024-06-05T18:23:13.523Z"
   },
   {
    "duration": 8,
    "start_time": "2024-06-05T18:23:13.545Z"
   },
   {
    "duration": 9,
    "start_time": "2024-06-05T18:23:13.555Z"
   },
   {
    "duration": 128,
    "start_time": "2024-06-05T18:23:13.570Z"
   },
   {
    "duration": 5,
    "start_time": "2024-06-05T18:23:13.700Z"
   },
   {
    "duration": 24,
    "start_time": "2024-06-05T18:23:13.706Z"
   },
   {
    "duration": 13,
    "start_time": "2024-06-05T18:23:13.731Z"
   },
   {
    "duration": 30,
    "start_time": "2024-06-05T18:23:13.745Z"
   },
   {
    "duration": 170,
    "start_time": "2024-06-05T18:23:13.777Z"
   },
   {
    "duration": 8,
    "start_time": "2024-06-05T18:23:13.948Z"
   },
   {
    "duration": 32,
    "start_time": "2024-06-05T18:23:13.958Z"
   },
   {
    "duration": 123,
    "start_time": "2024-06-05T18:23:13.992Z"
   },
   {
    "duration": 275,
    "start_time": "2024-06-05T18:23:14.116Z"
   },
   {
    "duration": 5,
    "start_time": "2024-06-05T18:23:14.392Z"
   },
   {
    "duration": 22,
    "start_time": "2024-06-05T18:23:14.398Z"
   },
   {
    "duration": 23,
    "start_time": "2024-06-05T18:23:14.421Z"
   },
   {
    "duration": 23,
    "start_time": "2024-06-05T18:23:14.446Z"
   },
   {
    "duration": 25,
    "start_time": "2024-06-05T18:23:14.470Z"
   },
   {
    "duration": 156,
    "start_time": "2024-06-05T18:23:14.497Z"
   },
   {
    "duration": 177,
    "start_time": "2024-06-05T18:23:14.655Z"
   },
   {
    "duration": 11,
    "start_time": "2024-06-05T18:23:14.834Z"
   },
   {
    "duration": 35,
    "start_time": "2024-06-05T18:23:14.847Z"
   },
   {
    "duration": 33,
    "start_time": "2024-06-05T18:23:14.884Z"
   },
   {
    "duration": 38,
    "start_time": "2024-06-05T18:23:14.918Z"
   },
   {
    "duration": 27,
    "start_time": "2024-06-05T18:23:14.957Z"
   },
   {
    "duration": 34,
    "start_time": "2024-06-05T18:23:14.986Z"
   },
   {
    "duration": 55,
    "start_time": "2024-06-05T18:23:15.022Z"
   },
   {
    "duration": 109,
    "start_time": "2024-06-05T18:23:15.078Z"
   },
   {
    "duration": 21,
    "start_time": "2024-06-05T18:23:15.188Z"
   },
   {
    "duration": 37,
    "start_time": "2024-06-05T18:23:15.211Z"
   },
   {
    "duration": 37,
    "start_time": "2024-06-05T18:23:15.249Z"
   },
   {
    "duration": 68,
    "start_time": "2024-06-05T18:23:15.288Z"
   },
   {
    "duration": 10,
    "start_time": "2024-06-05T18:23:15.358Z"
   },
   {
    "duration": 540,
    "start_time": "2024-06-05T18:23:15.369Z"
   },
   {
    "duration": 8,
    "start_time": "2024-06-05T18:23:15.910Z"
   },
   {
    "duration": 59,
    "start_time": "2024-06-05T18:23:15.920Z"
   },
   {
    "duration": 683,
    "start_time": "2024-06-05T18:23:15.980Z"
   },
   {
    "duration": 8,
    "start_time": "2024-06-05T18:23:16.664Z"
   },
   {
    "duration": 30,
    "start_time": "2024-06-05T18:23:16.673Z"
   },
   {
    "duration": 22,
    "start_time": "2024-06-05T18:23:16.704Z"
   },
   {
    "duration": 47,
    "start_time": "2024-06-05T18:23:16.728Z"
   },
   {
    "duration": 7,
    "start_time": "2024-06-05T18:23:16.777Z"
   },
   {
    "duration": 18,
    "start_time": "2024-06-05T18:23:16.785Z"
   },
   {
    "duration": 15,
    "start_time": "2024-06-05T18:23:16.805Z"
   },
   {
    "duration": 30,
    "start_time": "2024-06-05T18:23:16.821Z"
   },
   {
    "duration": 12,
    "start_time": "2024-06-05T18:23:16.852Z"
   },
   {
    "duration": 11,
    "start_time": "2024-06-05T18:23:16.866Z"
   },
   {
    "duration": 10,
    "start_time": "2024-06-05T18:23:16.879Z"
   },
   {
    "duration": 5,
    "start_time": "2024-06-05T18:23:16.891Z"
   },
   {
    "duration": 39,
    "start_time": "2024-06-05T18:23:16.897Z"
   },
   {
    "duration": 11,
    "start_time": "2024-06-05T18:23:16.937Z"
   },
   {
    "duration": 6,
    "start_time": "2024-06-05T18:23:16.949Z"
   },
   {
    "duration": 16,
    "start_time": "2024-06-05T18:23:16.956Z"
   },
   {
    "duration": 7,
    "start_time": "2024-06-05T18:23:16.973Z"
   },
   {
    "duration": 18,
    "start_time": "2024-06-05T18:23:16.982Z"
   },
   {
    "duration": 16,
    "start_time": "2024-06-05T18:23:17.001Z"
   },
   {
    "duration": 8,
    "start_time": "2024-06-05T18:23:17.019Z"
   },
   {
    "duration": 5,
    "start_time": "2024-06-05T18:23:17.032Z"
   },
   {
    "duration": 7,
    "start_time": "2024-06-05T18:23:17.044Z"
   },
   {
    "duration": 14,
    "start_time": "2024-06-05T18:23:17.053Z"
   },
   {
    "duration": 5,
    "start_time": "2024-06-05T18:23:17.068Z"
   },
   {
    "duration": 13,
    "start_time": "2024-06-05T18:23:17.075Z"
   },
   {
    "duration": 12,
    "start_time": "2024-06-05T18:23:17.089Z"
   },
   {
    "duration": 25,
    "start_time": "2024-06-05T18:23:17.102Z"
   },
   {
    "duration": 25,
    "start_time": "2024-06-05T18:23:17.128Z"
   },
   {
    "duration": 13,
    "start_time": "2024-06-05T18:23:17.154Z"
   },
   {
    "duration": 22,
    "start_time": "2024-06-05T18:23:17.169Z"
   },
   {
    "duration": 19,
    "start_time": "2024-06-05T18:23:17.193Z"
   },
   {
    "duration": 5,
    "start_time": "2024-06-05T18:23:17.214Z"
   },
   {
    "duration": 10,
    "start_time": "2024-06-05T18:23:17.220Z"
   },
   {
    "duration": 16,
    "start_time": "2024-06-05T18:23:17.231Z"
   },
   {
    "duration": 728,
    "start_time": "2024-06-05T18:23:17.248Z"
   },
   {
    "duration": 3,
    "start_time": "2024-06-05T18:23:17.977Z"
   },
   {
    "duration": 38,
    "start_time": "2024-06-05T18:23:17.981Z"
   },
   {
    "duration": 30,
    "start_time": "2024-06-05T18:23:18.020Z"
   },
   {
    "duration": 10,
    "start_time": "2024-06-05T18:23:18.052Z"
   },
   {
    "duration": 8,
    "start_time": "2024-06-05T18:23:18.063Z"
   },
   {
    "duration": 838,
    "start_time": "2024-06-05T18:23:18.073Z"
   },
   {
    "duration": 984,
    "start_time": "2024-06-05T18:43:26.550Z"
   },
   {
    "duration": 177,
    "start_time": "2024-06-05T18:43:56.855Z"
   },
   {
    "duration": 1084,
    "start_time": "2024-06-08T07:48:45.781Z"
   },
   {
    "duration": 289,
    "start_time": "2024-06-08T07:48:46.867Z"
   },
   {
    "duration": 3,
    "start_time": "2024-06-08T07:48:47.158Z"
   },
   {
    "duration": 37,
    "start_time": "2024-06-08T07:48:47.162Z"
   },
   {
    "duration": 14,
    "start_time": "2024-06-08T07:48:47.201Z"
   },
   {
    "duration": 28,
    "start_time": "2024-06-08T07:48:47.216Z"
   },
   {
    "duration": 13,
    "start_time": "2024-06-08T07:48:47.246Z"
   },
   {
    "duration": 4,
    "start_time": "2024-06-08T07:48:47.261Z"
   },
   {
    "duration": 7,
    "start_time": "2024-06-08T07:48:47.266Z"
   },
   {
    "duration": 38,
    "start_time": "2024-06-08T07:48:47.274Z"
   },
   {
    "duration": 25,
    "start_time": "2024-06-08T07:48:47.313Z"
   },
   {
    "duration": 16,
    "start_time": "2024-06-08T07:48:47.340Z"
   },
   {
    "duration": 17,
    "start_time": "2024-06-08T07:48:47.358Z"
   },
   {
    "duration": 9,
    "start_time": "2024-06-08T07:48:47.379Z"
   },
   {
    "duration": 13,
    "start_time": "2024-06-08T07:48:47.390Z"
   },
   {
    "duration": 18,
    "start_time": "2024-06-08T07:48:47.405Z"
   },
   {
    "duration": 28,
    "start_time": "2024-06-08T07:48:47.426Z"
   },
   {
    "duration": 13,
    "start_time": "2024-06-08T07:48:47.456Z"
   },
   {
    "duration": 9,
    "start_time": "2024-06-08T07:48:47.471Z"
   },
   {
    "duration": 24,
    "start_time": "2024-06-08T07:48:47.481Z"
   },
   {
    "duration": 11,
    "start_time": "2024-06-08T07:48:47.507Z"
   },
   {
    "duration": 5,
    "start_time": "2024-06-08T07:48:47.519Z"
   },
   {
    "duration": 17,
    "start_time": "2024-06-08T07:48:47.526Z"
   },
   {
    "duration": 192,
    "start_time": "2024-06-08T07:48:47.544Z"
   },
   {
    "duration": 7,
    "start_time": "2024-06-08T07:48:47.738Z"
   },
   {
    "duration": 16,
    "start_time": "2024-06-08T07:48:47.746Z"
   },
   {
    "duration": 25,
    "start_time": "2024-06-08T07:48:47.764Z"
   },
   {
    "duration": 77,
    "start_time": "2024-06-08T07:48:47.790Z"
   },
   {
    "duration": 4,
    "start_time": "2024-06-08T07:48:47.868Z"
   },
   {
    "duration": 15,
    "start_time": "2024-06-08T07:48:47.873Z"
   },
   {
    "duration": 24,
    "start_time": "2024-06-08T07:48:47.890Z"
   },
   {
    "duration": 21,
    "start_time": "2024-06-08T07:48:47.915Z"
   },
   {
    "duration": 159,
    "start_time": "2024-06-08T07:48:47.938Z"
   },
   {
    "duration": 8,
    "start_time": "2024-06-08T07:48:48.098Z"
   },
   {
    "duration": 16,
    "start_time": "2024-06-08T07:48:48.108Z"
   },
   {
    "duration": 112,
    "start_time": "2024-06-08T07:48:48.126Z"
   },
   {
    "duration": 248,
    "start_time": "2024-06-08T07:48:48.239Z"
   },
   {
    "duration": 6,
    "start_time": "2024-06-08T07:48:48.488Z"
   },
   {
    "duration": 4,
    "start_time": "2024-06-08T07:48:48.495Z"
   },
   {
    "duration": 4,
    "start_time": "2024-06-08T07:48:48.500Z"
   },
   {
    "duration": 3,
    "start_time": "2024-06-08T07:48:48.525Z"
   },
   {
    "duration": 9,
    "start_time": "2024-06-08T07:48:48.529Z"
   },
   {
    "duration": 132,
    "start_time": "2024-06-08T07:48:48.540Z"
   },
   {
    "duration": 176,
    "start_time": "2024-06-08T07:48:48.673Z"
   },
   {
    "duration": 5,
    "start_time": "2024-06-08T07:48:48.851Z"
   },
   {
    "duration": 6,
    "start_time": "2024-06-08T07:48:48.857Z"
   },
   {
    "duration": 13,
    "start_time": "2024-06-08T07:48:48.864Z"
   },
   {
    "duration": 6,
    "start_time": "2024-06-08T07:48:48.879Z"
   },
   {
    "duration": 35,
    "start_time": "2024-06-08T07:48:48.887Z"
   },
   {
    "duration": 18,
    "start_time": "2024-06-08T07:48:48.924Z"
   },
   {
    "duration": 10,
    "start_time": "2024-06-08T07:48:48.944Z"
   },
   {
    "duration": 102,
    "start_time": "2024-06-08T07:48:48.956Z"
   },
   {
    "duration": 10,
    "start_time": "2024-06-08T07:48:49.059Z"
   },
   {
    "duration": 13,
    "start_time": "2024-06-08T07:48:49.070Z"
   },
   {
    "duration": 3,
    "start_time": "2024-06-08T07:48:49.084Z"
   },
   {
    "duration": 32,
    "start_time": "2024-06-08T07:48:49.089Z"
   },
   {
    "duration": 3,
    "start_time": "2024-06-08T07:48:49.122Z"
   },
   {
    "duration": 531,
    "start_time": "2024-06-08T07:48:49.126Z"
   },
   {
    "duration": 8,
    "start_time": "2024-06-08T07:48:49.658Z"
   },
   {
    "duration": 8,
    "start_time": "2024-06-08T07:48:49.667Z"
   },
   {
    "duration": 843,
    "start_time": "2024-06-08T07:48:49.676Z"
   },
   {
    "duration": 8,
    "start_time": "2024-06-08T07:48:50.521Z"
   },
   {
    "duration": 11,
    "start_time": "2024-06-08T07:48:50.531Z"
   },
   {
    "duration": 18,
    "start_time": "2024-06-08T07:48:50.543Z"
   },
   {
    "duration": 57,
    "start_time": "2024-06-08T07:48:50.563Z"
   },
   {
    "duration": 8,
    "start_time": "2024-06-08T07:48:50.622Z"
   },
   {
    "duration": 9,
    "start_time": "2024-06-08T07:48:50.631Z"
   },
   {
    "duration": 12,
    "start_time": "2024-06-08T07:48:50.641Z"
   },
   {
    "duration": 12,
    "start_time": "2024-06-08T07:48:50.654Z"
   },
   {
    "duration": 9,
    "start_time": "2024-06-08T07:48:50.667Z"
   },
   {
    "duration": 6,
    "start_time": "2024-06-08T07:48:50.678Z"
   },
   {
    "duration": 36,
    "start_time": "2024-06-08T07:48:50.685Z"
   },
   {
    "duration": 4,
    "start_time": "2024-06-08T07:48:50.723Z"
   },
   {
    "duration": 13,
    "start_time": "2024-06-08T07:48:50.728Z"
   },
   {
    "duration": 12,
    "start_time": "2024-06-08T07:48:50.743Z"
   },
   {
    "duration": 7,
    "start_time": "2024-06-08T07:48:50.756Z"
   },
   {
    "duration": 16,
    "start_time": "2024-06-08T07:48:50.765Z"
   },
   {
    "duration": 10,
    "start_time": "2024-06-08T07:48:50.782Z"
   },
   {
    "duration": 8,
    "start_time": "2024-06-08T07:48:50.821Z"
   },
   {
    "duration": 12,
    "start_time": "2024-06-08T07:48:50.830Z"
   },
   {
    "duration": 16,
    "start_time": "2024-06-08T07:48:50.844Z"
   },
   {
    "duration": 6,
    "start_time": "2024-06-08T07:48:50.862Z"
   },
   {
    "duration": 12,
    "start_time": "2024-06-08T07:48:50.869Z"
   },
   {
    "duration": 9,
    "start_time": "2024-06-08T07:48:50.883Z"
   },
   {
    "duration": 29,
    "start_time": "2024-06-08T07:48:50.894Z"
   },
   {
    "duration": 13,
    "start_time": "2024-06-08T07:48:50.925Z"
   },
   {
    "duration": 12,
    "start_time": "2024-06-08T07:48:50.939Z"
   },
   {
    "duration": 19,
    "start_time": "2024-06-08T07:48:50.952Z"
   },
   {
    "duration": 25,
    "start_time": "2024-06-08T07:48:50.973Z"
   },
   {
    "duration": 26,
    "start_time": "2024-06-08T07:48:51.000Z"
   },
   {
    "duration": 6,
    "start_time": "2024-06-08T07:48:51.028Z"
   },
   {
    "duration": 15,
    "start_time": "2024-06-08T07:48:51.035Z"
   },
   {
    "duration": 5,
    "start_time": "2024-06-08T07:48:51.051Z"
   },
   {
    "duration": 4,
    "start_time": "2024-06-08T07:48:51.057Z"
   },
   {
    "duration": 9,
    "start_time": "2024-06-08T07:48:51.062Z"
   },
   {
    "duration": 664,
    "start_time": "2024-06-08T07:48:51.072Z"
   },
   {
    "duration": 3,
    "start_time": "2024-06-08T07:48:51.738Z"
   },
   {
    "duration": 18,
    "start_time": "2024-06-08T07:48:51.743Z"
   },
   {
    "duration": 23,
    "start_time": "2024-06-08T07:48:51.763Z"
   },
   {
    "duration": 11,
    "start_time": "2024-06-08T07:48:51.788Z"
   },
   {
    "duration": 27,
    "start_time": "2024-06-08T07:48:51.800Z"
   },
   {
    "duration": 701,
    "start_time": "2024-06-08T07:48:51.829Z"
   },
   {
    "duration": 5,
    "start_time": "2024-06-08T09:14:49.938Z"
   },
   {
    "duration": 1090,
    "start_time": "2024-06-08T10:08:50.180Z"
   },
   {
    "duration": 208,
    "start_time": "2024-06-08T10:08:51.272Z"
   },
   {
    "duration": 3,
    "start_time": "2024-06-08T10:08:51.482Z"
   },
   {
    "duration": 19,
    "start_time": "2024-06-08T10:08:51.486Z"
   },
   {
    "duration": 19,
    "start_time": "2024-06-08T10:08:51.506Z"
   },
   {
    "duration": 26,
    "start_time": "2024-06-08T10:08:51.534Z"
   },
   {
    "duration": 13,
    "start_time": "2024-06-08T10:08:51.562Z"
   },
   {
    "duration": 5,
    "start_time": "2024-06-08T10:08:51.577Z"
   },
   {
    "duration": 28,
    "start_time": "2024-06-08T10:08:51.584Z"
   },
   {
    "duration": 33,
    "start_time": "2024-06-08T10:08:51.615Z"
   },
   {
    "duration": 7,
    "start_time": "2024-06-08T10:08:51.649Z"
   },
   {
    "duration": 7,
    "start_time": "2024-06-08T10:08:51.657Z"
   },
   {
    "duration": 5,
    "start_time": "2024-06-08T10:08:51.665Z"
   },
   {
    "duration": 7,
    "start_time": "2024-06-08T10:08:51.671Z"
   },
   {
    "duration": 13,
    "start_time": "2024-06-08T10:08:51.679Z"
   },
   {
    "duration": 16,
    "start_time": "2024-06-08T10:08:51.694Z"
   },
   {
    "duration": 40,
    "start_time": "2024-06-08T10:08:51.711Z"
   },
   {
    "duration": 7,
    "start_time": "2024-06-08T10:08:51.753Z"
   },
   {
    "duration": 5,
    "start_time": "2024-06-08T10:08:51.761Z"
   },
   {
    "duration": 11,
    "start_time": "2024-06-08T10:08:51.768Z"
   },
   {
    "duration": 26,
    "start_time": "2024-06-08T10:08:51.780Z"
   },
   {
    "duration": 4,
    "start_time": "2024-06-08T10:08:51.807Z"
   },
   {
    "duration": 5,
    "start_time": "2024-06-08T10:08:51.812Z"
   },
   {
    "duration": 200,
    "start_time": "2024-06-08T10:08:51.818Z"
   },
   {
    "duration": 37,
    "start_time": "2024-06-08T10:08:52.020Z"
   },
   {
    "duration": 8,
    "start_time": "2024-06-08T10:08:52.058Z"
   },
   {
    "duration": 15,
    "start_time": "2024-06-08T10:08:52.067Z"
   },
   {
    "duration": 109,
    "start_time": "2024-06-08T10:08:52.087Z"
   },
   {
    "duration": 4,
    "start_time": "2024-06-08T10:08:52.197Z"
   },
   {
    "duration": 48,
    "start_time": "2024-06-08T10:08:52.202Z"
   },
   {
    "duration": 18,
    "start_time": "2024-06-08T10:08:52.254Z"
   },
   {
    "duration": 34,
    "start_time": "2024-06-08T10:08:52.273Z"
   },
   {
    "duration": 7,
    "start_time": "2024-06-08T10:08:52.309Z"
   },
   {
    "duration": 235,
    "start_time": "2024-06-08T10:08:52.317Z"
   },
   {
    "duration": 10,
    "start_time": "2024-06-08T10:08:52.553Z"
   },
   {
    "duration": 8,
    "start_time": "2024-06-08T10:08:52.565Z"
   },
   {
    "duration": 139,
    "start_time": "2024-06-08T10:08:52.575Z"
   },
   {
    "duration": 243,
    "start_time": "2024-06-08T10:08:52.715Z"
   },
   {
    "duration": 5,
    "start_time": "2024-06-08T10:08:52.959Z"
   },
   {
    "duration": 23,
    "start_time": "2024-06-08T10:08:52.965Z"
   },
   {
    "duration": 12,
    "start_time": "2024-06-08T10:08:52.989Z"
   },
   {
    "duration": 8,
    "start_time": "2024-06-08T10:08:53.002Z"
   },
   {
    "duration": 23,
    "start_time": "2024-06-08T10:08:53.011Z"
   },
   {
    "duration": 126,
    "start_time": "2024-06-08T10:08:53.035Z"
   },
   {
    "duration": 176,
    "start_time": "2024-06-08T10:08:53.163Z"
   },
   {
    "duration": 4,
    "start_time": "2024-06-08T10:08:53.340Z"
   },
   {
    "duration": 4,
    "start_time": "2024-06-08T10:08:53.345Z"
   },
   {
    "duration": 19,
    "start_time": "2024-06-08T10:08:53.350Z"
   },
   {
    "duration": 6,
    "start_time": "2024-06-08T10:08:53.370Z"
   },
   {
    "duration": 6,
    "start_time": "2024-06-08T10:08:53.377Z"
   },
   {
    "duration": 52,
    "start_time": "2024-06-08T10:08:53.384Z"
   },
   {
    "duration": 13,
    "start_time": "2024-06-08T10:08:53.438Z"
   },
   {
    "duration": 95,
    "start_time": "2024-06-08T10:08:53.452Z"
   },
   {
    "duration": 9,
    "start_time": "2024-06-08T10:08:53.549Z"
   },
   {
    "duration": 12,
    "start_time": "2024-06-08T10:08:53.560Z"
   },
   {
    "duration": 4,
    "start_time": "2024-06-08T10:08:53.574Z"
   },
   {
    "duration": 16,
    "start_time": "2024-06-08T10:08:53.579Z"
   },
   {
    "duration": 41,
    "start_time": "2024-06-08T10:08:53.597Z"
   },
   {
    "duration": 554,
    "start_time": "2024-06-08T10:08:53.639Z"
   },
   {
    "duration": 6,
    "start_time": "2024-06-08T10:08:54.195Z"
   },
   {
    "duration": 8,
    "start_time": "2024-06-08T10:08:54.202Z"
   },
   {
    "duration": 721,
    "start_time": "2024-06-08T10:08:54.220Z"
   },
   {
    "duration": 13,
    "start_time": "2024-06-08T10:08:54.942Z"
   },
   {
    "duration": 7,
    "start_time": "2024-06-08T10:08:54.956Z"
   },
   {
    "duration": 9,
    "start_time": "2024-06-08T10:08:54.964Z"
   },
   {
    "duration": 69,
    "start_time": "2024-06-08T10:08:54.974Z"
   },
   {
    "duration": 9,
    "start_time": "2024-06-08T10:08:55.045Z"
   },
   {
    "duration": 13,
    "start_time": "2024-06-08T10:08:55.059Z"
   },
   {
    "duration": 17,
    "start_time": "2024-06-08T10:08:55.074Z"
   },
   {
    "duration": 24,
    "start_time": "2024-06-08T10:08:55.093Z"
   },
   {
    "duration": 24,
    "start_time": "2024-06-08T10:08:55.118Z"
   },
   {
    "duration": 10,
    "start_time": "2024-06-08T10:08:55.144Z"
   },
   {
    "duration": 9,
    "start_time": "2024-06-08T10:08:55.155Z"
   },
   {
    "duration": 8,
    "start_time": "2024-06-08T10:08:55.166Z"
   },
   {
    "duration": 31,
    "start_time": "2024-06-08T10:08:55.175Z"
   },
   {
    "duration": 11,
    "start_time": "2024-06-08T10:08:55.208Z"
   },
   {
    "duration": 14,
    "start_time": "2024-06-08T10:08:55.223Z"
   },
   {
    "duration": 19,
    "start_time": "2024-06-08T10:08:55.239Z"
   },
   {
    "duration": 5,
    "start_time": "2024-06-08T10:08:55.260Z"
   },
   {
    "duration": 15,
    "start_time": "2024-06-08T10:08:55.267Z"
   },
   {
    "duration": 27,
    "start_time": "2024-06-08T10:08:55.283Z"
   },
   {
    "duration": 34,
    "start_time": "2024-06-08T10:08:55.315Z"
   },
   {
    "duration": 10,
    "start_time": "2024-06-08T10:08:55.351Z"
   },
   {
    "duration": 11,
    "start_time": "2024-06-08T10:08:55.363Z"
   },
   {
    "duration": 8,
    "start_time": "2024-06-08T10:08:55.375Z"
   },
   {
    "duration": 7,
    "start_time": "2024-06-08T10:08:55.384Z"
   },
   {
    "duration": 18,
    "start_time": "2024-06-08T10:08:55.393Z"
   },
   {
    "duration": 34,
    "start_time": "2024-06-08T10:08:55.412Z"
   },
   {
    "duration": 17,
    "start_time": "2024-06-08T10:08:55.447Z"
   },
   {
    "duration": 10,
    "start_time": "2024-06-08T10:08:55.466Z"
   },
   {
    "duration": 22,
    "start_time": "2024-06-08T10:08:55.478Z"
   },
   {
    "duration": 12,
    "start_time": "2024-06-08T10:08:55.501Z"
   },
   {
    "duration": 16,
    "start_time": "2024-06-08T10:08:55.514Z"
   },
   {
    "duration": 27,
    "start_time": "2024-06-08T10:08:55.531Z"
   },
   {
    "duration": 15,
    "start_time": "2024-06-08T10:08:55.559Z"
   },
   {
    "duration": 12,
    "start_time": "2024-06-08T10:08:55.575Z"
   },
   {
    "duration": 656,
    "start_time": "2024-06-08T10:08:55.589Z"
   },
   {
    "duration": 3,
    "start_time": "2024-06-08T10:08:56.246Z"
   },
   {
    "duration": 48,
    "start_time": "2024-06-08T10:08:56.251Z"
   },
   {
    "duration": 41,
    "start_time": "2024-06-08T10:08:56.301Z"
   },
   {
    "duration": 15,
    "start_time": "2024-06-08T10:08:56.343Z"
   },
   {
    "duration": 9,
    "start_time": "2024-06-08T10:08:56.359Z"
   },
   {
    "duration": 711,
    "start_time": "2024-06-08T10:08:56.369Z"
   },
   {
    "duration": 1046,
    "start_time": "2024-06-09T08:10:39.308Z"
   },
   {
    "duration": 306,
    "start_time": "2024-06-09T08:10:40.355Z"
   },
   {
    "duration": 3,
    "start_time": "2024-06-09T08:10:40.662Z"
   },
   {
    "duration": 19,
    "start_time": "2024-06-09T08:10:40.667Z"
   },
   {
    "duration": 15,
    "start_time": "2024-06-09T08:10:40.687Z"
   },
   {
    "duration": 15,
    "start_time": "2024-06-09T08:10:40.704Z"
   },
   {
    "duration": 12,
    "start_time": "2024-06-09T08:10:40.720Z"
   },
   {
    "duration": 4,
    "start_time": "2024-06-09T08:10:40.733Z"
   },
   {
    "duration": 3,
    "start_time": "2024-06-09T08:10:40.738Z"
   },
   {
    "duration": 5,
    "start_time": "2024-06-09T08:10:40.770Z"
   },
   {
    "duration": 12,
    "start_time": "2024-06-09T08:10:40.776Z"
   },
   {
    "duration": 5,
    "start_time": "2024-06-09T08:10:40.789Z"
   },
   {
    "duration": 6,
    "start_time": "2024-06-09T08:10:40.795Z"
   },
   {
    "duration": 3,
    "start_time": "2024-06-09T08:10:40.803Z"
   },
   {
    "duration": 6,
    "start_time": "2024-06-09T08:10:40.807Z"
   },
   {
    "duration": 6,
    "start_time": "2024-06-09T08:10:40.814Z"
   },
   {
    "duration": 6,
    "start_time": "2024-06-09T08:10:40.821Z"
   },
   {
    "duration": 14,
    "start_time": "2024-06-09T08:10:40.828Z"
   },
   {
    "duration": 2,
    "start_time": "2024-06-09T08:10:40.871Z"
   },
   {
    "duration": 6,
    "start_time": "2024-06-09T08:10:40.875Z"
   },
   {
    "duration": 13,
    "start_time": "2024-06-09T08:10:40.882Z"
   },
   {
    "duration": 3,
    "start_time": "2024-06-09T08:10:40.897Z"
   },
   {
    "duration": 4,
    "start_time": "2024-06-09T08:10:40.902Z"
   },
   {
    "duration": 259,
    "start_time": "2024-06-09T08:10:40.907Z"
   },
   {
    "duration": 7,
    "start_time": "2024-06-09T08:10:41.171Z"
   },
   {
    "duration": 5,
    "start_time": "2024-06-09T08:10:41.180Z"
   },
   {
    "duration": 6,
    "start_time": "2024-06-09T08:10:41.186Z"
   },
   {
    "duration": 100,
    "start_time": "2024-06-09T08:10:41.198Z"
   },
   {
    "duration": 4,
    "start_time": "2024-06-09T08:10:41.299Z"
   },
   {
    "duration": 19,
    "start_time": "2024-06-09T08:10:41.304Z"
   },
   {
    "duration": 7,
    "start_time": "2024-06-09T08:10:41.324Z"
   },
   {
    "duration": 4,
    "start_time": "2024-06-09T08:10:41.332Z"
   },
   {
    "duration": 7,
    "start_time": "2024-06-09T08:10:41.337Z"
   },
   {
    "duration": 193,
    "start_time": "2024-06-09T08:10:41.345Z"
   },
   {
    "duration": 7,
    "start_time": "2024-06-09T08:10:41.540Z"
   },
   {
    "duration": 8,
    "start_time": "2024-06-09T08:10:41.549Z"
   },
   {
    "duration": 125,
    "start_time": "2024-06-09T08:10:41.571Z"
   },
   {
    "duration": 229,
    "start_time": "2024-06-09T08:10:41.697Z"
   },
   {
    "duration": 4,
    "start_time": "2024-06-09T08:10:41.927Z"
   },
   {
    "duration": 3,
    "start_time": "2024-06-09T08:10:41.933Z"
   },
   {
    "duration": 12,
    "start_time": "2024-06-09T08:10:41.937Z"
   },
   {
    "duration": 5,
    "start_time": "2024-06-09T08:10:41.950Z"
   },
   {
    "duration": 19,
    "start_time": "2024-06-09T08:10:41.957Z"
   },
   {
    "duration": 137,
    "start_time": "2024-06-09T08:10:41.978Z"
   },
   {
    "duration": 160,
    "start_time": "2024-06-09T08:10:42.117Z"
   },
   {
    "duration": 4,
    "start_time": "2024-06-09T08:10:42.279Z"
   },
   {
    "duration": 6,
    "start_time": "2024-06-09T08:10:42.285Z"
   },
   {
    "duration": 31,
    "start_time": "2024-06-09T08:10:42.292Z"
   },
   {
    "duration": 21,
    "start_time": "2024-06-09T08:10:42.324Z"
   },
   {
    "duration": 5,
    "start_time": "2024-06-09T08:10:42.347Z"
   },
   {
    "duration": 15,
    "start_time": "2024-06-09T08:10:42.353Z"
   },
   {
    "duration": 8,
    "start_time": "2024-06-09T08:10:42.369Z"
   },
   {
    "duration": 65,
    "start_time": "2024-06-09T08:10:42.379Z"
   },
   {
    "duration": 27,
    "start_time": "2024-06-09T08:10:42.445Z"
   },
   {
    "duration": 12,
    "start_time": "2024-06-09T08:10:42.473Z"
   },
   {
    "duration": 2,
    "start_time": "2024-06-09T08:10:42.487Z"
   },
   {
    "duration": 12,
    "start_time": "2024-06-09T08:10:42.491Z"
   },
   {
    "duration": 4,
    "start_time": "2024-06-09T08:10:42.504Z"
   },
   {
    "duration": 529,
    "start_time": "2024-06-09T08:10:42.509Z"
   },
   {
    "duration": 7,
    "start_time": "2024-06-09T08:10:43.039Z"
   },
   {
    "duration": 10,
    "start_time": "2024-06-09T08:10:43.048Z"
   },
   {
    "duration": 757,
    "start_time": "2024-06-09T08:10:43.071Z"
   },
   {
    "duration": 7,
    "start_time": "2024-06-09T08:10:43.829Z"
   },
   {
    "duration": 15,
    "start_time": "2024-06-09T08:10:43.837Z"
   },
   {
    "duration": 10,
    "start_time": "2024-06-09T08:10:43.853Z"
   },
   {
    "duration": 56,
    "start_time": "2024-06-09T08:10:43.864Z"
   },
   {
    "duration": 6,
    "start_time": "2024-06-09T08:10:43.921Z"
   },
   {
    "duration": 15,
    "start_time": "2024-06-09T08:10:43.928Z"
   },
   {
    "duration": 11,
    "start_time": "2024-06-09T08:10:43.944Z"
   },
   {
    "duration": 23,
    "start_time": "2024-06-09T08:10:43.956Z"
   },
   {
    "duration": 13,
    "start_time": "2024-06-09T08:10:43.981Z"
   },
   {
    "duration": 7,
    "start_time": "2024-06-09T08:10:43.996Z"
   },
   {
    "duration": 10,
    "start_time": "2024-06-09T08:10:44.005Z"
   },
   {
    "duration": 6,
    "start_time": "2024-06-09T08:10:44.017Z"
   },
   {
    "duration": 11,
    "start_time": "2024-06-09T08:10:44.024Z"
   },
   {
    "duration": 37,
    "start_time": "2024-06-09T08:10:44.037Z"
   },
   {
    "duration": 7,
    "start_time": "2024-06-09T08:10:44.075Z"
   },
   {
    "duration": 13,
    "start_time": "2024-06-09T08:10:44.084Z"
   },
   {
    "duration": 4,
    "start_time": "2024-06-09T08:10:44.098Z"
   },
   {
    "duration": 10,
    "start_time": "2024-06-09T08:10:44.104Z"
   },
   {
    "duration": 17,
    "start_time": "2024-06-09T08:10:44.115Z"
   },
   {
    "duration": 6,
    "start_time": "2024-06-09T08:10:44.137Z"
   },
   {
    "duration": 29,
    "start_time": "2024-06-09T08:10:44.144Z"
   },
   {
    "duration": 11,
    "start_time": "2024-06-09T08:10:44.174Z"
   },
   {
    "duration": 7,
    "start_time": "2024-06-09T08:10:44.187Z"
   },
   {
    "duration": 17,
    "start_time": "2024-06-09T08:10:44.195Z"
   },
   {
    "duration": 17,
    "start_time": "2024-06-09T08:10:44.214Z"
   },
   {
    "duration": 25,
    "start_time": "2024-06-09T08:10:44.232Z"
   },
   {
    "duration": 31,
    "start_time": "2024-06-09T08:10:44.258Z"
   },
   {
    "duration": 19,
    "start_time": "2024-06-09T08:10:44.290Z"
   },
   {
    "duration": 12,
    "start_time": "2024-06-09T08:10:44.311Z"
   },
   {
    "duration": 9,
    "start_time": "2024-06-09T08:10:44.324Z"
   },
   {
    "duration": 13,
    "start_time": "2024-06-09T08:10:44.334Z"
   },
   {
    "duration": 6,
    "start_time": "2024-06-09T08:10:44.348Z"
   },
   {
    "duration": 3,
    "start_time": "2024-06-09T08:10:44.356Z"
   },
   {
    "duration": 11,
    "start_time": "2024-06-09T08:10:44.361Z"
   },
   {
    "duration": 647,
    "start_time": "2024-06-09T08:10:44.373Z"
   },
   {
    "duration": 3,
    "start_time": "2024-06-09T08:10:45.021Z"
   },
   {
    "duration": 46,
    "start_time": "2024-06-09T08:10:45.025Z"
   },
   {
    "duration": 48,
    "start_time": "2024-06-09T08:10:45.073Z"
   },
   {
    "duration": 31,
    "start_time": "2024-06-09T08:10:45.122Z"
   },
   {
    "duration": 23,
    "start_time": "2024-06-09T08:10:45.154Z"
   },
   {
    "duration": 694,
    "start_time": "2024-06-09T08:10:45.178Z"
   },
   {
    "duration": 1500,
    "start_time": "2024-09-10T11:08:43.802Z"
   },
   {
    "duration": 288,
    "start_time": "2024-09-10T11:08:45.304Z"
   },
   {
    "duration": 3,
    "start_time": "2024-09-10T11:08:45.593Z"
   },
   {
    "duration": 27,
    "start_time": "2024-09-10T11:08:45.598Z"
   },
   {
    "duration": 17,
    "start_time": "2024-09-10T11:08:45.627Z"
   },
   {
    "duration": 17,
    "start_time": "2024-09-10T11:08:45.646Z"
   },
   {
    "duration": 19,
    "start_time": "2024-09-10T11:08:45.664Z"
   },
   {
    "duration": 99,
    "start_time": "2024-09-10T11:08:45.684Z"
   },
   {
    "duration": 11,
    "start_time": "2024-09-10T11:08:45.784Z"
   },
   {
    "duration": 10,
    "start_time": "2024-09-10T11:08:45.798Z"
   },
   {
    "duration": 15,
    "start_time": "2024-09-10T11:08:45.810Z"
   },
   {
    "duration": 19,
    "start_time": "2024-09-10T11:08:45.826Z"
   },
   {
    "duration": 6,
    "start_time": "2024-09-10T11:08:45.846Z"
   },
   {
    "duration": 6,
    "start_time": "2024-09-10T11:08:45.853Z"
   },
   {
    "duration": 15,
    "start_time": "2024-09-10T11:08:45.860Z"
   },
   {
    "duration": 31,
    "start_time": "2024-09-10T11:08:45.876Z"
   },
   {
    "duration": 15,
    "start_time": "2024-09-10T11:08:45.909Z"
   },
   {
    "duration": 9,
    "start_time": "2024-09-10T11:08:45.925Z"
   },
   {
    "duration": 10,
    "start_time": "2024-09-10T11:08:45.936Z"
   },
   {
    "duration": 12,
    "start_time": "2024-09-10T11:08:45.948Z"
   },
   {
    "duration": 22,
    "start_time": "2024-09-10T11:08:45.961Z"
   },
   {
    "duration": 29,
    "start_time": "2024-09-10T11:08:45.984Z"
   },
   {
    "duration": 23,
    "start_time": "2024-09-10T11:08:46.015Z"
   },
   {
    "duration": 197,
    "start_time": "2024-09-10T11:08:46.039Z"
   },
   {
    "duration": 8,
    "start_time": "2024-09-10T11:08:46.238Z"
   },
   {
    "duration": 13,
    "start_time": "2024-09-10T11:08:46.247Z"
   },
   {
    "duration": 11,
    "start_time": "2024-09-10T11:08:46.261Z"
   },
   {
    "duration": 195,
    "start_time": "2024-09-10T11:08:46.276Z"
   },
   {
    "duration": 4,
    "start_time": "2024-09-10T11:08:46.473Z"
   },
   {
    "duration": 35,
    "start_time": "2024-09-10T11:08:46.478Z"
   },
   {
    "duration": 43,
    "start_time": "2024-09-10T11:08:46.514Z"
   },
   {
    "duration": 34,
    "start_time": "2024-09-10T11:08:46.558Z"
   },
   {
    "duration": 19,
    "start_time": "2024-09-10T11:08:46.593Z"
   },
   {
    "duration": 184,
    "start_time": "2024-09-10T11:08:46.613Z"
   },
   {
    "duration": 10,
    "start_time": "2024-09-10T11:08:46.799Z"
   },
   {
    "duration": 86,
    "start_time": "2024-09-10T11:08:46.811Z"
   },
   {
    "duration": 200,
    "start_time": "2024-09-10T11:08:46.899Z"
   },
   {
    "duration": 237,
    "start_time": "2024-09-10T11:08:47.100Z"
   },
   {
    "duration": 6,
    "start_time": "2024-09-10T11:08:47.338Z"
   },
   {
    "duration": 11,
    "start_time": "2024-09-10T11:08:47.345Z"
   },
   {
    "duration": 9,
    "start_time": "2024-09-10T11:08:47.358Z"
   },
   {
    "duration": 7,
    "start_time": "2024-09-10T11:08:47.368Z"
   },
   {
    "duration": 12,
    "start_time": "2024-09-10T11:08:47.376Z"
   },
   {
    "duration": 135,
    "start_time": "2024-09-10T11:08:47.389Z"
   },
   {
    "duration": 174,
    "start_time": "2024-09-10T11:08:47.526Z"
   },
   {
    "duration": 56,
    "start_time": "2024-09-10T11:08:47.701Z"
   },
   {
    "duration": 75,
    "start_time": "2024-09-10T11:08:47.758Z"
   },
   {
    "duration": 22,
    "start_time": "2024-09-10T11:08:47.835Z"
   },
   {
    "duration": 5,
    "start_time": "2024-09-10T11:08:47.858Z"
   },
   {
    "duration": 12,
    "start_time": "2024-09-10T11:08:47.865Z"
   },
   {
    "duration": 20,
    "start_time": "2024-09-10T11:08:47.879Z"
   },
   {
    "duration": 11,
    "start_time": "2024-09-10T11:08:47.900Z"
   },
   {
    "duration": 102,
    "start_time": "2024-09-10T11:08:47.913Z"
   },
   {
    "duration": 16,
    "start_time": "2024-09-10T11:08:48.017Z"
   },
   {
    "duration": 15,
    "start_time": "2024-09-10T11:08:48.035Z"
   },
   {
    "duration": 4,
    "start_time": "2024-09-10T11:08:48.052Z"
   },
   {
    "duration": 32,
    "start_time": "2024-09-10T11:08:48.058Z"
   },
   {
    "duration": 17,
    "start_time": "2024-09-10T11:08:48.091Z"
   },
   {
    "duration": 740,
    "start_time": "2024-09-10T11:08:48.109Z"
   },
   {
    "duration": 8,
    "start_time": "2024-09-10T11:08:48.850Z"
   },
   {
    "duration": 109,
    "start_time": "2024-09-10T11:08:48.859Z"
   },
   {
    "duration": 659,
    "start_time": "2024-09-10T11:08:48.970Z"
   },
   {
    "duration": 7,
    "start_time": "2024-09-10T11:08:49.631Z"
   },
   {
    "duration": 16,
    "start_time": "2024-09-10T11:08:49.640Z"
   },
   {
    "duration": 14,
    "start_time": "2024-09-10T11:08:49.658Z"
   },
   {
    "duration": 124,
    "start_time": "2024-09-10T11:08:49.673Z"
   },
   {
    "duration": 12,
    "start_time": "2024-09-10T11:08:49.798Z"
   },
   {
    "duration": 13,
    "start_time": "2024-09-10T11:08:49.813Z"
   },
   {
    "duration": 27,
    "start_time": "2024-09-10T11:08:49.827Z"
   },
   {
    "duration": 21,
    "start_time": "2024-09-10T11:08:49.856Z"
   },
   {
    "duration": 10,
    "start_time": "2024-09-10T11:08:49.878Z"
   },
   {
    "duration": 5,
    "start_time": "2024-09-10T11:08:49.889Z"
   },
   {
    "duration": 7,
    "start_time": "2024-09-10T11:08:49.907Z"
   },
   {
    "duration": 11,
    "start_time": "2024-09-10T11:08:49.916Z"
   },
   {
    "duration": 17,
    "start_time": "2024-09-10T11:08:49.928Z"
   },
   {
    "duration": 14,
    "start_time": "2024-09-10T11:08:49.947Z"
   },
   {
    "duration": 6,
    "start_time": "2024-09-10T11:08:49.963Z"
   },
   {
    "duration": 40,
    "start_time": "2024-09-10T11:08:49.970Z"
   },
   {
    "duration": 29,
    "start_time": "2024-09-10T11:08:50.011Z"
   },
   {
    "duration": 21,
    "start_time": "2024-09-10T11:08:50.041Z"
   },
   {
    "duration": 34,
    "start_time": "2024-09-10T11:08:50.064Z"
   },
   {
    "duration": 6,
    "start_time": "2024-09-10T11:08:50.104Z"
   },
   {
    "duration": 23,
    "start_time": "2024-09-10T11:08:50.111Z"
   },
   {
    "duration": 14,
    "start_time": "2024-09-10T11:08:50.135Z"
   },
   {
    "duration": 12,
    "start_time": "2024-09-10T11:08:50.151Z"
   },
   {
    "duration": 6,
    "start_time": "2024-09-10T11:08:50.165Z"
   },
   {
    "duration": 17,
    "start_time": "2024-09-10T11:08:50.173Z"
   },
   {
    "duration": 27,
    "start_time": "2024-09-10T11:08:50.191Z"
   },
   {
    "duration": 18,
    "start_time": "2024-09-10T11:08:50.220Z"
   },
   {
    "duration": 19,
    "start_time": "2024-09-10T11:08:50.239Z"
   },
   {
    "duration": 17,
    "start_time": "2024-09-10T11:08:50.260Z"
   },
   {
    "duration": 9,
    "start_time": "2024-09-10T11:08:50.279Z"
   },
   {
    "duration": 27,
    "start_time": "2024-09-10T11:08:50.289Z"
   },
   {
    "duration": 15,
    "start_time": "2024-09-10T11:08:50.318Z"
   },
   {
    "duration": 6,
    "start_time": "2024-09-10T11:08:50.335Z"
   },
   {
    "duration": 11,
    "start_time": "2024-09-10T11:08:50.342Z"
   },
   {
    "duration": 652,
    "start_time": "2024-09-10T11:08:50.355Z"
   },
   {
    "duration": 3,
    "start_time": "2024-09-10T11:08:51.008Z"
   },
   {
    "duration": 39,
    "start_time": "2024-09-10T11:08:51.013Z"
   },
   {
    "duration": 20,
    "start_time": "2024-09-10T11:08:51.053Z"
   },
   {
    "duration": 9,
    "start_time": "2024-09-10T11:08:51.075Z"
   },
   {
    "duration": 36,
    "start_time": "2024-09-10T11:08:51.086Z"
   },
   {
    "duration": 744,
    "start_time": "2024-09-10T11:08:51.123Z"
   },
   {
    "duration": 1191,
    "start_time": "2025-03-02T18:56:45.274Z"
   },
   {
    "duration": 177,
    "start_time": "2025-03-02T18:56:46.467Z"
   },
   {
    "duration": 3,
    "start_time": "2025-03-02T18:56:46.646Z"
   },
   {
    "duration": 32,
    "start_time": "2025-03-02T18:56:46.651Z"
   },
   {
    "duration": 17,
    "start_time": "2025-03-02T18:56:46.686Z"
   },
   {
    "duration": 18,
    "start_time": "2025-03-02T18:56:46.705Z"
   },
   {
    "duration": 14,
    "start_time": "2025-03-02T18:56:46.725Z"
   },
   {
    "duration": 36,
    "start_time": "2025-03-02T18:56:46.740Z"
   },
   {
    "duration": 4,
    "start_time": "2025-03-02T18:56:46.778Z"
   },
   {
    "duration": 9,
    "start_time": "2025-03-02T18:56:46.784Z"
   },
   {
    "duration": 17,
    "start_time": "2025-03-02T18:56:46.794Z"
   },
   {
    "duration": 13,
    "start_time": "2025-03-02T18:56:46.813Z"
   },
   {
    "duration": 9,
    "start_time": "2025-03-02T18:56:46.827Z"
   },
   {
    "duration": 4,
    "start_time": "2025-03-02T18:56:46.839Z"
   },
   {
    "duration": 6,
    "start_time": "2025-03-02T18:56:46.844Z"
   },
   {
    "duration": 25,
    "start_time": "2025-03-02T18:56:46.852Z"
   },
   {
    "duration": 19,
    "start_time": "2025-03-02T18:56:46.879Z"
   },
   {
    "duration": 24,
    "start_time": "2025-03-02T18:56:46.899Z"
   },
   {
    "duration": 9,
    "start_time": "2025-03-02T18:56:46.924Z"
   },
   {
    "duration": 40,
    "start_time": "2025-03-02T18:56:46.934Z"
   },
   {
    "duration": 11,
    "start_time": "2025-03-02T18:56:46.975Z"
   },
   {
    "duration": 17,
    "start_time": "2025-03-02T18:56:46.988Z"
   },
   {
    "duration": 9,
    "start_time": "2025-03-02T18:56:47.007Z"
   },
   {
    "duration": 233,
    "start_time": "2025-03-02T18:56:47.017Z"
   },
   {
    "duration": 25,
    "start_time": "2025-03-02T18:56:47.251Z"
   },
   {
    "duration": 5,
    "start_time": "2025-03-02T18:56:47.278Z"
   },
   {
    "duration": 8,
    "start_time": "2025-03-02T18:56:47.284Z"
   },
   {
    "duration": 94,
    "start_time": "2025-03-02T18:56:47.294Z"
   },
   {
    "duration": 5,
    "start_time": "2025-03-02T18:56:47.389Z"
   },
   {
    "duration": 4,
    "start_time": "2025-03-02T18:56:47.395Z"
   },
   {
    "duration": 18,
    "start_time": "2025-03-02T18:56:47.401Z"
   },
   {
    "duration": 11,
    "start_time": "2025-03-02T18:56:47.421Z"
   },
   {
    "duration": 11,
    "start_time": "2025-03-02T18:56:47.433Z"
   },
   {
    "duration": 198,
    "start_time": "2025-03-02T18:56:47.446Z"
   },
   {
    "duration": 9,
    "start_time": "2025-03-02T18:56:47.646Z"
   },
   {
    "duration": 57,
    "start_time": "2025-03-02T18:56:47.656Z"
   },
   {
    "duration": 129,
    "start_time": "2025-03-02T18:56:47.714Z"
   },
   {
    "duration": 279,
    "start_time": "2025-03-02T18:56:47.844Z"
   },
   {
    "duration": 5,
    "start_time": "2025-03-02T18:56:48.125Z"
   },
   {
    "duration": 66,
    "start_time": "2025-03-02T18:56:48.131Z"
   },
   {
    "duration": 9,
    "start_time": "2025-03-02T18:56:48.202Z"
   },
   {
    "duration": 25,
    "start_time": "2025-03-02T18:56:48.212Z"
   },
   {
    "duration": 9,
    "start_time": "2025-03-02T18:56:48.238Z"
   },
   {
    "duration": 130,
    "start_time": "2025-03-02T18:56:48.249Z"
   },
   {
    "duration": 199,
    "start_time": "2025-03-02T18:56:48.381Z"
   },
   {
    "duration": 5,
    "start_time": "2025-03-02T18:56:48.582Z"
   },
   {
    "duration": 55,
    "start_time": "2025-03-02T18:56:48.588Z"
   },
   {
    "duration": 30,
    "start_time": "2025-03-02T18:56:48.644Z"
   },
   {
    "duration": 6,
    "start_time": "2025-03-02T18:56:48.676Z"
   },
   {
    "duration": 62,
    "start_time": "2025-03-02T18:56:48.684Z"
   },
   {
    "duration": 45,
    "start_time": "2025-03-02T18:56:48.748Z"
   },
   {
    "duration": 9,
    "start_time": "2025-03-02T18:56:48.795Z"
   },
   {
    "duration": 101,
    "start_time": "2025-03-02T18:56:48.805Z"
   },
   {
    "duration": 10,
    "start_time": "2025-03-02T18:56:48.908Z"
   },
   {
    "duration": 57,
    "start_time": "2025-03-02T18:56:48.920Z"
   },
   {
    "duration": 9,
    "start_time": "2025-03-02T18:56:48.979Z"
   },
   {
    "duration": 20,
    "start_time": "2025-03-02T18:56:48.989Z"
   },
   {
    "duration": 13,
    "start_time": "2025-03-02T18:56:49.011Z"
   },
   {
    "duration": 515,
    "start_time": "2025-03-02T18:56:49.025Z"
   },
   {
    "duration": 7,
    "start_time": "2025-03-02T18:56:49.542Z"
   },
   {
    "duration": 10,
    "start_time": "2025-03-02T18:56:49.562Z"
   },
   {
    "duration": 765,
    "start_time": "2025-03-02T18:56:49.574Z"
   },
   {
    "duration": 7,
    "start_time": "2025-03-02T18:56:50.341Z"
   },
   {
    "duration": 7,
    "start_time": "2025-03-02T18:56:50.349Z"
   },
   {
    "duration": 33,
    "start_time": "2025-03-02T18:56:50.357Z"
   },
   {
    "duration": 50,
    "start_time": "2025-03-02T18:56:50.391Z"
   },
   {
    "duration": 7,
    "start_time": "2025-03-02T18:56:50.442Z"
   },
   {
    "duration": 48,
    "start_time": "2025-03-02T18:56:50.450Z"
   },
   {
    "duration": 18,
    "start_time": "2025-03-02T18:56:50.499Z"
   },
   {
    "duration": 13,
    "start_time": "2025-03-02T18:56:50.519Z"
   },
   {
    "duration": 11,
    "start_time": "2025-03-02T18:56:50.534Z"
   },
   {
    "duration": 6,
    "start_time": "2025-03-02T18:56:50.547Z"
   },
   {
    "duration": 30,
    "start_time": "2025-03-02T18:56:50.554Z"
   },
   {
    "duration": 9,
    "start_time": "2025-03-02T18:56:50.586Z"
   },
   {
    "duration": 11,
    "start_time": "2025-03-02T18:56:50.596Z"
   },
   {
    "duration": 10,
    "start_time": "2025-03-02T18:56:50.609Z"
   },
   {
    "duration": 22,
    "start_time": "2025-03-02T18:56:50.620Z"
   },
   {
    "duration": 18,
    "start_time": "2025-03-02T18:56:50.643Z"
   },
   {
    "duration": 14,
    "start_time": "2025-03-02T18:56:50.666Z"
   },
   {
    "duration": 11,
    "start_time": "2025-03-02T18:56:50.682Z"
   },
   {
    "duration": 9,
    "start_time": "2025-03-02T18:56:50.694Z"
   },
   {
    "duration": 23,
    "start_time": "2025-03-02T18:56:50.705Z"
   },
   {
    "duration": 42,
    "start_time": "2025-03-02T18:56:50.729Z"
   },
   {
    "duration": 11,
    "start_time": "2025-03-02T18:56:50.775Z"
   },
   {
    "duration": 9,
    "start_time": "2025-03-02T18:56:50.787Z"
   },
   {
    "duration": 9,
    "start_time": "2025-03-02T18:56:50.797Z"
   },
   {
    "duration": 14,
    "start_time": "2025-03-02T18:56:50.807Z"
   },
   {
    "duration": 11,
    "start_time": "2025-03-02T18:56:50.823Z"
   },
   {
    "duration": 37,
    "start_time": "2025-03-02T18:56:50.836Z"
   },
   {
    "duration": 12,
    "start_time": "2025-03-02T18:56:50.875Z"
   },
   {
    "duration": 13,
    "start_time": "2025-03-02T18:56:50.888Z"
   },
   {
    "duration": 5,
    "start_time": "2025-03-02T18:56:50.902Z"
   },
   {
    "duration": 12,
    "start_time": "2025-03-02T18:56:50.909Z"
   },
   {
    "duration": 6,
    "start_time": "2025-03-02T18:56:50.922Z"
   },
   {
    "duration": 40,
    "start_time": "2025-03-02T18:56:50.930Z"
   },
   {
    "duration": 9,
    "start_time": "2025-03-02T18:56:50.975Z"
   },
   {
    "duration": 734,
    "start_time": "2025-03-02T18:56:50.986Z"
   },
   {
    "duration": 3,
    "start_time": "2025-03-02T18:56:51.722Z"
   },
   {
    "duration": 16,
    "start_time": "2025-03-02T18:56:51.726Z"
   },
   {
    "duration": 148,
    "start_time": "2025-03-02T18:56:51.743Z"
   },
   {
    "duration": 28,
    "start_time": "2025-03-02T18:56:51.893Z"
   },
   {
    "duration": 57,
    "start_time": "2025-03-02T18:56:51.922Z"
   },
   {
    "duration": 840,
    "start_time": "2025-03-02T18:56:51.980Z"
   }
  ],
  "kernelspec": {
   "display_name": "Python 3 (ipykernel)",
   "language": "python",
   "name": "python3"
  },
  "language_info": {
   "codemirror_mode": {
    "name": "ipython",
    "version": 3
   },
   "file_extension": ".py",
   "mimetype": "text/x-python",
   "name": "python",
   "nbconvert_exporter": "python",
   "pygments_lexer": "ipython3",
   "version": "3.11.7"
  },
  "toc": {
   "base_numbering": 1,
   "nav_menu": {},
   "number_sections": true,
   "sideBar": true,
   "skip_h1_title": true,
   "title_cell": "Table of Contents",
   "title_sidebar": "Contents",
   "toc_cell": false,
   "toc_position": {
    "height": "526px",
    "left": "41px",
    "top": "110.525px",
    "width": "165px"
   },
   "toc_section_display": true,
   "toc_window_display": true
  }
 },
 "nbformat": 4,
 "nbformat_minor": 5
}
